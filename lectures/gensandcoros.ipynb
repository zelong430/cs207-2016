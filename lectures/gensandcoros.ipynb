{
 "cells": [
  {
   "cell_type": "markdown",
   "metadata": {},
   "source": [
    "# Lazy Processing and Pipelines\n",
    "\n",
    "In your homework this last week you saw the example of chaining together iterators ti implement a pipeline. Despite the feeling that you were doing a pipeline, there was an outside enveloping inside, not a true pipeline feel to what u did. The averaging had to wrap the generation, for example.\n",
    "\n",
    "It wasnt as if these were separate processes. Everything was co-ordinated by the wrapper. In other words, the programming style was bad, our iterators were not independent and reusable in a pipeline.\n",
    "\n",
    "We'll start to remedy this here.\n",
    "\n",
    "We'll first talk about generators and streams, and more generally about lazy processing. Then we'll see how to arrange our computation into \"independent processes\"."
   ]
  },
  {
   "cell_type": "markdown",
   "metadata": {},
   "source": [
    "## Generator functions, redux"
   ]
  },
  {
   "cell_type": "code",
   "execution_count": 3,
   "metadata": {
    "collapsed": true
   },
   "outputs": [],
   "source": [
    "class Sentence:#an iterable\n",
    "    def __init__(self, text): \n",
    "        self.text = text\n",
    "        self.words = text.split()\n",
    "        \n",
    "    def __iter__(self):#one could also return iter(self.words)\n",
    "        for w in self.words:#note this is implicitly making an iter from the list\n",
    "            yield w\n",
    "    \n",
    "    def __repr__(self):\n",
    "        return 'Sentence(%s)' % reprlib.repr(self.text)"
   ]
  },
  {
   "cell_type": "code",
   "execution_count": 4,
   "metadata": {
    "collapsed": true
   },
   "outputs": [],
   "source": [
    "a = Sentence(\"the mad dog went home to his cat\")"
   ]
  },
  {
   "cell_type": "code",
   "execution_count": 5,
   "metadata": {
    "collapsed": false
   },
   "outputs": [
    {
     "name": "stdout",
     "output_type": "stream",
     "text": [
      "the\n",
      "mad\n",
      "dog\n",
      "went\n",
      "home\n",
      "to\n",
      "his\n",
      "cat\n"
     ]
    }
   ],
   "source": [
    "for w in a:\n",
    "    print(w)"
   ]
  },
  {
   "cell_type": "markdown",
   "metadata": {},
   "source": [
    "## Lazy processing\n",
    "\n",
    "Upto now, it might just seem that we have just represented existing sequences in a different fashion. But notice above, with the use of `yield`, that we do not have to define the entire sequence ahead of time. Indeed we talked about this a bit when we talked about iterators, but we can see this \"lazy behavior\" more explicitly now. We see it in the generation of infinite sequences, where there is no data per se!\n",
    "\n",
    "So, because of generators, we can go from fetching items from a collection to \"generate\"ing iteration over arbitrary, possibly infinite series..."
   ]
  },
  {
   "cell_type": "code",
   "execution_count": 6,
   "metadata": {
    "collapsed": true
   },
   "outputs": [],
   "source": [
    "def fibonacci(): \n",
    "    i,j=0,1 \n",
    "    while True: \n",
    "        yield j\n",
    "        i,j=j,i+j"
   ]
  },
  {
   "cell_type": "code",
   "execution_count": 7,
   "metadata": {
    "collapsed": false
   },
   "outputs": [
    {
     "name": "stdout",
     "output_type": "stream",
     "text": [
      "1\n",
      "1\n",
      "2\n",
      "3\n",
      "5\n",
      "8\n",
      "13\n",
      "21\n",
      "34\n",
      "55\n"
     ]
    }
   ],
   "source": [
    "f = fibonacci()\n",
    "for i in range(10):\n",
    "    print(next(f))"
   ]
  },
  {
   "cell_type": "code",
   "execution_count": 8,
   "metadata": {
    "collapsed": false
   },
   "outputs": [
    {
     "name": "stdout",
     "output_type": "stream",
     "text": [
      "1\n",
      "1\n",
      "2\n",
      "3\n",
      "5\n",
      "8\n",
      "13\n",
      "21\n",
      "34\n",
      "55\n"
     ]
    }
   ],
   "source": [
    "f = fibonacci()\n",
    "counter = 0\n",
    "for i in f:#calls iter on itself but thats ok.\n",
    "    print(i)\n",
    "    counter += 1\n",
    "    if counter > 9:\n",
    "        break"
   ]
  },
  {
   "cell_type": "markdown",
   "metadata": {},
   "source": [
    "### Lazy Evaluation and Streams\n",
    "\n",
    "The basic idea in progressions such as the above is that the next element in the progression (the next fibonacci) is not computed until requested. This can also be achieved via **Streams**.\n",
    "\n",
    "A stream is a lazily computed linked list. Remember how we created a first and a rest in linked lists? now we do the same, except that we compute the \"rest\" only when we access it. Basically we store a function to compute, and the state of our iteration, and compute-on-access\n",
    "\n",
    "These examples are taken from \"Composing Programs\" (the successor to cs61a):"
   ]
  },
  {
   "cell_type": "code",
   "execution_count": 9,
   "metadata": {
    "collapsed": false
   },
   "outputs": [],
   "source": [
    "class Link:\n",
    "        \"\"\"A linked list with a first element and the rest.\"\"\"\n",
    "        empty = ()\n",
    "        def __init__(self, first, rest=empty):\n",
    "            assert rest is Link.empty or isinstance(rest, Link)\n",
    "            self.first = first\n",
    "            self.rest = rest\n",
    "        def __getitem__(self, i):\n",
    "            if i == 0:\n",
    "                return self.first\n",
    "            else:\n",
    "                return self.rest[i-1]\n",
    "        def __len__(self):\n",
    "            return 1 + len(self.rest)"
   ]
  },
  {
   "cell_type": "code",
   "execution_count": 10,
   "metadata": {
    "collapsed": false
   },
   "outputs": [
    {
     "data": {
      "text/plain": [
       "(3, 4)"
      ]
     },
     "execution_count": 10,
     "metadata": {},
     "output_type": "execute_result"
    }
   ],
   "source": [
    "s = Link(3, Link(4, Link(5)))\n",
    "len(s), s[1]"
   ]
  },
  {
   "cell_type": "code",
   "execution_count": 11,
   "metadata": {
    "collapsed": true
   },
   "outputs": [],
   "source": [
    "class Stream:\n",
    "    \"\"\"A lazily computed linked list.\"\"\"\n",
    "    class empty:\n",
    "        def __repr__(self):\n",
    "            return 'Stream.empty'\n",
    "    \n",
    "    def __init__(self, first, compute_rest=empty):\n",
    "        assert callable(compute_rest), 'compute_rest must be callable.'\n",
    "        self.first = first\n",
    "        self._compute_rest = compute_rest\n",
    "        \n",
    "    @property\n",
    "    def rest(self):\n",
    "        \"\"\"Return the rest of the stream, computing it if necessary.\"\"\"\n",
    "        if self._compute_rest is not None:\n",
    "            self._rest = self._compute_rest()\n",
    "            self._compute_rest = None\n",
    "        return self._rest\n",
    "    \n",
    "    def __repr__(self):\n",
    "        return 'Stream({0}, <...>)'.format(repr(self.first))"
   ]
  },
  {
   "cell_type": "code",
   "execution_count": 12,
   "metadata": {
    "collapsed": false
   },
   "outputs": [
    {
     "data": {
      "text/plain": [
       "Stream(0, <...>)"
      ]
     },
     "execution_count": 12,
     "metadata": {},
     "output_type": "execute_result"
    }
   ],
   "source": [
    "s = Stream(0, lambda: Stream(2, lambda: Stream(4)))\n",
    "s"
   ]
  },
  {
   "cell_type": "code",
   "execution_count": 16,
   "metadata": {
    "collapsed": false
   },
   "outputs": [
    {
     "name": "stdout",
     "output_type": "stream",
     "text": [
      "0 \n",
      " Stream(2, <...>) \n",
      " 2 \n",
      " Stream(4, <...>) \n",
      " 4 \n",
      " Stream.empty\n"
     ]
    },
    {
     "data": {
      "text/plain": [
       "(0, Stream(2, <...>), 2, Stream(4, <...>))"
      ]
     },
     "execution_count": 16,
     "metadata": {},
     "output_type": "execute_result"
    }
   ],
   "source": [
    "print(s.first, \"\\n\",\n",
    "s.rest, \"\\n\",\n",
    "s.rest.first, \"\\n\", \n",
    "s.rest.rest, \"\\n\", \n",
    "s.rest.rest.first, \"\\n\", \n",
    "s.rest.rest.rest)\n",
    "s.first, s.rest, s.rest.first, s.rest.rest"
   ]
  },
  {
   "cell_type": "code",
   "execution_count": 14,
   "metadata": {
    "collapsed": true
   },
   "outputs": [],
   "source": [
    "def get_evens(start):\n",
    "    def compute_rest():\n",
    "        return get_evens(start + 2)\n",
    "    return Stream(start, compute_rest)"
   ]
  },
  {
   "cell_type": "code",
   "execution_count": 15,
   "metadata": {
    "collapsed": false
   },
   "outputs": [
    {
     "data": {
      "text/plain": [
       "(0, Stream(2, <...>), 2, Stream(4, <...>))"
      ]
     },
     "execution_count": 15,
     "metadata": {},
     "output_type": "execute_result"
    }
   ],
   "source": [
    "e=get_evens(0)\n",
    "e.first, e.rest, e.rest.first, e.rest.rest"
   ]
  },
  {
   "cell_type": "markdown",
   "metadata": {},
   "source": [
    "The same thing can be done with a generator function:"
   ]
  },
  {
   "cell_type": "code",
   "execution_count": 17,
   "metadata": {
    "collapsed": false
   },
   "outputs": [
    {
     "data": {
      "text/plain": [
       "[0, 2, 4, 6, 8, 10, 12, 14, 16, 18]"
      ]
     },
     "execution_count": 17,
     "metadata": {},
     "output_type": "execute_result"
    }
   ],
   "source": [
    "def progression(begin, end=None): #could be done as __iter__ in a class\n",
    "    result = begin \n",
    "    forever = end is None\n",
    "    while forever or result < end: \n",
    "        yield result\n",
    "        result = result +2\n",
    "ag = progression(0, 20)\n",
    "list(ag)"
   ]
  },
  {
   "cell_type": "code",
   "execution_count": 18,
   "metadata": {
    "collapsed": false
   },
   "outputs": [
    {
     "data": {
      "text/plain": [
       "<generator object progression at 0x1053ce8e0>"
      ]
     },
     "execution_count": 18,
     "metadata": {},
     "output_type": "execute_result"
    }
   ],
   "source": [
    "ag"
   ]
  },
  {
   "cell_type": "markdown",
   "metadata": {},
   "source": [
    "### But we do have state\n",
    "\n",
    "A generator is stateful, has a point in the iteration, but a stream does not. On the other hand a stream uses a lot of the call stack"
   ]
  },
  {
   "cell_type": "code",
   "execution_count": 19,
   "metadata": {
    "collapsed": false
   },
   "outputs": [
    {
     "ename": "StopIteration",
     "evalue": "",
     "output_type": "error",
     "traceback": [
      "\u001b[0;31m---------------------------------------------------------------------------\u001b[0m",
      "\u001b[0;31mStopIteration\u001b[0m                             Traceback (most recent call last)",
      "\u001b[0;32m<ipython-input-19-dfa5955ceb09>\u001b[0m in \u001b[0;36m<module>\u001b[0;34m()\u001b[0m\n\u001b[0;32m----> 1\u001b[0;31m \u001b[0mnext\u001b[0m\u001b[0;34m(\u001b[0m\u001b[0mag\u001b[0m\u001b[0;34m)\u001b[0m\u001b[0;34m\u001b[0m\u001b[0m\n\u001b[0m",
      "\u001b[0;31mStopIteration\u001b[0m: "
     ]
    }
   ],
   "source": [
    "next(ag)"
   ]
  },
  {
   "cell_type": "markdown",
   "metadata": {},
   "source": [
    "We'd have to recreate the generator to use it again...\n",
    "\n",
    "Notice the stream does not have state like the generator: the same instance can be used again"
   ]
  },
  {
   "cell_type": "code",
   "execution_count": 20,
   "metadata": {
    "collapsed": false
   },
   "outputs": [
    {
     "data": {
      "text/plain": [
       "(0, Stream(2, <...>), 2, Stream(4, <...>))"
      ]
     },
     "execution_count": 20,
     "metadata": {},
     "output_type": "execute_result"
    }
   ],
   "source": [
    "e.first, e.rest, e.rest.first, e.rest.rest"
   ]
  },
  {
   "cell_type": "markdown",
   "metadata": {},
   "source": [
    "The separation of whether we have state or not is the key thing that distinguishes both these ways of lazy implementation of computation: iterators follow the notions of iterative programs and have state (and thus we have the notion of exhausting an iterator) while streams have no state, and the computation happens (again and again) on the fly."
   ]
  },
  {
   "cell_type": "markdown",
   "metadata": {},
   "source": [
    "## Lazy Evaluation, more generally"
   ]
  },
  {
   "cell_type": "markdown",
   "metadata": {},
   "source": [
    "Lazy evaluation is a deceptively simple concept: if I give you some expression like `(a+b)*c`, normal \"eager\" languages will compute the value of the expression and return it.\n",
    "\n",
    "A lazy evaluation of that expression doesn't return the value, it returns a thing that represents what the answer will be, should you ever ask for it. This is the tack a language like Haskell uses, as opposed to ML, which are both in one family of statically typed functional languages (check out Elm, in the same family which compiles down for javascript on the web, and which implements streams as a primitive).\n",
    "\n",
    "But *until* you actually ask that thing what the answer was, no computation is actually done.\n",
    "\n",
    "Why is this useful?\n",
    "It can be for a number of reasons:\n",
    "\n",
    " - If you're not sure that you're actually going to need the answer, lazy evaluation avoids unnecessary computation.\n",
    " - It can be easier to express infinitely-large computations in lazy systems, since you can describe the computation without having to actually compute infinitely many values.\n",
    " - You can modify the expression before you actually evaluate it."
   ]
  },
  {
   "cell_type": "markdown",
   "metadata": {},
   "source": [
    "### A thunk class\n",
    "\n",
    "As we mentioned, our lazy expressions are not going to return normal values.\n",
    "\n",
    "For instance, adding two numbers won't return a number, it will return an object that represents the result of the computation, which you can ask for later.\n",
    "\n",
    "This thing is sometimes called a [thunk](https://en.wikipedia.org/wiki/Thunk) or [future](https://en.wikipedia.org/wiki/Futures_and_promises).\n",
    "While they can be implemented a number of ways, we're going to use a class.\n",
    "\n",
    "Let us create a new class called `LazyOperation`, which will be our thunk.\n",
    "The constructor will take one required argument `function` and then arbitrary positional and keyword arguments (this is the `*args` and `**kwargs` syntax, if you remember).\n",
    "\n",
    "The constructor doesn't need to do anything but store them internally for now.\n",
    "\n",
    "Eventually, when we do something like `(a+b)*c`, the value of the expression will end up being an instance of this thunk class.\n"
   ]
  },
  {
   "cell_type": "markdown",
   "metadata": {},
   "source": [
    "### Recursive evaluation\n",
    "\n",
    "You're probably wondering what use this is. How do we actually use these?\n",
    "\n",
    "The answer is an `eval` method for `LazyOperation`.\n",
    "This is the mechanism for us to ask for an actual answer.\n",
    "In our example above:\n",
    "\n",
    "```python\n",
    "lazy_add(1,2).eval() == 3\n",
    "```\n",
    "\n",
    "`eval` takes no arguments: it has all the information it needs.\n",
    "Its behavior is as follows:\n",
    "\n",
    " - First, transform the arguments: for all the positional and keyword arguments stored in the `LazyOperation`, if the argument is an instance of a `LazyOperation`, call `eval` on *it*. If it's anything else, do nothing.\n",
    " - Second, call the stored function on the transformed arguments and return the value.\n",
    "\n",
    "That's it!\n",
    "\n",
    "So what's actually going on here? Why do we need to recursively call `eval`? And why only on some arguments?\n",
    "\n",
    "Let's use an example:\n",
    "\n",
    "```python\n",
    "thunk = lazy_mul( lazy_add(1,2), 4)\n",
    "thunk.eval()\n",
    "```\n",
    "\n",
    "In the first line we are crafting a chain of `LazyOperation`s.\n",
    "The expression `lazy_add(1,2)` returns an instance of `LazyOperation`. (1 and 2 are stored as its arguments.)\n",
    "Then we create another thunk in `lazy_mul`, and the two stored arguments are the first `LazyOperation` instance and the number 4.\n",
    "So something like this:\n",
    "\n",
    "```python\n",
    "thunk = LazyOperation( body_of_lazy_mul, LazyOperation( body_of_lazy_add, 1, 2 ), 4 )\n",
    "```\n",
    "\n",
    "Now we call `eval` on `thunk`.\n",
    "`eval` will first recursively call `eval` on its `LazyOperation`-typed arguments (of which there is only one: the result of `lazy_add`).\n",
    "This recursive invocation does the same, but it has no `LazyOperation` arguments, so it just calls its stored function (the body of the original `lazy_add` function: `a+b`) on its arguments 1 and 2.\n",
    "The result of this is a number: 3.\n",
    "Now the first `eval` function can complete, and it evaluates *its* stored function (the body of the original `lazy_mul` function) on its new, transformed arguments: 3 and 4.\n",
    "This returns 7.\n",
    "\n",
    "If you've done everything right, you should be able to run this example."
   ]
  },
  {
   "cell_type": "code",
   "execution_count": 21,
   "metadata": {
    "collapsed": true
   },
   "outputs": [],
   "source": [
    "class LazyOperation():\n",
    "    def __init__(self, function, *args, **kwargs):\n",
    "        self._function = function\n",
    "        self._args = args\n",
    "        self._kwargs = kwargs\n",
    "\n",
    "    def eval(self):\n",
    "        # Recursively eval() lazy args\n",
    "        new_args = [a.eval() if isinstance(a,LazyOperation) else a for a in self._args]\n",
    "        new_kwargs = {k:v.eval() if isinstance(v,LazyOperation) else v for k,v in self._kwargs}\n",
    "        return self._function(*new_args, **new_kwargs)\n",
    "\n",
    "    # Debug:\n",
    "    def thunk_tree(self, indent='| '):\n",
    "        s = indent[:-2]+'| ['+self._function.__name__+']\\n'\n",
    "        for a in self._args:\n",
    "            if isinstance(a, LazyOperation):\n",
    "                s += a.thunk_tree(indent=indent+'| ')\n",
    "            else:\n",
    "                s += indent+'| '+str(a)+'\\n'\n",
    "        for k,v in self._kwargs:\n",
    "            if isinstance(a, LazyOperation):\n",
    "                s += str(k)+'='+v.thunk_tree(indent=indent+'| ')\n",
    "            else:\n",
    "                s += indent+'| '+str(k)+'='+str(v)+'\\n'\n",
    "        return s"
   ]
  },
  {
   "cell_type": "markdown",
   "metadata": {},
   "source": [
    "### A lazy decorator\n",
    "\n",
    "Now comes the interesting part.\n",
    "We'd like to be able to turn *any* function lazy.\n",
    "So let's create a temporary test file with the following:\n",
    "\n",
    "```python\n",
    "def add(a,b):\n",
    "    return a+b\n",
    "def mul(a,b):\n",
    "    return a*b\n",
    "```\n",
    "\n",
    "We want to create a version of `add` which, instead of actually adding `a` and `b`, returns a `LazyOperation` thunk with represents what *would* happen if we added `a` and `b`.\n",
    "This probably sounds harder than it is, and it actually doesn't involve rewriting `add`.\n",
    "\n",
    "The trick is to realize that the notion of what the answer *would* be is the same as saying \"don't evaluate this function just yet; instead, save it and all of its arguments so I can evaluate it later if I want.\"\n",
    "This is one way of implementing lazy evaluation.\n",
    "\n",
    "Let's be more clear:\n",
    "you created a class which (right now) just stores a function and a set of arbitrary positional and keywords arguments.\n",
    "This is exactly what you need to know if you want to evaluate that function later!\n",
    "So we want to write a decorator which turns `add` into a function which returns a `LazyOperation` with all of its information stored inside, similar to this:\n",
    "\n",
    "```python\n",
    "@lazy\n",
    "def lazy_add(a,b):\n",
    "     return a+b\n",
    "\n",
    "lazy_add(1,2) == LazyOperation( old_function, args=[a,b], kwargs={} )\n",
    "```\n",
    "\n",
    "Where `old_function` is the undecorated version of `lazy_add`.\n",
    "(Remember that decorators are just functions which take a function as an argument, return a new function, and bind that new function to the original name.)"
   ]
  },
  {
   "cell_type": "code",
   "execution_count": 22,
   "metadata": {
    "collapsed": true
   },
   "outputs": [],
   "source": [
    "def lazy(function):\n",
    "    def create_thunk(*args, **kwargs):\n",
    "        return LazyOperation(function, *args, **kwargs)\n",
    "    return create_thunk"
   ]
  },
  {
   "cell_type": "code",
   "execution_count": 23,
   "metadata": {
    "collapsed": true
   },
   "outputs": [],
   "source": [
    "@lazy\n",
    "def lazy_add(a,b):\n",
    "    return a+b"
   ]
  },
  {
   "cell_type": "code",
   "execution_count": 24,
   "metadata": {
    "collapsed": false
   },
   "outputs": [
    {
     "data": {
      "text/plain": [
       "True"
      ]
     },
     "execution_count": 24,
     "metadata": {},
     "output_type": "execute_result"
    }
   ],
   "source": [
    "isinstance( lazy_add(1,2), LazyOperation ) == True"
   ]
  },
  {
   "cell_type": "code",
   "execution_count": 25,
   "metadata": {
    "collapsed": true
   },
   "outputs": [],
   "source": [
    "@lazy\n",
    "def lazy_mul(a,b):\n",
    "    return a*b"
   ]
  },
  {
   "cell_type": "code",
   "execution_count": 26,
   "metadata": {
    "collapsed": false
   },
   "outputs": [
    {
     "data": {
      "text/plain": [
       "12"
      ]
     },
     "execution_count": 26,
     "metadata": {},
     "output_type": "execute_result"
    }
   ],
   "source": [
    "thunk = lazy_mul( lazy_add(1,2), 4)\n",
    "thunk.eval()"
   ]
  },
  {
   "cell_type": "markdown",
   "metadata": {},
   "source": [
    "The idea outlined here is to make all procedures take delayed arguments (thunks) which are forced (eval'ed) at some point. \n",
    "\n",
    "You can read about various evaluation models here:\n",
    "\n",
    "https://en.wikipedia.org/wiki/Evaluation_strategy"
   ]
  },
  {
   "cell_type": "markdown",
   "metadata": {},
   "source": [
    "## Lazy implementation for Sequences using generators\n",
    "\n",
    "Despite all our talk of lazy implementation, our Sentence implementations so far have not been lazy because the __init__ eagerly builds a list of all words in the text, binding it to the self.words attribute. This will entail processing the entire text, and the list may use as much memory as the text itself"
   ]
  },
  {
   "cell_type": "code",
   "execution_count": 27,
   "metadata": {
    "collapsed": true
   },
   "outputs": [],
   "source": [
    "import re\n",
    "WORD_REGEXP = re.compile('\\w+')\n",
    "class Sentence:#an iterable\n",
    "    def __init__(self, text): \n",
    "        self.text = text\n",
    "        \n",
    "    def __iter__(self):\n",
    "        for match in WORD_REGEXP.finditer(self.text):\n",
    "            yield match.group()\n",
    "    \n",
    "    def __repr__(self):\n",
    "        return 'Sentence(%s)' % reprlib.repr(self.text)"
   ]
  },
  {
   "cell_type": "code",
   "execution_count": 28,
   "metadata": {
    "collapsed": false
   },
   "outputs": [
    {
     "data": {
      "text/plain": [
       "['the', 'mad', 'dog', 'went', 'home', 'to', 'his', 'cat']"
      ]
     },
     "execution_count": 28,
     "metadata": {},
     "output_type": "execute_result"
    }
   ],
   "source": [
    "list(Sentence(\"the mad dog went home to his cat\"))"
   ]
  },
  {
   "cell_type": "markdown",
   "metadata": {},
   "source": [
    "### Generator Expressions of data sequences.\n",
    "\n",
    "There is an even simpler way: use a generator expression, which is just a lazy version of a list comprehension. (itrs really just sugar for a generator function, but its a nice bit of sugar)\n"
   ]
  },
  {
   "cell_type": "code",
   "execution_count": 29,
   "metadata": {
    "collapsed": false
   },
   "outputs": [
    {
     "data": {
      "text/plain": [
       "['the', 'mad', 'dog', 'went', 'home', 'to', 'his', 'cat']"
      ]
     },
     "execution_count": 29,
     "metadata": {},
     "output_type": "execute_result"
    }
   ],
   "source": [
    "RE_WORD = re.compile('\\w+')\n",
    "class Sentence:#an iterable\n",
    "    def __init__(self, text): \n",
    "        self.text = text\n",
    "        \n",
    "    def __iter__(self):\n",
    "        return (match.group() for match in RE_WORD.finditer(self.text))\n",
    "    \n",
    "    def __repr__(self):\n",
    "        return 'Sentence(%s)' % reprlib.repr(self.text)\n",
    "list(Sentence(\"the mad dog went home to his cat\"))"
   ]
  },
  {
   "cell_type": "markdown",
   "metadata": {
    "collapsed": true
   },
   "source": [
    "Which syntax to choose?\n",
    "\n",
    "Write a generator function if the code takes more than 2 lines.\n",
    "\n",
    "Some syntax that might trip you up: double brackets are not necessary"
   ]
  },
  {
   "cell_type": "code",
   "execution_count": 30,
   "metadata": {
    "collapsed": false
   },
   "outputs": [
    {
     "data": {
      "text/plain": [
       "<generator object <genexpr> at 0x10599b6d0>"
      ]
     },
     "execution_count": 30,
     "metadata": {},
     "output_type": "execute_result"
    }
   ],
   "source": [
    "(i*i for i in range(5))"
   ]
  },
  {
   "cell_type": "code",
   "execution_count": 31,
   "metadata": {
    "collapsed": false
   },
   "outputs": [
    {
     "data": {
      "text/plain": [
       "[0, 1, 4, 9, 16]"
      ]
     },
     "execution_count": 31,
     "metadata": {},
     "output_type": "execute_result"
    }
   ],
   "source": [
    "list((i*i for i in range(5)))"
   ]
  },
  {
   "cell_type": "code",
   "execution_count": 60,
   "metadata": {
    "collapsed": false
   },
   "outputs": [
    {
     "data": {
      "text/plain": [
       "[0, 1, 4, 9, 16]"
      ]
     },
     "execution_count": 60,
     "metadata": {},
     "output_type": "execute_result"
    }
   ],
   "source": [
    "list(i*i for i in range(5))"
   ]
  },
  {
   "cell_type": "markdown",
   "metadata": {},
   "source": [
    "### yield from\n",
    "\n",
    "This syntax can be used to combine iterators"
   ]
  },
  {
   "cell_type": "code",
   "execution_count": 61,
   "metadata": {
    "collapsed": true
   },
   "outputs": [],
   "source": [
    "def mychain(*iterables):\n",
    "    for it in iterables:\n",
    "        for i in it: \n",
    "            yield i\n",
    "        "
   ]
  },
  {
   "cell_type": "code",
   "execution_count": 62,
   "metadata": {
    "collapsed": true
   },
   "outputs": [],
   "source": [
    "def chain(*iterables):\n",
    "    for it in iterables:\n",
    "        yield from it# for i in it: yield i"
   ]
  },
  {
   "cell_type": "code",
   "execution_count": 63,
   "metadata": {
    "collapsed": false
   },
   "outputs": [
    {
     "data": {
      "text/plain": [
       "<generator object chain at 0x1059d10f8>"
      ]
     },
     "execution_count": 63,
     "metadata": {},
     "output_type": "execute_result"
    }
   ],
   "source": [
    "s=\"ABC\"\n",
    "l=[1,2,3]\n",
    "chain(s,l)"
   ]
  },
  {
   "cell_type": "code",
   "execution_count": 64,
   "metadata": {
    "collapsed": false
   },
   "outputs": [
    {
     "data": {
      "text/plain": [
       "['A', 'B', 'C', 1, 2, 3]"
      ]
     },
     "execution_count": 64,
     "metadata": {},
     "output_type": "execute_result"
    }
   ],
   "source": [
    "list(mychain(s,l))"
   ]
  },
  {
   "cell_type": "code",
   "execution_count": 65,
   "metadata": {
    "collapsed": false
   },
   "outputs": [
    {
     "data": {
      "text/plain": [
       "['A', 'B', 'C', 1, 2, 3]"
      ]
     },
     "execution_count": 65,
     "metadata": {},
     "output_type": "execute_result"
    }
   ],
   "source": [
    "list(chain(s,l))"
   ]
  },
  {
   "cell_type": "markdown",
   "metadata": {},
   "source": [
    "## Concurrency and Coroutines\n",
    "\n",
    "We briefly mentioned that Python has a GIL, which allows only one thread to run python code at a time. It was made to allow non-thread safe code to run, fast, in a single thread, which is a very common case.\n",
    "\n",
    "When we run python code, we have no control over the GIL. But extension modules written in C can release the GIL while doing time-consuming tasks.  `numpy` does this, so for example, dot-products happen in a C context outside the GIL.\n",
    "\n",
    "All the standard library functions that do blocking IO also release the GIL, so that python code can continue to run while waiting for network-IO. This means that if you use threads or some other concurrency mechanism, while one unit of concurrency is waiting for a response from the netweork or a read from disk, another unit can continue doing something CPU-bound. \n",
    "\n",
    ">David Beazley says: “Python threads are great at doing nothing.”\n",
    "\n",
    "The time.sleep() function also releases the GIL. The whole thing looks a bit like this:\n",
    "\n",
    "```c\n",
    "Py_BEGIN_ALLOW_THREADS\n",
    "        sleep((int)secs);\n",
    "Py_END_ALLOW_THREADS\n",
    "```\n",
    "\n",
    "We'll see threads and processes later. But threads take 50k of memory per thread and are expensive to switch to, and the OS has a hard limit on threads. Instead, we we could create granular units of processing and IO-checking an IO-doing within the process, we could have our one thread running at full capacity rather than waiting on IO, at a low overhead.\n",
    "\n",
    "Whats our primitive for yielding control of execution? Why `yield` and generators, of-course."
   ]
  },
  {
   "cell_type": "markdown",
   "metadata": {},
   "source": [
    "A generator becomes a co-routine when you can send data into a generator. This is done by adding a new primitive to generators after `next`: `.send`. Python can start hundreds of thousands of coroutines.\n",
    "\n",
    "Thus coroutines are \"subroutines\" that can pause and resume. Threads are scheduled by the OS, but co-routines multi-task co-operatively.\n",
    "\n",
    "In Python 3.5 native coroutine support was also added using `async` and `await`, however, \" understanding coroutines as they were first implemented in Python 3.4, using pre-existing language facilities, is the foundation to tackle Python 3.5's native coroutines.\" (from Guido in http://aosabook.org/en/500L/a-web-crawler-with-asyncio-coroutines.html )"
   ]
  },
  {
   "cell_type": "markdown",
   "metadata": {},
   "source": [
    "We will achieve \"concurrency\" here, not \"parallelism\" (such as the map-reduce pattern). It is designed for I/O-bound problems, not CPU-bound ones. Specifically this is true for multiple sleepy or slow connections, as in web crawling. "
   ]
  },
  {
   "cell_type": "markdown",
   "metadata": {},
   "source": [
    "### Generators with yield\n",
    "\n",
    "We have so far used generators to implement iterators with the `yield` keyword. The iteration happens via a driver program using `next` to advance the generator\n",
    "\n",
    "Lets start with a very simple example of a generator, which we see below:"
   ]
  },
  {
   "cell_type": "code",
   "execution_count": 32,
   "metadata": {
    "collapsed": true
   },
   "outputs": [],
   "source": [
    "def cr0(y):\n",
    "    print(\"y>\",y)\n",
    "    yield y\n",
    "    print(\"2y>\",2*y)\n",
    "    yield y+y\n",
    "    print(\"3y>\",3*y)\n",
    "    yield y+y+y"
   ]
  },
  {
   "cell_type": "code",
   "execution_count": 33,
   "metadata": {
    "collapsed": false
   },
   "outputs": [
    {
     "name": "stdout",
     "output_type": "stream",
     "text": [
      "y> 5\n",
      "2y> 10\n",
      "3y> 15\n"
     ]
    },
    {
     "data": {
      "text/plain": [
       "[5, 10, 15]"
      ]
     },
     "execution_count": 33,
     "metadata": {},
     "output_type": "execute_result"
    }
   ],
   "source": [
    "cr0i = cr0(5)\n",
    "list(cr0i)"
   ]
  },
  {
   "cell_type": "code",
   "execution_count": 34,
   "metadata": {
    "collapsed": false
   },
   "outputs": [
    {
     "ename": "StopIteration",
     "evalue": "",
     "output_type": "error",
     "traceback": [
      "\u001b[0;31m---------------------------------------------------------------------------\u001b[0m",
      "\u001b[0;31mStopIteration\u001b[0m                             Traceback (most recent call last)",
      "\u001b[0;32m<ipython-input-34-ee8831d8f3fb>\u001b[0m in \u001b[0;36m<module>\u001b[0;34m()\u001b[0m\n\u001b[0;32m----> 1\u001b[0;31m \u001b[0mnext\u001b[0m\u001b[0;34m(\u001b[0m\u001b[0mcr0i\u001b[0m\u001b[0;34m)\u001b[0m\u001b[0;34m\u001b[0m\u001b[0m\n\u001b[0m",
      "\u001b[0;31mStopIteration\u001b[0m: "
     ]
    }
   ],
   "source": [
    "next(cr0i)"
   ]
  },
  {
   "cell_type": "markdown",
   "metadata": {},
   "source": [
    "### From generators to co-routines\n",
    "\n",
    "Now, lets make two changes. Lets assign, in the generator, to the result of the yield, and use a new method on the generator, `send`, in addition to the `next` function (or `__next__` method) that we have been using"
   ]
  },
  {
   "cell_type": "code",
   "execution_count": 35,
   "metadata": {
    "collapsed": true
   },
   "outputs": [],
   "source": [
    "from inspect import getgeneratorstate"
   ]
  },
  {
   "cell_type": "code",
   "execution_count": 40,
   "metadata": {
    "collapsed": true
   },
   "outputs": [],
   "source": [
    "def cr(y):\n",
    "    print(\"y>\",y)\n",
    "    x = yield y+1\n",
    "    print(\"x>\",x)\n",
    "    z = yield x+y\n",
    "    print(\"z>\",z)\n",
    "    return z"
   ]
  },
  {
   "cell_type": "markdown",
   "metadata": {},
   "source": [
    "Notice we \"assign\" x to the yield of y."
   ]
  },
  {
   "cell_type": "code",
   "execution_count": 41,
   "metadata": {
    "collapsed": false
   },
   "outputs": [
    {
     "data": {
      "text/plain": [
       "generator"
      ]
     },
     "execution_count": 41,
     "metadata": {},
     "output_type": "execute_result"
    }
   ],
   "source": [
    "cri=cr(5)\n",
    "type(cri)"
   ]
  },
  {
   "cell_type": "code",
   "execution_count": 42,
   "metadata": {
    "collapsed": false
   },
   "outputs": [
    {
     "data": {
      "text/plain": [
       "'GEN_CREATED'"
      ]
     },
     "execution_count": 42,
     "metadata": {},
     "output_type": "execute_result"
    }
   ],
   "source": [
    "getgeneratorstate(cri)"
   ]
  },
  {
   "cell_type": "code",
   "execution_count": 43,
   "metadata": {
    "collapsed": false
   },
   "outputs": [
    {
     "name": "stdout",
     "output_type": "stream",
     "text": [
      "y> 5\n"
     ]
    },
    {
     "data": {
      "text/plain": [
       "6"
      ]
     },
     "execution_count": 43,
     "metadata": {},
     "output_type": "execute_result"
    }
   ],
   "source": [
    "a=next(cri)#advance to first yield and get y+1 out\n",
    "a"
   ]
  },
  {
   "cell_type": "code",
   "execution_count": 44,
   "metadata": {
    "collapsed": false
   },
   "outputs": [
    {
     "data": {
      "text/plain": [
       "'GEN_SUSPENDED'"
      ]
     },
     "execution_count": 44,
     "metadata": {},
     "output_type": "execute_result"
    }
   ],
   "source": [
    "getgeneratorstate(cri)"
   ]
  },
  {
   "cell_type": "markdown",
   "metadata": {},
   "source": [
    "The syntax `x = yield y` is not what it seems. `yield` suspends the generator, sending the value of `y` out as 5. Now, the generator can be advanced using either `next` or `.send`. The latter allows us to send INTO the generator a value, which can then be used as x"
   ]
  },
  {
   "cell_type": "code",
   "execution_count": 45,
   "metadata": {
    "collapsed": false
   },
   "outputs": [
    {
     "name": "stdout",
     "output_type": "stream",
     "text": [
      "x> 66\n"
     ]
    }
   ],
   "source": [
    "b = cri.send(66) #at first yield send 66 in, advance to second yield, "
   ]
  },
  {
   "cell_type": "code",
   "execution_count": 46,
   "metadata": {
    "collapsed": false
   },
   "outputs": [
    {
     "data": {
      "text/plain": [
       "71"
      ]
     },
     "execution_count": 46,
     "metadata": {},
     "output_type": "execute_result"
    }
   ],
   "source": [
    "b # the value from second yield is saved out"
   ]
  },
  {
   "cell_type": "markdown",
   "metadata": {},
   "source": [
    "We have advanced to the next `yield`, which has yielded thse sum of 5 and the sent-in 6."
   ]
  },
  {
   "cell_type": "code",
   "execution_count": 47,
   "metadata": {
    "collapsed": false
   },
   "outputs": [
    {
     "data": {
      "text/plain": [
       "'GEN_SUSPENDED'"
      ]
     },
     "execution_count": 47,
     "metadata": {},
     "output_type": "execute_result"
    }
   ],
   "source": [
    "getgeneratorstate(cri)"
   ]
  },
  {
   "cell_type": "markdown",
   "metadata": {},
   "source": [
    "Now we send in 22 as `z`. There are no more yields, and we come to the end, ie to a `StopIteration`. But notice now that we have a `return`. This return is now sent out as the value of the exception."
   ]
  },
  {
   "cell_type": "code",
   "execution_count": 48,
   "metadata": {
    "collapsed": false
   },
   "outputs": [
    {
     "name": "stdout",
     "output_type": "stream",
     "text": [
      "z> 22\n"
     ]
    },
    {
     "ename": "StopIteration",
     "evalue": "22",
     "output_type": "error",
     "traceback": [
      "\u001b[0;31m---------------------------------------------------------------------------\u001b[0m",
      "\u001b[0;31mStopIteration\u001b[0m                             Traceback (most recent call last)",
      "\u001b[0;32m<ipython-input-48-693b94646cb9>\u001b[0m in \u001b[0;36m<module>\u001b[0;34m()\u001b[0m\n\u001b[0;32m----> 1\u001b[0;31m \u001b[0mcri\u001b[0m\u001b[0;34m.\u001b[0m\u001b[0msend\u001b[0m\u001b[0;34m(\u001b[0m\u001b[0;36m22\u001b[0m\u001b[0;34m)\u001b[0m\u001b[0;34m\u001b[0m\u001b[0m\n\u001b[0m",
      "\u001b[0;31mStopIteration\u001b[0m: 22"
     ]
    }
   ],
   "source": [
    "cri.send(22) # send in and fall of cliff as no more yields"
   ]
  },
  {
   "cell_type": "code",
   "execution_count": 14,
   "metadata": {
    "collapsed": false
   },
   "outputs": [
    {
     "data": {
      "text/plain": [
       "'GEN_CLOSED'"
      ]
     },
     "execution_count": 14,
     "metadata": {},
     "output_type": "execute_result"
    }
   ],
   "source": [
    "getgeneratorstate(cri)"
   ]
  },
  {
   "cell_type": "markdown",
   "metadata": {},
   "source": [
    "What if we caused an exception earlier by sending in a non-number?"
   ]
  },
  {
   "cell_type": "code",
   "execution_count": 72,
   "metadata": {
    "collapsed": false
   },
   "outputs": [],
   "source": [
    "def cr2(y):\n",
    "    print(\"y>\",y)\n",
    "    x = yield y+1\n",
    "    print(\"x>\",x)\n",
    "    z = yield x+y\n",
    "    print(\"z>\",z)\n",
    "    a = yield z\n",
    "    print(\"a>\",a)\n",
    "    return z\n",
    "cri=cr2(5)"
   ]
  },
  {
   "cell_type": "code",
   "execution_count": 73,
   "metadata": {
    "collapsed": false
   },
   "outputs": [
    {
     "name": "stdout",
     "output_type": "stream",
     "text": [
      "y> 5\n"
     ]
    },
    {
     "data": {
      "text/plain": [
       "6"
      ]
     },
     "execution_count": 73,
     "metadata": {},
     "output_type": "execute_result"
    }
   ],
   "source": [
    "next(cri)# advance to first yield"
   ]
  },
  {
   "cell_type": "code",
   "execution_count": 50,
   "metadata": {
    "collapsed": false
   },
   "outputs": [
    {
     "name": "stdout",
     "output_type": "stream",
     "text": [
      "x> None\n"
     ]
    },
    {
     "ename": "TypeError",
     "evalue": "unsupported operand type(s) for +: 'NoneType' and 'int'",
     "output_type": "error",
     "traceback": [
      "\u001b[0;31m---------------------------------------------------------------------------\u001b[0m",
      "\u001b[0;31mTypeError\u001b[0m                                 Traceback (most recent call last)",
      "\u001b[0;32m<ipython-input-50-e2b9c5740723>\u001b[0m in \u001b[0;36m<module>\u001b[0;34m()\u001b[0m\n\u001b[0;32m----> 1\u001b[0;31m \u001b[0mnext\u001b[0m\u001b[0;34m(\u001b[0m\u001b[0mcri\u001b[0m\u001b[0;34m)\u001b[0m \u001b[0;31m# equivalent to cri.send(None)\u001b[0m\u001b[0;34m\u001b[0m\u001b[0m\n\u001b[0m",
      "\u001b[0;32m<ipython-input-49-eebf552a1a3a>\u001b[0m in \u001b[0;36mcr2\u001b[0;34m(y)\u001b[0m\n\u001b[1;32m      3\u001b[0m     \u001b[0mx\u001b[0m \u001b[0;34m=\u001b[0m \u001b[0;32myield\u001b[0m \u001b[0my\u001b[0m\u001b[0;34m+\u001b[0m\u001b[0;36m1\u001b[0m\u001b[0;34m\u001b[0m\u001b[0m\n\u001b[1;32m      4\u001b[0m     \u001b[0mprint\u001b[0m\u001b[0;34m(\u001b[0m\u001b[0;34m\"x>\"\u001b[0m\u001b[0;34m,\u001b[0m\u001b[0mx\u001b[0m\u001b[0;34m)\u001b[0m\u001b[0;34m\u001b[0m\u001b[0m\n\u001b[0;32m----> 5\u001b[0;31m     \u001b[0mz\u001b[0m \u001b[0;34m=\u001b[0m \u001b[0;32myield\u001b[0m \u001b[0mx\u001b[0m\u001b[0;34m+\u001b[0m\u001b[0my\u001b[0m\u001b[0;34m\u001b[0m\u001b[0m\n\u001b[0m\u001b[1;32m      6\u001b[0m     \u001b[0mprint\u001b[0m\u001b[0;34m(\u001b[0m\u001b[0;34m\"z>\"\u001b[0m\u001b[0;34m,\u001b[0m\u001b[0mz\u001b[0m\u001b[0;34m)\u001b[0m\u001b[0;34m\u001b[0m\u001b[0m\n\u001b[1;32m      7\u001b[0m     \u001b[0ma\u001b[0m \u001b[0;34m=\u001b[0m \u001b[0;32myield\u001b[0m \u001b[0mz\u001b[0m\u001b[0;34m\u001b[0m\u001b[0m\n",
      "\u001b[0;31mTypeError\u001b[0m: unsupported operand type(s) for +: 'NoneType' and 'int'"
     ]
    }
   ],
   "source": [
    "next(cri) # equivalent to cri.send(None)"
   ]
  },
  {
   "cell_type": "markdown",
   "metadata": {},
   "source": [
    "Aha! `next` is equivalent to `.send(None)`. But the exception kills the generator and we cannot go any further..."
   ]
  },
  {
   "cell_type": "code",
   "execution_count": 51,
   "metadata": {
    "collapsed": false
   },
   "outputs": [
    {
     "data": {
      "text/plain": [
       "'GEN_CLOSED'"
      ]
     },
     "execution_count": 51,
     "metadata": {},
     "output_type": "execute_result"
    }
   ],
   "source": [
    "getgeneratorstate(cri)"
   ]
  },
  {
   "cell_type": "code",
   "execution_count": 52,
   "metadata": {
    "collapsed": false
   },
   "outputs": [
    {
     "ename": "StopIteration",
     "evalue": "",
     "output_type": "error",
     "traceback": [
      "\u001b[0;31m---------------------------------------------------------------------------\u001b[0m",
      "\u001b[0;31mStopIteration\u001b[0m                             Traceback (most recent call last)",
      "\u001b[0;32m<ipython-input-52-a53b27d75afd>\u001b[0m in \u001b[0;36m<module>\u001b[0;34m()\u001b[0m\n\u001b[0;32m----> 1\u001b[0;31m \u001b[0mcri\u001b[0m\u001b[0;34m.\u001b[0m\u001b[0msend\u001b[0m\u001b[0;34m(\u001b[0m\u001b[0;32mNone\u001b[0m\u001b[0;34m)\u001b[0m\u001b[0;34m\u001b[0m\u001b[0m\n\u001b[0m",
      "\u001b[0;31mStopIteration\u001b[0m: "
     ]
    }
   ],
   "source": [
    "cri.send(None)"
   ]
  },
  {
   "cell_type": "markdown",
   "metadata": {},
   "source": [
    "**This generator, with `yield` appearing on the right side of an expression, is a coroutine**."
   ]
  },
  {
   "cell_type": "markdown",
   "metadata": {},
   "source": [
    "- the yield is a RHS\n",
    "- we could have just `yield`, which is equivalent to `yield None`\n",
    "- the coroutine uses yield to send data out to the caller or driver\n",
    "- which uses assignment to the yield in conjunction with `send` to send a value ointo the coroutine. Sending None is equivalent to `next`\n",
    "- thus one may yield nothing, and send in nothing. Still, the generator has been paused...\n",
    "\n",
    "In this sense, `yield` is a **control-flow** device, and it can be used to implement co-operative multi-tasking (like in the old iphones): *each coroutine yields to a central driver which can then re-activate it or other couroutines by appropriate sends*.\n",
    "\n",
    "Think of **yield** as a control-flow device from now on!\n",
    "\n",
    "These changes came into Python incrementally. From Fluent\n",
    "\n",
    ">The infrastructure for coroutines appeared in PEP 342 — Coroutines via Enhanced Generators, implemented in Python 2.5 (2006): since then, the yield keyword can be used in an expression, and the .send(value) method was added to the generator API. Using .send(...), the caller of the generator can post data that then becomes the value of the yield expression inside the generator function. This allows a generator to be used as a coroutine: a procedure that collaborates with the caller, yielding and receiving values from the caller.\n",
    "\n",
    ">In addition to .send(...), PEP 342 also added .throw(...) and .close() methods that respectively allow the caller to throw an exception to be handled inside the generator, and to terminate it. \n",
    "\n",
    ">The latest evolutionary step for coroutines came with PEP 380 - Syntax for Delegating to a Subgenerator, implemented in Python 3.3 (2012). PEP 380 made two syntax changes to generator functions, to make them more useful as coroutines:\n",
    "- A generator can now return a value; previously, providing a value to the return statement inside a generator raised a SyntaxError.\n",
    "- The `yield from` syntax enables complex generators to be refactored into smaller, nested generators while avoiding a lot of boilerplate code previously required for a generator to delegate to subgenerators.\n",
    "\n"
   ]
  },
  {
   "cell_type": "markdown",
   "metadata": {},
   "source": [
    "### More coroutines\n",
    "\n",
    "So far, we have seen the use of `next` and `send`, and the consequences of `send`ing something of the wrong type (we exhaust the generator). Lets explore these, `throw`, and `close`, in the context of a more useful generator, one which keeps yielding  us a running average."
   ]
  },
  {
   "cell_type": "code",
   "execution_count": 53,
   "metadata": {
    "collapsed": true
   },
   "outputs": [],
   "source": [
    "def averager(): \n",
    "    total = 0.0\n",
    "    count = 0 \n",
    "    average = None \n",
    "    while True:\n",
    "        term = yield average \n",
    "        total += term\n",
    "        count += 1\n",
    "        average = total/count"
   ]
  },
  {
   "cell_type": "code",
   "execution_count": 54,
   "metadata": {
    "collapsed": false
   },
   "outputs": [
    {
     "data": {
      "text/plain": [
       "'GEN_CREATED'"
      ]
     },
     "execution_count": 54,
     "metadata": {},
     "output_type": "execute_result"
    }
   ],
   "source": [
    "av=averager()\n",
    "getgeneratorstate(av)"
   ]
  },
  {
   "cell_type": "code",
   "execution_count": 55,
   "metadata": {
    "collapsed": false
   },
   "outputs": [
    {
     "name": "stdout",
     "output_type": "stream",
     "text": [
      "None\n"
     ]
    },
    {
     "data": {
      "text/plain": [
       "'GEN_SUSPENDED'"
      ]
     },
     "execution_count": 55,
     "metadata": {},
     "output_type": "execute_result"
    }
   ],
   "source": [
    "print(next(av))#advance to first yield\n",
    "getgeneratorstate(av)"
   ]
  },
  {
   "cell_type": "code",
   "execution_count": 56,
   "metadata": {
    "collapsed": false
   },
   "outputs": [
    {
     "name": "stdout",
     "output_type": "stream",
     "text": [
      "5.0\n",
      "4.5\n",
      "4.0\n",
      "GEN_SUSPENDED\n"
     ]
    }
   ],
   "source": [
    "print(av.send(5))\n",
    "print(av.send(4))\n",
    "print(av.send(3))\n",
    "print(getgeneratorstate(av))"
   ]
  },
  {
   "cell_type": "markdown",
   "metadata": {},
   "source": [
    "#### `close`\n",
    "\n",
    "Since this generator is in an infinite loop, we must close it. We can do it cleanly by `.close()` which sends in a `GeneratorExit` exception which is implicitly handled by generators."
   ]
  },
  {
   "cell_type": "code",
   "execution_count": 57,
   "metadata": {
    "collapsed": false
   },
   "outputs": [
    {
     "name": "stdout",
     "output_type": "stream",
     "text": [
      "GEN_CLOSED\n"
     ]
    }
   ],
   "source": [
    "av.close()\n",
    "print(getgeneratorstate(av))"
   ]
  },
  {
   "cell_type": "markdown",
   "metadata": {},
   "source": [
    "#### `throw`\n",
    "\n",
    "We can throw in any exceptionexplicitly using `.throw`. If the generator handles the exception (we can write code to do so) we are advanced to the next yield. Othwewise the generator is exhausted, and the exception propagates back out"
   ]
  },
  {
   "cell_type": "code",
   "execution_count": 59,
   "metadata": {
    "collapsed": false
   },
   "outputs": [
    {
     "ename": "ValueError",
     "evalue": "yes",
     "output_type": "error",
     "traceback": [
      "\u001b[0;31m---------------------------------------------------------------------------\u001b[0m",
      "\u001b[0;31mValueError\u001b[0m                                Traceback (most recent call last)",
      "\u001b[0;32m<ipython-input-59-c00cfda45854>\u001b[0m in \u001b[0;36m<module>\u001b[0;34m()\u001b[0m\n\u001b[1;32m      1\u001b[0m \u001b[0mav\u001b[0m\u001b[0;34m=\u001b[0m\u001b[0maverager\u001b[0m\u001b[0;34m(\u001b[0m\u001b[0;34m)\u001b[0m\u001b[0;34m\u001b[0m\u001b[0m\n\u001b[1;32m      2\u001b[0m \u001b[0mnext\u001b[0m\u001b[0;34m(\u001b[0m\u001b[0mav\u001b[0m\u001b[0;34m)\u001b[0m\u001b[0;34m\u001b[0m\u001b[0m\n\u001b[0;32m----> 3\u001b[0;31m \u001b[0mav\u001b[0m\u001b[0;34m.\u001b[0m\u001b[0mthrow\u001b[0m\u001b[0;34m(\u001b[0m\u001b[0mValueError\u001b[0m\u001b[0;34m(\u001b[0m\u001b[0;34m\"yes\"\u001b[0m\u001b[0;34m)\u001b[0m\u001b[0;34m)\u001b[0m\u001b[0;34m\u001b[0m\u001b[0m\n\u001b[0m",
      "\u001b[0;32m<ipython-input-53-3f39ad3791fb>\u001b[0m in \u001b[0;36maverager\u001b[0;34m()\u001b[0m\n\u001b[1;32m      4\u001b[0m     \u001b[0maverage\u001b[0m \u001b[0;34m=\u001b[0m \u001b[0;32mNone\u001b[0m\u001b[0;34m\u001b[0m\u001b[0m\n\u001b[1;32m      5\u001b[0m     \u001b[0;32mwhile\u001b[0m \u001b[0;32mTrue\u001b[0m\u001b[0;34m:\u001b[0m\u001b[0;34m\u001b[0m\u001b[0m\n\u001b[0;32m----> 6\u001b[0;31m         \u001b[0mterm\u001b[0m \u001b[0;34m=\u001b[0m \u001b[0;32myield\u001b[0m \u001b[0maverage\u001b[0m\u001b[0;34m\u001b[0m\u001b[0m\n\u001b[0m\u001b[1;32m      7\u001b[0m         \u001b[0mtotal\u001b[0m \u001b[0;34m+=\u001b[0m \u001b[0mterm\u001b[0m\u001b[0;34m\u001b[0m\u001b[0m\n\u001b[1;32m      8\u001b[0m         \u001b[0mcount\u001b[0m \u001b[0;34m+=\u001b[0m \u001b[0;36m1\u001b[0m\u001b[0;34m\u001b[0m\u001b[0m\n",
      "\u001b[0;31mValueError\u001b[0m: yes"
     ]
    }
   ],
   "source": [
    "av=averager()\n",
    "next(av)#advance to first yield\n",
    "av.throw(ValueError(\"yes\"))"
   ]
  },
  {
   "cell_type": "code",
   "execution_count": 60,
   "metadata": {
    "collapsed": false
   },
   "outputs": [
    {
     "ename": "GeneratorExit",
     "evalue": "",
     "output_type": "error",
     "traceback": [
      "\u001b[0;31m---------------------------------------------------------------------------\u001b[0m",
      "\u001b[0;31mGeneratorExit\u001b[0m                             Traceback (most recent call last)",
      "\u001b[0;32m<ipython-input-60-c1cb63bb6a28>\u001b[0m in \u001b[0;36m<module>\u001b[0;34m()\u001b[0m\n\u001b[1;32m      1\u001b[0m \u001b[0mav\u001b[0m\u001b[0;34m=\u001b[0m\u001b[0maverager\u001b[0m\u001b[0;34m(\u001b[0m\u001b[0;34m)\u001b[0m\u001b[0;34m\u001b[0m\u001b[0m\n\u001b[1;32m      2\u001b[0m \u001b[0mnext\u001b[0m\u001b[0;34m(\u001b[0m\u001b[0mav\u001b[0m\u001b[0;34m)\u001b[0m\u001b[0;34m\u001b[0m\u001b[0m\n\u001b[0;32m----> 3\u001b[0;31m \u001b[0mav\u001b[0m\u001b[0;34m.\u001b[0m\u001b[0mthrow\u001b[0m\u001b[0;34m(\u001b[0m\u001b[0mGeneratorExit\u001b[0m\u001b[0;34m(\u001b[0m\u001b[0;34m)\u001b[0m\u001b[0;34m)\u001b[0m\u001b[0;34m\u001b[0m\u001b[0m\n\u001b[0m",
      "\u001b[0;32m<ipython-input-53-3f39ad3791fb>\u001b[0m in \u001b[0;36maverager\u001b[0;34m()\u001b[0m\n\u001b[1;32m      4\u001b[0m     \u001b[0maverage\u001b[0m \u001b[0;34m=\u001b[0m \u001b[0;32mNone\u001b[0m\u001b[0;34m\u001b[0m\u001b[0m\n\u001b[1;32m      5\u001b[0m     \u001b[0;32mwhile\u001b[0m \u001b[0;32mTrue\u001b[0m\u001b[0;34m:\u001b[0m\u001b[0;34m\u001b[0m\u001b[0m\n\u001b[0;32m----> 6\u001b[0;31m         \u001b[0mterm\u001b[0m \u001b[0;34m=\u001b[0m \u001b[0;32myield\u001b[0m \u001b[0maverage\u001b[0m\u001b[0;34m\u001b[0m\u001b[0m\n\u001b[0m\u001b[1;32m      7\u001b[0m         \u001b[0mtotal\u001b[0m \u001b[0;34m+=\u001b[0m \u001b[0mterm\u001b[0m\u001b[0;34m\u001b[0m\u001b[0m\n\u001b[1;32m      8\u001b[0m         \u001b[0mcount\u001b[0m \u001b[0;34m+=\u001b[0m \u001b[0;36m1\u001b[0m\u001b[0;34m\u001b[0m\u001b[0m\n",
      "\u001b[0;31mGeneratorExit\u001b[0m: "
     ]
    }
   ],
   "source": [
    "av=averager()\n",
    "next(av)#advance to first yield\n",
    "av.throw(GeneratorExit())"
   ]
  },
  {
   "cell_type": "code",
   "execution_count": 61,
   "metadata": {
    "collapsed": false
   },
   "outputs": [
    {
     "name": "stdout",
     "output_type": "stream",
     "text": [
      "GEN_CLOSED\n"
     ]
    }
   ],
   "source": [
    "print(getgeneratorstate(av))"
   ]
  },
  {
   "cell_type": "markdown",
   "metadata": {},
   "source": [
    "Here we handle `ValueError`: the exception handling code runs and advances us to the next yield."
   ]
  },
  {
   "cell_type": "code",
   "execution_count": 62,
   "metadata": {
    "collapsed": true
   },
   "outputs": [],
   "source": [
    "def averager2(): \n",
    "    total = 0.0\n",
    "    count = 0 \n",
    "    average = None \n",
    "    while True:\n",
    "        try:\n",
    "            term = yield average\n",
    "        except ValueError:\n",
    "            term=0\n",
    "        total += term\n",
    "        count += 1\n",
    "        average = total/count"
   ]
  },
  {
   "cell_type": "code",
   "execution_count": 63,
   "metadata": {
    "collapsed": false
   },
   "outputs": [
    {
     "data": {
      "text/plain": [
       "0.0"
      ]
     },
     "execution_count": 63,
     "metadata": {},
     "output_type": "execute_result"
    }
   ],
   "source": [
    "av=averager2()\n",
    "next(av)#advance to first yield\n",
    "av.throw(ValueError(\"yes\"))"
   ]
  },
  {
   "cell_type": "code",
   "execution_count": 64,
   "metadata": {
    "collapsed": false
   },
   "outputs": [
    {
     "data": {
      "text/plain": [
       "2.5"
      ]
     },
     "execution_count": 64,
     "metadata": {},
     "output_type": "execute_result"
    }
   ],
   "source": [
    "av.send(5)"
   ]
  },
  {
   "cell_type": "code",
   "execution_count": 65,
   "metadata": {
    "collapsed": true
   },
   "outputs": [],
   "source": [
    "av.close()"
   ]
  },
  {
   "cell_type": "markdown",
   "metadata": {},
   "source": [
    "#### Returning a result\n",
    "\n",
    "Notice below now that we dont yield a running average, instead doing it as the return. So now we must create a termination condition. as you can see, if we send in a None, we achieve this by breaking the loop."
   ]
  },
  {
   "cell_type": "code",
   "execution_count": 74,
   "metadata": {
    "collapsed": true
   },
   "outputs": [],
   "source": [
    "from collections import namedtuple\n",
    "Result = namedtuple('Result', 'count average')\n",
    "def averager(): \n",
    "    total = 0.0\n",
    "    count = 0 \n",
    "    average = None \n",
    "    while True:\n",
    "        term = yield #new syntx, average is not yielded out\n",
    "        print(\"Term is\", term)\n",
    "        if term is None:\n",
    "            break\n",
    "        total += term\n",
    "        count += 1\n",
    "        average = total/count\n",
    "    return Result(count, average)"
   ]
  },
  {
   "cell_type": "code",
   "execution_count": 75,
   "metadata": {
    "collapsed": true
   },
   "outputs": [],
   "source": [
    "av=averager()"
   ]
  },
  {
   "cell_type": "code",
   "execution_count": 76,
   "metadata": {
    "collapsed": false
   },
   "outputs": [
    {
     "name": "stdout",
     "output_type": "stream",
     "text": [
      "Term is 5\n"
     ]
    }
   ],
   "source": [
    "next(av)\n",
    "av.send(5)"
   ]
  },
  {
   "cell_type": "code",
   "execution_count": 77,
   "metadata": {
    "collapsed": false
   },
   "outputs": [
    {
     "name": "stdout",
     "output_type": "stream",
     "text": [
      "Term is 3\n"
     ]
    }
   ],
   "source": [
    "av.send(3)"
   ]
  },
  {
   "cell_type": "code",
   "execution_count": 78,
   "metadata": {
    "collapsed": false
   },
   "outputs": [
    {
     "name": "stdout",
     "output_type": "stream",
     "text": [
      "Term is None\n"
     ]
    },
    {
     "ename": "StopIteration",
     "evalue": "Result(count=2, average=4.0)",
     "output_type": "error",
     "traceback": [
      "\u001b[0;31m---------------------------------------------------------------------------\u001b[0m",
      "\u001b[0;31mStopIteration\u001b[0m                             Traceback (most recent call last)",
      "\u001b[0;32m<ipython-input-78-1f3b47f68500>\u001b[0m in \u001b[0;36m<module>\u001b[0;34m()\u001b[0m\n\u001b[0;32m----> 1\u001b[0;31m \u001b[0mnext\u001b[0m\u001b[0;34m(\u001b[0m\u001b[0mav\u001b[0m\u001b[0;34m)\u001b[0m\u001b[0;31m#seems to be same as av.send(None)\u001b[0m\u001b[0;34m\u001b[0m\u001b[0m\n\u001b[0m",
      "\u001b[0;31mStopIteration\u001b[0m: Result(count=2, average=4.0)"
     ]
    }
   ],
   "source": [
    "next(av)#seems to be same as av.send(None)"
   ]
  },
  {
   "cell_type": "markdown",
   "metadata": {},
   "source": [
    "It might seem strange that the return value of the coroutine is sent back on the exception. The reason for this is that we want to preserve the semantics of generator objects which come to us from a totally different use case of iteration: the raising of `StopIteration` when exhausted.\n",
    "\n",
    "This will be important a bit later when we see `yield from`. `StopIteration` is handled transparently in loops; similarly, in `yield from` this also happens: indeed we consume the `StopIteration`, and the value sent on it: the result, becomes the ultimate value of the `yield from` expression itself."
   ]
  },
  {
   "cell_type": "code",
   "execution_count": 79,
   "metadata": {
    "collapsed": true
   },
   "outputs": [],
   "source": [
    "def averager_subgen():\n",
    "    print(\"    |sg>starting subgen\")\n",
    "    total = 0.0\n",
    "    count = 0 \n",
    "    average = None \n",
    "    while True:\n",
    "        print(\"    |sg>  average yielded out\", average)\n",
    "        term = yield average\n",
    "        print(\"    |sg>  term sent in\", term)\n",
    "        if term is None:\n",
    "            break\n",
    "        total += term\n",
    "        count += 1\n",
    "        average = total/count\n",
    "    return Result(count, average)"
   ]
  },
  {
   "cell_type": "code",
   "execution_count": 81,
   "metadata": {
    "collapsed": false
   },
   "outputs": [],
   "source": [
    "def average_my_values_delegen_simple():\n",
    "    agen = averager_subgen()\n",
    "    print(\"  |dg>created a new averager\",id(agen))\n",
    "    overall_av = yield from agen\n",
    "    #yield from consumes all the values, like a list\n",
    "    #not an individual value\n",
    "    print(\"  |dg>now\", overall_av)\n",
    "    return overall_av"
   ]
  },
  {
   "cell_type": "code",
   "execution_count": 82,
   "metadata": {
    "collapsed": true
   },
   "outputs": [],
   "source": [
    "values_to_send=[1,2,3,4,5,6]"
   ]
  },
  {
   "cell_type": "code",
   "execution_count": 89,
   "metadata": {
    "collapsed": false
   },
   "outputs": [
    {
     "name": "stdout",
     "output_type": "stream",
     "text": [
      "1. creating delegating generator\n",
      "<class 'generator'>\n",
      "2. priming till yield from by sending in None\n",
      "  |dg>created a new averager 4388926392\n",
      "    |sg>starting subgen\n",
      "    |sg>  average yielded out None\n",
      "3. in loop after first yield, None sent in\n",
      ">>sending term 1\n",
      "    |sg>  term sent in 1\n",
      "    |sg>  average yielded out 1.0\n",
      "<<getting running average 1.0\n",
      ">>sending term 2\n",
      "    |sg>  term sent in 2\n",
      "    |sg>  average yielded out 1.5\n",
      "<<getting running average 1.5\n",
      ">>sending term 3\n",
      "    |sg>  term sent in 3\n",
      "    |sg>  average yielded out 2.0\n",
      "<<getting running average 2.0\n",
      ">>sending term 4\n",
      "    |sg>  term sent in 4\n",
      "    |sg>  average yielded out 2.5\n",
      "<<getting running average 2.5\n",
      ">>sending term 5\n",
      "    |sg>  term sent in 5\n",
      "    |sg>  average yielded out 3.0\n",
      "<<getting running average 3.0\n",
      ">>sending term 6\n",
      "    |sg>  term sent in 6\n",
      "    |sg>  average yielded out 3.5\n",
      "<<getting running average 3.5\n",
      "4. Sending in None to terminate\n",
      "    |sg>  term sent in None\n",
      "  |dg>now Result(count=6, average=3.5)\n"
     ]
    },
    {
     "ename": "StopIteration",
     "evalue": "Result(count=6, average=3.5)",
     "output_type": "error",
     "traceback": [
      "\u001b[0;31m---------------------------------------------------------------------------\u001b[0m",
      "\u001b[0;31mStopIteration\u001b[0m                             Traceback (most recent call last)",
      "\u001b[0;32m<ipython-input-89-8bf420110a58>\u001b[0m in \u001b[0;36m<module>\u001b[0;34m()\u001b[0m\n\u001b[1;32m     10\u001b[0m     \u001b[0mprint\u001b[0m\u001b[0;34m(\u001b[0m\u001b[0;34m'<<getting running average'\u001b[0m\u001b[0;34m,\u001b[0m \u001b[0mout\u001b[0m\u001b[0;34m)\u001b[0m\u001b[0;34m\u001b[0m\u001b[0m\n\u001b[1;32m     11\u001b[0m \u001b[0mprint\u001b[0m\u001b[0;34m(\u001b[0m\u001b[0;34m\"4. Sending in None to terminate\"\u001b[0m\u001b[0;34m)\u001b[0m\u001b[0;34m\u001b[0m\u001b[0m\n\u001b[0;32m---> 12\u001b[0;31m \u001b[0mout\u001b[0m \u001b[0;34m=\u001b[0m \u001b[0mdelegating_gen\u001b[0m\u001b[0;34m.\u001b[0m\u001b[0msend\u001b[0m\u001b[0;34m(\u001b[0m\u001b[0;32mNone\u001b[0m\u001b[0;34m)\u001b[0m\u001b[0;34m\u001b[0m\u001b[0m\n\u001b[0m\u001b[1;32m     13\u001b[0m \u001b[0mprint\u001b[0m\u001b[0;34m(\u001b[0m\u001b[0;34m'<<getting running average'\u001b[0m\u001b[0;34m,\u001b[0m \u001b[0mout\u001b[0m\u001b[0;34m)\u001b[0m\u001b[0;34m\u001b[0m\u001b[0m\n\u001b[1;32m     14\u001b[0m \u001b[0mprint\u001b[0m\u001b[0;34m(\u001b[0m\u001b[0;34m\"5. DONE\"\u001b[0m\u001b[0;34m)\u001b[0m\u001b[0;34m\u001b[0m\u001b[0m\n",
      "\u001b[0;31mStopIteration\u001b[0m: Result(count=6, average=3.5)"
     ]
    }
   ],
   "source": [
    "print(\"1. creating delegating generator\")\n",
    "delegating_gen = average_my_values_delegen_simple()\n",
    "print(type(delegating_gen))\n",
    "print(\"2. priming till yield from by sending in None\")\n",
    "next(delegating_gen)#priming\n",
    "print(\"3. in loop after first yield, None sent in\")\n",
    "for value in values_to_send:\n",
    "    print(\">>sending term\",value)\n",
    "    out = delegating_gen.send(value)\n",
    "    print('<<getting running average', out)\n",
    "print(\"4. Sending in None to terminate\")\n",
    "out = delegating_gen.send(None)\n",
    "print('<<getting running average', out)\n",
    "print(\"5. DONE\")"
   ]
  }
 ],
 "metadata": {
  "anaconda-cloud": {},
  "kernelspec": {
   "display_name": "Python [default]",
   "language": "python",
   "name": "python3"
  },
  "language_info": {
   "codemirror_mode": {
    "name": "ipython",
    "version": 3
   },
   "file_extension": ".py",
   "mimetype": "text/x-python",
   "name": "python",
   "nbconvert_exporter": "python",
   "pygments_lexer": "ipython3",
   "version": "3.5.2"
  }
 },
 "nbformat": 4,
 "nbformat_minor": 0
}
