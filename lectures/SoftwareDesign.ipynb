{
 "cells": [
  {
   "cell_type": "markdown",
   "metadata": {
    "slideshow": {
     "slide_type": "slide"
    }
   },
   "source": [
    "## Software design\n",
    "\n",
    "\n",
    "https://www.dropbox.com/s/ben7slw1c97qsiz/SoftwareDesign.ipynb?dl=0\n",
    "\n",
    "From the Practice of Programming:\n",
    "\n",
    ">The essence of design is to balance competing goals and constraints. Although there may be many tradeoffs when one is writing a small self-contained system, the ramifications of particular choices remain within the system and affect only the indi- vidual programmer. But when code is to be used by others, decisions have wider repercussions."
   ]
  },
  {
   "cell_type": "markdown",
   "metadata": {
    "slideshow": {
     "slide_type": "slide"
    }
   },
   "source": [
    "What are the issues we need to be cognizant of?\n",
    "\n",
    "- **Interfaces**: your program is being designed to be used by someone: either an end user, another programmer (you are writing a library), or even yourself (we are talking about some layer in your program). This **interface** is a contract between you and the user: with preconditions, postconditions, etc\n",
    "- There is **information** hiding between layers (a higher up layer can be more abstract, more lossy about all the information). Encapsulation,  abstraction,  modularization, are some of the techniques used here.\n",
    "- There are **resource management** issues: who allocates storage for data structures.. (generally we want resource allocation/deallocation to happen in the same layer)\n",
    "- How to **deal with errors**: do we return special values, throw exceptions? who handles them? (generally we want to catch even the lowest level error and give the client the chance to handle it, possibly lossily)"
   ]
  },
  {
   "cell_type": "markdown",
   "metadata": {
    "slideshow": {
     "slide_type": "slide"
    }
   },
   "source": [
    "### Interface principles\n",
    "\n",
    "Interfaces should:\n",
    "\n",
    "- hide implementation details\n",
    "- have a small set of operations exposed, the smallest possible, and these should be orthogonal. Be stingy with the user.\n",
    "- but be transparent with the user in what goes on behind the scenes (calls the NSA, the algorithm/datastructure time/space requirements have changed)\n",
    "- be consistent internally: library functions should have similar signature, classes similar methods, and externally: programs should have the same cli flags, same ops.\n",
    "\n",
    "** Testing should deal with ALL of the issues above, and each layer ought to be tested separately **. \n",
    "\n",
    "More on this below."
   ]
  },
  {
   "cell_type": "markdown",
   "metadata": {
    "slideshow": {
     "slide_type": "slide"
    }
   },
   "source": [
    "### Binary Search\n"
   ]
  },
  {
   "cell_type": "code",
   "execution_count": 1,
   "metadata": {
    "collapsed": true,
    "slideshow": {
     "slide_type": "fragment"
    }
   },
   "outputs": [],
   "source": [
    "#there are problems in this code. But, later\n",
    "def binary_search_simple(da_array, needle):\n",
    "    rangemin = 0\n",
    "    rangemax = len(da_array) - 1\n",
    "    while True:\n",
    "        midpoint = (rangemin+rangemax)//2 #whats the problem with this\n",
    "        if da_array[midpoint] > needle:#lower part\n",
    "            rangemax = midpoint - 1\n",
    "        elif da_array[midpoint] < needle:\n",
    "            rangemin = midpoint + 1\n",
    "        else:\n",
    "            return midpoint"
   ]
  },
  {
   "cell_type": "code",
   "execution_count": 2,
   "metadata": {
    "collapsed": false,
    "slideshow": {
     "slide_type": "fragment"
    }
   },
   "outputs": [
    {
     "data": {
      "text/plain": [
       "4"
      ]
     },
     "execution_count": 2,
     "metadata": {},
     "output_type": "execute_result"
    }
   ],
   "source": [
    "input=list(range(10))\n",
    "binary_search_simple(input,4)"
   ]
  },
  {
   "cell_type": "markdown",
   "metadata": {
    "slideshow": {
     "slide_type": "slide"
    }
   },
   "source": [
    "#### Problem 1\n",
    "\n",
    "\n",
    "There are problems with the previous implementation. What if the value is not in the array you are searching for? How do we terminate?"
   ]
  },
  {
   "cell_type": "code",
   "execution_count": 3,
   "metadata": {
    "collapsed": true,
    "slideshow": {
     "slide_type": "fragment"
    }
   },
   "outputs": [],
   "source": [
    "#there are problems in this code, but later\n",
    "def binary_search(da_array, needle):\n",
    "    rangemin = 0\n",
    "    rangemax = len(da_array) - 1\n",
    "    tries=0\n",
    "    while True:\n",
    "        print(\"at top\", rangemin, rangemax)\n",
    "        if tries > len(da_array):\n",
    "            print(\"No Success\")\n",
    "            break\n",
    "        midpoint = (rangemin+rangemax)//2 #whats the problem with this\n",
    "        print(rangemin, midpoint, rangemax, \"|\", da_array[midpoint], needle)\n",
    "        if da_array[midpoint] > needle:#lower part\n",
    "            rangemax = midpoint - 1\n",
    "        elif da_array[midpoint] < needle:\n",
    "            rangemin = midpoint + 1\n",
    "        else:\n",
    "            return midpoint\n",
    "        tries += 1"
   ]
  },
  {
   "cell_type": "code",
   "execution_count": 4,
   "metadata": {
    "collapsed": false,
    "slideshow": {
     "slide_type": "fragment"
    }
   },
   "outputs": [
    {
     "name": "stdout",
     "output_type": "stream",
     "text": [
      "at top 0 9\n",
      "0 4 9 | 4 4\n"
     ]
    },
    {
     "data": {
      "text/plain": [
       "4"
      ]
     },
     "execution_count": 4,
     "metadata": {},
     "output_type": "execute_result"
    }
   ],
   "source": [
    "binary_search(input,4)        "
   ]
  },
  {
   "cell_type": "code",
   "execution_count": 5,
   "metadata": {
    "collapsed": false,
    "slideshow": {
     "slide_type": "fragment"
    }
   },
   "outputs": [
    {
     "name": "stdout",
     "output_type": "stream",
     "text": [
      "at top 0 9\n",
      "0 4 9 | 4 4.5\n",
      "at top 5 9\n",
      "5 7 9 | 7 4.5\n",
      "at top 5 6\n",
      "5 5 6 | 5 4.5\n",
      "at top 5 4\n",
      "5 4 4 | 4 4.5\n",
      "at top 5 4\n",
      "5 4 4 | 4 4.5\n",
      "at top 5 4\n",
      "5 4 4 | 4 4.5\n",
      "at top 5 4\n",
      "5 4 4 | 4 4.5\n",
      "at top 5 4\n",
      "5 4 4 | 4 4.5\n",
      "at top 5 4\n",
      "5 4 4 | 4 4.5\n",
      "at top 5 4\n",
      "5 4 4 | 4 4.5\n",
      "at top 5 4\n",
      "5 4 4 | 4 4.5\n",
      "at top 5 4\n",
      "No Success\n"
     ]
    }
   ],
   "source": [
    "binary_search(input,4.5)        "
   ]
  },
  {
   "cell_type": "markdown",
   "metadata": {
    "slideshow": {
     "slide_type": "slide"
    }
   },
   "source": [
    "#### Problem 2\n",
    "\n",
    "When we break we should return something reasonable:"
   ]
  },
  {
   "cell_type": "code",
   "execution_count": 6,
   "metadata": {
    "collapsed": true,
    "slideshow": {
     "slide_type": "fragment"
    }
   },
   "outputs": [],
   "source": [
    "def binary_search(da_array, needle):\n",
    "    rangemin = 0\n",
    "    rangemax = len(da_array) - 1\n",
    "    tries=0\n",
    "    while True:\n",
    "        print(\"at top\", rangemin, rangemax)\n",
    "        if tries > len(da_array):\n",
    "            print(\"No Success\")\n",
    "            break\n",
    "        if rangemin > rangemax:\n",
    "            return -1\n",
    "        midpoint = (rangemin+rangemax)//2 #whats the problem with this\n",
    "        print(rangemin, midpoint, rangemax, \"|\", da_array[midpoint], needle)\n",
    "        if da_array[midpoint] > needle:#lower part\n",
    "            rangemax = midpoint - 1\n",
    "        elif da_array[midpoint] < needle:\n",
    "            rangemin = midpoint + 1\n",
    "        else:\n",
    "            return midpoint\n",
    "        tries += 1"
   ]
  },
  {
   "cell_type": "code",
   "execution_count": 7,
   "metadata": {
    "collapsed": false,
    "slideshow": {
     "slide_type": "fragment"
    }
   },
   "outputs": [
    {
     "name": "stdout",
     "output_type": "stream",
     "text": [
      "at top 0 9\n",
      "0 4 9 | 4 4.5\n",
      "at top 5 9\n",
      "5 7 9 | 7 4.5\n",
      "at top 5 6\n",
      "5 5 6 | 5 4.5\n",
      "at top 5 4\n"
     ]
    },
    {
     "data": {
      "text/plain": [
       "-1"
      ]
     },
     "execution_count": 7,
     "metadata": {},
     "output_type": "execute_result"
    }
   ],
   "source": [
    "binary_search(input,4.5)        "
   ]
  },
  {
   "cell_type": "markdown",
   "metadata": {
    "slideshow": {
     "slide_type": "slide"
    }
   },
   "source": [
    "### Issues that the implementation raises\n",
    "\n",
    "- What if the value is not there in the array?\n",
    "- What if rangemax is so high as to create overflow\n",
    "- What if the array is not sorted\n",
    "- what are we returning (why the -1)\n",
    "- are we consistent in our returning?\n",
    "- what if da_array was not an array?\n",
    "- what types are we supporting?\n",
    "- what happens if we have a NaN in our array? Infty?"
   ]
  },
  {
   "cell_type": "markdown",
   "metadata": {
    "slideshow": {
     "slide_type": "slide"
    }
   },
   "source": [
    "#### One should play with all of ones concerns\n",
    "\n",
    "Here is an example with a non-sorted array"
   ]
  },
  {
   "cell_type": "code",
   "execution_count": 8,
   "metadata": {
    "collapsed": false,
    "slideshow": {
     "slide_type": "fragment"
    }
   },
   "outputs": [
    {
     "data": {
      "text/plain": [
       "[(0, 1), (1, 7), (2, 4), (3, 5), (4, 63), (5, 4), (6, 35), (7, 32), (8, 21)]"
      ]
     },
     "execution_count": 8,
     "metadata": {},
     "output_type": "execute_result"
    }
   ],
   "source": [
    "a=[1, 7, 4, 5, 63, 4, 35, 32, 21]\n",
    "list(enumerate(a))"
   ]
  },
  {
   "cell_type": "code",
   "execution_count": 9,
   "metadata": {
    "collapsed": false,
    "slideshow": {
     "slide_type": "fragment"
    }
   },
   "outputs": [
    {
     "name": "stdout",
     "output_type": "stream",
     "text": [
      "at top 0 8\n",
      "0 4 8 | 63 32\n",
      "at top 0 3\n",
      "0 1 3 | 7 32\n",
      "at top 2 3\n",
      "2 2 3 | 4 32\n",
      "at top 3 3\n",
      "3 3 3 | 5 32\n",
      "at top 4 3\n"
     ]
    },
    {
     "data": {
      "text/plain": [
       "-1"
      ]
     },
     "execution_count": 9,
     "metadata": {},
     "output_type": "execute_result"
    }
   ],
   "source": [
    "binary_search(a, 32)#would go on infinitely but we have to terminate"
   ]
  },
  {
   "cell_type": "code",
   "execution_count": 10,
   "metadata": {
    "collapsed": false,
    "slideshow": {
     "slide_type": "slide"
    }
   },
   "outputs": [
    {
     "data": {
      "text/plain": [
       "[1, 4, 4, 5, 7, 21, 32, 35, 63]"
      ]
     },
     "execution_count": 10,
     "metadata": {},
     "output_type": "execute_result"
    }
   ],
   "source": [
    "a2=sorted(a)\n",
    "a2"
   ]
  },
  {
   "cell_type": "code",
   "execution_count": 11,
   "metadata": {
    "collapsed": false,
    "slideshow": {
     "slide_type": "fragment"
    }
   },
   "outputs": [
    {
     "name": "stdout",
     "output_type": "stream",
     "text": [
      "at top 0 8\n",
      "0 4 8 | 7 32\n",
      "at top 5 8\n",
      "5 6 8 | 32 32\n"
     ]
    },
    {
     "data": {
      "text/plain": [
       "6"
      ]
     },
     "execution_count": 11,
     "metadata": {},
     "output_type": "execute_result"
    }
   ],
   "source": [
    "binary_search(a2,32)"
   ]
  },
  {
   "cell_type": "markdown",
   "metadata": {
    "slideshow": {
     "slide_type": "slide"
    }
   },
   "source": [
    "### Software Design\n",
    "\n",
    "Desirables:\n",
    "\n",
    "- Documentation\n",
    "    - names (understandable names)\n",
    "    - pre+post conditions or requirements\n",
    "    \n",
    "- Maintainability\n",
    "    - Extensibility\n",
    "    - Modularity and Encapsulation\n",
    "    \n",
    "- Portability\n",
    "- Installability\n",
    "\n",
    "- Generality\n",
    "    - Data Abstraction (change types, change data structures)\n",
    "    - Functional Abstraction (the object model, overloading)\n",
    "    - Robustness\n",
    "        - Provability: Invariants, preconditions, postconditions\n",
    "        - User Proofing, Adversarial Inputs\n",
    "        \n",
    "- Efficiency\n",
    "    - Use of appropriate algorithms and data structures\n",
    "    - Optimization (but no premature optimization)"
   ]
  },
  {
   "cell_type": "markdown",
   "metadata": {
    "slideshow": {
     "slide_type": "slide"
    }
   },
   "source": [
    "### A Document for binary search\n",
    "\n",
    "What should it have?\n",
    "\n",
    "- That we are returning -1 when value is not in array (could have used None or False instead)\n",
    "- That we are returning the index, not the values\n",
    "- precondition that we have a sorted array\n",
    "\n",
    "```\n",
    "@pre da_array is sorted in ascending order\n",
    "@post for return value idx, da_array[idx]==needle if needle in da_array else -1\n",
    "```\n",
    "\n",
    "This means that whatever types you support in da_array must support < and ==.  But we can use it to write:\n",
    "\n",
    "```\n",
    "@pre if i < j then da_array[i] <= da_array[j] \n",
    "@post for return value idx, da_array[idx]==needle if needle in da_array else -1\n",
    "```\n",
    "\n",
    "In as much as you are using documentation to communicate, you can choose either."
   ]
  },
  {
   "cell_type": "markdown",
   "metadata": {
    "slideshow": {
     "slide_type": "slide"
    }
   },
   "source": [
    "Pre-conditions and post-conditions are a contract: you, the user dont violate the contract as a user of my search, i dont violate it as the search library writer.\n",
    "\n",
    "**Documentation is a contract between a user (client) and an implementor (library writer).**"
   ]
  },
  {
   "cell_type": "markdown",
   "metadata": {
    "slideshow": {
     "slide_type": "slide"
    }
   },
   "source": [
    "#### Even Better Document\n",
    "\n",
    "We must make ascending order clear. And we also want a guarantee on the runtime (the implementor could have written a linear search):\n",
    "\n",
    "```\n",
    "Searches an immutable array for a value using binary search\n",
    "@param[in] da_array: The immutable array to search\n",
    "@param[in] needle: The value to search for\n",
    "@pre da_array: The array is sorted in ascending order: for all i,j if i<j, a[i]<=a[j]\n",
    "Operates in O(lg(n)) ops\n",
    "@returns idx such that da_array[idx]==needle or (idx==-1 and there is no i for all i such that da_array[i]==needle)\n",
    "```\n",
    "\n",
    "What happens if multiple elements in the array have value `needle`? We could constrain this further, and specify it more precisely. The last piece of the documentation above simply says that you'll get one of those indices back... "
   ]
  },
  {
   "cell_type": "markdown",
   "metadata": {
    "slideshow": {
     "slide_type": "slide"
    }
   },
   "source": [
    "### Documentation should document Invariants\n",
    "\n",
    "An invariant is something that is true at some point in the code.\n",
    "\n",
    "Invariants and the contract are what we use to guide our implementation.\n",
    "\n",
    "Pre-conditions and post-conditions are special cases of invariants.\n",
    "\n",
    "**Pre's are true at function entry. They constrain the user.\n",
    "Post's are true at function exit. They constrain the implementation.**\n",
    "\n",
    "You can change implementations, stuff under the hood, etc, but once the software is in the wild **you cant change the pre-conditions and post-conditions**, since the client user is depending upon them.\n",
    "\n",
    "\n"
   ]
  },
  {
   "cell_type": "markdown",
   "metadata": {
    "slideshow": {
     "slide_type": "slide"
    }
   },
   "source": [
    "### How to Write Documentation\n",
    "\n",
    "But our documentation is not written in any coherent way which might help a client of our code use it. For that we ought to be systematically documenting our code. You can choose any convention you like, but the important thing is to be consistent in your codebase with it. Lets see how to write `binary_search` in a well documented format, which makes these invariances, along with the inputs and outputs of the code clear.\n",
    "\n",
    "Here I'll use the numpy conventions: https://github.com/numpy/numpy/blob/master/doc/HOWTO_DOCUMENT.rst.txt .\n",
    "\n",
    "Finally, remember that documentation is a letter to future you. Be nice and make it easy for that person."
   ]
  },
  {
   "cell_type": "markdown",
   "metadata": {
    "slideshow": {
     "slide_type": "slide"
    }
   },
   "source": [
    "### Binary Search, documented"
   ]
  },
  {
   "cell_type": "code",
   "execution_count": 12,
   "metadata": {
    "collapsed": true,
    "slideshow": {
     "slide_type": "fragment"
    }
   },
   "outputs": [],
   "source": [
    "def binary_search(da_array: list, needle, left:int=0, right:int=-1) -> int:\n",
    "    \"\"\"\n",
    "    An algorithm that operates in O(lg(n)) to search for an element\n",
    "    in an array sorted in ascending order.\n",
    "    \n",
    "    Parameters\n",
    "    ----------\n",
    "    da_array : list\n",
    "        a list of items sorted in non-descending order\n",
    "    needle: an item to find in the array; it may or may not\n",
    "        be in the array\n",
    "    left: int, optional\n",
    "        the left index in the array to search from. Default 0\n",
    "    right: int, optional\n",
    "        the right index in the array to search to. Default is -1\n",
    "        in which case we will use the end of the array `len(da_array) - 1`\n",
    "        \n",
    "    Returns\n",
    "    -------\n",
    "    index: int\n",
    "        an integer representing the index of `needle` if found, and -1\n",
    "        otherwise\n",
    "        \n",
    "    Notes\n",
    "    -----\n",
    "    PRE: `da_array` is sorted in non-decreasing order\n",
    "    POST: \n",
    "        - `da_array` is not changed by this function\n",
    "        - returns `index`=-1 if `needle` is not in `da_array`\n",
    "        - returns an int `index ` in [0:len(da_array)] if\n",
    "          `index` is in `da_array`\n",
    "    INVARIANTS:\n",
    "        - If `needle` in `da_array`, needle in `da_array[rangemin:rangemax]`\n",
    "          is a loop invariant in the while loop below.\n",
    "    \n",
    "    WARNINGS:\n",
    "        - If you provide an unsorted array this function is not guaranteed to terminate\n",
    "        - for multiple copies of a value in the array secrched for, the one returned is not guaranteed\n",
    "        - to be the smallest one.\n",
    "    \"\"\"\n",
    "    if left==0:\n",
    "        rangemin = 0\n",
    "    else:\n",
    "        rangemin = left\n",
    "    if right==-1:\n",
    "        rangemax=len(da_array) - 1\n",
    "    else:\n",
    "        rangemax=right\n",
    "    while True:\n",
    "        \"needle in da_array => needle in da_array[rangemin:rangemax]\"   \n",
    "        if rangemin >= rangemax:\n",
    "            index = -1\n",
    "            return index\n",
    "        midpoint = rangemin + (rangemax - rangemin)//2 \n",
    "        if da_array[midpoint] > needle:#lower part\n",
    "            rangemax = midpoint - 1\n",
    "        elif da_array[midpoint] < needle:\n",
    "            rangemin = midpoint + 1\n",
    "        else:\n",
    "            index = midpoint\n",
    "            return index"
   ]
  },
  {
   "cell_type": "code",
   "execution_count": 13,
   "metadata": {
    "collapsed": false,
    "slideshow": {
     "slide_type": "fragment"
    }
   },
   "outputs": [
    {
     "data": {
      "text/plain": [
       "{'da_array': list, 'left': int, 'return': int, 'right': int}"
      ]
     },
     "execution_count": 13,
     "metadata": {},
     "output_type": "execute_result"
    }
   ],
   "source": [
    "binary_search.__annotations__"
   ]
  },
  {
   "cell_type": "code",
   "execution_count": 14,
   "metadata": {
    "collapsed": true,
    "slideshow": {
     "slide_type": "slide"
    }
   },
   "outputs": [],
   "source": [
    "from pydoc import doc as pydoc"
   ]
  },
  {
   "cell_type": "code",
   "execution_count": 15,
   "metadata": {
    "collapsed": false,
    "slideshow": {
     "slide_type": "fragment"
    }
   },
   "outputs": [
    {
     "name": "stdout",
     "output_type": "stream",
     "text": [
      "Python Library Documentation: function binary_search in module __main__\n",
      "\n",
      "binary_search(da_array:list, needle, left:int=0, right:int=-1) -> int\n",
      "    An algorithm that operates in O(lg(n)) to search for an element\n",
      "    in an array sorted in ascending order.\n",
      "    \n",
      "    Parameters\n",
      "    ----------\n",
      "    da_array : list\n",
      "        a list of items sorted in non-descending order\n",
      "    needle: an item to find in the array; it may or may not\n",
      "        be in the array\n",
      "    left: int, optional\n",
      "        the left index in the array to search from. Default 0\n",
      "    right: int, optional\n",
      "        the right index in the array to search to. Default is -1\n",
      "        in which case we will use the end of the array `len(da_array) - 1`\n",
      "        \n",
      "    Returns\n",
      "    -------\n",
      "    index: int\n",
      "        an integer representing the index of `needle` if found, and -1\n",
      "        otherwise\n",
      "        \n",
      "    Notes\n",
      "    -----\n",
      "    PRE: `da_array` is sorted in non-decreasing order\n",
      "    POST: \n",
      "        - `da_array` is not changed by this function\n",
      "        - returns `index`=-1 if `needle` is not in `da_array`\n",
      "        - returns an int `index ` in [0:len(da_array)] if\n",
      "          `index` is in `da_array`\n",
      "    INVARIANTS:\n",
      "        - If `needle` in `da_array`, needle in `da_array[rangemin:rangemax]`\n",
      "          is a loop invariant in the while loop below.\n",
      "    \n",
      "    WARNINGS:\n",
      "        - If you provide an unsorted array this function is not guaranteed to terminate\n",
      "        - for multiple copies of a value in the array secrched for, the one returned is not guaranteed\n",
      "        - to be the smallest one.\n"
     ]
    }
   ],
   "source": [
    "pydoc(binary_search)"
   ]
  },
  {
   "cell_type": "markdown",
   "metadata": {
    "slideshow": {
     "slide_type": "slide"
    }
   },
   "source": [
    "### Testing and Doctests\n",
    "\n",
    "While developing our algorithm, it is not a bad idea to use assert to make sure that our loop-invariant is true. Such asserts could help us catch bugs. But because the test for belonging is linear in the size of the array you will want to remove it afterwords.\n",
    "\n",
    "Similarly you might want to check that the sortedness precondition is met so that mistakes in testing data dont set your code into an infinite loop. Note that this changes the performance characteristics so this should not be in the final\n",
    "\n",
    "The post-conditions are what the clients of your code see. These are typically handled as **Unit Tests**, of which doctests are a special kind which document the interface of the function by example."
   ]
  },
  {
   "cell_type": "markdown",
   "metadata": {
    "slideshow": {
     "slide_type": "slide"
    }
   },
   "source": [
    "#### Assertions are the workhorse of testing"
   ]
  },
  {
   "cell_type": "code",
   "execution_count": 16,
   "metadata": {
    "collapsed": false,
    "slideshow": {
     "slide_type": "fragment"
    }
   },
   "outputs": [
    {
     "ename": "AssertionError",
     "evalue": "this is not true",
     "output_type": "error",
     "traceback": [
      "\u001b[0;31m---------------------------------------------------------------------------\u001b[0m",
      "\u001b[0;31mAssertionError\u001b[0m                            Traceback (most recent call last)",
      "\u001b[0;32m<ipython-input-16-b4d2ef0b435f>\u001b[0m in \u001b[0;36m<module>\u001b[0;34m()\u001b[0m\n\u001b[1;32m      1\u001b[0m \u001b[0mtest_list\u001b[0m\u001b[0;34m=\u001b[0m\u001b[0;34m[\u001b[0m\u001b[0;36m1\u001b[0m\u001b[0;34m,\u001b[0m\u001b[0;36m3\u001b[0m\u001b[0;34m,\u001b[0m\u001b[0;36m4\u001b[0m\u001b[0;34m,\u001b[0m\u001b[0;36m5\u001b[0m\u001b[0;34m,\u001b[0m\u001b[0;36m6\u001b[0m\u001b[0;34m,\u001b[0m\u001b[0;36m8\u001b[0m\u001b[0;34m,\u001b[0m\u001b[0;36m9\u001b[0m\u001b[0;34m]\u001b[0m\u001b[0;34m\u001b[0m\u001b[0m\n\u001b[0;32m----> 2\u001b[0;31m \u001b[0;32massert\u001b[0m \u001b[0mbinary_search\u001b[0m\u001b[0;34m(\u001b[0m\u001b[0mtest_list\u001b[0m\u001b[0;34m,\u001b[0m\u001b[0;36m4\u001b[0m\u001b[0;34m)\u001b[0m\u001b[0;34m==\u001b[0m\u001b[0;36m3\u001b[0m\u001b[0;34m,\u001b[0m \u001b[0;34m\"this is not true\"\u001b[0m\u001b[0;34m\u001b[0m\u001b[0m\n\u001b[0m",
      "\u001b[0;31mAssertionError\u001b[0m: this is not true"
     ]
    }
   ],
   "source": [
    "test_list=[1,3,4,5,6,8,9]\n",
    "assert binary_search(test_list,4)==3, \"this is not true\""
   ]
  },
  {
   "cell_type": "code",
   "execution_count": 17,
   "metadata": {
    "collapsed": true,
    "slideshow": {
     "slide_type": "slide"
    }
   },
   "outputs": [],
   "source": [
    "def binary_search(da_array: list, needle, left:int=0, right:int=-1) -> int:\n",
    "    \"\"\"\n",
    "    An algorithm that operates in O(lg(n)) to search for an element\n",
    "    in an array sorted in ascending order.\n",
    "    \n",
    "    Parameters\n",
    "    ----------\n",
    "    da_array : list\n",
    "        a list of \"comparable\"items sorted in non-descending order\n",
    "    needle: an item to find in the array; it may or may not\n",
    "        be in the array\n",
    "    left: int, optional\n",
    "        the left index in the array to search from. Default 0\n",
    "    right: int, optional\n",
    "        the right index in the array to search to. Default is -1\n",
    "        in which case we will use the end of the array `len(da_array) - 1`\n",
    "        \n",
    "    Returns\n",
    "    -------\n",
    "    index: int\n",
    "        an integer representing the index of `needle` if found, and -1\n",
    "        otherwise\n",
    "        \n",
    "    Notes\n",
    "    -----\n",
    "    PRE: `da_array` is sorted in non-decreasing order (thus items in\n",
    "        `da_array` must be comparable: implement < and ==)\n",
    "    POST: \n",
    "        - `da_array` is not changed by this function (immutable)\n",
    "        - returns `index`=-1 if `needle` is not in `da_array`\n",
    "        - returns an int `index ` in [0:len(da_array)] if\n",
    "          `index` is in `da_array`\n",
    "    INVARIANTS:\n",
    "        - If `needle` in `da_array`, needle in `da_array[rangemin:rangemax]`\n",
    "          is a loop invariant in the while loop below.\n",
    "    WARNINGS:\n",
    "        - If you provide an unsorted array this function is not guaranteed to terminate\n",
    "        - for multiple copies of a value in the arrar secrched for, the one returned is not guaranteed\n",
    "        - to be the smallest one.\n",
    "        \n",
    "    Examples\n",
    "    --------\n",
    "    >>> input = list(range(10))\n",
    "    >>> binary_search(input, 5)\n",
    "    5\n",
    "    >>> binary_search(input, 4.5)\n",
    "    -1\n",
    "    >>> binary_search(input, 10)\n",
    "    -1\n",
    "    >>> binary_search([5], 5)\n",
    "    0\n",
    "    >>> binary_search([5], 4)\n",
    "    -1\n",
    "    >>> import numpy as np\n",
    "    >>> binary_search([1,2,np.inf], 2)\n",
    "    1\n",
    "    >>> binary_search([1,2,np.inf], np.inf)\n",
    "    2\n",
    "    \"\"\"\n",
    "    if left==0:\n",
    "        rangemin = 0\n",
    "    else:\n",
    "        rangemin = left\n",
    "    if right==-1:\n",
    "        rangemax=len(da_array) - 1\n",
    "    else:\n",
    "        rangemax=right\n",
    "    while True:\n",
    "        \"needle in da_array => needle in da_array[rangemin:rangemax]\"   \n",
    "        if rangemin > rangemax:\n",
    "            index = -1\n",
    "            return index\n",
    "        #If rangemin and rangemax are both very high we do not want overflow,\n",
    "        #so get the midpoint like this:\n",
    "        midpoint = rangemin + (rangemax - rangemin)//2\n",
    "        if da_array[midpoint] > needle:#lower part\n",
    "            rangemax = midpoint - 1\n",
    "        elif da_array[midpoint] < needle:\n",
    "            rangemin = midpoint + 1\n",
    "        else:\n",
    "            index = midpoint\n",
    "            return index"
   ]
  },
  {
   "cell_type": "code",
   "execution_count": 18,
   "metadata": {
    "collapsed": false,
    "slideshow": {
     "slide_type": "slide"
    }
   },
   "outputs": [
    {
     "name": "stdout",
     "output_type": "stream",
     "text": [
      "Finding tests in NoName\n",
      "Trying:\n",
      "    input = list(range(10))\n",
      "Expecting nothing\n",
      "ok\n",
      "Trying:\n",
      "    binary_search(input, 5)\n",
      "Expecting:\n",
      "    5\n",
      "ok\n",
      "Trying:\n",
      "    binary_search(input, 4.5)\n",
      "Expecting:\n",
      "    -1\n",
      "ok\n",
      "Trying:\n",
      "    binary_search(input, 10)\n",
      "Expecting:\n",
      "    -1\n",
      "ok\n",
      "Trying:\n",
      "    binary_search([5], 5)\n",
      "Expecting:\n",
      "    0\n",
      "ok\n",
      "Trying:\n",
      "    binary_search([5], 4)\n",
      "Expecting:\n",
      "    -1\n",
      "ok\n",
      "Trying:\n",
      "    import numpy as np\n",
      "Expecting nothing\n",
      "ok\n",
      "Trying:\n",
      "    binary_search([1,2,np.inf], 2)\n",
      "Expecting:\n",
      "    1\n",
      "ok\n",
      "Trying:\n",
      "    binary_search([1,2,np.inf], np.inf)\n",
      "Expecting:\n",
      "    2\n",
      "ok\n"
     ]
    }
   ],
   "source": [
    "from doctest import run_docstring_examples as dtest\n",
    "dtest(binary_search, globals(), verbose=True)"
   ]
  },
  {
   "cell_type": "markdown",
   "metadata": {
    "slideshow": {
     "slide_type": "slide"
    }
   },
   "source": [
    "### What's happened to our issues from before?\n",
    "\n",
    "- What if the value is not there in the array? What if it is there multiple times? what are we returning (why the -1). Are we consistent in our returning?\n",
    "\n",
    "We return -1 if the element is not in the array. If it is there multiple times, we will return one of them: it is not defined which. We are consistent by always returning an int, choosing one which cannot be an index.\n",
    "\n",
    "- What if rangemax is so high as to create overflow: \n",
    "\n",
    "We fixed it by using the difference and have documented it in the algorithm\n",
    "\n",
    "\n",
    "- what types are we supporting? . \n",
    "\n",
    "It seems that as long as we have a notion of equals `==`, and a notion of `<` to support sorting we are set. We should document this."
   ]
  },
  {
   "cell_type": "markdown",
   "metadata": {
    "slideshow": {
     "slide_type": "slide"
    }
   },
   "source": [
    "- what happens if we have a NaN in our array? Infty?\n",
    "\n",
    "If our preconditions are violated by the user, we can do anything. Doing it nicely might be costly. so we wont.\n",
    "\n",
    "\n",
    "- what if da_array was not an array?\n",
    "\n",
    "The user violated the pre-conditions. Anything could happen. We could check for a list\n",
    "but then that would hurt a special class which implemented the python sequence protocol. Later in the semester we'll see how we might remedy this if we wanted using ABC's. Its still not advised tho.\n",
    "\n",
    "- What happens if array is not sorted: \n",
    "\n",
    "The user violated the pre-conditions. We could return an error, violate post conditions. If we sort it we'd violate the o(lg(n)) notion. (fixing it seems dubious). Can we check if its sorted? This is naively O(n) and breaks our performance specifications. We can create a guard to terminate the array at more than n iterations for the infinite case or let the user have enough rope to hang themselves"
   ]
  },
  {
   "cell_type": "code",
   "execution_count": 19,
   "metadata": {
    "collapsed": false,
    "slideshow": {
     "slide_type": "slide"
    }
   },
   "outputs": [
    {
     "name": "stdout",
     "output_type": "stream",
     "text": [
      "Overwriting binsearch.py\n"
     ]
    }
   ],
   "source": [
    "%%file binsearch.py\n",
    "def binary_search(da_array: list, needle, left:int=0, right:int=-1) -> int:\n",
    "    \"\"\"\n",
    "    An algorithm that operates in O(lg(n)) to search for an element\n",
    "    in an array sorted in ascending order.\n",
    "    \n",
    "    Parameters\n",
    "    ----------\n",
    "    da_array : list\n",
    "        a list of \"comparable\"items sorted in non-descending order\n",
    "    needle: an item to find in the array; it may or may not\n",
    "        be in the array\n",
    "    left: int, optional\n",
    "        the left index in the array to search from. Default 0\n",
    "    right: int, optional\n",
    "        the right index in the array to search to. Default is -1\n",
    "        in which case we will use the end of the array `len(da_array) - 1`\n",
    "        \n",
    "    Returns\n",
    "    -------\n",
    "    index: int\n",
    "        an integer representing the index of `needle` if found, and -1\n",
    "        otherwise\n",
    "        \n",
    "    Notes\n",
    "    -----\n",
    "    PRE: `da_array` is sorted in non-decreasing order (thus items in\n",
    "        `da_array` must be comparable: implement < and ==)\n",
    "    POST: \n",
    "        - `da_array` is not changed by this function (immutable)\n",
    "        - returns `index`=-1 if `needle` is not in `da_array`\n",
    "        - returns an int `index ` in [0:len(da_array)] if\n",
    "          `index` is in `da_array`\n",
    "    INVARIANTS:\n",
    "        - If `needle` in `da_array`, needle in `da_array[rangemin:rangemax]`\n",
    "          is a loop invariant in the while loop below.\n",
    "    WARNINGS:\n",
    "        - If you provide an unsorted array this function is not guaranteed to terminate\n",
    "        - for multiple copies of a value in the arrar secrched for, the one returned is not guaranteed\n",
    "        - to be the smallest one.\n",
    "        \n",
    "    Examples\n",
    "    --------\n",
    "    >>> input = list(range(10))\n",
    "    >>> binary_search(input, 5)\n",
    "    5\n",
    "    >>> binary_search(input, 4.5)\n",
    "    -1\n",
    "    >>> binary_search(input, 10)\n",
    "    -1\n",
    "    >>> binary_search([5], 5)\n",
    "    0\n",
    "    >>> binary_search([5], 4)\n",
    "    -1\n",
    "    >>> import numpy as np\n",
    "    >>> binary_search([1,2,np.inf], 2)\n",
    "    1\n",
    "    >>> binary_search([1,2,np.inf], np.inf)\n",
    "    2\n",
    "    >>> binary_search(input, 5, 1,3)\n",
    "    -1\n",
    "    >>> binary_search(input, 2, 1,3)\n",
    "    2\n",
    "    >>> binary_search(input, 2, 3, 1)\n",
    "    -1\n",
    "    >>> binary_search(input, 2, 2, 2)\n",
    "    2\n",
    "    >>> binary_search(input, 5, 2, 2)\n",
    "    -1\n",
    "    \"\"\"\n",
    "    if left==0:\n",
    "        rangemin = 0\n",
    "    else:\n",
    "        rangemin = left\n",
    "    if right==-1:\n",
    "        rangemax=len(da_array) - 1\n",
    "    else:\n",
    "        rangemax=right\n",
    "    while True:\n",
    "        \"needle in da_array => needle in da_array[rangemin:rangemax]\"   \n",
    "        if rangemin > rangemax:\n",
    "            index = -1\n",
    "            return index\n",
    "        #If rangemin and rangemax are both very high we do not want overflow,\n",
    "        #so get the midpoint like this:\n",
    "        midpoint = rangemin + (rangemax - rangemin)//2\n",
    "        if da_array[midpoint] > needle:#lower part\n",
    "            rangemax = midpoint - 1\n",
    "        elif da_array[midpoint] < needle:\n",
    "            rangemin = midpoint + 1\n",
    "        else:\n",
    "            index = midpoint\n",
    "            return index\n",
    "\n"
   ]
  },
  {
   "cell_type": "code",
   "execution_count": 20,
   "metadata": {
    "collapsed": false,
    "slideshow": {
     "slide_type": "slide"
    }
   },
   "outputs": [
    {
     "name": "stdout",
     "output_type": "stream",
     "text": [
      "Trying:\n",
      "    input = list(range(10))\n",
      "Expecting nothing\n",
      "ok\n",
      "Trying:\n",
      "    binary_search(input, 5)\n",
      "Expecting:\n",
      "    5\n",
      "ok\n",
      "Trying:\n",
      "    binary_search(input, 4.5)\n",
      "Expecting:\n",
      "    -1\n",
      "ok\n",
      "Trying:\n",
      "    binary_search(input, 10)\n",
      "Expecting:\n",
      "    -1\n",
      "ok\n",
      "Trying:\n",
      "    binary_search([5], 5)\n",
      "Expecting:\n",
      "    0\n",
      "ok\n",
      "Trying:\n",
      "    binary_search([5], 4)\n",
      "Expecting:\n",
      "    -1\n",
      "ok\n",
      "Trying:\n",
      "    import numpy as np\n",
      "Expecting nothing\n",
      "ok\n",
      "Trying:\n",
      "    binary_search([1,2,np.inf], 2)\n",
      "Expecting:\n",
      "    1\n",
      "ok\n",
      "Trying:\n",
      "    binary_search([1,2,np.inf], np.inf)\n",
      "Expecting:\n",
      "    2\n",
      "ok\n",
      "Trying:\n",
      "    binary_search(input, 5, 1,3)\n",
      "Expecting:\n",
      "    -1\n",
      "ok\n",
      "Trying:\n",
      "    binary_search(input, 2, 1,3)\n",
      "Expecting:\n",
      "    2\n",
      "ok\n",
      "Trying:\n",
      "    binary_search(input, 2, 3, 1)\n",
      "Expecting:\n",
      "    -1\n",
      "ok\n",
      "Trying:\n",
      "    binary_search(input, 2, 2, 2)\n",
      "Expecting:\n",
      "    2\n",
      "ok\n",
      "Trying:\n",
      "    binary_search(input, 5, 2, 2)\n",
      "Expecting:\n",
      "    -1\n",
      "ok\n",
      "1 items had no tests:\n",
      "    binsearch\n",
      "1 items passed all tests:\n",
      "  14 tests in binsearch.binary_search\n",
      "14 tests in 2 items.\n",
      "14 passed and 0 failed.\n",
      "Test passed.\n"
     ]
    }
   ],
   "source": [
    "!/anaconda/envs/py35/bin/python3 -m doctest -v binsearch.py"
   ]
  },
  {
   "cell_type": "code",
   "execution_count": 21,
   "metadata": {
    "collapsed": false,
    "slideshow": {
     "slide_type": "slide"
    }
   },
   "outputs": [
    {
     "name": "stdout",
     "output_type": "stream",
     "text": [
      "Help on module binsearch:\r\n",
      "\r\n",
      "N\bNA\bAM\bME\bE\r\n",
      "    binsearch\r\n",
      "\r\n",
      "F\bFU\bUN\bNC\bCT\bTI\bIO\bON\bNS\bS\r\n",
      "    b\bbi\bin\bna\bar\bry\by_\b_s\bse\bea\bar\brc\bch\bh(da_array:list, needle, left:int=0, right:int=-1) -> int\r\n",
      "        An algorithm that operates in O(lg(n)) to search for an element\r\n",
      "        in an array sorted in ascending order.\r\n",
      "        \r\n",
      "        Parameters\r\n",
      "        ----------\r\n",
      "        da_array : list\r\n",
      "            a list of \"comparable\"items sorted in non-descending order\r\n",
      "        needle: an item to find in the array; it may or may not\r\n",
      "            be in the array\r\n",
      "        left: int, optional\r\n",
      "            the left index in the array to search from. Default 0\r\n",
      "        right: int, optional\r\n",
      "            the right index in the array to search to. Default is -1\r\n",
      "            in which case we will use the end of the array `len(da_array) - 1`\r\n",
      "            \r\n",
      "        Returns\r\n",
      "        -------\r\n",
      "        index: int\r\n",
      "            an integer representing the index of `needle` if found, and -1\r\n",
      "            otherwise\r\n",
      "            \r\n",
      "        Notes\r\n",
      "        -----\r\n",
      "        PRE: `da_array` is sorted in non-decreasing order (thus items in\r\n",
      "            `da_array` must be comparable: implement < and ==)\r\n",
      "        POST: \r\n",
      "            - `da_array` is not changed by this function (immutable)\r\n",
      "            - returns `index`=-1 if `needle` is not in `da_array`\r\n",
      "            - returns an int `index ` in [0:len(da_array)] if\r\n",
      "              `index` is in `da_array`\r\n",
      "        INVARIANTS:\r\n",
      "            - If `needle` in `da_array`, needle in `da_array[rangemin:rangemax]`\r\n",
      "              is a loop invariant in the while loop below.\r\n",
      "        WARNINGS:\r\n",
      "            - If you provide an unsorted array this function is not guaranteed to terminate\r\n",
      "            - for multiple copies of a value in the arrar secrched for, the one returned is not guaranteed\r\n",
      "            - to be the smallest one.\r\n",
      "            \r\n",
      "        Examples\r\n",
      "        --------\r\n",
      "        >>> input = list(range(10))\r\n",
      "        >>> binary_search(input, 5)\r\n",
      "        5\r\n",
      "        >>> binary_search(input, 4.5)\r\n",
      "        -1\r\n",
      "        >>> binary_search(input, 10)\r\n",
      "        -1\r\n",
      "        >>> binary_search([5], 5)\r\n",
      "        0\r\n",
      "        >>> binary_search([5], 4)\r\n",
      "        -1\r\n",
      "        >>> import numpy as np\r\n",
      "        >>> binary_search([1,2,np.inf], 2)\r\n",
      "        1\r\n",
      "        >>> binary_search([1,2,np.inf], np.inf)\r\n",
      "        2\r\n",
      "        >>> binary_search(input, 5, 1,3)\r\n",
      "        -1\r\n",
      "        >>> binary_search(input, 2, 1,3)\r\n",
      "        2\r\n",
      "        >>> binary_search(input, 2, 3, 1)\r\n",
      "        -1\r\n",
      "        >>> binary_search(input, 2, 2, 2)\r\n",
      "        2\r\n",
      "        >>> binary_search(input, 5, 2, 2)\r\n",
      "        -1\r\n",
      "\r\n",
      "F\bFI\bIL\bLE\bE\r\n",
      "    /Users/rahul/Projects/private/cs207/FALL/lectures/binsearch.py\r\n",
      "\r\n",
      "\r\n"
     ]
    }
   ],
   "source": [
    "!/anaconda/envs/py35/bin/pydoc3 binsearch"
   ]
  },
  {
   "cell_type": "markdown",
   "metadata": {
    "slideshow": {
     "slide_type": "slide"
    }
   },
   "source": [
    "### Different kinds of tests\n",
    "\n",
    "- **acceptance tests** verify that a program meets a customer's expectations. In a sense these are a test of the *interface* to the customer: does the program do everything you promised the customer it would do? You might use test harnesses for cli programs and selenium for this. The test of a library interface could also be thought of as an acceptance test\n",
    "\n",
    "- **unit tests** are tests which test a unit of the program, for use by another unit. These could test the interface for a client, but must also be testing internal functions which you want to use.\n",
    "\n",
    "Exploratory testing, regression testing, and integration testing are done in both of these categories, with the latter trying to combine layers and subsystems, not necessarily at the level of an entire application. \n",
    "\n",
    "One can also performance test, random and exploratorily test, and stress test a system (to create adversarial situations)."
   ]
  },
  {
   "cell_type": "markdown",
   "metadata": {
    "slideshow": {
     "slide_type": "slide"
    }
   },
   "source": [
    "## Testing of a program\n",
    "\n",
    "Test as you write your program.\n",
    "\n",
    "This is so important that I repeat it.\n",
    "\n",
    "**Test as you go**.\n",
    "\n",
    "You will cry otherwise. I have in the past.\n",
    "\n",
    "From The Practice of Programming:\n",
    "\n",
    "\n",
    ">The  effort  of  testing as  you  go  is  minimal  and  pays off  handsomely.  Thinking about testing as you  write a program will  lead to better code, because that's when you know  best  what the code should do.  If  instead  you  wait  until  something breaks, you will  probably  have forgotten how  the code works.  Working under  pressure, you  will need  to figure it  out again, which  takes time, and  the fixes  will  be  less  thorough  and more fragile because your refreshed understanding is  likely to be incomplete. "
   ]
  }
 ],
 "metadata": {
  "anaconda-cloud": {},
  "celltoolbar": "Slideshow",
  "kernelspec": {
   "display_name": "Python [py35]",
   "language": "python",
   "name": "Python [py35]"
  },
  "language_info": {
   "codemirror_mode": {
    "name": "ipython",
    "version": 3
   },
   "file_extension": ".py",
   "mimetype": "text/x-python",
   "name": "python",
   "nbconvert_exporter": "python",
   "pygments_lexer": "ipython3",
   "version": "3.5.2"
  }
 },
 "nbformat": 4,
 "nbformat_minor": 0
}
