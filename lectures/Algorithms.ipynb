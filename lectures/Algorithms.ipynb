{
 "cells": [
  {
   "cell_type": "markdown",
   "metadata": {
    "slideshow": {
     "slide_type": "slide"
    }
   },
   "source": [
    "# The Basics of algorithms"
   ]
  },
  {
   "cell_type": "code",
   "execution_count": 1,
   "metadata": {
    "collapsed": true,
    "slideshow": {
     "slide_type": "skip"
    }
   },
   "outputs": [],
   "source": [
    "from IPython.display import HTML\n",
    "import sys"
   ]
  },
  {
   "cell_type": "markdown",
   "metadata": {
    "slideshow": {
     "slide_type": "slide"
    }
   },
   "source": [
    "A language has 3 parts:\n",
    "\n",
    "- expressions and statements: how to structure simple computations\n",
    "- means of combination: how to structure complex computations\n",
    "- means of abstraction: how to build complex units"
   ]
  },
  {
   "cell_type": "markdown",
   "metadata": {
    "slideshow": {
     "slide_type": "slide"
    }
   },
   "source": [
    "## Means of combination: the evaluation of functions"
   ]
  },
  {
   "cell_type": "code",
   "execution_count": 2,
   "metadata": {
    "collapsed": false,
    "slideshow": {
     "slide_type": "slide"
    }
   },
   "outputs": [
    {
     "data": {
      "text/plain": [
       "1"
      ]
     },
     "execution_count": 2,
     "metadata": {},
     "output_type": "execute_result"
    }
   ],
   "source": [
    "#nested call expressions\n",
    "max(min(1,2), min(100,-3))"
   ]
  },
  {
   "cell_type": "markdown",
   "metadata": {
    "slideshow": {
     "slide_type": "fragment"
    }
   },
   "source": [
    "To evaluate any expression:\n",
    "\n",
    "1. evaluate the operator and operand subexpressions\n",
    "2. Apply the function that is the value of the operator subexpression to the arguments that are the values of the operand subexpressions.\n",
    "\n",
    "The first rule means that we must first evaluate other sub-expressions. Thus the evaluation procedure is recursive in nature.\n",
    "\n",
    "We'll have much more about the complex evaluation of the combinations of functions later..."
   ]
  },
  {
   "cell_type": "markdown",
   "metadata": {
    "slideshow": {
     "slide_type": "slide"
    }
   },
   "source": [
    "\n",
    "## Evaluating a process\n",
    "\n",
    "Notice that a function is a pattern for the local progress of some process. Given a set of functions making up a process, we'd like to be able to characterize the overall behaviour of a process. This is a difficult analysis to do in general.\n",
    "\n",
    "But its important, as it tells us the performance of our code: which functions ought we speed up, and which we do not need to bother with. To build ourselves up for this, we should learn how to analyse how a function behaves in its usage of computational resources, both space and time."
   ]
  },
  {
   "cell_type": "markdown",
   "metadata": {
    "slideshow": {
     "slide_type": "slide"
    }
   },
   "source": [
    "### Recursive functions\n",
    "\n",
    "We start with trying to understand recursive functions.\n",
    "\n",
    "Lets look at the factorial function"
   ]
  },
  {
   "cell_type": "code",
   "execution_count": 3,
   "metadata": {
    "collapsed": true,
    "slideshow": {
     "slide_type": "fragment"
    }
   },
   "outputs": [],
   "source": [
    "def factorial_recursive(n):#notice NO local variables\n",
    "    if n==1:\n",
    "        return 1\n",
    "    return n*factorial_recursive(n-1)"
   ]
  },
  {
   "cell_type": "code",
   "execution_count": 4,
   "metadata": {
    "collapsed": false,
    "slideshow": {
     "slide_type": "fragment"
    }
   },
   "outputs": [
    {
     "data": {
      "text/plain": [
       "6"
      ]
     },
     "execution_count": 4,
     "metadata": {},
     "output_type": "execute_result"
    }
   ],
   "source": [
    "factorial_recursive(3)"
   ]
  },
  {
   "cell_type": "markdown",
   "metadata": {
    "slideshow": {
     "slide_type": "slide"
    }
   },
   "source": [
    "from SICP:\n",
    ">Recursive functions can rely more heavily on the interpreter itself, by storing the state of the computation as part of the expression tree and environment, rather than explicitly using names in the local frame. For this reason, recursive functions are often easier to define, because we do not need to try to determine the local state that must be maintained across iterations. On the other hand, learning to recognize the computational processes evolved by recursive functions can require some practice."
   ]
  },
  {
   "cell_type": "code",
   "execution_count": 2,
   "metadata": {
    "collapsed": false,
    "slideshow": {
     "slide_type": "slide"
    }
   },
   "outputs": [
    {
     "data": {
      "text/html": [
       "<iframe width=\"800\" height=\"500\" frameborder=\"0\" src=\"http://pythontutor.com/iframe-embed.html#code=def+factorial_recursive(n%29%3A%0A++++if+n%3D%3D1%3A%0A++++++++return+1%0A++++return+n*factorial_recursive(n-1%29%0A%09++++%0Aa+%3D+factorial_recursive(3%29%0Aprint(a%29&origin=opt-frontend.js&cumulative=false&heapPrimitives=false&textReferences=false&py=3&rawInputLstJSON=%5B%5D&curInstr=0&codeDivWidth=350&codeDivHeight=400\"> </iframe>"
      ],
      "text/plain": [
       "<IPython.core.display.HTML object>"
      ]
     },
     "execution_count": 2,
     "metadata": {},
     "output_type": "execute_result"
    }
   ],
   "source": [
    "from IPython.display import HTML\n",
    "HTML('<iframe width=\"800\" height=\"500\" frameborder=\"0\" src=\"http://pythontutor.com/iframe-embed.html#code=def+factorial_recursive(n%29%3A%0A++++if+n%3D%3D1%3A%0A++++++++return+1%0A++++return+n*factorial_recursive(n-1%29%0A%09++++%0Aa+%3D+factorial_recursive(3%29%0Aprint(a%29&origin=opt-frontend.js&cumulative=false&heapPrimitives=false&textReferences=false&py=3&rawInputLstJSON=%5B%5D&curInstr=0&codeDivWidth=350&codeDivHeight=400\"> </iframe>')"
   ]
  },
  {
   "cell_type": "markdown",
   "metadata": {
    "slideshow": {
     "slide_type": "slide"
    }
   },
   "source": [
    "#### Factorial, iteratively\n",
    "\n",
    "...or when, one thing follows another...In this case we explicitly use state in the local frame."
   ]
  },
  {
   "cell_type": "code",
   "execution_count": 6,
   "metadata": {
    "collapsed": true,
    "slideshow": {
     "slide_type": "fragment"
    }
   },
   "outputs": [],
   "source": [
    "def factorial_iterative(n):\n",
    "        total, k = 1, 1\n",
    "        while k <= n:\n",
    "            total = total * k\n",
    "            k = k + 1\n",
    "        return total"
   ]
  },
  {
   "cell_type": "code",
   "execution_count": 7,
   "metadata": {
    "collapsed": false,
    "slideshow": {
     "slide_type": "fragment"
    }
   },
   "outputs": [
    {
     "data": {
      "text/plain": [
       "6"
      ]
     },
     "execution_count": 7,
     "metadata": {},
     "output_type": "execute_result"
    }
   ],
   "source": [
    "factorial_iterative(3)"
   ]
  },
  {
   "cell_type": "code",
   "execution_count": 3,
   "metadata": {
    "collapsed": false,
    "slideshow": {
     "slide_type": "slide"
    }
   },
   "outputs": [
    {
     "data": {
      "text/html": [
       "<iframe width=\"800\" height=\"500\" frameborder=\"0\" src=\"http://pythontutor.com/iframe-embed.html#code=def+factorial_iterative(n%29%3A%0A++++++++total,+k+%3D+1,+1%0A++++++++while+k+%3C%3D+n%3A%0A++++++++++++total,+k+%3D+total+*+k,+k+%2B+1%0A++++++++return+total%0A++++++++%0Afactorial_iterative(3%29&origin=opt-frontend.js&cumulative=true&heapPrimitives=false&textReferences=false&py=3&rawInputLstJSON=%5B%5D&curInstr=0&codeDivWidth=350&codeDivHeight=400\"> </iframe>"
      ],
      "text/plain": [
       "<IPython.core.display.HTML object>"
      ]
     },
     "execution_count": 3,
     "metadata": {},
     "output_type": "execute_result"
    }
   ],
   "source": [
    "HTML('<iframe width=\"800\" height=\"500\" frameborder=\"0\" src=\"http://pythontutor.com/iframe-embed.html#code=def+factorial_iterative(n%29%3A%0A++++++++total,+k+%3D+1,+1%0A++++++++while+k+%3C%3D+n%3A%0A++++++++++++total,+k+%3D+total+*+k,+k+%2B+1%0A++++++++return+total%0A++++++++%0Afactorial_iterative(3%29&origin=opt-frontend.js&cumulative=true&heapPrimitives=false&textReferences=false&py=3&rawInputLstJSON=%5B%5D&curInstr=0&codeDivWidth=350&codeDivHeight=400\"> </iframe>')"
   ]
  },
  {
   "cell_type": "markdown",
   "metadata": {
    "slideshow": {
     "slide_type": "slide"
    }
   },
   "source": [
    "#### The Call Stack, time, and space\n",
    "\n",
    "In the recursive call, you create a new frame for each function call. Thus, while you dont keep track of local state, you must expend resources to maintain an entire frame stack.\n",
    "\n",
    "The stack answers the question: how does a computer pick up where it left off before a function call. There is a frame for each function call as we have seen, and storage for local variables. Calling a function pushes on a frame at the top of the **call stack**, while returning from a function deletes the frame. \n",
    "Wikipedia has a fairly good article on this:\n",
    "\n",
    "https://en.wikipedia.org/wiki/Call_stack\n",
    "\n",
    "If we try and add more than `sys.getrecursionlimit()` calls on the stack, we'll get a \"Stack Overflow\" as a \"RuntimeError\""
   ]
  },
  {
   "cell_type": "code",
   "execution_count": 9,
   "metadata": {
    "collapsed": false,
    "slideshow": {
     "slide_type": "fragment"
    }
   },
   "outputs": [
    {
     "data": {
      "text/plain": [
       "1000"
      ]
     },
     "execution_count": 9,
     "metadata": {},
     "output_type": "execute_result"
    }
   ],
   "source": [
    "sys.getrecursionlimit()"
   ]
  },
  {
   "cell_type": "code",
   "execution_count": 10,
   "metadata": {
    "collapsed": false,
    "slideshow": {
     "slide_type": "fragment"
    }
   },
   "outputs": [
    {
     "data": {
      "text/plain": [
       "405450"
      ]
     },
     "execution_count": 10,
     "metadata": {},
     "output_type": "execute_result"
    }
   ],
   "source": [
    "def something_recursive(n):#notice NO local variables\n",
    "    if n==1:\n",
    "        return 1\n",
    "    return n + something_recursive(n-1)\n",
    "something_recursive(900)"
   ]
  },
  {
   "cell_type": "raw",
   "metadata": {
    "collapsed": false,
    "slideshow": {
     "slide_type": "fragment"
    }
   },
   "source": [
    "something_recursive(1000)#try in your own notebook"
   ]
  },
  {
   "cell_type": "markdown",
   "metadata": {
    "slideshow": {
     "slide_type": "slide"
    }
   },
   "source": [
    ">a function is a pattern for the local progress of some process\n"
   ]
  },
  {
   "cell_type": "markdown",
   "metadata": {
    "slideshow": {
     "slide_type": "slide"
    }
   },
   "source": [
    "### The Model of the computer and O(n)\n",
    "\n",
    "We ought to formalize the compute and space needs of an algorithm. Consider the iterative factorial finder (1 or 2). There is a loop over n numbers. Informally, if multiplication is an O(1) operation: ie each multiplication takes constant time, you have to do n of these, so then finding the factorial is an O(n) operation.\n",
    "\n",
    "The $O(n)$ notation means: if an algorithm is $O(f(n))$ in time, its running time is proportional to **at most** $f(n)$. Thus it is an **upper-bound** we are talking about here. \n",
    "\n",
    "But we must make a model to agree on the complexity of our basic operations. \n",
    "\n",
    "The model we will use is whats known as the RAM model. We abstract the details of the machine away, and assume a single process not interrupted by context switching or similar\n",
    "\n",
    "- each simple operation (+, -, \\*, =, if, func call) are charged 1\n",
    "- loops are considered to be O(iterations) where iterations may depend on n\n",
    "- each memory access takes O(1), with infinite memory, and no worry about disk.\n",
    "\n",
    "We'll worry about things like cache or disk later..."
   ]
  },
  {
   "cell_type": "markdown",
   "metadata": {
    "slideshow": {
     "slide_type": "slide"
    }
   },
   "source": [
    "\n",
    "Here is a table of the most important cases, from the Practice of Programming:\n",
    "\n",
    "![](oofn.png)\n",
    "\n"
   ]
  },
  {
   "cell_type": "markdown",
   "metadata": {
    "slideshow": {
     "slide_type": "slide"
    }
   },
   "source": [
    "Formally(from skiena):\n",
    "\n",
    ">$f(n) = O(g(n))$ means c•g(n) is an upper bound on f(n). Thus there exists some constant c such that f(n) is always  $< c•g(n)$, for all $n > n_0$.\n",
    "\n",
    ">f(n) = $\\Omega(g(n))$ means c•g(n) is a lower bound on f(n). Thus there exists some constant c such that f(n) is always $>c•g(n)$, for all $n > n_0$.\n",
    "\n",
    ">f(n) = $\\Theta(g(n))$ means $c_{1}•g(n)$ is an upper bound on f(n) and $c_{2}•g(n)$ is a lower bound on f(n), for all $n>n_0$. Thus there exist constants $c_1$ and $c_2$ such that $f(n)<c_{1}•g(n)$ and $f(n)>c_{2}•g(n)$. This means that g(n) provides a nice, tight bound on f(n).\n",
    "\n",
    "![](compnot.png)"
   ]
  },
  {
   "cell_type": "markdown",
   "metadata": {
    "slideshow": {
     "slide_type": "slide"
    }
   },
   "source": [
    "### Recurrences for the Time Complexity\n",
    "\n",
    "In general, we can formalize this process in a recursive function by a recurrence relationship:\n",
    "\n",
    "Say the base case takes time a,\n",
    "\n",
    "and then assume $T(n) = T(n-1) +b(n)$\n",
    "\n",
    "Then unroll this and we see that the complexity, defined by the **asymptotic time for the algorithm to complete, as $n \\rightarrow \\infty$, is :\n",
    "\n",
    "$$b(n) + b(n-1) + b(n-2) +.....+ b(1) + a$$\n",
    "\n",
    "The answer to $T(n)$ is generally complex, but if all the b's were equal to a constant, call it b, then we'd have:\n",
    "\n",
    "$$T(n) = b \\times n + a$$ and thus say that the algorithm is of order $O(n$)."
   ]
  },
  {
   "cell_type": "markdown",
   "metadata": {
    "slideshow": {
     "slide_type": "fragment"
    }
   },
   "source": [
    "#### Factorial\n",
    "\n",
    "So if multiplication costs b and the return 1 costs a, then in both the iterative and recursive versions, $n!$ takes a cost of $b*n + a$ and thus is O(n)"
   ]
  },
  {
   "cell_type": "markdown",
   "metadata": {
    "slideshow": {
     "slide_type": "slide"
    }
   },
   "source": [
    "### Space Complexity\n",
    "\n",
    "**Space Complexity is asking how much memory you will need.**\n",
    "\n",
    "What about the space complexity? The iterative algorithms dont create n frames on the stack, rather two local variables, and are thus O(1) space complexity.\n",
    "\n",
    "The recursive one take n stacks, thus cost `n*something` in space, and and are thus O(n) space complexity. "
   ]
  },
  {
   "cell_type": "markdown",
   "metadata": {
    "slideshow": {
     "slide_type": "slide"
    }
   },
   "source": [
    "### Sequential Search: Best Case, Worst Case, and Average case\n",
    "\n",
    "![](bestworstaverage.png)\n",
    "\n",
    "(from skiena)\n",
    "\n",
    "Consider sequential search through an array or list (there is a difference between the two we will come to later). Currently consider a python list, and the attempt to find a value is done in python by going one by one through the list.\n"
   ]
  },
  {
   "cell_type": "code",
   "execution_count": 27,
   "metadata": {
    "collapsed": false,
    "slideshow": {
     "slide_type": "fragment"
    }
   },
   "outputs": [
    {
     "data": {
      "text/plain": [
       "4"
      ]
     },
     "execution_count": 27,
     "metadata": {},
     "output_type": "execute_result"
    }
   ],
   "source": [
    "mylist = [1,5,2,7,9,3,6,9,9]\n",
    "mylist.index(9)"
   ]
  },
  {
   "cell_type": "markdown",
   "metadata": {
    "slideshow": {
     "slide_type": "slide"
    }
   },
   "source": [
    "The best case scenario is that the item you are searching for is the first thing in the list. Then, search is O(1). The worst case scenario is that it is at the end of the list. Then we are talking about O(n). On average, since there is no reason to suspect any ordering, the probability that the item is found at any index is equal. Then:\n",
    "\n",
    "$$E(t) = \\sum_i p_i t_i = \\frac{1}{n}\\sum_i i = \\frac{n+1}{2}$$\n",
    "\n",
    "This is order O(n).\n",
    "\n",
    "Clearly the worse case and average behavior are the ones to know.\n",
    "\n",
    "What about space complexity? If you were already given the array, then u dont have to set up any intermediate data structures, so its O(1). This is the assumption you should make when you quote the complexity.\n",
    "\n",
    "On the other hand if you must load from file to memory, you will use up O(n) of memory. In the real world, when you are writing the whole program, you should know that your memory usage will rise linearly with the size of your dataset."
   ]
  },
  {
   "cell_type": "code",
   "execution_count": 23,
   "metadata": {
    "collapsed": false,
    "slideshow": {
     "slide_type": "slide"
    }
   },
   "outputs": [],
   "source": [
    "import random, time\n",
    "trys=20\n",
    "inputs = [10, 100, 1000, 10000, 100000, 1000000]\n",
    "outputs = []\n",
    "for n in inputs:\n",
    "    listwithints=list(range(n))\n",
    "    aver = 0.\n",
    "    for tryit in range(trys):\n",
    "        int_to_search = random.randrange(n)\n",
    "        start = time.time()\n",
    "        listwithints.index(int_to_search)#python index uses linear search\n",
    "        elapsed = time.time() - start\n",
    "        aver = aver + elapsed\n",
    "    outputs.append(float(aver)/trys)\n",
    "\n"
   ]
  },
  {
   "cell_type": "code",
   "execution_count": 26,
   "metadata": {
    "collapsed": false,
    "slideshow": {
     "slide_type": "slide"
    }
   },
   "outputs": [
    {
     "data": {
      "image/png": "[encoded data removed]",
      "text/plain": [
       "<matplotlib.figure.Figure at 0x109e46390>"
      ]
     },
     "metadata": {},
     "output_type": "display_data"
    }
   ],
   "source": [
    "%matplotlib inline\n",
    "import matplotlib.pyplot as plt\n",
    "plt.plot(inputs, outputs, 'o-')\n",
    "plt.xscale('log')\n",
    "plt.yscale('log')"
   ]
  },
  {
   "cell_type": "markdown",
   "metadata": {
    "slideshow": {
     "slide_type": "slide"
    }
   },
   "source": [
    "### Selection Sort\n",
    "\n",
    "(see animation at http://www.cs.armstrong.edu/liang/animation/web/SelectionSort.html)\n",
    "\n",
    "Basic Idea: swap the current element with the smallest in the remaining part of the array to the right.."
   ]
  },
  {
   "cell_type": "code",
   "execution_count": 37,
   "metadata": {
    "collapsed": true,
    "slideshow": {
     "slide_type": "fragment"
    }
   },
   "outputs": [],
   "source": [
    "def selection_sort(A):\n",
    "    for i in range(len(A)):\n",
    "        print(\"<<<\",A)\n",
    "        min_index = i\n",
    "        for j in range(i+1, len(A)):\n",
    "            if A[j] < A[min_index]:\n",
    "                min_index = j\n",
    "        A[i], A[min_index] = A[min_index], A[i]\n",
    "        print(\">>>\",A)"
   ]
  },
  {
   "cell_type": "code",
   "execution_count": 38,
   "metadata": {
    "collapsed": false,
    "slideshow": {
     "slide_type": "slide"
    }
   },
   "outputs": [
    {
     "name": "stdout",
     "output_type": "stream",
     "text": [
      "<<< [5, 2, 1, 3, 8, 6, 9]\n",
      ">>> [1, 2, 5, 3, 8, 6, 9]\n",
      "<<< [1, 2, 5, 3, 8, 6, 9]\n",
      ">>> [1, 2, 5, 3, 8, 6, 9]\n",
      "<<< [1, 2, 5, 3, 8, 6, 9]\n",
      ">>> [1, 2, 3, 5, 8, 6, 9]\n",
      "<<< [1, 2, 3, 5, 8, 6, 9]\n",
      ">>> [1, 2, 3, 5, 8, 6, 9]\n",
      "<<< [1, 2, 3, 5, 8, 6, 9]\n",
      ">>> [1, 2, 3, 5, 6, 8, 9]\n",
      "<<< [1, 2, 3, 5, 6, 8, 9]\n",
      ">>> [1, 2, 3, 5, 6, 8, 9]\n",
      "<<< [1, 2, 3, 5, 6, 8, 9]\n",
      ">>> [1, 2, 3, 5, 6, 8, 9]\n",
      "[1, 2, 3, 5, 6, 8, 9]\n"
     ]
    }
   ],
   "source": [
    "A=[5,2,1,3,8,6,9]\n",
    "selection_sort(A)\n",
    "print(A)"
   ]
  },
  {
   "cell_type": "markdown",
   "metadata": {
    "slideshow": {
     "slide_type": "slide"
    }
   },
   "source": [
    "The outer loop goes around $n$ times, the inner $n-i-1$ times. Thus the running time for an input of size n is:\n",
    "\n",
    "$$T(n) = \\sum_{i=0}^{n-1} n -i -1 $$\n",
    "\n",
    "$$ T(n) = n(n-1) - \\frac{n(n-1)}2 - (n-1) \\sim O(n^2)$$\n",
    "\n",
    "Note that as we must still test all elements in the inner loop, the worst case, average, and best case complexities are all the same.\n",
    "\n",
    "The space complexity again depends on whether you were given the array or not: if so, it is O(1)."
   ]
  },
  {
   "cell_type": "markdown",
   "metadata": {
    "slideshow": {
     "slide_type": "slide"
    }
   },
   "source": [
    "Another way to think about this:\n",
    "\n",
    "We have n terms in the summation for the total time, each of which is bounded by n-1. So $T(n) < n(n-1) = O(n^{2})$\n",
    "\n",
    "We have n/2 terms each which are bigger than n/2. So we have $T(n) > (n/2)^2 = \\Omega(n^2)$\n",
    "\n",
    "Together, $T(n) = \\Theta(n^{2}) $, which if you see the definition is better than just providing an upper bound. \n",
    "\n",
    "But often an upper bound, in a worst case scenario, ie worst case O, is what you want to make a decision for what algorithm to use."
   ]
  },
  {
   "cell_type": "code",
   "execution_count": 20,
   "metadata": {
    "collapsed": false,
    "slideshow": {
     "slide_type": "fragment"
    }
   },
   "outputs": [
    {
     "name": "stdout",
     "output_type": "stream",
     "text": [
      "CPU times: user 985 µs, sys: 1 µs, total: 986 µs\n",
      "Wall time: 989 µs\n"
     ]
    },
    {
     "data": {
      "text/plain": [
       "10000"
      ]
     },
     "execution_count": 20,
     "metadata": {},
     "output_type": "execute_result"
    }
   ],
   "source": [
    "%%time\n",
    "linear_search(l2, 10000)"
   ]
  },
  {
   "cell_type": "markdown",
   "metadata": {
    "slideshow": {
     "slide_type": "slide"
    }
   },
   "source": [
    "### Binary Search\n",
    "\n",
    "How can we increase this speed? If we are given sorted data we can use **binary search** to do this in O(lg(n)) time.\n",
    "\n",
    "The idea is simple: look at the middle of the list and compare with desired value. If value is higher its on the right side and we look there, and so on. This is an example of what is called a divide and conquer algorithm.\n",
    "\n",
    "Animation: http://www.cs.armstrong.edu/liang/animation/web/BinarySearch.html"
   ]
  },
  {
   "cell_type": "code",
   "execution_count": 9,
   "metadata": {
    "collapsed": true,
    "slideshow": {
     "slide_type": "slide"
    }
   },
   "outputs": [],
   "source": [
    "#there are problems in this code. But, later\n",
    "def binary_search_simple(da_array, needle):\n",
    "    rangemin = 0\n",
    "    rangemax = len(da_array) - 1\n",
    "    while True:\n",
    "        midpoint = (rangemin+rangemax)//2 #whats the problem with this\n",
    "        if da_array[midpoint] > needle:#lower part\n",
    "            rangemax = midpoint - 1\n",
    "        elif da_array[midpoint] < needle:\n",
    "            rangemin = midpoint + 1\n",
    "        else:\n",
    "            return midpoint"
   ]
  },
  {
   "cell_type": "code",
   "execution_count": 5,
   "metadata": {
    "collapsed": true
   },
   "outputs": [],
   "source": [
    "l2 = range(10000000)"
   ]
  },
  {
   "cell_type": "code",
   "execution_count": 6,
   "metadata": {
    "collapsed": true
   },
   "outputs": [],
   "source": [
    "def linear_search(da_array, needle):\n",
    "    for i, item in enumerate(da_array):\n",
    "        if item==needle:\n",
    "            return i\n",
    "    return -1"
   ]
  },
  {
   "cell_type": "code",
   "execution_count": 7,
   "metadata": {
    "collapsed": false
   },
   "outputs": [
    {
     "name": "stdout",
     "output_type": "stream",
     "text": [
      "CPU times: user 951 µs, sys: 8 µs, total: 959 µs\n",
      "Wall time: 961 µs\n"
     ]
    },
    {
     "data": {
      "text/plain": [
       "10000"
      ]
     },
     "execution_count": 7,
     "metadata": {},
     "output_type": "execute_result"
    }
   ],
   "source": [
    "%%time\n",
    "linear_search(l2, 10000)"
   ]
  },
  {
   "cell_type": "code",
   "execution_count": 10,
   "metadata": {
    "collapsed": false,
    "slideshow": {
     "slide_type": "fragment"
    }
   },
   "outputs": [
    {
     "name": "stdout",
     "output_type": "stream",
     "text": [
      "CPU times: user 15 µs, sys: 0 ns, total: 15 µs\n",
      "Wall time: 18.1 µs\n"
     ]
    },
    {
     "data": {
      "text/plain": [
       "10000"
      ]
     },
     "execution_count": 10,
     "metadata": {},
     "output_type": "execute_result"
    }
   ],
   "source": [
    "%%time\n",
    "binary_search_simple(l2, 10000)"
   ]
  },
  {
   "cell_type": "markdown",
   "metadata": {
    "slideshow": {
     "slide_type": "slide"
    }
   },
   "source": [
    "Binary search order of operation can be understood by setting up a simple recurrence:\n",
    "\n",
    "T(n) = T(n/2) + c\n",
    "\n",
    "T(n) = lg(n)*c + d \n",
    "\n",
    "which means that Binary search is O(lg(n)) in time. What about space? Once the sorted array is allocated there is no more allocation needed...we just go down the array.\n",
    "\n",
    "The best case performance is O(1), if we were looking for the median or something close to it.\n",
    "\n",
    "Binary search can be used in many different places. Examples:\n",
    "\n",
    "- square root finding bisection method, starting with l=1, and r = n\n",
    "- generalizes to finding roots of any equation, given a l,r where f(l) < 0 and f(r) > 0\n",
    "- we can use git bisect to find the commit that introduced a bug"
   ]
  }
 ],
 "metadata": {
  "celltoolbar": "Slideshow",
  "kernelspec": {
   "display_name": "Python [py35]",
   "language": "python",
   "name": "Python [py35]"
  },
  "language_info": {
   "codemirror_mode": {
    "name": "ipython",
    "version": 3
   },
   "file_extension": ".py",
   "mimetype": "text/x-python",
   "name": "python",
   "nbconvert_exporter": "python",
   "pygments_lexer": "ipython3",
   "version": "3.5.2"
  }
 },
 "nbformat": 4,
 "nbformat_minor": 0
}
