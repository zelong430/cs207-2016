{
 "cells": [
  {
   "cell_type": "markdown",
   "metadata": {},
   "source": [
    "# Coroutines, part 2\n",
    "\n",
    "We saw this code last time, this was the version in which we handle `ValueError`: the exception handling code runs and advances us to the next yield."
   ]
  },
  {
   "cell_type": "code",
   "execution_count": 1,
   "metadata": {
    "collapsed": true
   },
   "outputs": [],
   "source": [
    "def averager2(): \n",
    "    total = 0.0\n",
    "    count = 0 \n",
    "    average = None \n",
    "    while True:\n",
    "        try:\n",
    "            term = yield average\n",
    "        except ValueError:\n",
    "            term=0\n",
    "        total += term\n",
    "        count += 1\n",
    "        average = total/count"
   ]
  },
  {
   "cell_type": "code",
   "execution_count": 2,
   "metadata": {
    "collapsed": false
   },
   "outputs": [
    {
     "data": {
      "text/plain": [
       "0.0"
      ]
     },
     "execution_count": 2,
     "metadata": {},
     "output_type": "execute_result"
    }
   ],
   "source": [
    "av=averager2()\n",
    "next(av)\n",
    "av.throw(ValueError(\"yes\"))"
   ]
  },
  {
   "cell_type": "code",
   "execution_count": 3,
   "metadata": {
    "collapsed": false
   },
   "outputs": [
    {
     "data": {
      "text/plain": [
       "2.5"
      ]
     },
     "execution_count": 3,
     "metadata": {},
     "output_type": "execute_result"
    }
   ],
   "source": [
    "av.send(5)"
   ]
  },
  {
   "cell_type": "code",
   "execution_count": 4,
   "metadata": {
    "collapsed": false
   },
   "outputs": [],
   "source": [
    "av.close()"
   ]
  },
  {
   "cell_type": "markdown",
   "metadata": {},
   "source": [
    "#### Returning a result\n",
    "\n",
    "Notice here that we dont yield a running average, instead doing it as the return. So now we must create a termination condition. as you can see, if we send in a None, we achieve this by breaking the loop."
   ]
  },
  {
   "cell_type": "code",
   "execution_count": 5,
   "metadata": {
    "collapsed": true
   },
   "outputs": [],
   "source": [
    "from collections import namedtuple\n",
    "Result = namedtuple('Result', 'count average')\n",
    "def averager(): \n",
    "    total = 0.0\n",
    "    count = 0 \n",
    "    average = None \n",
    "    while True:\n",
    "        term = yield\n",
    "        if term is None:\n",
    "            break\n",
    "        total += term\n",
    "        count += 1\n",
    "        average = total/count\n",
    "    return Result(count, average)"
   ]
  },
  {
   "cell_type": "code",
   "execution_count": 6,
   "metadata": {
    "collapsed": true
   },
   "outputs": [],
   "source": [
    "av=averager()"
   ]
  },
  {
   "cell_type": "code",
   "execution_count": 7,
   "metadata": {
    "collapsed": true
   },
   "outputs": [],
   "source": [
    "next(av)\n",
    "av.send(5)"
   ]
  },
  {
   "cell_type": "code",
   "execution_count": 8,
   "metadata": {
    "collapsed": true
   },
   "outputs": [],
   "source": [
    "av.send(3)"
   ]
  },
  {
   "cell_type": "code",
   "execution_count": 9,
   "metadata": {
    "collapsed": false
   },
   "outputs": [
    {
     "ename": "StopIteration",
     "evalue": "Result(count=2, average=4.0)",
     "output_type": "error",
     "traceback": [
      "\u001b[0;31m---------------------------------------------------------------------------\u001b[0m",
      "\u001b[0;31mStopIteration\u001b[0m                             Traceback (most recent call last)",
      "\u001b[0;32m<ipython-input-9-1f3b47f68500>\u001b[0m in \u001b[0;36m<module>\u001b[0;34m()\u001b[0m\n\u001b[0;32m----> 1\u001b[0;31m \u001b[0mnext\u001b[0m\u001b[0;34m(\u001b[0m\u001b[0mav\u001b[0m\u001b[0;34m)\u001b[0m\u001b[0;31m#seems to be same as av.send(None)\u001b[0m\u001b[0;34m\u001b[0m\u001b[0m\n\u001b[0m",
      "\u001b[0;31mStopIteration\u001b[0m: Result(count=2, average=4.0)"
     ]
    }
   ],
   "source": [
    "next(av)#seems to be same as av.send(None)"
   ]
  },
  {
   "cell_type": "markdown",
   "metadata": {},
   "source": [
    "It might seem strange that the return value of the coroutine is sent back on the exception. The reason for this is that we want to preserve the semantics of generator objects which come to us from a totally different use case of iteration: the raising of `StopIteration` when exhausted.\n",
    "\n",
    "This will be important a bit later when we see `yield from`. `StopIteration` is handled transparently in loops; similarly, in `yield from` this also happens: indeed we consume the `StopIteration`, and the value sent on it: the result, becomes the ultimate value of the `yield from` expression itself."
   ]
  },
  {
   "cell_type": "markdown",
   "metadata": {},
   "source": [
    "### How Python generators work\n",
    "\n",
    "\n",
    "#### Frames are allocated on the heap!\n",
    "\n",
    "The standard Python interpreter is written in C. The C function that executes a Python function is called, mellifluously, PyEval_EvalFrameEx. It takes a Python stack frame object and evaluates Python bytecode in the context of the frame.\n",
    "\n",
    "![](http://aosabook.org/en/500L/crawler-images/function-calls.png)\n",
    "\n",
    "But the Python stack frames it manipulates are on the heap. Among other surprises, this means a Python stack frame can outlive its function call. To see this interactively, save the current frame from within bar"
   ]
  },
  {
   "cell_type": "code",
   "execution_count": 10,
   "metadata": {
    "collapsed": false
   },
   "outputs": [],
   "source": [
    "import inspect\n",
    "def foo():\n",
    "    bar()\n",
    "    \n",
    "def bar():\n",
    "    global frame\n",
    "    frame = inspect.currentframe()"
   ]
  },
  {
   "cell_type": "code",
   "execution_count": 11,
   "metadata": {
    "collapsed": false
   },
   "outputs": [],
   "source": [
    "foo()"
   ]
  },
  {
   "cell_type": "code",
   "execution_count": 12,
   "metadata": {
    "collapsed": false
   },
   "outputs": [
    {
     "data": {
      "text/plain": [
       "'bar'"
      ]
     },
     "execution_count": 12,
     "metadata": {},
     "output_type": "execute_result"
    }
   ],
   "source": [
    "frame.f_code.co_name"
   ]
  },
  {
   "cell_type": "markdown",
   "metadata": {},
   "source": [
    "For kicks, we can see the frame hierarchy:"
   ]
  },
  {
   "cell_type": "code",
   "execution_count": 13,
   "metadata": {
    "collapsed": false
   },
   "outputs": [
    {
     "data": {
      "text/plain": [
       "'foo'"
      ]
     },
     "execution_count": 13,
     "metadata": {},
     "output_type": "execute_result"
    }
   ],
   "source": [
    "caller_frame = frame.f_back\n",
    "caller_frame.f_code.co_name"
   ]
  },
  {
   "cell_type": "markdown",
   "metadata": {},
   "source": [
    "Now, to understand how generators work, we bring back some code to inspect stuff from before..."
   ]
  },
  {
   "cell_type": "code",
   "execution_count": 14,
   "metadata": {
    "collapsed": true
   },
   "outputs": [],
   "source": [
    "\n",
    "#from https://bitbucket.org/yaniv_aknin/pynards/src/c4b61c7a1798766affb49bfba86e485012af6d16/common/blog.py?at=default&fileviewer=file-view-default\n",
    "import dis\n",
    "import types\n",
    "\n",
    "def get_code_object(obj, compilation_mode=\"exec\"):\n",
    "    if isinstance(obj, types.CodeType):\n",
    "        return obj\n",
    "    elif isinstance(obj, types.FrameType):\n",
    "        return obj.f_code\n",
    "    elif isinstance(obj, types.FunctionType):\n",
    "        return obj.__code__\n",
    "    elif isinstance(obj, str):\n",
    "        try:\n",
    "            return compile(obj, \"<string>\", compilation_mode)\n",
    "        except SyntaxError as error:\n",
    "            raise ValueError(\"syntax error in passed string\") from error\n",
    "    else:\n",
    "        raise TypeError(\"get_code_object() can not handle '%s' objects\" %\n",
    "                        (type(obj).__name__,))\n",
    "\n",
    "def diss(obj, mode=\"exec\", recurse=False):\n",
    "    _visit(obj, dis.dis, mode, recurse)\n",
    "\n",
    "def ssc(obj, mode=\"exec\", recurse=False):\n",
    "    _visit(obj, dis.show_code, mode, recurse)\n",
    "\n",
    "def _visit(obj, visitor, mode=\"exec\", recurse=False):\n",
    "    obj = get_code_object(obj, mode)\n",
    "    visitor(obj)\n",
    "    if recurse:\n",
    "        for constant in obj.co_consts:\n",
    "            if type(constant) is type(obj):\n",
    "                print()\n",
    "                print('recursing into %r:' % (constant,))\n",
    "                _visit(constant, visitor, mode, recurse)\n"
   ]
  },
  {
   "cell_type": "markdown",
   "metadata": {},
   "source": [
    "Lets write a generator to inspect..."
   ]
  },
  {
   "cell_type": "code",
   "execution_count": 127,
   "metadata": {
    "collapsed": true
   },
   "outputs": [],
   "source": [
    "def gen():\n",
    "    k=1\n",
    "    result = yield 1\n",
    "    result2 = yield 2\n",
    "    return 'done'"
   ]
  },
  {
   "cell_type": "code",
   "execution_count": 128,
   "metadata": {
    "collapsed": false
   },
   "outputs": [
    {
     "name": "stdout",
     "output_type": "stream",
     "text": [
      "Name:              gen\n",
      "Filename:          <ipython-input-127-ab93e57304d7>\n",
      "Argument count:    0\n",
      "Kw-only arguments: 0\n",
      "Number of locals:  3\n",
      "Stack size:        1\n",
      "Flags:             OPTIMIZED, NEWLOCALS, GENERATOR, NOFREE\n",
      "Constants:\n",
      "   0: None\n",
      "   1: 1\n",
      "   2: 2\n",
      "   3: 'done'\n",
      "Variable names:\n",
      "   0: k\n",
      "   1: result\n",
      "   2: result2\n"
     ]
    }
   ],
   "source": [
    "ssc(gen)"
   ]
  },
  {
   "cell_type": "markdown",
   "metadata": {},
   "source": [
    "setting the `GENERATOR` flag means that python remembers to create a generator, not a function."
   ]
  },
  {
   "cell_type": "code",
   "execution_count": 129,
   "metadata": {
    "collapsed": false
   },
   "outputs": [
    {
     "name": "stdout",
     "output_type": "stream",
     "text": [
      "  2           0 LOAD_CONST               1 (1)\n",
      "              3 STORE_FAST               0 (k)\n",
      "\n",
      "  3           6 LOAD_CONST               1 (1)\n",
      "              9 YIELD_VALUE\n",
      "             10 STORE_FAST               1 (result)\n",
      "\n",
      "  4          13 LOAD_CONST               2 (2)\n",
      "             16 YIELD_VALUE\n",
      "             17 STORE_FAST               2 (result2)\n",
      "\n",
      "  5          20 LOAD_CONST               3 ('done')\n",
      "             23 RETURN_VALUE\n"
     ]
    }
   ],
   "source": [
    "diss(gen)"
   ]
  },
  {
   "cell_type": "code",
   "execution_count": 130,
   "metadata": {
    "collapsed": true
   },
   "outputs": [],
   "source": [
    "g=gen()"
   ]
  },
  {
   "cell_type": "code",
   "execution_count": 131,
   "metadata": {
    "collapsed": false
   },
   "outputs": [
    {
     "data": {
      "text/plain": [
       "['__class__',\n",
       " '__del__',\n",
       " '__delattr__',\n",
       " '__dir__',\n",
       " '__doc__',\n",
       " '__eq__',\n",
       " '__format__',\n",
       " '__ge__',\n",
       " '__getattribute__',\n",
       " '__gt__',\n",
       " '__hash__',\n",
       " '__init__',\n",
       " '__iter__',\n",
       " '__le__',\n",
       " '__lt__',\n",
       " '__name__',\n",
       " '__ne__',\n",
       " '__new__',\n",
       " '__next__',\n",
       " '__qualname__',\n",
       " '__reduce__',\n",
       " '__reduce_ex__',\n",
       " '__repr__',\n",
       " '__setattr__',\n",
       " '__sizeof__',\n",
       " '__str__',\n",
       " '__subclasshook__',\n",
       " 'close',\n",
       " 'gi_code',\n",
       " 'gi_frame',\n",
       " 'gi_running',\n",
       " 'gi_yieldfrom',\n",
       " 'send',\n",
       " 'throw']"
      ]
     },
     "execution_count": 131,
     "metadata": {},
     "output_type": "execute_result"
    }
   ],
   "source": [
    "dir(g)"
   ]
  },
  {
   "cell_type": "markdown",
   "metadata": {},
   "source": [
    "There is no `g.__code__` like in functions, but there is s `g.gi_code`."
   ]
  },
  {
   "cell_type": "code",
   "execution_count": 132,
   "metadata": {
    "collapsed": false
   },
   "outputs": [
    {
     "data": {
      "text/plain": [
       "'gen'"
      ]
     },
     "execution_count": 132,
     "metadata": {},
     "output_type": "execute_result"
    }
   ],
   "source": [
    "g.gi_code.co_name"
   ]
  },
  {
   "cell_type": "code",
   "execution_count": 133,
   "metadata": {
    "collapsed": false
   },
   "outputs": [
    {
     "data": {
      "text/plain": [
       "<frame at 0x103fab7d8>"
      ]
     },
     "execution_count": 133,
     "metadata": {},
     "output_type": "execute_result"
    }
   ],
   "source": [
    "g.gi_frame"
   ]
  },
  {
   "cell_type": "code",
   "execution_count": 136,
   "metadata": {
    "collapsed": false
   },
   "outputs": [
    {
     "name": "stdout",
     "output_type": "stream",
     "text": [
      "  2           0 LOAD_CONST               1 (1)\n",
      "              3 STORE_FAST               0 (k)\n",
      "\n",
      "  3           6 LOAD_CONST               1 (1)\n",
      "              9 YIELD_VALUE\n",
      "             10 STORE_FAST               1 (result)\n",
      "\n",
      "  4          13 LOAD_CONST               2 (2)\n",
      "             16 YIELD_VALUE\n",
      "             17 STORE_FAST               2 (result2)\n",
      "\n",
      "  5          20 LOAD_CONST               3 ('done')\n",
      "             23 RETURN_VALUE\n"
     ]
    }
   ],
   "source": [
    "diss(g.gi_frame.f_code)"
   ]
  },
  {
   "cell_type": "markdown",
   "metadata": {},
   "source": [
    "All generators point to the same code object. But each has its own `PyFrameObject`, a frame on the call stack, except that this frame is NOT on any call stack, but rather, in heap memory, waiting to be used.\n",
    "\n",
    "![](http://aosabook.org/en/500L/crawler-images/generator.png)\n",
    "\n",
    "Look at `f_lasti`, which is the last instruction in the bytecode. This is not particular to generators. Generator isnt started yet."
   ]
  },
  {
   "cell_type": "code",
   "execution_count": 24,
   "metadata": {
    "collapsed": false
   },
   "outputs": [
    {
     "data": {
      "text/plain": [
       "(-1, False)"
      ]
     },
     "execution_count": 24,
     "metadata": {},
     "output_type": "execute_result"
    }
   ],
   "source": [
    "g.gi_frame.f_lasti, g.gi_running"
   ]
  },
  {
   "cell_type": "code",
   "execution_count": 25,
   "metadata": {
    "collapsed": false
   },
   "outputs": [
    {
     "data": {
      "text/plain": [
       "1"
      ]
     },
     "execution_count": 25,
     "metadata": {},
     "output_type": "execute_result"
    }
   ],
   "source": [
    "next(g)"
   ]
  },
  {
   "cell_type": "code",
   "execution_count": 26,
   "metadata": {
    "collapsed": false
   },
   "outputs": [
    {
     "data": {
      "text/plain": [
       "(3, False)"
      ]
     },
     "execution_count": 26,
     "metadata": {},
     "output_type": "execute_result"
    }
   ],
   "source": [
    "g.gi_frame.f_lasti, g.gi_running"
   ]
  },
  {
   "cell_type": "markdown",
   "metadata": {},
   "source": [
    "Because the generators stack frame was actually never put on the call stack, it can be resumed at any time, and by any caller. Its not stuck to the FILO nature of regular function execution.\n",
    "\n"
   ]
  },
  {
   "cell_type": "code",
   "execution_count": 27,
   "metadata": {
    "collapsed": false
   },
   "outputs": [
    {
     "name": "stdout",
     "output_type": "stream",
     "text": [
      "result of yield a\n"
     ]
    },
    {
     "data": {
      "text/plain": [
       "2"
      ]
     },
     "execution_count": 27,
     "metadata": {},
     "output_type": "execute_result"
    }
   ],
   "source": [
    "g.send('a')"
   ]
  },
  {
   "cell_type": "code",
   "execution_count": 28,
   "metadata": {
    "collapsed": false
   },
   "outputs": [
    {
     "data": {
      "text/plain": [
       "{'result': 'a'}"
      ]
     },
     "execution_count": 28,
     "metadata": {},
     "output_type": "execute_result"
    }
   ],
   "source": [
    "g.gi_frame.f_locals"
   ]
  },
  {
   "cell_type": "code",
   "execution_count": 29,
   "metadata": {
    "collapsed": false
   },
   "outputs": [
    {
     "name": "stdout",
     "output_type": "stream",
     "text": [
      "result of 2nd yield b\n"
     ]
    },
    {
     "ename": "StopIteration",
     "evalue": "done",
     "output_type": "error",
     "traceback": [
      "\u001b[0;31m---------------------------------------------------------------------------\u001b[0m",
      "\u001b[0;31mStopIteration\u001b[0m                             Traceback (most recent call last)",
      "\u001b[0;32m<ipython-input-29-1a1000f83860>\u001b[0m in \u001b[0;36m<module>\u001b[0;34m()\u001b[0m\n\u001b[0;32m----> 1\u001b[0;31m \u001b[0mg\u001b[0m\u001b[0;34m.\u001b[0m\u001b[0msend\u001b[0m\u001b[0;34m(\u001b[0m\u001b[0;34m'b'\u001b[0m\u001b[0;34m)\u001b[0m\u001b[0;34m\u001b[0m\u001b[0m\n\u001b[0m",
      "\u001b[0;31mStopIteration\u001b[0m: done"
     ]
    }
   ],
   "source": [
    "g.send('b')"
   ]
  },
  {
   "cell_type": "markdown",
   "metadata": {},
   "source": [
    "So, lets recap\n",
    "\n",
    "- a generator can pause at a yield\n",
    "- can be resumed with a new value thrown in\n",
    "- can return a value.\n"
   ]
  },
  {
   "cell_type": "markdown",
   "metadata": {},
   "source": [
    "### `yield from`\n",
    "\n",
    "We saw it first some time back when we used it in a generator:"
   ]
  },
  {
   "cell_type": "code",
   "execution_count": 137,
   "metadata": {
    "collapsed": true
   },
   "outputs": [],
   "source": [
    "def gen2():\n",
    "    yield from 'AB'\n",
    "    yield from range(3)"
   ]
  },
  {
   "cell_type": "code",
   "execution_count": 138,
   "metadata": {
    "collapsed": false
   },
   "outputs": [
    {
     "data": {
      "text/plain": [
       "['A', 'B', 0, 1, 2]"
      ]
     },
     "execution_count": 138,
     "metadata": {},
     "output_type": "execute_result"
    }
   ],
   "source": [
    "list(gen2())"
   ]
  },
  {
   "cell_type": "markdown",
   "metadata": {},
   "source": [
    "The critical point about `yield from` is this: **when a generator `delegen` (delegating generator) calls `yield from subgen()`, `subgen` takes over and will yield values to the caller of `delegen`. Meanwhile `delgen` blocks until `subgen` terminates**.\n",
    "\n",
    "Here is the subgenerator: our usual averaging function. Its a standard generator, setting up some kind of iterative process..."
   ]
  },
  {
   "cell_type": "code",
   "execution_count": 139,
   "metadata": {
    "collapsed": true
   },
   "outputs": [],
   "source": [
    "from collections import namedtuple\n",
    "Result = namedtuple('Result', 'count average')\n",
    "def averager_subgen():\n",
    "    print(\"    |sg>starting subgen\")\n",
    "    total = 0.0\n",
    "    count = 0 \n",
    "    average = None \n",
    "    while True:\n",
    "        print(\"    |sg>  average yielded out\", average)\n",
    "        term = yield average\n",
    "        print(\"    |sg>  term sent in\", term)\n",
    "        if term is None:\n",
    "            break\n",
    "        total += term\n",
    "        count += 1\n",
    "        average = total/count\n",
    "    return Result(count, average)"
   ]
  },
  {
   "cell_type": "markdown",
   "metadata": {},
   "source": [
    "A delegating generator is one that does the `yield from`. It is a strange beast. It opens up a **bi-directional channel** from the outermost caller to the innermost sub-generator. Values can be thrown in and exceptions thrown out right through this channel. Here we create a channel with only one intermediary. But there is no reason there cant be many: we could have set up our online average and median calculations this way."
   ]
  },
  {
   "cell_type": "code",
   "execution_count": 140,
   "metadata": {
    "collapsed": false
   },
   "outputs": [],
   "source": [
    "def average_my_values_delegen():\n",
    "    while True:\n",
    "        print('  |dg>+++++++++++++++')\n",
    "        agen = averager_subgen()\n",
    "        print(\"  |dg>created a new averager\",id(agen))\n",
    "        overall_av = yield from agen\n",
    "        #yield from consumes all the values, like a list\n",
    "        #not an individual value\n",
    "        print(\"  |dg>now\", overall_av)\n",
    "    print(\"OVERALL AV\", overall_av)\n",
    "    return overall_av\n"
   ]
  },
  {
   "cell_type": "code",
   "execution_count": 147,
   "metadata": {
    "collapsed": true
   },
   "outputs": [],
   "source": [
    "def average_my_values_delegen_simple():\n",
    "    print('  |dg>+++++++++++++++')\n",
    "    agen = averager_subgen()\n",
    "    print(\"  |dg>created a new averager\",id(agen))\n",
    "    overall_av = yield from agen\n",
    "    #yield from consumes all the values, like a list\n",
    "    #not an individual value\n",
    "    print(\" done with yield-from |dg>now\", overall_av)\n",
    "    print(\"OVERALL AV\", overall_av)\n",
    "    return overall_av"
   ]
  },
  {
   "cell_type": "code",
   "execution_count": 148,
   "metadata": {
    "collapsed": false
   },
   "outputs": [],
   "source": [
    "values_to_send=[1,2,3,4,5,6]"
   ]
  },
  {
   "cell_type": "code",
   "execution_count": 149,
   "metadata": {
    "collapsed": false
   },
   "outputs": [
    {
     "name": "stdout",
     "output_type": "stream",
     "text": [
      "1. creating delegating generator\n",
      "2. priming till yield from by sending in None\n",
      "  |dg>+++++++++++++++\n",
      "  |dg>created a new averager 4389166864\n",
      "    |sg>starting subgen\n",
      "    |sg>  average yielded out None\n",
      "3. in loop after first yield, None sent in\n",
      ">>sending term 1\n",
      "    |sg>  term sent in 1\n",
      "    |sg>  average yielded out 1.0\n",
      "<<getting running average 1.0\n",
      ">>sending term 2\n",
      "    |sg>  term sent in 2\n",
      "    |sg>  average yielded out 1.5\n",
      "<<getting running average 1.5\n",
      ">>sending term 3\n",
      "    |sg>  term sent in 3\n",
      "    |sg>  average yielded out 2.0\n",
      "<<getting running average 2.0\n",
      ">>sending term 4\n",
      "    |sg>  term sent in 4\n",
      "    |sg>  average yielded out 2.5\n",
      "<<getting running average 2.5\n",
      ">>sending term 5\n",
      "    |sg>  term sent in 5\n",
      "    |sg>  average yielded out 3.0\n",
      "<<getting running average 3.0\n",
      ">>sending term 6\n",
      "    |sg>  term sent in 6\n",
      "    |sg>  average yielded out 3.5\n",
      "<<getting running average 3.5\n",
      "4. Sending in None to terminate\n",
      "    |sg>  term sent in None\n",
      " done with yield-from |dg>now Result(count=6, average=3.5)\n",
      "OVERALL AV Result(count=6, average=3.5)\n"
     ]
    },
    {
     "ename": "StopIteration",
     "evalue": "Result(count=6, average=3.5)",
     "output_type": "error",
     "traceback": [
      "\u001b[0;31m---------------------------------------------------------------------------\u001b[0m",
      "\u001b[0;31mStopIteration\u001b[0m                             Traceback (most recent call last)",
      "\u001b[0;32m<ipython-input-149-b917edd9aab2>\u001b[0m in \u001b[0;36m<module>\u001b[0;34m()\u001b[0m\n\u001b[1;32m      9\u001b[0m     \u001b[0mprint\u001b[0m\u001b[0;34m(\u001b[0m\u001b[0;34m'<<getting running average'\u001b[0m\u001b[0;34m,\u001b[0m \u001b[0mout\u001b[0m\u001b[0;34m)\u001b[0m\u001b[0;34m\u001b[0m\u001b[0m\n\u001b[1;32m     10\u001b[0m \u001b[0mprint\u001b[0m\u001b[0;34m(\u001b[0m\u001b[0;34m\"4. Sending in None to terminate\"\u001b[0m\u001b[0;34m)\u001b[0m\u001b[0;34m\u001b[0m\u001b[0m\n\u001b[0;32m---> 11\u001b[0;31m \u001b[0mout\u001b[0m \u001b[0;34m=\u001b[0m \u001b[0mdelegating_gen\u001b[0m\u001b[0;34m.\u001b[0m\u001b[0msend\u001b[0m\u001b[0;34m(\u001b[0m\u001b[0;32mNone\u001b[0m\u001b[0;34m)\u001b[0m\u001b[0;34m\u001b[0m\u001b[0m\n\u001b[0m\u001b[1;32m     12\u001b[0m \u001b[0mprint\u001b[0m\u001b[0;34m(\u001b[0m\u001b[0;34m'<< OUTSIDE LOOP getting running average'\u001b[0m\u001b[0;34m,\u001b[0m \u001b[0mout\u001b[0m\u001b[0;34m)\u001b[0m\u001b[0;34m\u001b[0m\u001b[0m\n\u001b[1;32m     13\u001b[0m \u001b[0mprint\u001b[0m\u001b[0;34m(\u001b[0m\u001b[0;34m\"5. DONE\"\u001b[0m\u001b[0;34m)\u001b[0m\u001b[0;34m\u001b[0m\u001b[0m\n",
      "\u001b[0;31mStopIteration\u001b[0m: Result(count=6, average=3.5)"
     ]
    }
   ],
   "source": [
    "print(\"1. creating delegating generator\")\n",
    "delegating_gen = average_my_values_delegen_simple()\n",
    "print(\"2. priming till yield from by sending in None\")\n",
    "next(delegating_gen)#priming\n",
    "print(\"3. in loop after first yield, None sent in\")\n",
    "for value in values_to_send:\n",
    "    print(\">>sending term\",value)\n",
    "    out = delegating_gen.send(value)\n",
    "    print('<<getting running average', out)\n",
    "print(\"4. Sending in None to terminate\")\n",
    "out = delegating_gen.send(None)\n",
    "print('<< OUTSIDE LOOP getting running average', out)\n",
    "print(\"5. DONE\")"
   ]
  },
  {
   "cell_type": "code",
   "execution_count": 151,
   "metadata": {
    "collapsed": false
   },
   "outputs": [
    {
     "name": "stdout",
     "output_type": "stream",
     "text": [
      "1. creating delegating generator\n",
      "2. priming till yield from by sending in None\n",
      "  |dg>+++++++++++++++\n",
      "  |dg>created a new averager 4389076136\n",
      "    |sg>starting subgen\n",
      "    |sg>  average yielded out None\n",
      "3. in loop after first yield, None sent in\n",
      ">>sending term 1\n",
      "    |sg>  term sent in 1\n",
      "    |sg>  average yielded out 1.0\n",
      "<<getting running average 1.0\n",
      ">>sending term 2\n",
      "    |sg>  term sent in 2\n",
      "    |sg>  average yielded out 1.5\n",
      "<<getting running average 1.5\n",
      ">>sending term 3\n",
      "    |sg>  term sent in 3\n",
      "    |sg>  average yielded out 2.0\n",
      "<<getting running average 2.0\n",
      ">>sending term 4\n",
      "    |sg>  term sent in 4\n",
      "    |sg>  average yielded out 2.5\n",
      "<<getting running average 2.5\n",
      ">>sending term 5\n",
      "    |sg>  term sent in 5\n",
      "    |sg>  average yielded out 3.0\n",
      "<<getting running average 3.0\n",
      ">>sending term 6\n",
      "    |sg>  term sent in 6\n",
      "    |sg>  average yielded out 3.5\n",
      "<<getting running average 3.5\n",
      "4. Sending in None to terminate\n",
      "    |sg>  term sent in None\n",
      "  |dg>now Result(count=6, average=3.5)\n",
      "  |dg>+++++++++++++++\n",
      "  |dg>created a new averager 4389296264\n",
      "    |sg>starting subgen\n",
      "    |sg>  average yielded out None\n",
      "<<OUTSIDE LOOP getting running average None\n",
      "5. DONE\n"
     ]
    }
   ],
   "source": [
    "print(\"1. creating delegating generator\")\n",
    "delegating_gen = average_my_values_delegen()\n",
    "print(\"2. priming till yield from by sending in None\")\n",
    "next(delegating_gen)#priming\n",
    "print(\"3. in loop after first yield, None sent in\")\n",
    "for value in values_to_send:\n",
    "    print(\">>sending term\",value)\n",
    "    out = delegating_gen.send(value)\n",
    "    print('<<getting running average', out)\n",
    "print(\"4. Sending in None to terminate\")\n",
    "out = delegating_gen.send(None)\n",
    "print('<<OUTSIDE LOOP getting running average', out)\n",
    "print(\"5. DONE\")"
   ]
  },
  {
   "cell_type": "markdown",
   "metadata": {},
   "source": [
    "Notice that the two delegating generators behave a bit differently. In `delegen_simple` a `StopIteration` is propagated up. In `delegen` this exception is handled. How did this happen? \n",
    "\n",
    "The reason is that in the `simple` case, the delegating generator is still a generator and it hits the `return` statement, which then causes a `StopIteration` with the return value. So the exception comes from the delegating generator. (The `overall_av = yield from agen` ends cleanly: delegating generators, just like list iteration, terminate their subgenerators properly)\n",
    "\n",
    "In the non-simple case, the delegating generator instance never returns and thus no StopIteration. What happens instead is that a new sub-generator is created and suspended after yielding out None. The delegating generator is also suspended until we send in something and we get our repl. The return never reached."
   ]
  },
  {
   "cell_type": "code",
   "execution_count": 152,
   "metadata": {
    "collapsed": false
   },
   "outputs": [
    {
     "name": "stdout",
     "output_type": "stream",
     "text": [
      "    |sg>  term sent in None\n",
      "  |dg>now Result(count=0, average=None)\n",
      "  |dg>+++++++++++++++\n",
      "  |dg>created a new averager 4364040240\n",
      "    |sg>starting subgen\n",
      "    |sg>  average yielded out None\n"
     ]
    }
   ],
   "source": [
    "delegating_gen.send(None)"
   ]
  },
  {
   "cell_type": "markdown",
   "metadata": {},
   "source": [
    "And ad-infinitum unless we explicitly close(send in GeneratorExit and handle it thrown back out)"
   ]
  },
  {
   "cell_type": "code",
   "execution_count": 153,
   "metadata": {
    "collapsed": true
   },
   "outputs": [],
   "source": [
    "delegating_gen.close()"
   ]
  },
  {
   "cell_type": "markdown",
   "metadata": {},
   "source": [
    "Lets make a summary of the rules of delegation using `yield from`.\n",
    "\n",
    "#### Summary of the rules of `yield from`\n",
    "\n",
    "- yielded values from subgen go to caller (as if the delegating generator was yielding upward)\n",
    "- sent in values from caller go to subgen, is not None, they trigger `send` on the subgen\n",
    "- delegating gen blocks until subgen stop-iterates and collects its return value: the termination is clean, like in a list iteration.\n",
    "- -f `next` is called, or `None` is senr in, the subgens `__next__()` is called, which can result in a `StopIteration`, which resumes the delegating gen at the `yield from` statement.\n",
    "- return BLA in gen => StopIteration(BLA) is raised on exit from that gen. This is true of the subgen, and this argument becomes the value of the `yield from` expression\n",
    "- notice we didnt prime the subgen. `yield from` does this for us, advancing us to the first `yield` in the subgen.\n",
    "\n",
    "There are some subtleties associated with exception handling. Quoting from Fluent:\n",
    "\n",
    "> \n",
    "- Exceptions other than GeneratorExit thrown into the delegating generator are passed to the throw() method of the subgenerator. If the call raises StopItera tion, the delegating generator is resumed. Any other exception is propagated to the delegating generator.\n",
    "- If a GeneratorExit exception is thrown into the delegating generator, or the close() method of the delegating generator is called, then the close() method of the subgenerator is called if it has one. If this call results in an exception, it is propagated to the delegating generator. Otherwise, GeneratorExit is raised in the delegating generator."
   ]
  },
  {
   "cell_type": "markdown",
   "metadata": {},
   "source": [
    "#### Implementing `yield from`\n",
    "\n",
    "Perhaps seeing a simplified implementation of `yield from` might help. From fluent:\n",
    "\n",
    "```python\n",
    "_i = iter(EXPR) #subgenerator\n",
    "try:\n",
    "    _y = next(_i) #do priming automatically\n",
    "except StopIteration as _e:\n",
    "    _r = _e.value #get value of StopIteration as result on exception\n",
    "else: # if first next was successful, then\n",
    "    while 1: #sit in a loop, blocking us\n",
    "        _s = yield _y #yield the current value from the subgen upwards; then wait for a value _s from caller\n",
    "        try:\n",
    "            _y = _i.send(_s)#send subgen _s\n",
    "            #store what it yields in _y, go back to top ofloop\n",
    "        except StopIteration as _e: #if subgen StopIterated\n",
    "            _r = _e.value#set result and exit loop, unblocking us\n",
    "            break\n",
    "RESULT = _r\n",
    "```\n"
   ]
  },
  {
   "cell_type": "markdown",
   "metadata": {},
   "source": [
    "### How does `yield from` work?"
   ]
  },
  {
   "cell_type": "code",
   "execution_count": 46,
   "metadata": {
    "collapsed": true
   },
   "outputs": [],
   "source": [
    "def subgen():\n",
    "    result1 = yield 1\n",
    "    print('sg yield 1: ', result1)\n",
    "    result2 = yield 2\n",
    "    print('sg yield 2: ', result2)\n",
    "    return 'done'\n",
    "sg=subgen()"
   ]
  },
  {
   "cell_type": "markdown",
   "metadata": {},
   "source": [
    "To call this generator from another generator, delegate to it with yield from:\n"
   ]
  },
  {
   "cell_type": "code",
   "execution_count": 47,
   "metadata": {
    "collapsed": true
   },
   "outputs": [],
   "source": [
    "def delegen():\n",
    "    sg = subgen()\n",
    "    rv = yield from sg\n",
    "    print('return value of yield-from',rv)"
   ]
  },
  {
   "cell_type": "code",
   "execution_count": 48,
   "metadata": {
    "collapsed": true
   },
   "outputs": [],
   "source": [
    "dg = delegen()"
   ]
  },
  {
   "cell_type": "code",
   "execution_count": 49,
   "metadata": {
    "collapsed": false
   },
   "outputs": [
    {
     "name": "stdout",
     "output_type": "stream",
     "text": [
      "  2           0 LOAD_GLOBAL              0 (subgen)\n",
      "              3 CALL_FUNCTION            0 (0 positional, 0 keyword pair)\n",
      "              6 STORE_FAST               0 (sg)\n",
      "\n",
      "  3           9 LOAD_FAST                0 (sg)\n",
      "             12 GET_YIELD_FROM_ITER\n",
      "             13 LOAD_CONST               0 (None)\n",
      "             16 YIELD_FROM\n",
      "             17 STORE_FAST               1 (rv)\n",
      "\n",
      "  4          20 LOAD_GLOBAL              1 (print)\n",
      "             23 LOAD_CONST               1 ('return value of yield-from')\n",
      "             26 LOAD_FAST                1 (rv)\n",
      "             29 CALL_FUNCTION            2 (2 positional, 0 keyword pair)\n",
      "             32 POP_TOP\n",
      "             33 LOAD_CONST               0 (None)\n",
      "             36 RETURN_VALUE\n"
     ]
    }
   ],
   "source": [
    "dis.dis(dg)"
   ]
  },
  {
   "cell_type": "code",
   "execution_count": 50,
   "metadata": {
    "collapsed": false
   },
   "outputs": [
    {
     "name": "stdout",
     "output_type": "stream",
     "text": [
      "Name:              delegen\n",
      "Filename:          <ipython-input-47-32124c079646>\n",
      "Argument count:    0\n",
      "Kw-only arguments: 0\n",
      "Number of locals:  2\n",
      "Stack size:        3\n",
      "Flags:             OPTIMIZED, NEWLOCALS, GENERATOR, NOFREE\n",
      "Constants:\n",
      "   0: None\n",
      "   1: 'return value of yield-from'\n",
      "Names:\n",
      "   0: subgen\n",
      "   1: print\n",
      "Variable names:\n",
      "   0: sg\n",
      "   1: rv\n"
     ]
    }
   ],
   "source": [
    "dis.show_code(dg)"
   ]
  },
  {
   "cell_type": "code",
   "execution_count": 51,
   "metadata": {
    "collapsed": false
   },
   "outputs": [
    {
     "data": {
      "text/plain": [
       "1"
      ]
     },
     "execution_count": 51,
     "metadata": {},
     "output_type": "execute_result"
    }
   ],
   "source": [
    "dg.send(None)"
   ]
  },
  {
   "cell_type": "code",
   "execution_count": 52,
   "metadata": {
    "collapsed": false
   },
   "outputs": [
    {
     "data": {
      "text/plain": [
       "15"
      ]
     },
     "execution_count": 52,
     "metadata": {},
     "output_type": "execute_result"
    }
   ],
   "source": [
    "dg.gi_frame.f_lasti"
   ]
  },
  {
   "cell_type": "code",
   "execution_count": 53,
   "metadata": {
    "collapsed": false
   },
   "outputs": [
    {
     "name": "stdout",
     "output_type": "stream",
     "text": [
      "sg yield 1:  5\n"
     ]
    },
    {
     "data": {
      "text/plain": [
       "2"
      ]
     },
     "execution_count": 53,
     "metadata": {},
     "output_type": "execute_result"
    }
   ],
   "source": [
    "dg.send(5)"
   ]
  },
  {
   "cell_type": "code",
   "execution_count": 54,
   "metadata": {
    "collapsed": false
   },
   "outputs": [
    {
     "data": {
      "text/plain": [
       "15"
      ]
     },
     "execution_count": 54,
     "metadata": {},
     "output_type": "execute_result"
    }
   ],
   "source": [
    "dg.gi_frame.f_lasti"
   ]
  },
  {
   "cell_type": "markdown",
   "metadata": {},
   "source": [
    "We are stuck in the bytecode at the yield-from..."
   ]
  },
  {
   "cell_type": "code",
   "execution_count": 55,
   "metadata": {
    "collapsed": false
   },
   "outputs": [
    {
     "name": "stdout",
     "output_type": "stream",
     "text": [
      "sg yield 2:  hello\n",
      "return value of yield-from done\n"
     ]
    },
    {
     "ename": "StopIteration",
     "evalue": "",
     "output_type": "error",
     "traceback": [
      "\u001b[0;31m---------------------------------------------------------------------------\u001b[0m",
      "\u001b[0;31mStopIteration\u001b[0m                             Traceback (most recent call last)",
      "\u001b[0;32m<ipython-input-55-0ff7494da9c9>\u001b[0m in \u001b[0;36m<module>\u001b[0;34m()\u001b[0m\n\u001b[0;32m----> 1\u001b[0;31m \u001b[0mdg\u001b[0m\u001b[0;34m.\u001b[0m\u001b[0msend\u001b[0m\u001b[0;34m(\u001b[0m\u001b[0;34m\"hello\"\u001b[0m\u001b[0;34m)\u001b[0m\u001b[0;34m\u001b[0m\u001b[0m\n\u001b[0m",
      "\u001b[0;31mStopIteration\u001b[0m: "
     ]
    }
   ],
   "source": [
    "dg.send(\"hello\")"
   ]
  },
  {
   "cell_type": "markdown",
   "metadata": {},
   "source": [
    "Notice that the delegating generator does not advance. Meanwhile the inner generator advances from one yield statement to the next. From the point of view of the REPL (us as the client in the REPL), we cant tell where the values yielded us are coming from, and where the values we send are going. Ditto inside the subgen: we dont know where the values are coming from. \n"
   ]
  },
  {
   "cell_type": "markdown",
   "metadata": {},
   "source": [
    "### An example: grouping using `yield from`.\n",
    "\n",
    "This example is taken directly from Fluent and should now be easy to understand..."
   ]
  },
  {
   "cell_type": "code",
   "execution_count": 155,
   "metadata": {
    "collapsed": true
   },
   "outputs": [],
   "source": [
    "d={'a':[1,2,4,5],'b':[11,12,13,14]}"
   ]
  },
  {
   "cell_type": "code",
   "execution_count": 156,
   "metadata": {
    "collapsed": true
   },
   "outputs": [],
   "source": [
    "#subgenerator\n",
    "def averager(): \n",
    "    total = 0.0\n",
    "    count = 0 \n",
    "    average = None \n",
    "    while True:\n",
    "        term = yield\n",
    "        print(\"got in av\", term)\n",
    "        if term is None:\n",
    "            break\n",
    "        total += term\n",
    "        count += 1\n",
    "        average = total/count\n",
    "    return Result(count, average)"
   ]
  },
  {
   "cell_type": "code",
   "execution_count": 157,
   "metadata": {
    "collapsed": true
   },
   "outputs": [],
   "source": [
    "#delegating generator\n",
    "def grouper(results, key): \n",
    "    while True:\n",
    "        avg = averager()\n",
    "        print(\"new averager\", key, avg)\n",
    "        results[key] = yield from avg#bi-directional channel\n",
    "        print(\"got after yield from\", results[key])"
   ]
  },
  {
   "cell_type": "code",
   "execution_count": 158,
   "metadata": {
    "collapsed": false
   },
   "outputs": [],
   "source": [
    "def main(data): \n",
    "    results = {}\n",
    "    for key, values in data.items():\n",
    "        print(\"starting\", key)\n",
    "        group = grouper(results, key) #averager \"instance\" created here, \n",
    "        next(group)#and advanced\n",
    "        #sub-generator is automatically primed\n",
    "        for value in values:\n",
    "            print(\"sent\", value)\n",
    "            group.send(value) \n",
    "        print(\"done sending for \",key)\n",
    "        group.send(None) # important!\n",
    "        print(\"here\")\n",
    "    print(results)"
   ]
  },
  {
   "cell_type": "code",
   "execution_count": 159,
   "metadata": {
    "collapsed": false
   },
   "outputs": [
    {
     "name": "stdout",
     "output_type": "stream",
     "text": [
      "starting b\n",
      "new averager b <generator object averager at 0x1059fa5c8>\n",
      "sent 11\n",
      "got in av 11\n",
      "sent 12\n",
      "got in av 12\n",
      "sent 13\n",
      "got in av 13\n",
      "sent 14\n",
      "got in av 14\n",
      "done sending for  b\n",
      "got in av None\n",
      "got after yield from Result(count=4, average=12.5)\n",
      "new averager b <generator object averager at 0x1059fad58>\n",
      "here\n",
      "starting a\n",
      "new averager a <generator object averager at 0x1059fa8e0>\n",
      "sent 1\n",
      "got in av 1\n",
      "sent 2\n",
      "got in av 2\n",
      "sent 4\n",
      "got in av 4\n",
      "sent 5\n",
      "got in av 5\n",
      "done sending for  a\n",
      "got in av None\n",
      "got after yield from Result(count=4, average=3.0)\n",
      "new averager a <generator object averager at 0x1059fad58>\n",
      "here\n",
      "{'b': Result(count=4, average=12.5), 'a': Result(count=4, average=3.0)}\n"
     ]
    }
   ],
   "source": [
    "main(d)"
   ]
  }
 ],
 "metadata": {
  "anaconda-cloud": {},
  "kernelspec": {
   "display_name": "Python [default]",
   "language": "python",
   "name": "python3"
  },
  "language_info": {
   "codemirror_mode": {
    "name": "ipython",
    "version": 3
   },
   "file_extension": ".py",
   "mimetype": "text/x-python",
   "name": "python",
   "nbconvert_exporter": "python",
   "pygments_lexer": "ipython3",
   "version": "3.5.2"
  }
 },
 "nbformat": 4,
 "nbformat_minor": 0
}
