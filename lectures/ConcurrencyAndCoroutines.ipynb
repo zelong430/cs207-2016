{
 "cells": [
  {
   "cell_type": "markdown",
   "metadata": {},
   "source": [
    "### Concurrency, Parallelism, and the GIL\n",
    "\n",
    "Last time we saw that Python has a GIL, which allows only one thread to run python code at a time. It was made to allow non-thread safe code to run, fast, in a single thread, which is a very common case.\n",
    "\n",
    "When we run python code, we have no control over the GIL. But extension modules written in C can release the GIL while doing time-consuming tasks. We'll see how to do this 2 weeks from now. numpy does this, so for example, dot-products happen in a C context outside the GIL.\n",
    "\n",
    "All the standard library functions that do blocking IO also release the GIL, so that python code can continue to run while waiting for network-IO. This means that if you use threads or some other concurrency mechanism, while one unit of concurrency is waiting for a response from the netweork or a read from disk, another unit can continue doing something CPU-bound. (IO-code typically does this by using select with a 0 secs timeout, and we shall adress this in the next lecture)\n",
    "\n",
    ">David Beazley says: “Python threads are great at doing nothing.”\n",
    "\n",
    "The time.sleep() function also releases the GIL. The whole thing looks a bit like this:\n",
    "\n",
    "```c\n",
    "Py_BEGIN_ALLOW_THREADS\n",
    "        sleep((int)secs);\n",
    "Py_END_ALLOW_THREADS\n",
    "```\n",
    "\n",
    "We'll see threads and processes the next time around. But threads take 50k of memory per thread and are expensive to switch to, and the OS has a hard limit on threads. Instead, we we could create granular units of processing and IO-checking an IO-doing within the process, we could have our one thread running at full capacity rather than waiting on IO, at a low overhead.\n",
    "\n",
    "Whats our primitive for yielding control of execution? Why `yield` and generators, of-course."
   ]
  },
  {
   "cell_type": "markdown",
   "metadata": {},
   "source": [
    "A generator becomes a co-routine when you can send data into a generator. This is done by adding a new primitive to generators after `next`: `.send`. Python can start hundreds of thousands of coroutines.\n",
    "\n",
    "Thus coroutines are \"subroutines\" that can pause and resume. Threads are scheduled by the OS, but co-routines multi-task co-operatively.\n",
    "\n",
    "In Python 3.5 native coroutine support was also added using `async` and `await`, however, \" understanding coroutines as they were first implemented in Python 3.4, using pre-existing language facilities, is the foundation to tackle Python 3.5's native coroutines.\" (from Guido in http://aosabook.org/en/500L/a-web-crawler-with-asyncio-coroutines.html )\n"
   ]
  },
  {
   "cell_type": "markdown",
   "metadata": {},
   "source": [
    "We will achieve \"concurrency\" here, not \"parallelism\" (such as the map-reduce pattern). It is designed for I/O-bound problems, not CPU-bound ones. Specifically this is true for multiple sleepy or slow connections, as in web crawling. Still, it is useful in CPU bound situations as well: as we shall see, it is extremely useful to scheduling multiple cpu bound things in byte sized chunks. Furthermore, we can avoid some hairy bugs that come with contention for resources by multiple threads.\n"
   ]
  },
  {
   "cell_type": "markdown",
   "metadata": {},
   "source": [
    "### Generators with yield\n",
    "\n",
    "We have so far used generators to implement iterators with the `yield` keyword. The iteration happens via a driver program using `next` to advance the generator\n",
    "\n",
    "Lets start with a very simple example of a generator, which we see below:"
   ]
  },
  {
   "cell_type": "code",
   "execution_count": 270,
   "metadata": {
    "collapsed": false
   },
   "outputs": [],
   "source": [
    "def cr0(y):\n",
    "    print(\"y>\",y)\n",
    "    yield y\n",
    "    print(\"2y>\",2*y)\n",
    "    yield y+y\n",
    "    print(\"3y>\",3*y)\n",
    "    yield y+y+y"
   ]
  },
  {
   "cell_type": "code",
   "execution_count": 271,
   "metadata": {
    "collapsed": false
   },
   "outputs": [
    {
     "name": "stdout",
     "output_type": "stream",
     "text": [
      "y> 5\n",
      "2y> 10\n",
      "3y> 15\n"
     ]
    },
    {
     "data": {
      "text/plain": [
       "[5, 10, 15]"
      ]
     },
     "execution_count": 271,
     "metadata": {},
     "output_type": "execute_result"
    }
   ],
   "source": [
    "cr0i = cr0(5)\n",
    "list(cr0i)"
   ]
  },
  {
   "cell_type": "code",
   "execution_count": 272,
   "metadata": {
    "collapsed": false
   },
   "outputs": [
    {
     "name": "stdout",
     "output_type": "stream",
     "text": [
      "y> 5\n"
     ]
    },
    {
     "data": {
      "text/plain": [
       "5"
      ]
     },
     "execution_count": 272,
     "metadata": {},
     "output_type": "execute_result"
    }
   ],
   "source": [
    "cr0i = cr0(5)\n",
    "next(cr0i)"
   ]
  },
  {
   "cell_type": "code",
   "execution_count": 273,
   "metadata": {
    "collapsed": false
   },
   "outputs": [
    {
     "name": "stdout",
     "output_type": "stream",
     "text": [
      "2y> 10\n",
      "10\n",
      "3y> 15\n",
      "15\n"
     ]
    }
   ],
   "source": [
    "print(next(cr0i))\n",
    "print(next(cr0i))"
   ]
  },
  {
   "cell_type": "code",
   "execution_count": 274,
   "metadata": {
    "collapsed": false
   },
   "outputs": [
    {
     "ename": "StopIteration",
     "evalue": "",
     "output_type": "error",
     "traceback": [
      "\u001b[0;31m---------------------------------------------------------------------------\u001b[0m",
      "\u001b[0;31mStopIteration\u001b[0m                             Traceback (most recent call last)",
      "\u001b[0;32m<ipython-input-274-ee8831d8f3fb>\u001b[0m in \u001b[0;36m<module>\u001b[0;34m()\u001b[0m\n\u001b[0;32m----> 1\u001b[0;31m \u001b[0mnext\u001b[0m\u001b[0;34m(\u001b[0m\u001b[0mcr0i\u001b[0m\u001b[0;34m)\u001b[0m\u001b[0;34m\u001b[0m\u001b[0m\n\u001b[0m",
      "\u001b[0;31mStopIteration\u001b[0m: "
     ]
    }
   ],
   "source": [
    "next(cr0i)"
   ]
  },
  {
   "cell_type": "markdown",
   "metadata": {},
   "source": [
    "### From generators to co-routines\n",
    "\n",
    "Now, lets make two changes. Lets assign, in the generator, to the result of the yield, and use a new method on the generator, `send`, in addition to the `next` function (or `__next__` method) that we have been using"
   ]
  },
  {
   "cell_type": "code",
   "execution_count": 275,
   "metadata": {
    "collapsed": true
   },
   "outputs": [],
   "source": [
    "from inspect import getgeneratorstate"
   ]
  },
  {
   "cell_type": "code",
   "execution_count": 276,
   "metadata": {
    "collapsed": true
   },
   "outputs": [],
   "source": [
    "def cr(y):\n",
    "    print(\"y>\",y)\n",
    "    x = yield y\n",
    "    print(\"x>\",x)\n",
    "    z = yield x+y\n",
    "    print(\"z>\",z)\n",
    "    return z"
   ]
  },
  {
   "cell_type": "markdown",
   "metadata": {},
   "source": [
    "Notice we \"assign\" x to the yield of y."
   ]
  },
  {
   "cell_type": "code",
   "execution_count": 277,
   "metadata": {
    "collapsed": false
   },
   "outputs": [
    {
     "data": {
      "text/plain": [
       "generator"
      ]
     },
     "execution_count": 277,
     "metadata": {},
     "output_type": "execute_result"
    }
   ],
   "source": [
    "cri=cr(5)\n",
    "type(cri)"
   ]
  },
  {
   "cell_type": "code",
   "execution_count": 278,
   "metadata": {
    "collapsed": false
   },
   "outputs": [
    {
     "data": {
      "text/plain": [
       "'GEN_CREATED'"
      ]
     },
     "execution_count": 278,
     "metadata": {},
     "output_type": "execute_result"
    }
   ],
   "source": [
    "getgeneratorstate(cri)"
   ]
  },
  {
   "cell_type": "code",
   "execution_count": 279,
   "metadata": {
    "collapsed": false
   },
   "outputs": [
    {
     "name": "stdout",
     "output_type": "stream",
     "text": [
      "y> 5\n"
     ]
    },
    {
     "data": {
      "text/plain": [
       "5"
      ]
     },
     "execution_count": 279,
     "metadata": {},
     "output_type": "execute_result"
    }
   ],
   "source": [
    "a=next(cri)\n",
    "a"
   ]
  },
  {
   "cell_type": "markdown",
   "metadata": {},
   "source": [
    "The yield here is captured by the driver. As part of this, `next` has advanced us to the first yield."
   ]
  },
  {
   "cell_type": "code",
   "execution_count": 280,
   "metadata": {
    "collapsed": false
   },
   "outputs": [
    {
     "data": {
      "text/plain": [
       "'GEN_SUSPENDED'"
      ]
     },
     "execution_count": 280,
     "metadata": {},
     "output_type": "execute_result"
    }
   ],
   "source": [
    "getgeneratorstate(cri)"
   ]
  },
  {
   "cell_type": "markdown",
   "metadata": {},
   "source": [
    "The syntax `x = yield y` is not what it seems. `yield` suspends the generator, sending the value of `y` out as 5. Now, the generator can be advanced using either `next` or `.send`. The latter allows us to send INTO the generator a value, which can then be used as x"
   ]
  },
  {
   "cell_type": "code",
   "execution_count": 281,
   "metadata": {
    "collapsed": false
   },
   "outputs": [
    {
     "name": "stdout",
     "output_type": "stream",
     "text": [
      "x> 6\n"
     ]
    }
   ],
   "source": [
    "b = cri.send(6)"
   ]
  },
  {
   "cell_type": "code",
   "execution_count": 282,
   "metadata": {
    "collapsed": false
   },
   "outputs": [
    {
     "data": {
      "text/plain": [
       "11"
      ]
     },
     "execution_count": 282,
     "metadata": {},
     "output_type": "execute_result"
    }
   ],
   "source": [
    "b"
   ]
  },
  {
   "cell_type": "markdown",
   "metadata": {},
   "source": [
    "We have advanced to the next `yield`, which has yielded thse sum of 5 and the sent-in 6."
   ]
  },
  {
   "cell_type": "code",
   "execution_count": 221,
   "metadata": {
    "collapsed": false
   },
   "outputs": [
    {
     "data": {
      "text/plain": [
       "'GEN_SUSPENDED'"
      ]
     },
     "execution_count": 221,
     "metadata": {},
     "output_type": "execute_result"
    }
   ],
   "source": [
    "getgeneratorstate(cri)"
   ]
  },
  {
   "cell_type": "markdown",
   "metadata": {},
   "source": [
    "Now we send in 22 as `z`. There are nomore yields, and we come to the end, ie to a `StopIteration`. But notice now that we have a `return`. This return is now sent out as the value of the exception."
   ]
  },
  {
   "cell_type": "code",
   "execution_count": 283,
   "metadata": {
    "collapsed": false
   },
   "outputs": [
    {
     "name": "stdout",
     "output_type": "stream",
     "text": [
      "z> 22\n"
     ]
    },
    {
     "ename": "StopIteration",
     "evalue": "22",
     "output_type": "error",
     "traceback": [
      "\u001b[0;31m---------------------------------------------------------------------------\u001b[0m",
      "\u001b[0;31mStopIteration\u001b[0m                             Traceback (most recent call last)",
      "\u001b[0;32m<ipython-input-283-693b94646cb9>\u001b[0m in \u001b[0;36m<module>\u001b[0;34m()\u001b[0m\n\u001b[0;32m----> 1\u001b[0;31m \u001b[0mcri\u001b[0m\u001b[0;34m.\u001b[0m\u001b[0msend\u001b[0m\u001b[0;34m(\u001b[0m\u001b[0;36m22\u001b[0m\u001b[0;34m)\u001b[0m\u001b[0;34m\u001b[0m\u001b[0m\n\u001b[0m",
      "\u001b[0;31mStopIteration\u001b[0m: 22"
     ]
    }
   ],
   "source": [
    "cri.send(22)"
   ]
  },
  {
   "cell_type": "code",
   "execution_count": 284,
   "metadata": {
    "collapsed": false
   },
   "outputs": [
    {
     "data": {
      "text/plain": [
       "'GEN_CLOSED'"
      ]
     },
     "execution_count": 284,
     "metadata": {},
     "output_type": "execute_result"
    }
   ],
   "source": [
    "getgeneratorstate(cri)"
   ]
  },
  {
   "cell_type": "markdown",
   "metadata": {},
   "source": [
    "What if we caused an exception earlier by sending in a non-number?"
   ]
  },
  {
   "cell_type": "code",
   "execution_count": 285,
   "metadata": {
    "collapsed": false
   },
   "outputs": [
    {
     "name": "stdout",
     "output_type": "stream",
     "text": [
      "y> 5\n"
     ]
    },
    {
     "data": {
      "text/plain": [
       "5"
      ]
     },
     "execution_count": 285,
     "metadata": {},
     "output_type": "execute_result"
    }
   ],
   "source": [
    "def cr2(y):\n",
    "    print(\"y>\",y)\n",
    "    x = yield y\n",
    "    print(\"x>\",x)\n",
    "    z = yield x+y\n",
    "    print(\"z>\",z)\n",
    "    a = yield z\n",
    "    print(\"a>\",a)\n",
    "    return z\n",
    "cri=cr2(5)\n",
    "next(cri)"
   ]
  },
  {
   "cell_type": "code",
   "execution_count": 286,
   "metadata": {
    "collapsed": false
   },
   "outputs": [
    {
     "name": "stdout",
     "output_type": "stream",
     "text": [
      "x> None\n"
     ]
    },
    {
     "ename": "TypeError",
     "evalue": "unsupported operand type(s) for +: 'NoneType' and 'int'",
     "output_type": "error",
     "traceback": [
      "\u001b[0;31m---------------------------------------------------------------------------\u001b[0m",
      "\u001b[0;31mTypeError\u001b[0m                                 Traceback (most recent call last)",
      "\u001b[0;32m<ipython-input-286-7b6f789cf1c4>\u001b[0m in \u001b[0;36m<module>\u001b[0;34m()\u001b[0m\n\u001b[0;32m----> 1\u001b[0;31m \u001b[0mnext\u001b[0m\u001b[0;34m(\u001b[0m\u001b[0mcri\u001b[0m\u001b[0;34m)\u001b[0m\u001b[0;34m\u001b[0m\u001b[0m\n\u001b[0m",
      "\u001b[0;32m<ipython-input-285-851381501762>\u001b[0m in \u001b[0;36mcr2\u001b[0;34m(y)\u001b[0m\n\u001b[1;32m      3\u001b[0m     \u001b[0mx\u001b[0m \u001b[0;34m=\u001b[0m \u001b[0;32myield\u001b[0m \u001b[0my\u001b[0m\u001b[0;34m\u001b[0m\u001b[0m\n\u001b[1;32m      4\u001b[0m     \u001b[0mprint\u001b[0m\u001b[0;34m(\u001b[0m\u001b[0;34m\"x>\"\u001b[0m\u001b[0;34m,\u001b[0m\u001b[0mx\u001b[0m\u001b[0;34m)\u001b[0m\u001b[0;34m\u001b[0m\u001b[0m\n\u001b[0;32m----> 5\u001b[0;31m     \u001b[0mz\u001b[0m \u001b[0;34m=\u001b[0m \u001b[0;32myield\u001b[0m \u001b[0mx\u001b[0m\u001b[0;34m+\u001b[0m\u001b[0my\u001b[0m\u001b[0;34m\u001b[0m\u001b[0m\n\u001b[0m\u001b[1;32m      6\u001b[0m     \u001b[0mprint\u001b[0m\u001b[0;34m(\u001b[0m\u001b[0;34m\"z>\"\u001b[0m\u001b[0;34m,\u001b[0m\u001b[0mz\u001b[0m\u001b[0;34m)\u001b[0m\u001b[0;34m\u001b[0m\u001b[0m\n\u001b[1;32m      7\u001b[0m     \u001b[0ma\u001b[0m \u001b[0;34m=\u001b[0m \u001b[0;32myield\u001b[0m \u001b[0mz\u001b[0m\u001b[0;34m\u001b[0m\u001b[0m\n",
      "\u001b[0;31mTypeError\u001b[0m: unsupported operand type(s) for +: 'NoneType' and 'int'"
     ]
    }
   ],
   "source": [
    "next(cri)"
   ]
  },
  {
   "cell_type": "markdown",
   "metadata": {},
   "source": [
    "Aha! `next` is equivalent to `.send(None)`. But the exception kills the generator and we cannot go any further..."
   ]
  },
  {
   "cell_type": "code",
   "execution_count": 287,
   "metadata": {
    "collapsed": false
   },
   "outputs": [
    {
     "data": {
      "text/plain": [
       "'GEN_CLOSED'"
      ]
     },
     "execution_count": 287,
     "metadata": {},
     "output_type": "execute_result"
    }
   ],
   "source": [
    "getgeneratorstate(cri)"
   ]
  },
  {
   "cell_type": "code",
   "execution_count": 288,
   "metadata": {
    "collapsed": false
   },
   "outputs": [
    {
     "ename": "StopIteration",
     "evalue": "",
     "output_type": "error",
     "traceback": [
      "\u001b[0;31m---------------------------------------------------------------------------\u001b[0m",
      "\u001b[0;31mStopIteration\u001b[0m                             Traceback (most recent call last)",
      "\u001b[0;32m<ipython-input-288-5386b3962af1>\u001b[0m in \u001b[0;36m<module>\u001b[0;34m()\u001b[0m\n\u001b[0;32m----> 1\u001b[0;31m \u001b[0mcri\u001b[0m\u001b[0;34m.\u001b[0m\u001b[0msend\u001b[0m\u001b[0;34m(\u001b[0m\u001b[0;36m1000\u001b[0m\u001b[0;34m)\u001b[0m\u001b[0;34m\u001b[0m\u001b[0m\n\u001b[0m",
      "\u001b[0;31mStopIteration\u001b[0m: "
     ]
    }
   ],
   "source": [
    "cri.send(1000)"
   ]
  },
  {
   "cell_type": "markdown",
   "metadata": {},
   "source": [
    "**This generator, with `yield` appearing on the right side of an expression, is a coroutine**."
   ]
  },
  {
   "cell_type": "markdown",
   "metadata": {},
   "source": [
    "- the yield is a RHS\n",
    "- we could have just `yield`, which is equivalent to `yield None`\n",
    "- the coroutine uses yield to send data out to the caller or driver\n",
    "- which uses assignment to the yield in conjunction with `send` to send a value ointo the coroutine. Sending None is equivalent to `next`\n",
    "- thus one may yield nothing, and send in nothing. Still, the generator has been paused...\n",
    "\n",
    "In this sense, `yield` is a **control-flow** device, and it can be used to implement co-operative multi-tasking (like in the old iphones): *each coroutine yields to a central driver which can then re-activate it or other couroutines by appropriate sends*.\n",
    "\n",
    "Think of **yield** as a control-flow device from now on!\n",
    "\n",
    "These changes came into Python incrementally. From Fluent\n",
    "\n",
    ">The infrastructure for coroutines appeared in PEP 342 — Coroutines via Enhanced Generators, implemented in Python 2.5 (2006): since then, the yield keyword can be used in an expression, and the .send(value) method was added to the generator API. Using .send(...), the caller of the generator can post data that then becomes the value of the yield expression inside the generator function. This allows a generator to be used as a coroutine: a procedure that collaborates with the caller, yielding and receiving values from the caller.\n",
    "\n",
    ">In addition to .send(...), PEP 342 also added .throw(...) and .close() methods that respectively allow the caller to throw an exception to be handled inside the generator, and to terminate it. \n",
    "\n",
    ">The latest evolutionary step for coroutines came with PEP 380 - Syntax for Delegating to a Subgenerator, implemented in Python 3.3 (2012). PEP 380 made two syntax changes to generator functions, to make them more useful as coroutines:\n",
    "- A generator can now return a value; previously, providing a value to the return statement inside a generator raised a SyntaxError.\n",
    "- The `yield from` syntax enables complex generators to be refactored into smaller, nested generators while avoiding a lot of boilerplate code previously required for a generator to delegate to subgenerators.\n"
   ]
  },
  {
   "cell_type": "markdown",
   "metadata": {},
   "source": [
    "### More coroutines\n",
    "\n",
    "So far, we have seen the use of `next` and `send`, and the consequences of `send`ing something of the wrong type (we exhaust the generator). Lets explore these, `throw`, and `close`, in the context of a more useful generator, one which keeps yielding  us a running average."
   ]
  },
  {
   "cell_type": "code",
   "execution_count": 289,
   "metadata": {
    "collapsed": true
   },
   "outputs": [],
   "source": [
    "def averager(): \n",
    "    total = 0.0\n",
    "    count = 0 \n",
    "    average = None \n",
    "    while True:\n",
    "        term = yield average \n",
    "        total += term\n",
    "        count += 1\n",
    "        average = total/count"
   ]
  },
  {
   "cell_type": "code",
   "execution_count": 290,
   "metadata": {
    "collapsed": false
   },
   "outputs": [
    {
     "data": {
      "text/plain": [
       "'GEN_CREATED'"
      ]
     },
     "execution_count": 290,
     "metadata": {},
     "output_type": "execute_result"
    }
   ],
   "source": [
    "av=averager()\n",
    "getgeneratorstate(av)"
   ]
  },
  {
   "cell_type": "markdown",
   "metadata": {},
   "source": [
    "This initial call to `next` which advances is to the first yield is often called **priming the coroutine**."
   ]
  },
  {
   "cell_type": "code",
   "execution_count": 291,
   "metadata": {
    "collapsed": false
   },
   "outputs": [
    {
     "name": "stdout",
     "output_type": "stream",
     "text": [
      "None\n"
     ]
    },
    {
     "data": {
      "text/plain": [
       "'GEN_SUSPENDED'"
      ]
     },
     "execution_count": 291,
     "metadata": {},
     "output_type": "execute_result"
    }
   ],
   "source": [
    "print(next(av))\n",
    "getgeneratorstate(av)"
   ]
  },
  {
   "cell_type": "code",
   "execution_count": 293,
   "metadata": {
    "collapsed": false
   },
   "outputs": [
    {
     "name": "stdout",
     "output_type": "stream",
     "text": [
      "4.25\n",
      "4.2\n",
      "4.0\n",
      "GEN_SUSPENDED\n"
     ]
    }
   ],
   "source": [
    "print(av.send(5))\n",
    "print(av.send(4))\n",
    "print(av.send(3))\n",
    "print(getgeneratorstate(av))"
   ]
  },
  {
   "cell_type": "markdown",
   "metadata": {},
   "source": [
    "#### `close`\n",
    "\n",
    "Since this generator is in an infinite loop, we must close it. We can do it cleanly by `.close()` which sends in a `GeneratorExit` exception which is implicitly handled by generators."
   ]
  },
  {
   "cell_type": "code",
   "execution_count": 294,
   "metadata": {
    "collapsed": false
   },
   "outputs": [
    {
     "name": "stdout",
     "output_type": "stream",
     "text": [
      "GEN_CLOSED\n"
     ]
    }
   ],
   "source": [
    "av.close()\n",
    "print(getgeneratorstate(av))"
   ]
  },
  {
   "cell_type": "markdown",
   "metadata": {},
   "source": [
    "#### `throw`\n",
    "\n",
    "We can throw in any exceptionexplicitly using `.throw`. If the genearot handles the exception (we can write code to do so) we are advanced to the next yield. Othwewise the generator is exhausted, and the exception propagates back out\n"
   ]
  },
  {
   "cell_type": "code",
   "execution_count": 295,
   "metadata": {
    "collapsed": false
   },
   "outputs": [
    {
     "ename": "ValueError",
     "evalue": "yes",
     "output_type": "error",
     "traceback": [
      "\u001b[0;31m---------------------------------------------------------------------------\u001b[0m",
      "\u001b[0;31mValueError\u001b[0m                                Traceback (most recent call last)",
      "\u001b[0;32m<ipython-input-295-c00cfda45854>\u001b[0m in \u001b[0;36m<module>\u001b[0;34m()\u001b[0m\n\u001b[1;32m      1\u001b[0m \u001b[0mav\u001b[0m\u001b[0;34m=\u001b[0m\u001b[0maverager\u001b[0m\u001b[0;34m(\u001b[0m\u001b[0;34m)\u001b[0m\u001b[0;34m\u001b[0m\u001b[0m\n\u001b[1;32m      2\u001b[0m \u001b[0mnext\u001b[0m\u001b[0;34m(\u001b[0m\u001b[0mav\u001b[0m\u001b[0;34m)\u001b[0m\u001b[0;34m\u001b[0m\u001b[0m\n\u001b[0;32m----> 3\u001b[0;31m \u001b[0mav\u001b[0m\u001b[0;34m.\u001b[0m\u001b[0mthrow\u001b[0m\u001b[0;34m(\u001b[0m\u001b[0mValueError\u001b[0m\u001b[0;34m(\u001b[0m\u001b[0;34m\"yes\"\u001b[0m\u001b[0;34m)\u001b[0m\u001b[0;34m)\u001b[0m\u001b[0;34m\u001b[0m\u001b[0m\n\u001b[0m",
      "\u001b[0;32m<ipython-input-289-3f39ad3791fb>\u001b[0m in \u001b[0;36maverager\u001b[0;34m()\u001b[0m\n\u001b[1;32m      4\u001b[0m     \u001b[0maverage\u001b[0m \u001b[0;34m=\u001b[0m \u001b[0;32mNone\u001b[0m\u001b[0;34m\u001b[0m\u001b[0m\n\u001b[1;32m      5\u001b[0m     \u001b[0;32mwhile\u001b[0m \u001b[0;32mTrue\u001b[0m\u001b[0;34m:\u001b[0m\u001b[0;34m\u001b[0m\u001b[0m\n\u001b[0;32m----> 6\u001b[0;31m         \u001b[0mterm\u001b[0m \u001b[0;34m=\u001b[0m \u001b[0;32myield\u001b[0m \u001b[0maverage\u001b[0m\u001b[0;34m\u001b[0m\u001b[0m\n\u001b[0m\u001b[1;32m      7\u001b[0m         \u001b[0mtotal\u001b[0m \u001b[0;34m+=\u001b[0m \u001b[0mterm\u001b[0m\u001b[0;34m\u001b[0m\u001b[0m\n\u001b[1;32m      8\u001b[0m         \u001b[0mcount\u001b[0m \u001b[0;34m+=\u001b[0m \u001b[0;36m1\u001b[0m\u001b[0;34m\u001b[0m\u001b[0m\n",
      "\u001b[0;31mValueError\u001b[0m: yes"
     ]
    }
   ],
   "source": [
    "av=averager()\n",
    "next(av)\n",
    "av.throw(ValueError(\"yes\"))"
   ]
  },
  {
   "cell_type": "code",
   "execution_count": 296,
   "metadata": {
    "collapsed": false
   },
   "outputs": [
    {
     "ename": "GeneratorExit",
     "evalue": "",
     "output_type": "error",
     "traceback": [
      "\u001b[0;31m---------------------------------------------------------------------------\u001b[0m",
      "\u001b[0;31mGeneratorExit\u001b[0m                             Traceback (most recent call last)",
      "\u001b[0;32m<ipython-input-296-c1cb63bb6a28>\u001b[0m in \u001b[0;36m<module>\u001b[0;34m()\u001b[0m\n\u001b[1;32m      1\u001b[0m \u001b[0mav\u001b[0m\u001b[0;34m=\u001b[0m\u001b[0maverager\u001b[0m\u001b[0;34m(\u001b[0m\u001b[0;34m)\u001b[0m\u001b[0;34m\u001b[0m\u001b[0m\n\u001b[1;32m      2\u001b[0m \u001b[0mnext\u001b[0m\u001b[0;34m(\u001b[0m\u001b[0mav\u001b[0m\u001b[0;34m)\u001b[0m\u001b[0;34m\u001b[0m\u001b[0m\n\u001b[0;32m----> 3\u001b[0;31m \u001b[0mav\u001b[0m\u001b[0;34m.\u001b[0m\u001b[0mthrow\u001b[0m\u001b[0;34m(\u001b[0m\u001b[0mGeneratorExit\u001b[0m\u001b[0;34m(\u001b[0m\u001b[0;34m)\u001b[0m\u001b[0;34m)\u001b[0m\u001b[0;34m\u001b[0m\u001b[0m\n\u001b[0m",
      "\u001b[0;32m<ipython-input-289-3f39ad3791fb>\u001b[0m in \u001b[0;36maverager\u001b[0;34m()\u001b[0m\n\u001b[1;32m      4\u001b[0m     \u001b[0maverage\u001b[0m \u001b[0;34m=\u001b[0m \u001b[0;32mNone\u001b[0m\u001b[0;34m\u001b[0m\u001b[0m\n\u001b[1;32m      5\u001b[0m     \u001b[0;32mwhile\u001b[0m \u001b[0;32mTrue\u001b[0m\u001b[0;34m:\u001b[0m\u001b[0;34m\u001b[0m\u001b[0m\n\u001b[0;32m----> 6\u001b[0;31m         \u001b[0mterm\u001b[0m \u001b[0;34m=\u001b[0m \u001b[0;32myield\u001b[0m \u001b[0maverage\u001b[0m\u001b[0;34m\u001b[0m\u001b[0m\n\u001b[0m\u001b[1;32m      7\u001b[0m         \u001b[0mtotal\u001b[0m \u001b[0;34m+=\u001b[0m \u001b[0mterm\u001b[0m\u001b[0;34m\u001b[0m\u001b[0m\n\u001b[1;32m      8\u001b[0m         \u001b[0mcount\u001b[0m \u001b[0;34m+=\u001b[0m \u001b[0;36m1\u001b[0m\u001b[0;34m\u001b[0m\u001b[0m\n",
      "\u001b[0;31mGeneratorExit\u001b[0m: "
     ]
    }
   ],
   "source": [
    "av=averager()\n",
    "next(av)\n",
    "av.throw(GeneratorExit())"
   ]
  },
  {
   "cell_type": "code",
   "execution_count": 297,
   "metadata": {
    "collapsed": false
   },
   "outputs": [
    {
     "name": "stdout",
     "output_type": "stream",
     "text": [
      "GEN_CLOSED\n"
     ]
    }
   ],
   "source": [
    "print(getgeneratorstate(av))"
   ]
  },
  {
   "cell_type": "markdown",
   "metadata": {},
   "source": [
    "Here we handle `ValueError`: the exception handling code runs and advances us to the next yield."
   ]
  },
  {
   "cell_type": "code",
   "execution_count": 298,
   "metadata": {
    "collapsed": true
   },
   "outputs": [],
   "source": [
    "def averager2(): \n",
    "    total = 0.0\n",
    "    count = 0 \n",
    "    average = None \n",
    "    while True:\n",
    "        try:\n",
    "            term = yield average\n",
    "        except ValueError:\n",
    "            term=0\n",
    "        total += term\n",
    "        count += 1\n",
    "        average = total/count"
   ]
  },
  {
   "cell_type": "code",
   "execution_count": 299,
   "metadata": {
    "collapsed": false
   },
   "outputs": [
    {
     "data": {
      "text/plain": [
       "0.0"
      ]
     },
     "execution_count": 299,
     "metadata": {},
     "output_type": "execute_result"
    }
   ],
   "source": [
    "av=averager2()\n",
    "next(av)\n",
    "av.throw(ValueError(\"yes\"))"
   ]
  },
  {
   "cell_type": "code",
   "execution_count": 300,
   "metadata": {
    "collapsed": false
   },
   "outputs": [
    {
     "data": {
      "text/plain": [
       "2.5"
      ]
     },
     "execution_count": 300,
     "metadata": {},
     "output_type": "execute_result"
    }
   ],
   "source": [
    "av.send(5)"
   ]
  },
  {
   "cell_type": "code",
   "execution_count": 301,
   "metadata": {
    "collapsed": false
   },
   "outputs": [],
   "source": [
    "av.close()"
   ]
  },
  {
   "cell_type": "markdown",
   "metadata": {},
   "source": [
    "#### Returning a result\n",
    "\n",
    "Notice here that we dont yield a running average, instead doing it as the return. So now we must create a termination condition. as you can see, if we send in a None, we achieve this by breaking the loop."
   ]
  },
  {
   "cell_type": "code",
   "execution_count": 302,
   "metadata": {
    "collapsed": true
   },
   "outputs": [],
   "source": [
    "from collections import namedtuple\n",
    "Result = namedtuple('Result', 'count average')\n",
    "def averager(): \n",
    "    total = 0.0\n",
    "    count = 0 \n",
    "    average = None \n",
    "    while True:\n",
    "        term = yield\n",
    "        if term is None:\n",
    "            break\n",
    "        total += term\n",
    "        count += 1\n",
    "        average = total/count\n",
    "    return Result(count, average)"
   ]
  },
  {
   "cell_type": "code",
   "execution_count": 303,
   "metadata": {
    "collapsed": true
   },
   "outputs": [],
   "source": [
    "av=averager()"
   ]
  },
  {
   "cell_type": "code",
   "execution_count": 304,
   "metadata": {
    "collapsed": true
   },
   "outputs": [],
   "source": [
    "next(av)\n",
    "av.send(5)"
   ]
  },
  {
   "cell_type": "code",
   "execution_count": 305,
   "metadata": {
    "collapsed": true
   },
   "outputs": [],
   "source": [
    "av.send(3)"
   ]
  },
  {
   "cell_type": "code",
   "execution_count": 306,
   "metadata": {
    "collapsed": false
   },
   "outputs": [
    {
     "ename": "StopIteration",
     "evalue": "Result(count=2, average=4.0)",
     "output_type": "error",
     "traceback": [
      "\u001b[0;31m---------------------------------------------------------------------------\u001b[0m",
      "\u001b[0;31mStopIteration\u001b[0m                             Traceback (most recent call last)",
      "\u001b[0;32m<ipython-input-306-1f3b47f68500>\u001b[0m in \u001b[0;36m<module>\u001b[0;34m()\u001b[0m\n\u001b[0;32m----> 1\u001b[0;31m \u001b[0mnext\u001b[0m\u001b[0;34m(\u001b[0m\u001b[0mav\u001b[0m\u001b[0;34m)\u001b[0m\u001b[0;31m#seems to be same as av.send(None)\u001b[0m\u001b[0;34m\u001b[0m\u001b[0m\n\u001b[0m",
      "\u001b[0;31mStopIteration\u001b[0m: Result(count=2, average=4.0)"
     ]
    }
   ],
   "source": [
    "next(av)#seems to be same as av.send(None)"
   ]
  },
  {
   "cell_type": "markdown",
   "metadata": {},
   "source": [
    "It might seem strange that the return value of the coroutine is sent back on the exception. The reason for this is that we want to preserve the semantics of generator objects which come to us from a totally different use case of iteration: the raising of `StopIteration` when exhausted.\n",
    "\n",
    "This will be important a bit later when we see `yield from`. `StopIteration` is handled transparently in loops; similarly, in `yield from` this also happens: indeed we consume the `StopIteration`, and the value sent on it: the result, becomes the ultimate value of the `yield from` expression itself."
   ]
  },
  {
   "cell_type": "markdown",
   "metadata": {},
   "source": [
    "### How Python generators work\n",
    "\n",
    "\n",
    "\n",
    "The standard Python interpreter is written in C. The C function that executes a Python function is called, mellifluously, PyEval_EvalFrameEx. It takes a Python stack frame object and evaluates Python bytecode in the context of the frame.\n",
    "\n",
    "![](http://aosabook.org/en/500L/crawler-images/function-calls.png)\n",
    "\n",
    "But the Python stack frames it manipulates are on the heap. Among other surprises, this means a Python stack frame can outlive its function call. To see this interactively, save the current frame from within bar"
   ]
  },
  {
   "cell_type": "code",
   "execution_count": 308,
   "metadata": {
    "collapsed": false
   },
   "outputs": [],
   "source": [
    "import inspect\n",
    "def foo():\n",
    "    bar()\n",
    "    \n",
    "def bar():\n",
    "    global frame\n",
    "    frame = inspect.currentframe()"
   ]
  },
  {
   "cell_type": "code",
   "execution_count": 309,
   "metadata": {
    "collapsed": false
   },
   "outputs": [],
   "source": [
    "foo()"
   ]
  },
  {
   "cell_type": "code",
   "execution_count": 310,
   "metadata": {
    "collapsed": false
   },
   "outputs": [
    {
     "data": {
      "text/plain": [
       "'bar'"
      ]
     },
     "execution_count": 310,
     "metadata": {},
     "output_type": "execute_result"
    }
   ],
   "source": [
    "frame.f_code.co_name"
   ]
  },
  {
   "cell_type": "code",
   "execution_count": 311,
   "metadata": {
    "collapsed": false
   },
   "outputs": [
    {
     "data": {
      "text/plain": [
       "'foo'"
      ]
     },
     "execution_count": 311,
     "metadata": {},
     "output_type": "execute_result"
    }
   ],
   "source": [
    "caller_frame = frame.f_back\n",
    "caller_frame.f_code.co_name"
   ]
  },
  {
   "cell_type": "code",
   "execution_count": 312,
   "metadata": {
    "collapsed": true
   },
   "outputs": [],
   "source": [
    "\n",
    "#from https://bitbucket.org/yaniv_aknin/pynards/src/c4b61c7a1798766affb49bfba86e485012af6d16/common/blog.py?at=default&fileviewer=file-view-default\n",
    "import dis\n",
    "import types\n",
    "\n",
    "def get_code_object(obj, compilation_mode=\"exec\"):\n",
    "    if isinstance(obj, types.CodeType):\n",
    "        return obj\n",
    "    elif isinstance(obj, types.FrameType):\n",
    "        return obj.f_code\n",
    "    elif isinstance(obj, types.FunctionType):\n",
    "        return obj.__code__\n",
    "    elif isinstance(obj, str):\n",
    "        try:\n",
    "            return compile(obj, \"<string>\", compilation_mode)\n",
    "        except SyntaxError as error:\n",
    "            raise ValueError(\"syntax error in passed string\") from error\n",
    "    else:\n",
    "        raise TypeError(\"get_code_object() can not handle '%s' objects\" %\n",
    "                        (type(obj).__name__,))\n",
    "\n",
    "def diss(obj, mode=\"exec\", recurse=False):\n",
    "    _visit(obj, dis.dis, mode, recurse)\n",
    "\n",
    "def ssc(obj, mode=\"exec\", recurse=False):\n",
    "    _visit(obj, dis.show_code, mode, recurse)\n",
    "\n",
    "def _visit(obj, visitor, mode=\"exec\", recurse=False):\n",
    "    obj = get_code_object(obj, mode)\n",
    "    visitor(obj)\n",
    "    if recurse:\n",
    "        for constant in obj.co_consts:\n",
    "            if type(constant) is type(obj):\n",
    "                print()\n",
    "                print('recursing into %r:' % (constant,))\n",
    "                _visit(constant, visitor, mode, recurse)\n"
   ]
  },
  {
   "cell_type": "code",
   "execution_count": 313,
   "metadata": {
    "collapsed": true
   },
   "outputs": [],
   "source": [
    "def gen():\n",
    "    result = yield 1\n",
    "    print('result of yield', result)\n",
    "    result2 = yield 2\n",
    "    print('result of 2nd yield', result2)\n",
    "    return 'done'"
   ]
  },
  {
   "cell_type": "code",
   "execution_count": 314,
   "metadata": {
    "collapsed": false
   },
   "outputs": [
    {
     "name": "stdout",
     "output_type": "stream",
     "text": [
      "Name:              gen\n",
      "Filename:          <ipython-input-313-b92712d15d36>\n",
      "Argument count:    0\n",
      "Kw-only arguments: 0\n",
      "Number of locals:  2\n",
      "Stack size:        3\n",
      "Flags:             OPTIMIZED, NEWLOCALS, GENERATOR, NOFREE\n",
      "Constants:\n",
      "   0: None\n",
      "   1: 1\n",
      "   2: 'result of yield'\n",
      "   3: 2\n",
      "   4: 'result of 2nd yield'\n",
      "   5: 'done'\n",
      "Names:\n",
      "   0: print\n",
      "Variable names:\n",
      "   0: result\n",
      "   1: result2\n"
     ]
    }
   ],
   "source": [
    "ssc(gen)"
   ]
  },
  {
   "cell_type": "code",
   "execution_count": 315,
   "metadata": {
    "collapsed": false
   },
   "outputs": [
    {
     "data": {
      "text/plain": [
       "True"
      ]
     },
     "execution_count": 315,
     "metadata": {},
     "output_type": "execute_result"
    }
   ],
   "source": [
    "# The generator flag is bit position 5.\n",
    "generator_bit = 1 << 5\n",
    "bool(gen.__code__.co_flags & generator_bit)"
   ]
  },
  {
   "cell_type": "markdown",
   "metadata": {},
   "source": [
    "setting the flag means that python remembers to create a generator, not a function."
   ]
  },
  {
   "cell_type": "code",
   "execution_count": 316,
   "metadata": {
    "collapsed": false
   },
   "outputs": [
    {
     "name": "stdout",
     "output_type": "stream",
     "text": [
      "  2           0 LOAD_CONST               1 (1)\n",
      "              3 YIELD_VALUE\n",
      "              4 STORE_FAST               0 (result)\n",
      "\n",
      "  3           7 LOAD_GLOBAL              0 (print)\n",
      "             10 LOAD_CONST               2 ('result of yield')\n",
      "             13 LOAD_FAST                0 (result)\n",
      "             16 CALL_FUNCTION            2 (2 positional, 0 keyword pair)\n",
      "             19 POP_TOP\n",
      "\n",
      "  4          20 LOAD_CONST               3 (2)\n",
      "             23 YIELD_VALUE\n",
      "             24 STORE_FAST               1 (result2)\n",
      "\n",
      "  5          27 LOAD_GLOBAL              0 (print)\n",
      "             30 LOAD_CONST               4 ('result of 2nd yield')\n",
      "             33 LOAD_FAST                1 (result2)\n",
      "             36 CALL_FUNCTION            2 (2 positional, 0 keyword pair)\n",
      "             39 POP_TOP\n",
      "\n",
      "  6          40 LOAD_CONST               5 ('done')\n",
      "             43 RETURN_VALUE\n"
     ]
    }
   ],
   "source": [
    "diss(gen)"
   ]
  },
  {
   "cell_type": "code",
   "execution_count": 317,
   "metadata": {
    "collapsed": true
   },
   "outputs": [],
   "source": [
    "g=gen()"
   ]
  },
  {
   "cell_type": "code",
   "execution_count": 318,
   "metadata": {
    "collapsed": false
   },
   "outputs": [
    {
     "data": {
      "text/plain": [
       "['__class__',\n",
       " '__del__',\n",
       " '__delattr__',\n",
       " '__dir__',\n",
       " '__doc__',\n",
       " '__eq__',\n",
       " '__format__',\n",
       " '__ge__',\n",
       " '__getattribute__',\n",
       " '__gt__',\n",
       " '__hash__',\n",
       " '__init__',\n",
       " '__iter__',\n",
       " '__le__',\n",
       " '__lt__',\n",
       " '__name__',\n",
       " '__ne__',\n",
       " '__new__',\n",
       " '__next__',\n",
       " '__qualname__',\n",
       " '__reduce__',\n",
       " '__reduce_ex__',\n",
       " '__repr__',\n",
       " '__setattr__',\n",
       " '__sizeof__',\n",
       " '__str__',\n",
       " '__subclasshook__',\n",
       " 'close',\n",
       " 'gi_code',\n",
       " 'gi_frame',\n",
       " 'gi_running',\n",
       " 'gi_yieldfrom',\n",
       " 'send',\n",
       " 'throw']"
      ]
     },
     "execution_count": 318,
     "metadata": {},
     "output_type": "execute_result"
    }
   ],
   "source": [
    "dir(g)"
   ]
  },
  {
   "cell_type": "markdown",
   "metadata": {},
   "source": [
    "There is no `g.__code__` like in functions, but there is s `g.gi_code`."
   ]
  },
  {
   "cell_type": "code",
   "execution_count": 319,
   "metadata": {
    "collapsed": false
   },
   "outputs": [
    {
     "ename": "AttributeError",
     "evalue": "'generator' object has no attribute '__code__'",
     "output_type": "error",
     "traceback": [
      "\u001b[0;31m---------------------------------------------------------------------------\u001b[0m",
      "\u001b[0;31mAttributeError\u001b[0m                            Traceback (most recent call last)",
      "\u001b[0;32m<ipython-input-319-ae27611d79d3>\u001b[0m in \u001b[0;36m<module>\u001b[0;34m()\u001b[0m\n\u001b[0;32m----> 1\u001b[0;31m \u001b[0mg\u001b[0m\u001b[0;34m.\u001b[0m\u001b[0m__code__\u001b[0m\u001b[0;34m\u001b[0m\u001b[0m\n\u001b[0m",
      "\u001b[0;31mAttributeError\u001b[0m: 'generator' object has no attribute '__code__'"
     ]
    }
   ],
   "source": [
    "g.__code__"
   ]
  },
  {
   "cell_type": "code",
   "execution_count": 320,
   "metadata": {
    "collapsed": false
   },
   "outputs": [
    {
     "data": {
      "text/plain": [
       "<code object gen at 0x104cccdb0, file \"<ipython-input-313-b92712d15d36>\", line 1>"
      ]
     },
     "execution_count": 320,
     "metadata": {},
     "output_type": "execute_result"
    }
   ],
   "source": [
    "g.gi_code"
   ]
  },
  {
   "cell_type": "code",
   "execution_count": 321,
   "metadata": {
    "collapsed": false
   },
   "outputs": [
    {
     "data": {
      "text/plain": [
       "'gen'"
      ]
     },
     "execution_count": 321,
     "metadata": {},
     "output_type": "execute_result"
    }
   ],
   "source": [
    "g.gi_code.co_name"
   ]
  },
  {
   "cell_type": "markdown",
   "metadata": {},
   "source": [
    "All generators point to the same code object. But each has its own `PyFrameObject`, a frame on the call stack, except that this frame is NOT on any call stack, but rather, in heap memory, waiting to be used.\n",
    "\n",
    "![](http://aosabook.org/en/500L/crawler-images/generator.png)\n",
    "\n",
    "Look at `f_lasti`, which is the last instruction in the bytecode. This is not particular to generators. Generator isnt started yet."
   ]
  },
  {
   "cell_type": "code",
   "execution_count": 322,
   "metadata": {
    "collapsed": false
   },
   "outputs": [
    {
     "data": {
      "text/plain": [
       "(-1, False)"
      ]
     },
     "execution_count": 322,
     "metadata": {},
     "output_type": "execute_result"
    }
   ],
   "source": [
    "g.gi_frame.f_lasti, g.gi_running"
   ]
  },
  {
   "cell_type": "code",
   "execution_count": 323,
   "metadata": {
    "collapsed": false
   },
   "outputs": [
    {
     "data": {
      "text/plain": [
       "1"
      ]
     },
     "execution_count": 323,
     "metadata": {},
     "output_type": "execute_result"
    }
   ],
   "source": [
    "next(g)"
   ]
  },
  {
   "cell_type": "code",
   "execution_count": 324,
   "metadata": {
    "collapsed": false
   },
   "outputs": [
    {
     "data": {
      "text/plain": [
       "(3, False)"
      ]
     },
     "execution_count": 324,
     "metadata": {},
     "output_type": "execute_result"
    }
   ],
   "source": [
    "g.gi_frame.f_lasti, g.gi_running"
   ]
  },
  {
   "cell_type": "markdown",
   "metadata": {},
   "source": [
    "Because the generators stack frame was actually never put on the call stack, it can be resumed by ANY caller. Its not stuck to the LIFO/FILO nature of regular function execution.\n",
    "\n",
    "The generator can be resumed at any time, from any function, because its stack frame is not actually on the stack: it is on the heap. Its position in the call hierarchy is not fixed, and it need not obey the first-in, last-out order of execution that regular functions do. It is liberated, floating free like a cloud.\n",
    "\n",
    "```python\n",
    "def gen():\n",
    "    result = yield 1\n",
    "    print('result of yield', result)\n",
    "    result2 = yield 2\n",
    "    print('result of 2nd yield', result2)\n",
    "    return 'done'\n",
    "```"
   ]
  },
  {
   "cell_type": "code",
   "execution_count": 325,
   "metadata": {
    "collapsed": false
   },
   "outputs": [
    {
     "name": "stdout",
     "output_type": "stream",
     "text": [
      "result of yield a\n"
     ]
    },
    {
     "data": {
      "text/plain": [
       "2"
      ]
     },
     "execution_count": 325,
     "metadata": {},
     "output_type": "execute_result"
    }
   ],
   "source": [
    "g.send('a')"
   ]
  },
  {
   "cell_type": "code",
   "execution_count": 326,
   "metadata": {
    "collapsed": false
   },
   "outputs": [
    {
     "data": {
      "text/plain": [
       "{'result': 'a'}"
      ]
     },
     "execution_count": 326,
     "metadata": {},
     "output_type": "execute_result"
    }
   ],
   "source": [
    "g.gi_frame.f_locals"
   ]
  },
  {
   "cell_type": "code",
   "execution_count": 327,
   "metadata": {
    "collapsed": false
   },
   "outputs": [
    {
     "data": {
      "text/plain": [
       "(23, False)"
      ]
     },
     "execution_count": 327,
     "metadata": {},
     "output_type": "execute_result"
    }
   ],
   "source": [
    "g.gi_frame.f_lasti, g.gi_running"
   ]
  },
  {
   "cell_type": "code",
   "execution_count": 328,
   "metadata": {
    "collapsed": false
   },
   "outputs": [
    {
     "name": "stdout",
     "output_type": "stream",
     "text": [
      "result of 2nd yield b\n"
     ]
    },
    {
     "ename": "StopIteration",
     "evalue": "done",
     "output_type": "error",
     "traceback": [
      "\u001b[0;31m---------------------------------------------------------------------------\u001b[0m",
      "\u001b[0;31mStopIteration\u001b[0m                             Traceback (most recent call last)",
      "\u001b[0;32m<ipython-input-328-1a1000f83860>\u001b[0m in \u001b[0;36m<module>\u001b[0;34m()\u001b[0m\n\u001b[0;32m----> 1\u001b[0;31m \u001b[0mg\u001b[0m\u001b[0;34m.\u001b[0m\u001b[0msend\u001b[0m\u001b[0;34m(\u001b[0m\u001b[0;34m'b'\u001b[0m\u001b[0;34m)\u001b[0m\u001b[0;34m\u001b[0m\u001b[0m\n\u001b[0m",
      "\u001b[0;31mStopIteration\u001b[0m: done"
     ]
    }
   ],
   "source": [
    "g.send('b')"
   ]
  },
  {
   "cell_type": "markdown",
   "metadata": {},
   "source": [
    "So, lets recap\n",
    "\n",
    "- a generator can pause at a yield\n",
    "- can be resumed with a new value thrown in\n",
    "- can return a value.\n"
   ]
  },
  {
   "cell_type": "markdown",
   "metadata": {},
   "source": [
    "### `yield from`\n",
    "\n",
    "`yield from` should have been called `await`, and indeed there is an `await` in `asyncio` in Python 3.5. \n",
    "\n",
    "We saw it first some time back when we used it in a generator:"
   ]
  },
  {
   "cell_type": "code",
   "execution_count": 329,
   "metadata": {
    "collapsed": true
   },
   "outputs": [],
   "source": [
    "def gen2():\n",
    "    yield from 'AB'\n",
    "    yield from range(3)"
   ]
  },
  {
   "cell_type": "code",
   "execution_count": 330,
   "metadata": {
    "collapsed": false
   },
   "outputs": [
    {
     "data": {
      "text/plain": [
       "['A', 'B', 0, 1, 2]"
      ]
     },
     "execution_count": 330,
     "metadata": {},
     "output_type": "execute_result"
    }
   ],
   "source": [
    "list(gen2())"
   ]
  },
  {
   "cell_type": "markdown",
   "metadata": {},
   "source": [
    "The critical point about `yield from` is this: **when a generator `delegen` (delegating generator) calls `yield from subgen()`, `subgen` takes over and will yield values to the caller of `delegen`. Meanwhile `delgen` blocks until `subgen` terminates**.\n",
    "\n",
    "Here is the subgenerator: our usual averaging function. Its a standard generator, setting up some kind of iterative process (a generator IS an iterator, indeed doing iter(object) is similar to doing gen())"
   ]
  },
  {
   "cell_type": "code",
   "execution_count": 331,
   "metadata": {
    "collapsed": true
   },
   "outputs": [],
   "source": [
    "from collections import namedtuple\n",
    "Result = namedtuple('Result', 'count average')\n",
    "def averager_subgen():\n",
    "    print(\"    |sg>starting subgen\")\n",
    "    total = 0.0\n",
    "    count = 0 \n",
    "    average = None \n",
    "    while True:\n",
    "        print(\"    |sg>  average yielded out\", average)\n",
    "        term = yield average\n",
    "        print(\"    |sg>  term sent in\", term)\n",
    "        if term is None:\n",
    "            break\n",
    "        total += term\n",
    "        count += 1\n",
    "        average = total/count\n",
    "    return Result(count, average)"
   ]
  },
  {
   "cell_type": "markdown",
   "metadata": {},
   "source": [
    "These are two slightly different delegating generators. A delegating generator is one that does the `yield from`. Itis a strange beast. It opens up a **bi-directional channel** from the outermost caller to the innermosr sub-generator. Values can be thrown in and exceptions thrown out right through this channel. Here we create a channel with only one intermediary. But there is no reason there cant be many: we could have set up our online average and median calculations this way."
   ]
  },
  {
   "cell_type": "code",
   "execution_count": 332,
   "metadata": {
    "collapsed": true
   },
   "outputs": [],
   "source": [
    "def average_my_values_delegen_simple():\n",
    "    agen = averager_subgen()\n",
    "    print(\"  |dg>created a new averager\",id(agen))\n",
    "    overall_av = yield from agen\n",
    "    #yield from consumes all the values, like a list\n",
    "    #not an individual value\n",
    "    print(\"  |dg>now\", overall_av)\n",
    "    return overall_av\n"
   ]
  },
  {
   "cell_type": "code",
   "execution_count": 155,
   "metadata": {
    "collapsed": false
   },
   "outputs": [],
   "source": [
    "def average_my_values_delegen():\n",
    "    #agen = averager()\n",
    "    while True:\n",
    "        print('  |dg>+++++++++++++++')\n",
    "        agen = averager_subgen()\n",
    "        print(\"  |dg>created a new averager\",id(agen))\n",
    "        overall_av = yield from agen\n",
    "        #yield from consumes all the values, like a list\n",
    "        #not an individual value\n",
    "        print(\"  |dg>now\", overall_av)\n",
    "    print(\"OVERALL AV\", overall_av)\n",
    "    return overall_av\n"
   ]
  },
  {
   "cell_type": "code",
   "execution_count": 333,
   "metadata": {
    "collapsed": false
   },
   "outputs": [],
   "source": [
    "values_to_send=[1,2,3,4,5,6]"
   ]
  },
  {
   "cell_type": "code",
   "execution_count": 334,
   "metadata": {
    "collapsed": false
   },
   "outputs": [
    {
     "name": "stdout",
     "output_type": "stream",
     "text": [
      "1. creating delegating generator\n",
      "2. priming till yield from by sending in None\n",
      "  |dg>created a new averager 4375317496\n",
      "    |sg>starting subgen\n",
      "    |sg>  average yielded out None\n",
      "3. in loop after first yield, None sent in\n",
      ">>sending term 1\n",
      "    |sg>  term sent in 1\n",
      "    |sg>  average yielded out 1.0\n",
      "<<getting running average 1.0\n",
      ">>sending term 2\n",
      "    |sg>  term sent in 2\n",
      "    |sg>  average yielded out 1.5\n",
      "<<getting running average 1.5\n",
      ">>sending term 3\n",
      "    |sg>  term sent in 3\n",
      "    |sg>  average yielded out 2.0\n",
      "<<getting running average 2.0\n",
      ">>sending term 4\n",
      "    |sg>  term sent in 4\n",
      "    |sg>  average yielded out 2.5\n",
      "<<getting running average 2.5\n",
      ">>sending term 5\n",
      "    |sg>  term sent in 5\n",
      "    |sg>  average yielded out 3.0\n",
      "<<getting running average 3.0\n",
      ">>sending term 6\n",
      "    |sg>  term sent in 6\n",
      "    |sg>  average yielded out 3.5\n",
      "<<getting running average 3.5\n",
      "4. Sending in None to terminate\n",
      "    |sg>  term sent in None\n",
      "  |dg>now Result(count=6, average=3.5)\n"
     ]
    },
    {
     "ename": "StopIteration",
     "evalue": "Result(count=6, average=3.5)",
     "output_type": "error",
     "traceback": [
      "\u001b[0;31m---------------------------------------------------------------------------\u001b[0m",
      "\u001b[0;31mStopIteration\u001b[0m                             Traceback (most recent call last)",
      "\u001b[0;32m<ipython-input-334-b05ef8130ddf>\u001b[0m in \u001b[0;36m<module>\u001b[0;34m()\u001b[0m\n\u001b[1;32m      9\u001b[0m     \u001b[0mprint\u001b[0m\u001b[0;34m(\u001b[0m\u001b[0;34m'<<getting running average'\u001b[0m\u001b[0;34m,\u001b[0m \u001b[0mout\u001b[0m\u001b[0;34m)\u001b[0m\u001b[0;34m\u001b[0m\u001b[0m\n\u001b[1;32m     10\u001b[0m \u001b[0mprint\u001b[0m\u001b[0;34m(\u001b[0m\u001b[0;34m\"4. Sending in None to terminate\"\u001b[0m\u001b[0;34m)\u001b[0m\u001b[0;34m\u001b[0m\u001b[0m\n\u001b[0;32m---> 11\u001b[0;31m \u001b[0mout\u001b[0m \u001b[0;34m=\u001b[0m \u001b[0mdelegating_gen\u001b[0m\u001b[0;34m.\u001b[0m\u001b[0msend\u001b[0m\u001b[0;34m(\u001b[0m\u001b[0;32mNone\u001b[0m\u001b[0;34m)\u001b[0m\u001b[0;34m\u001b[0m\u001b[0m\n\u001b[0m\u001b[1;32m     12\u001b[0m \u001b[0mprint\u001b[0m\u001b[0;34m(\u001b[0m\u001b[0;34m'<<getting running average'\u001b[0m\u001b[0;34m,\u001b[0m \u001b[0mout\u001b[0m\u001b[0;34m)\u001b[0m\u001b[0;34m\u001b[0m\u001b[0m\n\u001b[1;32m     13\u001b[0m \u001b[0mprint\u001b[0m\u001b[0;34m(\u001b[0m\u001b[0;34m\"5. DONE\"\u001b[0m\u001b[0;34m)\u001b[0m\u001b[0;34m\u001b[0m\u001b[0m\n",
      "\u001b[0;31mStopIteration\u001b[0m: Result(count=6, average=3.5)"
     ]
    }
   ],
   "source": [
    "print(\"1. creating delegating generator\")\n",
    "delegating_gen = average_my_values_delegen_simple()\n",
    "print(\"2. priming till yield from by sending in None\")\n",
    "next(delegating_gen)#priming\n",
    "print(\"3. in loop after first yield, None sent in\")\n",
    "for value in values_to_send:\n",
    "    print(\">>sending term\",value)\n",
    "    out = delegating_gen.send(value)\n",
    "    print('<<getting running average', out)\n",
    "print(\"4. Sending in None to terminate\")\n",
    "out = delegating_gen.send(None)\n",
    "print('<<getting running average', out)\n",
    "print(\"5. DONE\")"
   ]
  },
  {
   "cell_type": "code",
   "execution_count": 170,
   "metadata": {
    "collapsed": false
   },
   "outputs": [
    {
     "name": "stdout",
     "output_type": "stream",
     "text": [
      "1. creating delegating generator\n",
      "2. priming till yield from by sending in None\n",
      "  |dg>+++++++++++++++\n",
      "  |dg>created a new averager 4375318376\n",
      "    |sg>starting subgen\n",
      "    |sg>  average yielded out None\n",
      "3. in loop after first yield, None sent in\n",
      ">>sending term 1\n",
      "    |sg>  term sent in 1\n",
      "    |sg>  average yielded out 1.0\n",
      "<<getting running average 1.0\n",
      ">>sending term 2\n",
      "    |sg>  term sent in 2\n",
      "    |sg>  average yielded out 1.5\n",
      "<<getting running average 1.5\n",
      ">>sending term 3\n",
      "    |sg>  term sent in 3\n",
      "    |sg>  average yielded out 2.0\n",
      "<<getting running average 2.0\n",
      ">>sending term 4\n",
      "    |sg>  term sent in 4\n",
      "    |sg>  average yielded out 2.5\n",
      "<<getting running average 2.5\n",
      ">>sending term 5\n",
      "    |sg>  term sent in 5\n",
      "    |sg>  average yielded out 3.0\n",
      "<<getting running average 3.0\n",
      ">>sending term 6\n",
      "    |sg>  term sent in 6\n",
      "    |sg>  average yielded out 3.5\n",
      "<<getting running average 3.5\n",
      "4. Sending in None to terminate\n",
      "    |sg>  term sent in None\n",
      "  |dg>now Result(count=6, average=3.5)\n",
      "  |dg>+++++++++++++++\n",
      "  |dg>created a new averager 4375317408\n",
      "    |sg>starting subgen\n",
      "    |sg>  average yielded out None\n",
      "<<getting running average outside None\n",
      "5. DONE\n"
     ]
    }
   ],
   "source": [
    "print(\"1. creating delegating generator\")\n",
    "delegating_gen = average_my_values_delegen()\n",
    "print(\"2. priming till yield from by sending in None\")\n",
    "next(delegating_gen)#priming\n",
    "print(\"3. in loop after first yield, None sent in\")\n",
    "for value in values_to_send:\n",
    "    print(\">>sending term\",value)\n",
    "    out = delegating_gen.send(value)\n",
    "    print('<<getting running average', out)\n",
    "print(\"4. Sending in None to terminate\")\n",
    "out = delegating_gen.send(None)\n",
    "print('<<getting running average outside', out)\n",
    "print(\"5. DONE\")"
   ]
  },
  {
   "cell_type": "markdown",
   "metadata": {},
   "source": [
    "Notice that the two delegating generators behave a bit differently. In `delegen_simple` a `StopIteration` is propagated up. In `delegen` this exception is handled. How did this happen? \n",
    "\n",
    "The reason is that in the `simple` case, the delegating generator is still a generator and it hits the `return` statement, which then causes a `StopIteration` with the return value. So the exception comes from the delegating generator. (The `overall_av = yield from agen` ends cleanly: delegating generators, just like list iteration, terminate their subgenerators properly)\n",
    "\n",
    "In the non-simple case, the delegating generator instance never returns and thus no StopIteration. What happens instead is that a new sub-generator is created and suspended after yielding out None. The delegating generator is also suspended until we send in something and we get our repl. The return never reached."
   ]
  },
  {
   "cell_type": "code",
   "execution_count": 171,
   "metadata": {
    "collapsed": false
   },
   "outputs": [
    {
     "name": "stdout",
     "output_type": "stream",
     "text": [
      "    |sg>  term sent in None\n",
      "  |dg>now Result(count=0, average=None)\n",
      "  |dg>+++++++++++++++\n",
      "  |dg>created a new averager 4375103888\n",
      "    |sg>starting subgen\n",
      "    |sg>  average yielded out None\n"
     ]
    }
   ],
   "source": [
    "delegating_gen.send(None)"
   ]
  },
  {
   "cell_type": "markdown",
   "metadata": {},
   "source": [
    "And ad-infinitum unless we explicitly close(send in GeneratorExit and handle it thrown back out)"
   ]
  },
  {
   "cell_type": "code",
   "execution_count": 173,
   "metadata": {
    "collapsed": true
   },
   "outputs": [],
   "source": [
    "delegating_gen.close()"
   ]
  },
  {
   "cell_type": "code",
   "execution_count": 172,
   "metadata": {
    "collapsed": false
   },
   "outputs": [
    {
     "ename": "GeneratorExit",
     "evalue": "",
     "output_type": "error",
     "traceback": [
      "\u001b[0;31m---------------------------------------------------------------------------\u001b[0m",
      "\u001b[0;31mGeneratorExit\u001b[0m                             Traceback (most recent call last)",
      "\u001b[0;32m<ipython-input-172-6386ceb97c3d>\u001b[0m in \u001b[0;36m<module>\u001b[0;34m()\u001b[0m\n\u001b[0;32m----> 1\u001b[0;31m \u001b[0mdelegating_gen\u001b[0m\u001b[0;34m.\u001b[0m\u001b[0mthrow\u001b[0m\u001b[0;34m(\u001b[0m\u001b[0mGeneratorExit\u001b[0m\u001b[0;34m)\u001b[0m\u001b[0;34m\u001b[0m\u001b[0m\n\u001b[0m",
      "\u001b[0;32m<ipython-input-155-5597284b9568>\u001b[0m in \u001b[0;36maverage_my_values_delegen\u001b[0;34m()\u001b[0m\n\u001b[1;32m      5\u001b[0m         \u001b[0magen\u001b[0m \u001b[0;34m=\u001b[0m \u001b[0maverager_subgen\u001b[0m\u001b[0;34m(\u001b[0m\u001b[0;34m)\u001b[0m\u001b[0;34m\u001b[0m\u001b[0m\n\u001b[1;32m      6\u001b[0m         \u001b[0mprint\u001b[0m\u001b[0;34m(\u001b[0m\u001b[0;34m\"  |dg>created a new averager\"\u001b[0m\u001b[0;34m,\u001b[0m\u001b[0mid\u001b[0m\u001b[0;34m(\u001b[0m\u001b[0magen\u001b[0m\u001b[0;34m)\u001b[0m\u001b[0;34m)\u001b[0m\u001b[0;34m\u001b[0m\u001b[0m\n\u001b[0;32m----> 7\u001b[0;31m         \u001b[0moverall_av\u001b[0m \u001b[0;34m=\u001b[0m \u001b[0;32myield\u001b[0m \u001b[0;32mfrom\u001b[0m \u001b[0magen\u001b[0m\u001b[0;34m\u001b[0m\u001b[0m\n\u001b[0m\u001b[1;32m      8\u001b[0m         \u001b[0;31m#yield from consumes all the values, like a list\u001b[0m\u001b[0;34m\u001b[0m\u001b[0;34m\u001b[0m\u001b[0m\n\u001b[1;32m      9\u001b[0m         \u001b[0;31m#not an individual value\u001b[0m\u001b[0;34m\u001b[0m\u001b[0;34m\u001b[0m\u001b[0m\n",
      "\u001b[0;31mGeneratorExit\u001b[0m: "
     ]
    }
   ],
   "source": [
    "delegating_gen.throw(GeneratorExit)"
   ]
  },
  {
   "cell_type": "markdown",
   "metadata": {},
   "source": [
    "Lets make a summary of the rules of delegation using `yield from`.\n",
    "\n",
    "#### Summary of the rules of `yield from`\n",
    "\n",
    "- yielded values from subgen go to caller (as if the delegating generator was yielding upward)\n",
    "- sent in values from caller go to subgen, is not None, they trigger `send` on the subgen\n",
    "- delegating gen blocks until subgen stop-iterates and collects its return value: the termination is clean, like in a list iteration.\n",
    "- -f `next` is called, or `None` is senr in, the subgens `__next__()` is called, which can result in a `StopIteration`, which resumes the delegating gen at the `yield from` statement.\n",
    "- return BLA in gen => StopIteration(BLA) is raised on exit from that gen. This is true of the subgen, and this argument becomes the value of the `yield from` expression\n",
    "- notice we didnt prime the subgen. `yield from` does this for us, advancing us to the first `yield` in the subgen.\n",
    "\n",
    "There are some subtleties associated with exception handling. Quoting from Fluent:\n",
    "\n",
    "> \n",
    "- Exceptions other than GeneratorExit thrown into the delegating generator are passed to the throw() method of the subgenerator. If the call raises StopItera tion, the delegating generator is resumed. Any other exception is propagated to the delegating generator.\n",
    "- If a GeneratorExit exception is thrown into the delegating generator, or the close() method of the delegating generator is called, then the close() method of the subgenerator is called if it has one. If this call results in an exception, it is propagated to the delegating generator. Otherwise, GeneratorExit is raised in the delegating generator."
   ]
  },
  {
   "cell_type": "markdown",
   "metadata": {},
   "source": [
    "#### Implementing `yield from`\n",
    "\n",
    "Perhaps seeing a simplified implementation of `yield from` might help. From fluent:\n",
    "\n",
    "```python\n",
    "_i = iter(EXPR) #subgenerator\n",
    "try:\n",
    "    _y = next(_i) #do priming automatically\n",
    "except StopIteration as _e:\n",
    "    _r = _e.value #get value of StopIteration as result on exception\n",
    "else: # if first next was successful, then\n",
    "    while 1: #sit in a loop, blocking us\n",
    "        _s = yield _y #yield the current value from the subgen upwards; then wait for a value _s from caller\n",
    "        try:\n",
    "            _y = _i.send(_s)#send subgen _s\n",
    "            #store what it yields in _y, go back to top ofloop\n",
    "        except StopIteration as _e: #if subgen StopIterated\n",
    "            _r = _e.value#set result and exit loop, unblocking us\n",
    "            break\n",
    "RESULT = _r\n",
    "```\n"
   ]
  },
  {
   "cell_type": "markdown",
   "metadata": {},
   "source": [
    "### How does `yield from` work?"
   ]
  },
  {
   "cell_type": "code",
   "execution_count": 203,
   "metadata": {
    "collapsed": true
   },
   "outputs": [],
   "source": [
    "def subgen():\n",
    "    result1 = yield 1\n",
    "    print('sg yield 1: ', result1)\n",
    "    result2 = yield 2\n",
    "    print('sg yield 2: ', result2)\n",
    "    return 'done'\n",
    "sg=subgen()"
   ]
  },
  {
   "cell_type": "markdown",
   "metadata": {},
   "source": [
    "To call this generator from another generator, delegate to it with yield from:\n"
   ]
  },
  {
   "cell_type": "code",
   "execution_count": 204,
   "metadata": {
    "collapsed": true
   },
   "outputs": [],
   "source": [
    "def delegen():\n",
    "    sg = subgen()\n",
    "    rv = yield from sg\n",
    "    print('return value of yield-from',rv)"
   ]
  },
  {
   "cell_type": "code",
   "execution_count": 205,
   "metadata": {
    "collapsed": true
   },
   "outputs": [],
   "source": [
    "dg = delegen()"
   ]
  },
  {
   "cell_type": "code",
   "execution_count": 206,
   "metadata": {
    "collapsed": false
   },
   "outputs": [
    {
     "name": "stdout",
     "output_type": "stream",
     "text": [
      "  2           0 LOAD_GLOBAL              0 (subgen)\n",
      "              3 CALL_FUNCTION            0 (0 positional, 0 keyword pair)\n",
      "              6 STORE_FAST               0 (sg)\n",
      "\n",
      "  3           9 LOAD_FAST                0 (sg)\n",
      "             12 GET_YIELD_FROM_ITER\n",
      "             13 LOAD_CONST               0 (None)\n",
      "             16 YIELD_FROM\n",
      "             17 STORE_FAST               1 (rv)\n",
      "\n",
      "  4          20 LOAD_GLOBAL              1 (print)\n",
      "             23 LOAD_CONST               1 ('return value of yield-from')\n",
      "             26 LOAD_FAST                1 (rv)\n",
      "             29 CALL_FUNCTION            2 (2 positional, 0 keyword pair)\n",
      "             32 POP_TOP\n",
      "             33 LOAD_CONST               0 (None)\n",
      "             36 RETURN_VALUE\n"
     ]
    }
   ],
   "source": [
    "dis.dis(dg)"
   ]
  },
  {
   "cell_type": "code",
   "execution_count": 213,
   "metadata": {
    "collapsed": false
   },
   "outputs": [
    {
     "name": "stdout",
     "output_type": "stream",
     "text": [
      "Name:              delegen\n",
      "Filename:          <ipython-input-204-32124c079646>\n",
      "Argument count:    0\n",
      "Kw-only arguments: 0\n",
      "Number of locals:  2\n",
      "Stack size:        3\n",
      "Flags:             OPTIMIZED, NEWLOCALS, GENERATOR, NOFREE\n",
      "Constants:\n",
      "   0: None\n",
      "   1: 'return value of yield-from'\n",
      "Names:\n",
      "   0: subgen\n",
      "   1: print\n",
      "Variable names:\n",
      "   0: sg\n",
      "   1: rv\n"
     ]
    }
   ],
   "source": [
    "dis.show_code(dg)"
   ]
  },
  {
   "cell_type": "code",
   "execution_count": 207,
   "metadata": {
    "collapsed": false
   },
   "outputs": [
    {
     "data": {
      "text/plain": [
       "1"
      ]
     },
     "execution_count": 207,
     "metadata": {},
     "output_type": "execute_result"
    }
   ],
   "source": [
    "dg.send(None)"
   ]
  },
  {
   "cell_type": "code",
   "execution_count": 208,
   "metadata": {
    "collapsed": false
   },
   "outputs": [
    {
     "data": {
      "text/plain": [
       "15"
      ]
     },
     "execution_count": 208,
     "metadata": {},
     "output_type": "execute_result"
    }
   ],
   "source": [
    "dg.gi_frame.f_lasti"
   ]
  },
  {
   "cell_type": "code",
   "execution_count": 209,
   "metadata": {
    "collapsed": false
   },
   "outputs": [
    {
     "name": "stdout",
     "output_type": "stream",
     "text": [
      "sg yield 1:  5\n"
     ]
    },
    {
     "data": {
      "text/plain": [
       "2"
      ]
     },
     "execution_count": 209,
     "metadata": {},
     "output_type": "execute_result"
    }
   ],
   "source": [
    "dg.send(5)"
   ]
  },
  {
   "cell_type": "code",
   "execution_count": 210,
   "metadata": {
    "collapsed": false
   },
   "outputs": [
    {
     "data": {
      "text/plain": [
       "15"
      ]
     },
     "execution_count": 210,
     "metadata": {},
     "output_type": "execute_result"
    }
   ],
   "source": [
    "dg.gi_frame.f_lasti"
   ]
  },
  {
   "cell_type": "markdown",
   "metadata": {},
   "source": [
    "We are stuck in the bytecode at the yield-from..."
   ]
  },
  {
   "cell_type": "code",
   "execution_count": 211,
   "metadata": {
    "collapsed": false
   },
   "outputs": [
    {
     "name": "stdout",
     "output_type": "stream",
     "text": [
      "sg yield 2:  hello\n",
      "return value of yield-from done\n"
     ]
    },
    {
     "ename": "StopIteration",
     "evalue": "",
     "output_type": "error",
     "traceback": [
      "\u001b[0;31m---------------------------------------------------------------------------\u001b[0m",
      "\u001b[0;31mStopIteration\u001b[0m                             Traceback (most recent call last)",
      "\u001b[0;32m<ipython-input-211-0ff7494da9c9>\u001b[0m in \u001b[0;36m<module>\u001b[0;34m()\u001b[0m\n\u001b[0;32m----> 1\u001b[0;31m \u001b[0mdg\u001b[0m\u001b[0;34m.\u001b[0m\u001b[0msend\u001b[0m\u001b[0;34m(\u001b[0m\u001b[0;34m\"hello\"\u001b[0m\u001b[0;34m)\u001b[0m\u001b[0;34m\u001b[0m\u001b[0m\n\u001b[0m",
      "\u001b[0;31mStopIteration\u001b[0m: "
     ]
    }
   ],
   "source": [
    "dg.send(\"hello\")"
   ]
  },
  {
   "cell_type": "markdown",
   "metadata": {},
   "source": [
    "Notice that the delegating generator does not advance. Meanwhile the inner generator advances from one yield statement to the next. From the point of view of the REPL (us as the client in the REPL), we cant tell where the values yielded us are coming from, and where the values we send are going. Ditto inside the subgen: we dont know where the values are coming from. \n"
   ]
  },
  {
   "cell_type": "markdown",
   "metadata": {},
   "source": [
    "### An example: grouping using `yield from`.\n",
    "\n",
    "This example is taken directly from Fluent and should now be easy to understand..."
   ]
  },
  {
   "cell_type": "code",
   "execution_count": 159,
   "metadata": {
    "collapsed": true
   },
   "outputs": [],
   "source": [
    "d={'a':[1,2,4,5],'b':[11,12,13,14]}"
   ]
  },
  {
   "cell_type": "code",
   "execution_count": 160,
   "metadata": {
    "collapsed": true
   },
   "outputs": [],
   "source": [
    "#subgenerator\n",
    "def averager(): \n",
    "    total = 0.0\n",
    "    count = 0 \n",
    "    average = None \n",
    "    while True:\n",
    "        term = yield\n",
    "        if term is None:\n",
    "            break\n",
    "        total += term\n",
    "        count += 1\n",
    "        average = total/count\n",
    "    return Result(count, average)"
   ]
  },
  {
   "cell_type": "code",
   "execution_count": 164,
   "metadata": {
    "collapsed": true
   },
   "outputs": [],
   "source": [
    "#delegating generator\n",
    "def grouper(results, key): \n",
    "    while True:\n",
    "        avg = averager()\n",
    "        print(\"new averager\", key, avg)\n",
    "        results[key] = yield from avg#bi-directional channel"
   ]
  },
  {
   "cell_type": "code",
   "execution_count": 165,
   "metadata": {
    "collapsed": false
   },
   "outputs": [],
   "source": [
    "def main(data): \n",
    "    results = {}\n",
    "    for key, values in data.items(): \n",
    "        group = grouper(results, key) \n",
    "        next(group)#averager \"instance\" created here, and advanced\n",
    "        #sub-generator is automatically primed\n",
    "        for value in values:\n",
    "            group.send(value) \n",
    "        group.send(None) # important!\n",
    "    print(results)"
   ]
  },
  {
   "cell_type": "code",
   "execution_count": 166,
   "metadata": {
    "collapsed": false
   },
   "outputs": [
    {
     "name": "stdout",
     "output_type": "stream",
     "text": [
      "new averager a <generator object averager at 0x103b9cc50>\n",
      "new averager a <generator object averager at 0x104c9dba0>\n",
      "new averager b <generator object averager at 0x1038987d8>\n",
      "new averager b <generator object averager at 0x104c9dba0>\n",
      "{'a': Result(count=4, average=3.0), 'b': Result(count=4, average=12.5)}\n"
     ]
    }
   ],
   "source": [
    "main(d)"
   ]
  }
 ],
 "metadata": {
  "kernelspec": {
   "display_name": "Python 3",
   "language": "python",
   "name": "python3"
  },
  "language_info": {
   "codemirror_mode": {
    "name": "ipython",
    "version": 3
   },
   "file_extension": ".py",
   "mimetype": "text/x-python",
   "name": "python",
   "nbconvert_exporter": "python",
   "pygments_lexer": "ipython3",
   "version": "3.5.1"
  }
 },
 "nbformat": 4,
 "nbformat_minor": 0
}
