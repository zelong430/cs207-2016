{
 "cells": [
  {
   "cell_type": "markdown",
   "metadata": {},
   "source": [
    "## The structure of languages\n",
    "\n",
    "We will see in detail today the code for a lispy calculator we'll call `stupidlang`, focusing on environment frames as opposed to parsing. The parsing code is provided here, we shall talk about it later.\n",
    "\n",
    "This interpreter essentionally reproduces lis.py from Peter Norvig, but stripped down, and simpler. Go read his posts. Our reasoning for doing this is to expose you to some features of python, the use of closures to develop objects with state, and to see some basics of how a language works.\n",
    "\n",
    "We'll then switch to a birds eye view on how python works."
   ]
  },
  {
   "cell_type": "markdown",
   "metadata": {},
   "source": [
    "### Environment Implementation\n",
    "\n",
    "Our initial implementation of this language will be rough and tumble, but we'll separate it into different files, separate interface from implementation, and package it up nicely as the semester goes...\n",
    "\n",
    "Indeed we will replace some of our closure-based implementations here by classes.\n",
    "\n",
    "#### Nested Environment Frames\n",
    "\n",
    "We implement an environment as frames nested, with the outer(upper) environment captured as a closure.\n"
   ]
  },
  {
   "cell_type": "code",
   "execution_count": 1,
   "metadata": {
    "collapsed": true
   },
   "outputs": [],
   "source": [
    "def function_env(outerenv = None):\n",
    "    bindings={}\n",
    "    def lookup(variable):\n",
    "        try:\n",
    "            found = bindings[variable]\n",
    "            env = dispatch\n",
    "        except KeyError:#not found inside, so go to the outer\n",
    "            if outerenv is not None:\n",
    "                found, env = outerenv('lookup', variable)\n",
    "            else:\n",
    "                raise NameError(\"{} <<>> not found in Environment\".format(variable))\n",
    "        return found, env\n",
    "    def extend(variable, value):\n",
    "        bindings[variable] = value       \n",
    "    def extend_many(envtuples):#update can use a list of k,v tuples\n",
    "        bindings.update(envtuples)\n",
    "    def printit():#leak it read-only for debugging\n",
    "        return bindings\n",
    "    #The dispatch function is what is returned\n",
    "    def dispatch(message, variable=None, value=None):\n",
    "        if message == 'lookup':\n",
    "            return lookup(variable)\n",
    "        elif message == 'extend':\n",
    "            return extend(variable, value)\n",
    "        elif message == 'extend_many':\n",
    "            return extend_many(value)\n",
    "        elif message == 'printit':\n",
    "            return printit()\n",
    "    return dispatch\n",
    "    "
   ]
  },
  {
   "cell_type": "code",
   "execution_count": 2,
   "metadata": {
    "collapsed": false
   },
   "outputs": [
    {
     "data": {
      "text/plain": [
       "{'a': 5, 'b': 1, 'c': 2}"
      ]
     },
     "execution_count": 2,
     "metadata": {},
     "output_type": "execute_result"
    }
   ],
   "source": [
    "tryenv=function_env()\n",
    "tryenv(\"extend\", 'a', 5)\n",
    "tups=[('b', 1), ('c', 2)]\n",
    "tryenv(\"extend_many\", None, tups)\n",
    "tryenv('printit')"
   ]
  },
  {
   "cell_type": "code",
   "execution_count": 3,
   "metadata": {
    "collapsed": false
   },
   "outputs": [
    {
     "data": {
      "text/plain": [
       "(55, 5)"
      ]
     },
     "execution_count": 3,
     "metadata": {},
     "output_type": "execute_result"
    }
   ],
   "source": [
    "try2env=function_env(tryenv)\n",
    "tryenv(\"extend\", 'd', 55)\n",
    "try2env(\"lookup\",'d')[0], try2env(\"lookup\",'a')[0]"
   ]
  },
  {
   "cell_type": "markdown",
   "metadata": {},
   "source": [
    "### Parser\n",
    "\n",
    "We wont say much about the parser here except to remark that `lex` splits the program code into tokens, and converts to appropriate types using `typer`, and then `syn` converts these tokens into a nested list structure which reflects the structure of our language:\n",
    "\n",
    "```python\n",
    "program = \"\"\"\n",
    "(def rad 5)\n",
    "rad\n",
    "(def radiusfunc (func (radius) (* pi (* radius radius))))\n",
    "(radiusfunc rad)\n",
    "(def myvar 0)\n",
    "(if (== myvar 1) (store rad 6) (store rad 7))\n",
    "(radiusfunc rad)\n",
    "(== 1 1)\n",
    "\"\"\"\n",
    "```\n",
    "\n",
    "Line by line parse output:\n",
    "\n",
    "```\n",
    "[]\n",
    "['def', 'rad', 5]\n",
    "rad\n",
    "['def', 'radiusfunc', ['func', ['radius'], ['*', 'pi', ['*', 'radius', 'radius']]]]\n",
    "['radiusfunc', 'rad']\n",
    "['def', 'myvar', 0]\n",
    "['if', ['==', 'myvar', 1], ['store', 'rad', 6], ['store', 'rad', 7]]\n",
    "['radiusfunc', 'rad']\n",
    "['==', 1, 1]\n",
    "[]\n",
    "```\n",
    "\n",
    "Nore that the parsing process and the code there has nothing to do with the execution environment. We'll see this later with how python is processed as well."
   ]
  },
  {
   "cell_type": "code",
   "execution_count": 4,
   "metadata": {
    "collapsed": false
   },
   "outputs": [],
   "source": [
    "Symbol = str\n",
    "\n",
    "def typer(token):\n",
    "    if token == 'true':\n",
    "        return True\n",
    "    elif token == 'false':\n",
    "        return False\n",
    "    try:\n",
    "        t = int(token)\n",
    "        return t\n",
    "    except ValueError:\n",
    "        try:\n",
    "            t = float(token)\n",
    "            return t\n",
    "        except ValueError:\n",
    "            return Symbol(token)\n",
    "        \n",
    "def lex(loc):\n",
    "    tokenlist =  loc.replace('(', ' ( ').replace(')', ' ) ').split()\n",
    "    return [typer(t) for t in tokenlist]\n",
    "\n",
    "def syn(tokens):\n",
    "    if len(tokens) == 0:\n",
    "        return []\n",
    "    token = tokens.pop(0)\n",
    "    if token == '(':\n",
    "        L = []\n",
    "        while tokens[0] != ')':\n",
    "            L.append(syn(tokens))\n",
    "        tokens.pop(0) # pop off ')'\n",
    "        return L\n",
    "    else:\n",
    "        if token==')':\n",
    "            assert 1, \"should not have got here\"\n",
    "        return token\n",
    "    \n",
    "def parse(loc):\n",
    "    return syn(lex(loc))"
   ]
  },
  {
   "cell_type": "markdown",
   "metadata": {},
   "source": [
    "### Evaluator\n",
    "\n",
    "Now lets talk about the program evaluation. Our evaluator uses the python environment. While it does not define a python frame-stack, it uses recursion via nested environment functions in python. All functionality like ops and built-in funcs are outsourced to python.\n",
    "\n",
    "This makes our language a **DSL**, or **Domain Specific Language**. Writing a \"self-hosting\" language is beyond the parameters of this course, but little DSL's using this kind of hosted structure, or even simpler, directly using syntax in the host language are very common. Examples are jquery in javascript, rails in ruby, etc...\n",
    "\n",
    "We first define the top level:\n",
    "\n",
    "#### Global Environment\n",
    "\n",
    "In this environment we put in everything in the math library, and define ops in terms of the built-in python ops and functions, so that we have a reasonably functioning calculator..."
   ]
  },
  {
   "cell_type": "code",
   "execution_count": 5,
   "metadata": {
    "collapsed": false
   },
   "outputs": [],
   "source": [
    "import math, operator as op\n",
    "def global_env():\n",
    "    \"An environment with some Scheme standard procedures.\"\n",
    "    env = function_env()\n",
    "    env(\"extend_many\", None, vars(math))\n",
    "    env(\"extend_many\", None, {\n",
    "        '+':op.add, '-':op.sub, '*':op.mul, '/':op.truediv, \n",
    "        'abs':     abs,\n",
    "        'max':     max,\n",
    "        'min':     min,\n",
    "        'round':   round,\n",
    "        '>':op.gt, '<':op.lt, '>=':op.ge, '<=':op.le, '==':op.eq,\n",
    "        'not':     op.not_\n",
    "    })\n",
    "    return env"
   ]
  },
  {
   "cell_type": "code",
   "execution_count": 6,
   "metadata": {
    "collapsed": false
   },
   "outputs": [],
   "source": [
    "globenv = global_env()"
   ]
  },
  {
   "cell_type": "markdown",
   "metadata": {},
   "source": [
    "Notice that we have polluted our namespace. You will be cleaning it in a later homework..."
   ]
  },
  {
   "cell_type": "code",
   "execution_count": 7,
   "metadata": {
    "collapsed": false
   },
   "outputs": [
    {
     "data": {
      "text/plain": [
       "{'__doc__': 'This module is always available.  It provides access to the\\nmathematical functions defined by the C standard.',\n",
       " '__file__': '//anaconda/envs/py35/lib/python3.5/lib-dynload/math.so',\n",
       " '__loader__': <_frozen_importlib_external.ExtensionFileLoader at 0x101989a58>,\n",
       " '__name__': 'math',\n",
       " '__package__': '',\n",
       " '__spec__': ModuleSpec(name='math', loader=<_frozen_importlib_external.ExtensionFileLoader object at 0x101989a58>, origin='//anaconda/envs/py35/lib/python3.5/lib-dynload/math.so'),\n",
       " 'acos': <function math.acos>,\n",
       " 'acosh': <function math.acosh>,\n",
       " 'asin': <function math.asin>,\n",
       " 'asinh': <function math.asinh>,\n",
       " 'atan': <function math.atan>,\n",
       " 'atan2': <function math.atan2>,\n",
       " 'atanh': <function math.atanh>,\n",
       " 'ceil': <function math.ceil>,\n",
       " 'copysign': <function math.copysign>,\n",
       " 'cos': <function math.cos>,\n",
       " 'cosh': <function math.cosh>,\n",
       " 'degrees': <function math.degrees>,\n",
       " 'e': 2.718281828459045,\n",
       " 'erf': <function math.erf>,\n",
       " 'erfc': <function math.erfc>,\n",
       " 'exp': <function math.exp>,\n",
       " 'expm1': <function math.expm1>,\n",
       " 'fabs': <function math.fabs>,\n",
       " 'factorial': <function math.factorial>,\n",
       " 'floor': <function math.floor>,\n",
       " 'fmod': <function math.fmod>,\n",
       " 'frexp': <function math.frexp>,\n",
       " 'fsum': <function math.fsum>,\n",
       " 'gamma': <function math.gamma>,\n",
       " 'gcd': <function math.gcd>,\n",
       " 'hypot': <function math.hypot>,\n",
       " 'inf': inf,\n",
       " 'isclose': <function math.isclose>,\n",
       " 'isfinite': <function math.isfinite>,\n",
       " 'isinf': <function math.isinf>,\n",
       " 'isnan': <function math.isnan>,\n",
       " 'ldexp': <function math.ldexp>,\n",
       " 'lgamma': <function math.lgamma>,\n",
       " 'log': <function math.log>,\n",
       " 'log10': <function math.log10>,\n",
       " 'log1p': <function math.log1p>,\n",
       " 'log2': <function math.log2>,\n",
       " 'modf': <function math.modf>,\n",
       " 'nan': nan,\n",
       " 'pi': 3.141592653589793,\n",
       " 'pow': <function math.pow>,\n",
       " 'radians': <function math.radians>,\n",
       " 'sin': <function math.sin>,\n",
       " 'sinh': <function math.sinh>,\n",
       " 'sqrt': <function math.sqrt>,\n",
       " 'tan': <function math.tan>,\n",
       " 'tanh': <function math.tanh>,\n",
       " 'trunc': <function math.trunc>}"
      ]
     },
     "execution_count": 7,
     "metadata": {},
     "output_type": "execute_result"
    }
   ],
   "source": [
    "vars(math)"
   ]
  },
  {
   "cell_type": "markdown",
   "metadata": {},
   "source": [
    "#### The workhorse\n",
    "\n",
    "The workhorse of our language is the `eval_ptree` below. What it does is to go one-by-one through the various types of symbols that arise, and evaluate them in the context of our environment and enclosing environment. It needs to work recursively, evalusting subexpressions in stuff like `if` statements and stupidlang function bodies."
   ]
  },
  {
   "cell_type": "code",
   "execution_count": 8,
   "metadata": {
    "collapsed": false
   },
   "outputs": [],
   "source": [
    "def eval_ptree(x, env):\n",
    "    truthy_map={'#t':True, '#f':False, 'nil':None}\n",
    "    if x in ('#t', '#f', 'nil'):#handle boolean tokens first\n",
    "        return truthy_map[x]        \n",
    "    elif isinstance(x, Symbol): #else do a lookup\n",
    "        # variable, op lookup\n",
    "        return env(\"lookup\", x)[0]\n",
    "    elif not isinstance(x, list):  # if still not a list, we are a constant\n",
    "        return x\n",
    "    elif len(x)==0: #noop for an empty list\n",
    "        return None\n",
    "    elif x[0]=='if':#an if statement\n",
    "        (_, predicate, truexpr, falseexpr) = x\n",
    "        if eval_ptree(predicate, env):\n",
    "            expression = truexpr\n",
    "        else:\n",
    "            expression = falseexpr\n",
    "        return eval_ptree(expression, env)\n",
    "    elif x[0] == 'def':         # variable or function definition, local\n",
    "        #print('in def x is',x)\n",
    "        (_, var, expression) = x\n",
    "        #postorder traversal by nested eval is needed below\n",
    "        env('extend', var, eval_ptree(expression, env))\n",
    "    elif x[0] == 'store':           # (store var exp), like set!\n",
    "        (_, var, exp) = x\n",
    "        env_found_in = env(\"lookup\", var)[1]#can be found in an outer env\n",
    "        env_found_in(\"extend\", var, eval_ptree(exp, env))\n",
    "    elif x[0] == 'func': #this is the function definition, not the execution\n",
    "        #print(\"in func x is\",x)\n",
    "        (_, parameters, parsedbody) = x\n",
    "        return func(parameters, parsedbody, env)\n",
    "    else:                          # operators, funcs calling\n",
    "        #print(\"x\", x, \"env\", env(\"printit\"))\n",
    "        op = eval_ptree(x[0], env)\n",
    "        #postorder traversal to get subexpressione before running the op\n",
    "        args = tuple([eval_ptree(arg, env) for arg in x[1:]])\n",
    "        #print('argies', args, op.__name__)\n",
    "        #Function execution\n",
    "        if op.__name__=='dispatch':#need to handle our defined funcs\n",
    "            return op('call', *args)\n",
    "        else:#regular ops and funcs we added to the environment\n",
    "            return op(*args)"
   ]
  },
  {
   "cell_type": "markdown",
   "metadata": {},
   "source": [
    "#### Defining a function in our language\n",
    "\n",
    "Here is where we define a function. The function object represented by the returned `dispatch` function uses a closure to hold in the params, env in which function was defined, and code body.\n",
    "\n",
    "The actual execution happens when `call` is called, via a function call `eval_ptree` defined above."
   ]
  },
  {
   "cell_type": "code",
   "execution_count": 11,
   "metadata": {
    "collapsed": true
   },
   "outputs": [],
   "source": [
    "def func(params, parsedbody, env):\n",
    "    def call(argstuple):\n",
    "        print(\"in call\", params, parsedbody, argstuple)\n",
    "        funcenv = function_env(outerenv=env)\n",
    "        funcenv('extend_many', None, zip(params, argstuple))\n",
    "        #print(funcenv('printit'))\n",
    "        return eval_ptree(parsedbody, funcenv)\n",
    "    def dispatch(message, *args):\n",
    "        print(\"in dispatch args are\", message, args)\n",
    "        if message=='call':\n",
    "            return call(args)\n",
    "    #print(\"at define time\", params, parsedbody, env('printit'))\n",
    "    return dispatch\n",
    "            "
   ]
  },
  {
   "cell_type": "code",
   "execution_count": 12,
   "metadata": {
    "collapsed": false
   },
   "outputs": [
    {
     "name": "stdout",
     "output_type": "stream",
     "text": [
      "in dispatch args are call (5, 7)\n",
      "in call ['radius', 'area'] [] (5, 7)\n"
     ]
    }
   ],
   "source": [
    "dafunc=func(['radius', 'area'],[], globenv)\n",
    "dafunc('call', 5, 7)"
   ]
  },
  {
   "cell_type": "markdown",
   "metadata": {},
   "source": [
    "### Driver to run the code\n",
    "\n",
    "We provide some driver functions:"
   ]
  },
  {
   "cell_type": "code",
   "execution_count": 448,
   "metadata": {
    "collapsed": true
   },
   "outputs": [],
   "source": [
    "def parse_program(program):\n",
    "    \"parse program line by line\"\n",
    "    output=[]\n",
    "    program = [e.strip() for e in program.split('\\n')]\n",
    "    for l in program:\n",
    "        output.append(parse(l))\n",
    "    return output"
   ]
  },
  {
   "cell_type": "code",
   "execution_count": 449,
   "metadata": {
    "collapsed": true
   },
   "outputs": [],
   "source": [
    "def run_program(program, env):\n",
    "    \"\"\"\n",
    "    run program line by line, accumulating python\n",
    "    output in an array\n",
    "    \"\"\"\n",
    "    output=[]\n",
    "    program = [e.strip() for e in program.split('\\n')]\n",
    "    for l in program:\n",
    "        parsed = parse(l)\n",
    "        print(\">\", parsed)\n",
    "        output.append(eval_ptree(parsed, env))\n",
    "    return output"
   ]
  },
  {
   "cell_type": "markdown",
   "metadata": {},
   "source": [
    "The `backtolang` function below converts python output from stupidlang code snippets bavk into stupidlang, so appropriate outputs can be printed. The game is simply to stringify numbers, and convert bools and lists appropriately.\n",
    "\n",
    "We also provide a `repl`, which allows us to run code line by line."
   ]
  },
  {
   "cell_type": "code",
   "execution_count": 450,
   "metadata": {
    "collapsed": false
   },
   "outputs": [],
   "source": [
    "def backtolang(exp):\n",
    "    boolmap={True:'#t', False:'#f'}\n",
    "    if  isinstance(exp, list):\n",
    "        return '(' + ' '.join(map(backtolang, exp)) + ')' \n",
    "    elif isinstance(exp, bool):\n",
    "        return boolmap[exp]\n",
    "    elif exp is None:\n",
    "        return 'nil'\n",
    "    else:\n",
    "        return str(exp)\n",
    "    \n",
    "def repl(env, prompt='calc> '):\n",
    "    while True:\n",
    "        try:\n",
    "            val = eval_ptree(parse(input(prompt)), env)\n",
    "        except (KeyboardInterrupt, EOFError):\n",
    "            break\n",
    "        if val is not None: \n",
    "            print(backtolang(val))\n",
    "            \n"
   ]
  },
  {
   "cell_type": "markdown",
   "metadata": {},
   "source": [
    "### Try it out"
   ]
  },
  {
   "cell_type": "code",
   "execution_count": 452,
   "metadata": {
    "collapsed": true
   },
   "outputs": [],
   "source": [
    "program = \"\"\"\n",
    "(def rad 5)\n",
    "rad\n",
    "(def radiusfunc (func (radius) (* pi (* radius radius))))\n",
    "(radiusfunc rad)\n",
    "(def myvar 0)\n",
    "(if (== myvar 1) (store rad 6) (store rad 7))\n",
    "(radiusfunc rad)\n",
    "(== 1 1)\n",
    "\"\"\""
   ]
  },
  {
   "cell_type": "code",
   "execution_count": 453,
   "metadata": {
    "collapsed": false
   },
   "outputs": [
    {
     "name": "stdout",
     "output_type": "stream",
     "text": [
      "[]\n",
      "['def', 'rad', 5]\n",
      "rad\n",
      "['def', 'radiusfunc', ['func', ['radius'], ['*', 'pi', ['*', 'radius', 'radius']]]]\n",
      "['radiusfunc', 'rad']\n",
      "['def', 'myvar', 0]\n",
      "['if', ['==', 'myvar', 1], ['store', 'rad', 6], ['store', 'rad', 7]]\n",
      "['radiusfunc', 'rad']\n",
      "['==', 1, 1]\n",
      "[]\n"
     ]
    }
   ],
   "source": [
    "for s in parse_program(program):\n",
    "    print(s)"
   ]
  },
  {
   "cell_type": "code",
   "execution_count": 454,
   "metadata": {
    "collapsed": false
   },
   "outputs": [
    {
     "name": "stdout",
     "output_type": "stream",
     "text": [
      "> []\n",
      "> ['def', 'rad', 5]\n",
      "> rad\n",
      "> ['def', 'radiusfunc', ['func', ['radius'], ['*', 'pi', ['*', 'radius', 'radius']]]]\n",
      "> ['radiusfunc', 'rad']\n",
      "> ['def', 'myvar', 0]\n",
      "> ['if', ['==', 'myvar', 1], ['store', 'rad', 6], ['store', 'rad', 7]]\n",
      "> ['radiusfunc', 'rad']\n",
      "> ['==', 1, 1]\n",
      "> []\n",
      "nil\n",
      "nil\n",
      "5\n",
      "nil\n",
      "78.53981633974483\n",
      "nil\n",
      "nil\n",
      "153.93804002589985\n",
      "#t\n",
      "nil\n"
     ]
    }
   ],
   "source": [
    "for result in run_program(program, globenv):\n",
    "    print(backtolang(result))"
   ]
  },
  {
   "cell_type": "code",
   "execution_count": 392,
   "metadata": {
    "collapsed": false
   },
   "outputs": [
    {
     "name": "stdout",
     "output_type": "stream",
     "text": [
      "calc> )\n"
     ]
    },
    {
     "ename": "NameError",
     "evalue": ") <<>> not found in Environment",
     "output_type": "error",
     "traceback": [
      "\u001b[0;31m---------------------------------------------------------------------------\u001b[0m",
      "\u001b[0;31mKeyError\u001b[0m                                  Traceback (most recent call last)",
      "\u001b[0;32m<ipython-input-107-536f679fa420>\u001b[0m in \u001b[0;36mlookup\u001b[0;34m(variable)\u001b[0m\n\u001b[1;32m      4\u001b[0m         \u001b[0;32mtry\u001b[0m\u001b[0;34m:\u001b[0m\u001b[0;34m\u001b[0m\u001b[0m\n\u001b[0;32m----> 5\u001b[0;31m             \u001b[0mfound\u001b[0m \u001b[0;34m=\u001b[0m \u001b[0mbindings\u001b[0m\u001b[0;34m[\u001b[0m\u001b[0mvariable\u001b[0m\u001b[0;34m]\u001b[0m\u001b[0;34m\u001b[0m\u001b[0m\n\u001b[0m\u001b[1;32m      6\u001b[0m             \u001b[0menv\u001b[0m \u001b[0;34m=\u001b[0m \u001b[0mdispatch\u001b[0m\u001b[0;34m\u001b[0m\u001b[0m\n",
      "\u001b[0;31mKeyError\u001b[0m: ')'",
      "\nDuring handling of the above exception, another exception occurred:\n",
      "\u001b[0;31mNameError\u001b[0m                                 Traceback (most recent call last)",
      "\u001b[0;32m<ipython-input-392-6c96d2f209ad>\u001b[0m in \u001b[0;36m<module>\u001b[0;34m()\u001b[0m\n\u001b[0;32m----> 1\u001b[0;31m \u001b[0mrepl\u001b[0m\u001b[0;34m(\u001b[0m\u001b[0mglobenv\u001b[0m\u001b[0;34m)\u001b[0m\u001b[0;31m# to get out of the repl in the notebook just cause an exception like below\u001b[0m\u001b[0;34m\u001b[0m\u001b[0m\n\u001b[0m",
      "\u001b[0;32m<ipython-input-387-9a9944844d5a>\u001b[0m in \u001b[0;36mrepl\u001b[0;34m(env, prompt)\u001b[0m\n\u001b[1;32m     13\u001b[0m     \u001b[0;32mwhile\u001b[0m \u001b[0;32mTrue\u001b[0m\u001b[0;34m:\u001b[0m\u001b[0;34m\u001b[0m\u001b[0m\n\u001b[1;32m     14\u001b[0m         \u001b[0;32mtry\u001b[0m\u001b[0;34m:\u001b[0m\u001b[0;34m\u001b[0m\u001b[0m\n\u001b[0;32m---> 15\u001b[0;31m             \u001b[0mval\u001b[0m \u001b[0;34m=\u001b[0m \u001b[0meval_ptree\u001b[0m\u001b[0;34m(\u001b[0m\u001b[0mparse\u001b[0m\u001b[0;34m(\u001b[0m\u001b[0minput\u001b[0m\u001b[0;34m(\u001b[0m\u001b[0mprompt\u001b[0m\u001b[0;34m)\u001b[0m\u001b[0;34m)\u001b[0m\u001b[0;34m,\u001b[0m \u001b[0menv\u001b[0m\u001b[0;34m)\u001b[0m\u001b[0;34m\u001b[0m\u001b[0m\n\u001b[0m\u001b[1;32m     16\u001b[0m         \u001b[0;32mexcept\u001b[0m \u001b[0;34m(\u001b[0m\u001b[0mKeyboardInterrupt\u001b[0m\u001b[0;34m,\u001b[0m \u001b[0mEOFError\u001b[0m\u001b[0;34m)\u001b[0m\u001b[0;34m:\u001b[0m\u001b[0;34m\u001b[0m\u001b[0m\n\u001b[1;32m     17\u001b[0m             \u001b[0;32mbreak\u001b[0m\u001b[0;34m\u001b[0m\u001b[0m\n",
      "\u001b[0;32m<ipython-input-384-da681e96b09f>\u001b[0m in \u001b[0;36meval_ptree\u001b[0;34m(x, env)\u001b[0m\n\u001b[1;32m      5\u001b[0m     \u001b[0;32melif\u001b[0m \u001b[0misinstance\u001b[0m\u001b[0;34m(\u001b[0m\u001b[0mx\u001b[0m\u001b[0;34m,\u001b[0m \u001b[0mSymbol\u001b[0m\u001b[0;34m)\u001b[0m\u001b[0;34m:\u001b[0m\u001b[0;34m\u001b[0m\u001b[0m\n\u001b[1;32m      6\u001b[0m         \u001b[0;31m# variable, op lookup\u001b[0m\u001b[0;34m\u001b[0m\u001b[0;34m\u001b[0m\u001b[0m\n\u001b[0;32m----> 7\u001b[0;31m         \u001b[0;32mreturn\u001b[0m \u001b[0menv\u001b[0m\u001b[0;34m(\u001b[0m\u001b[0;34m\"lookup\"\u001b[0m\u001b[0;34m,\u001b[0m \u001b[0mx\u001b[0m\u001b[0;34m)\u001b[0m\u001b[0;34m[\u001b[0m\u001b[0;36m0\u001b[0m\u001b[0;34m]\u001b[0m\u001b[0;34m\u001b[0m\u001b[0m\n\u001b[0m\u001b[1;32m      8\u001b[0m     \u001b[0;32melif\u001b[0m \u001b[0;32mnot\u001b[0m \u001b[0misinstance\u001b[0m\u001b[0;34m(\u001b[0m\u001b[0mx\u001b[0m\u001b[0;34m,\u001b[0m \u001b[0mlist\u001b[0m\u001b[0;34m)\u001b[0m\u001b[0;34m:\u001b[0m  \u001b[0;31m# constant\u001b[0m\u001b[0;34m\u001b[0m\u001b[0m\n\u001b[1;32m      9\u001b[0m         \u001b[0;32mreturn\u001b[0m \u001b[0mx\u001b[0m\u001b[0;34m\u001b[0m\u001b[0m\n",
      "\u001b[0;32m<ipython-input-107-536f679fa420>\u001b[0m in \u001b[0;36mdispatch\u001b[0;34m(message, variable, value)\u001b[0m\n\u001b[1;32m     19\u001b[0m     \u001b[0;32mdef\u001b[0m \u001b[0mdispatch\u001b[0m\u001b[0;34m(\u001b[0m\u001b[0mmessage\u001b[0m\u001b[0;34m,\u001b[0m \u001b[0mvariable\u001b[0m\u001b[0;34m=\u001b[0m\u001b[0;32mNone\u001b[0m\u001b[0;34m,\u001b[0m \u001b[0mvalue\u001b[0m\u001b[0;34m=\u001b[0m\u001b[0;32mNone\u001b[0m\u001b[0;34m)\u001b[0m\u001b[0;34m:\u001b[0m\u001b[0;34m\u001b[0m\u001b[0m\n\u001b[1;32m     20\u001b[0m         \u001b[0;32mif\u001b[0m \u001b[0mmessage\u001b[0m \u001b[0;34m==\u001b[0m \u001b[0;34m'lookup'\u001b[0m\u001b[0;34m:\u001b[0m\u001b[0;34m\u001b[0m\u001b[0m\n\u001b[0;32m---> 21\u001b[0;31m             \u001b[0;32mreturn\u001b[0m \u001b[0mlookup\u001b[0m\u001b[0;34m(\u001b[0m\u001b[0mvariable\u001b[0m\u001b[0;34m)\u001b[0m\u001b[0;34m\u001b[0m\u001b[0m\n\u001b[0m\u001b[1;32m     22\u001b[0m         \u001b[0;32melif\u001b[0m \u001b[0mmessage\u001b[0m \u001b[0;34m==\u001b[0m \u001b[0;34m'extend'\u001b[0m\u001b[0;34m:\u001b[0m\u001b[0;34m\u001b[0m\u001b[0m\n\u001b[1;32m     23\u001b[0m             \u001b[0;32mreturn\u001b[0m \u001b[0mextend\u001b[0m\u001b[0;34m(\u001b[0m\u001b[0mvariable\u001b[0m\u001b[0;34m,\u001b[0m \u001b[0mvalue\u001b[0m\u001b[0;34m)\u001b[0m\u001b[0;34m\u001b[0m\u001b[0m\n",
      "\u001b[0;32m<ipython-input-107-536f679fa420>\u001b[0m in \u001b[0;36mlookup\u001b[0;34m(variable)\u001b[0m\n\u001b[1;32m      9\u001b[0m                 \u001b[0mfound\u001b[0m\u001b[0;34m,\u001b[0m \u001b[0menv\u001b[0m \u001b[0;34m=\u001b[0m \u001b[0mouterenv\u001b[0m\u001b[0;34m(\u001b[0m\u001b[0;34m'lookup'\u001b[0m\u001b[0;34m,\u001b[0m \u001b[0mvariable\u001b[0m\u001b[0;34m)\u001b[0m\u001b[0;34m\u001b[0m\u001b[0m\n\u001b[1;32m     10\u001b[0m             \u001b[0;32melse\u001b[0m\u001b[0;34m:\u001b[0m\u001b[0;34m\u001b[0m\u001b[0m\n\u001b[0;32m---> 11\u001b[0;31m                 \u001b[0;32mraise\u001b[0m \u001b[0mNameError\u001b[0m\u001b[0;34m(\u001b[0m\u001b[0;34m\"{} <<>> not found in Environment\"\u001b[0m\u001b[0;34m.\u001b[0m\u001b[0mformat\u001b[0m\u001b[0;34m(\u001b[0m\u001b[0mvariable\u001b[0m\u001b[0;34m)\u001b[0m\u001b[0;34m)\u001b[0m\u001b[0;34m\u001b[0m\u001b[0m\n\u001b[0m\u001b[1;32m     12\u001b[0m         \u001b[0;32mreturn\u001b[0m \u001b[0mfound\u001b[0m\u001b[0;34m,\u001b[0m \u001b[0menv\u001b[0m\u001b[0;34m\u001b[0m\u001b[0m\n\u001b[1;32m     13\u001b[0m     \u001b[0;32mdef\u001b[0m \u001b[0mextend\u001b[0m\u001b[0;34m(\u001b[0m\u001b[0mvariable\u001b[0m\u001b[0;34m,\u001b[0m \u001b[0mvalue\u001b[0m\u001b[0;34m)\u001b[0m\u001b[0;34m:\u001b[0m\u001b[0;34m\u001b[0m\u001b[0m\n",
      "\u001b[0;31mNameError\u001b[0m: ) <<>> not found in Environment"
     ]
    }
   ],
   "source": [
    "repl(globenv)# to get out of the repl in the notebook just cause an exception like below"
   ]
  },
  {
   "cell_type": "markdown",
   "metadata": {},
   "source": [
    "## How is Python implemented?"
   ]
  },
  {
   "cell_type": "markdown",
   "metadata": {},
   "source": [
    "### The virtual machine\n",
    "\n",
    "Python runs on a virtual machine.\n",
    "\n",
    "A virtual machine is a software implementation of a real machine. As such, it will implement registers and stacks and other such constructs, along with an \"assembly\" language to program it.\n",
    "\n",
    "We are interested here in a \"process virtual machine\".\n",
    "\n",
    "Wikipedia:\n",
    ">A process VM, sometimes called an application virtual machine, or Managed Runtime Environment (MRE), runs as a normal application inside a host OS and supports a single process. It is created when that process is started and destroyed when it exits. Its purpose is to provide a platform-independent programming environment that abstracts away details of the underlying hardware or operating system, and allows a program to execute in the same way on any platform.\n",
    "\n",
    "Perhaps the best known example of a process virtual machine is the JVM. But python has one too, and indeed, python is compiled to an assembly like bytecode. This bytecode is then \"interpreted\" by the machine: you can think of this bytecode as the machine code for the Python Virtual Machine.\n",
    "\n",
    "The compiler also emits some other fields, which are needed to run the interpreter. The bytecode and this additional information is stored in a code object."
   ]
  },
  {
   "cell_type": "markdown",
   "metadata": {},
   "source": [
    "### Code Objects\n",
    "\n",
    "Code objects are created whenever a block of python code is compiled. Here a block is defined as (from the manual):\n",
    "\n",
    ">a piece of Python program text that is executed as a unit. The following are blocks: a module, a function body, and a class definition.\n",
    "\n",
    "Also treated as blocks are:\n",
    "\n",
    "- every line in a repl\n",
    "- strings passed to python -c\n",
    "\n",
    "The text is transformed into an AST, and then PyAST_Compile is called on it, to produce code objects.\n",
    "\n",
    "Code objects are immutable."
   ]
  },
  {
   "cell_type": "code",
   "execution_count": 455,
   "metadata": {
    "collapsed": true
   },
   "outputs": [],
   "source": [
    "def f(x):\n",
    "    a=1\n",
    "    y = a+x\n",
    "    return y"
   ]
  },
  {
   "cell_type": "code",
   "execution_count": 456,
   "metadata": {
    "collapsed": false
   },
   "outputs": [
    {
     "data": {
      "text/plain": [
       "code"
      ]
     },
     "execution_count": 456,
     "metadata": {},
     "output_type": "execute_result"
    }
   ],
   "source": [
    "fcode = f.__code__\n",
    "type(fcode)"
   ]
  },
  {
   "cell_type": "code",
   "execution_count": 457,
   "metadata": {
    "collapsed": true
   },
   "outputs": [],
   "source": [
    "def print_code(c):\n",
    "    for x in dir(c):\n",
    "        if x.startswith('co'):\n",
    "            print(x, '=', getattr(c, x))"
   ]
  },
  {
   "cell_type": "code",
   "execution_count": 458,
   "metadata": {
    "collapsed": false
   },
   "outputs": [
    {
     "name": "stdout",
     "output_type": "stream",
     "text": [
      "co_argcount = 1\n",
      "co_cellvars = ()\n",
      "co_code = b'd\\x01\\x00}\\x01\\x00|\\x01\\x00|\\x00\\x00\\x17}\\x02\\x00|\\x02\\x00S'\n",
      "co_consts = (None, 1)\n",
      "co_filename = <ipython-input-455-587cb7262809>\n",
      "co_firstlineno = 1\n",
      "co_flags = 67\n",
      "co_freevars = ()\n",
      "co_kwonlyargcount = 0\n",
      "co_lnotab = b'\\x00\\x01\\x06\\x01\\n\\x01'\n",
      "co_name = f\n",
      "co_names = ()\n",
      "co_nlocals = 3\n",
      "co_stacksize = 2\n",
      "co_varnames = ('x', 'a', 'y')\n"
     ]
    }
   ],
   "source": [
    "print_code(fcode)"
   ]
  },
  {
   "cell_type": "code",
   "execution_count": 459,
   "metadata": {
    "collapsed": false
   },
   "outputs": [
    {
     "data": {
      "text/plain": [
       "[100, 1, 0, 125, 1, 0, 124, 1, 0, 124, 0, 0, 23, 125, 2, 0, 124, 2, 0, 83]"
      ]
     },
     "execution_count": 459,
     "metadata": {},
     "output_type": "execute_result"
    }
   ],
   "source": [
    "list(fcode.co_code)"
   ]
  },
  {
   "cell_type": "code",
   "execution_count": 460,
   "metadata": {
    "collapsed": false
   },
   "outputs": [
    {
     "data": {
      "text/plain": [
       "('LOAD_CONST', 'STORE_FAST', 'LOAD_FAST')"
      ]
     },
     "execution_count": 460,
     "metadata": {},
     "output_type": "execute_result"
    }
   ],
   "source": [
    "import dis\n",
    "dis.opname[100], dis.opname[125], dis.opname[124] #see dis docs for all"
   ]
  },
  {
   "cell_type": "code",
   "execution_count": 461,
   "metadata": {
    "collapsed": false
   },
   "outputs": [
    {
     "name": "stdout",
     "output_type": "stream",
     "text": [
      "  2           0 LOAD_CONST               1 (1)\n",
      "              3 STORE_FAST               1 (a)\n",
      "\n",
      "  3           6 LOAD_FAST                1 (a)\n",
      "              9 LOAD_FAST                0 (x)\n",
      "             12 BINARY_ADD\n",
      "             13 STORE_FAST               2 (y)\n",
      "\n",
      "  4          16 LOAD_FAST                2 (y)\n",
      "             19 RETURN_VALUE\n"
     ]
    }
   ],
   "source": [
    "dis.dis(f)"
   ]
  },
  {
   "cell_type": "markdown",
   "metadata": {},
   "source": [
    "Columns:\n",
    "\n",
    "1. line number\n",
    "2. index into the bytecode string\n",
    "3. instruction\n",
    "4. argument to the instruction\n",
    "5. what the argument means"
   ]
  },
  {
   "cell_type": "code",
   "execution_count": 462,
   "metadata": {
    "collapsed": false
   },
   "outputs": [
    {
     "name": "stdout",
     "output_type": "stream",
     "text": [
      "Name:              f\n",
      "Filename:          <ipython-input-455-587cb7262809>\n",
      "Argument count:    1\n",
      "Kw-only arguments: 0\n",
      "Number of locals:  3\n",
      "Stack size:        2\n",
      "Flags:             OPTIMIZED, NEWLOCALS, NOFREE\n",
      "Constants:\n",
      "   0: None\n",
      "   1: 1\n",
      "Variable names:\n",
      "   0: x\n",
      "   1: a\n",
      "   2: y\n"
     ]
    }
   ],
   "source": [
    "dis.show_code(f)"
   ]
  },
  {
   "cell_type": "code",
   "execution_count": 463,
   "metadata": {
    "collapsed": true
   },
   "outputs": [],
   "source": [
    "#from https://bitbucket.org/yaniv_aknin/pynards/src/c4b61c7a1798766affb49bfba86e485012af6d16/common/blog.py?at=default&fileviewer=file-view-default\n",
    "import dis\n",
    "import types\n",
    "\n",
    "def get_code_object(obj, compilation_mode=\"exec\"):\n",
    "    if isinstance(obj, types.CodeType):\n",
    "        return obj\n",
    "    elif isinstance(obj, types.FrameType):\n",
    "        return obj.f_code\n",
    "    elif isinstance(obj, types.FunctionType):\n",
    "        return obj.__code__\n",
    "    elif isinstance(obj, str):\n",
    "        try:\n",
    "            return compile(obj, \"<string>\", compilation_mode)\n",
    "        except SyntaxError as error:\n",
    "            raise ValueError(\"syntax error in passed string\") from error\n",
    "    else:\n",
    "        raise TypeError(\"get_code_object() can not handle '%s' objects\" %\n",
    "                        (type(obj).__name__,))\n",
    "\n",
    "def diss(obj, mode=\"exec\", recurse=False):\n",
    "    _visit(obj, dis.dis, mode, recurse)\n",
    "\n",
    "def ssc(obj, mode=\"exec\", recurse=False):\n",
    "    _visit(obj, dis.show_code, mode, recurse)\n",
    "\n",
    "def _visit(obj, visitor, mode=\"exec\", recurse=False):\n",
    "    obj = get_code_object(obj, mode)\n",
    "    visitor(obj)\n",
    "    if recurse:\n",
    "        for constant in obj.co_consts:\n",
    "            if type(constant) is type(obj):\n",
    "                print()\n",
    "                print('recursing into %r:' % (constant,))\n",
    "                _visit(constant, visitor, mode, recurse)"
   ]
  },
  {
   "cell_type": "markdown",
   "metadata": {},
   "source": [
    "#### Globals, Locals, and other"
   ]
  },
  {
   "cell_type": "code",
   "execution_count": 464,
   "metadata": {
    "collapsed": false
   },
   "outputs": [
    {
     "name": "stdout",
     "output_type": "stream",
     "text": [
      "  4           0 LOAD_CONST               1 (2)\n",
      "              3 STORE_FAST               0 (y)\n",
      "\n",
      "  5           6 LOAD_CONST               2 (3)\n",
      "              9 STORE_GLOBAL             0 (xxx)\n",
      "\n",
      "  6          12 LOAD_GLOBAL              1 (aaa)\n",
      "             15 LOAD_CONST               3 (1)\n",
      "             18 INPLACE_ADD\n",
      "             19 STORE_GLOBAL             1 (aaa)\n",
      "             22 LOAD_CONST               0 (None)\n",
      "             25 RETURN_VALUE\n"
     ]
    }
   ],
   "source": [
    "def fglb():\n",
    "    global xxx\n",
    "    global aaa\n",
    "    y = 2\n",
    "    xxx=3\n",
    "    aaa += 1\n",
    "diss(fglb)\n"
   ]
  },
  {
   "cell_type": "markdown",
   "metadata": {},
   "source": [
    "`STORE_GLOBAL` performs a binding or re-binding in the global namespace while `LOAD_GLOBAL` is generated when the compiler realizes that the variable is referenced in the function's body but never bound there. \n",
    "\n",
    "Here aaa may not be defined outside and could lead to a **runtime** error, but this is perfectly legal code from the perspective of the function.\n",
    "\n",
    "The `*_FAST` opcodes are used when the compiler can infer that the variables are defined in the local namespace. There are optimized versions of `*_NAME` opcodes below."
   ]
  },
  {
   "cell_type": "code",
   "execution_count": 465,
   "metadata": {
    "collapsed": false
   },
   "outputs": [
    {
     "name": "stdout",
     "output_type": "stream",
     "text": [
      "  1           0 LOAD_NAME                0 (dd)\n",
      "              3 LOAD_CONST               0 (1)\n",
      "              6 BINARY_SUBTRACT\n",
      "              7 STORE_NAME               1 (cc)\n",
      "             10 LOAD_CONST               1 (None)\n",
      "             13 RETURN_VALUE\n"
     ]
    }
   ],
   "source": [
    "diss('cc = dd -1')"
   ]
  },
  {
   "cell_type": "markdown",
   "metadata": {},
   "source": [
    "Notice we have not talked anything about frames yet. Thats because, so far, we have only defined functions. Lets see what happens when we execute them."
   ]
  },
  {
   "cell_type": "markdown",
   "metadata": {},
   "source": [
    "#### Execution and Binding lookup\n",
    "\n",
    "Frame creation occurs in when a code object needs to be evaulated:\n",
    "\n",
    "- when a function is called\n",
    "- when a module is imported (top-level code is executed)\n",
    "- when a class is defined\n",
    "- every command in the repl\n",
    "- when eval or exec are used\n",
    "- when the -c switch is used"
   ]
  },
  {
   "cell_type": "markdown",
   "metadata": {},
   "source": [
    "```C\n",
    "typedef struct _frame {\n",
    "   PyObject_VAR_HEAD\n",
    "   struct _frame *f_back;   /* previous frame, or NULL */\n",
    "   PyCodeObject *f_code;    /* code segment */\n",
    "   PyObject *f_builtins;    /* builtin symbol table */\n",
    "   PyObject *f_globals;     /* global symbol table */\n",
    "   PyObject *f_locals;      /* local symbol table */\n",
    "   PyObject **f_valuestack; /* points after the last local */\n",
    "   PyObject **f_stacktop;   /* current top of valuestack */\n",
    "   PyObject *f_trace;       /* trace function */\n",
    "\n",
    "   /* used for swapping generator exceptions */\n",
    "   PyObject *f_exc_type, *f_exc_value, *f_exc_traceback;\n",
    "\n",
    "   PyThreadState *f_tstate; /* call stack's thread state */\n",
    "   int f_lasti;             /* last instruction if called */\n",
    "   int f_lineno;            /* current line # (if tracing) */\n",
    "   int f_iblock;            /* index in f_blockstack */\n",
    "\n",
    "   /* for try and loop blocks */\n",
    "   PyTryBlock f_blockstack[CO_MAXBLOCKS];\n",
    "\n",
    "   /* dynamically: locals, free vars, cells and valuestack */\n",
    "   PyObject *f_localsplus[1]; /* dynamic portion */\n",
    "} PyFrameObject;\n",
    "```"
   ]
  },
  {
   "cell_type": "markdown",
   "metadata": {},
   "source": [
    "- f_code points to precisely one code object per frame. So when we have a call stack of frames, this corresponds to call stack of code objects.\n",
    "- when python code is evaluated, it is done so in 3 namespaces corresponding to three symbol tables: f_builtins, f_globals, and f_locals. A name will first be resolved in the local scope, then in the global scope, and then in the builtin scope. For nested scopes like in closures, we'll first search the local scopes of the outer functions and only then go to the global and the builtin scope. "
   ]
  },
  {
   "cell_type": "markdown",
   "metadata": {},
   "source": [
    "![](http://aosabook.org/en/500L/interpreter-images/interpreter-callstack.png)"
   ]
  },
  {
   "cell_type": "markdown",
   "metadata": {},
   "source": [
    "There are three stacks alive during the running of a python program. Since we run on a virtual machine, the call stack and stack frames are dependent on the virtual machine, rather than the real machine your code runs on. This is the critical difference between stupidlang and what we are doing now.\n",
    "\n",
    "- the first is the call stack. This is the stack of environments you are familiar with. Often its not explicitly represented as a stack, but a recursive lookup of environments. Or, as in the C case, offsets into memory.\n",
    "- the second is the data stack or the value stack. There is one of these per environment frame, and is used to run code in the context of that environment. This is where data-manipulating opcodes like BINARY_ADD run, in conjunction with namespace related opcodes such as STORE_FAST and LOAD_FAST, seen above.\n",
    "- there is a third stack to handle compound statements: statements that contain other statements. This stack is known as the block stack."
   ]
  },
  {
   "cell_type": "markdown",
   "metadata": {},
   "source": [
    "![](https://niltowrite.files.wordpress.com/2010/05/states4.png)"
   ]
  }
 ],
 "metadata": {
  "anaconda-cloud": {},
  "kernelspec": {
   "display_name": "Python [default]",
   "language": "python",
   "name": "python3"
  },
  "language_info": {
   "codemirror_mode": {
    "name": "ipython",
    "version": 3
   },
   "file_extension": ".py",
   "mimetype": "text/x-python",
   "name": "python",
   "nbconvert_exporter": "python",
   "pygments_lexer": "ipython3",
   "version": "3.5.2"
  }
 },
 "nbformat": 4,
 "nbformat_minor": 0
}
