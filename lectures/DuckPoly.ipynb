{
 "cells": [
  {
   "cell_type": "markdown",
   "metadata": {
    "slideshow": {
     "slide_type": "slide"
    }
   },
   "source": [
    "# What is Polymorphism?\n",
    "\n",
    "We saw polymorphism last time as the ability to tun the same methods on different objects, either through inheritance or by just defining an ad-hoc protocol (duck typing).\n",
    "\n",
    "The more general definition is:\n",
    "\n",
    "**The ability to write code that looks similar, but operates on different types.**\n",
    "\n",
    "In other words, a single interface serves entities of different types. \n"
   ]
  },
  {
   "cell_type": "markdown",
   "metadata": {
    "slideshow": {
     "slide_type": "slide"
    }
   },
   "source": [
    "Python type system is strong and dynamic:\n",
    "\n",
    "- strong: everything has a well-defined type: `type`, `isinstance`\n",
    "- dynamic: type is not explicitly declared, changes with content\n",
    "\n",
    "In classic dynamically typed languages such as python is one, most common code is polymorphic. The types of values are restricted only by explicit runtime checks or errors due to failed support for operations at run time. "
   ]
  },
  {
   "cell_type": "markdown",
   "metadata": {
    "slideshow": {
     "slide_type": "slide"
    }
   },
   "source": [
    "Polymorphism is often combined with inheritance, but does not need to be.\n",
    "\n",
    "One classification of Polymorphism (look up wikipedia) divides it \n",
    "- on one axis into adhoc, parametric, and subtype based, and\n",
    "- on another axis into dynamic(run time) and static(compile time)."
   ]
  },
  {
   "cell_type": "markdown",
   "metadata": {
    "slideshow": {
     "slide_type": "slide"
    }
   },
   "source": [
    "### Static vs Dynamic\n",
    "\n",
    "Dynamic (run-time) polymorphism can be thought of as table based dispatch: that there is, somewhere, atleast conceptually, a table of types, or a linkage of such tables created by inheritance, where implementations are looked up for types.\n",
    "\n",
    "In static polymorphism found in C++ for example, the binding to the appropriate class can be done at compile time."
   ]
  },
  {
   "cell_type": "code",
   "execution_count": 17,
   "metadata": {
    "collapsed": true,
    "slideshow": {
     "slide_type": "slide"
    }
   },
   "outputs": [],
   "source": [
    "import collections\n",
    "Card = collections.namedtuple('Card', ['rank', 'suit'])"
   ]
  },
  {
   "cell_type": "code",
   "execution_count": 18,
   "metadata": {
    "collapsed": true,
    "slideshow": {
     "slide_type": "fragment"
    }
   },
   "outputs": [],
   "source": [
    "class FrenchDeck():\n",
    "    ranks = [str(n) for n in range(2, 11)] + list('JQKA') \n",
    "    suits = 'spades diamonds clubs hearts'.split()\n",
    "    \n",
    "    def __init__(self):\n",
    "        self._cards = [Card(rank, suit) for suit in self.suits for rank in self.ranks]\n",
    "                       \n",
    "    def __len__(self):\n",
    "        return len(self._cards)\n",
    "                       \n",
    "    def __getitem__(self, position): \n",
    "        return self._cards[position]\n",
    "        "
   ]
  },
  {
   "cell_type": "code",
   "execution_count": 19,
   "metadata": {
    "collapsed": false,
    "slideshow": {
     "slide_type": "fragment"
    }
   },
   "outputs": [
    {
     "name": "stdout",
     "output_type": "stream",
     "text": [
      "52\n"
     ]
    }
   ],
   "source": [
    "afd = FrenchDeck()\n",
    "print(len(afd))"
   ]
  },
  {
   "cell_type": "code",
   "execution_count": 23,
   "metadata": {
    "collapsed": false
   },
   "outputs": [
    {
     "data": {
      "text/plain": [
       "{'_cards': [Card(rank='2', suit='spades'),\n",
       "  Card(rank='3', suit='spades'),\n",
       "  Card(rank='4', suit='spades'),\n",
       "  Card(rank='5', suit='spades'),\n",
       "  Card(rank='6', suit='spades'),\n",
       "  Card(rank='7', suit='spades'),\n",
       "  Card(rank='8', suit='spades'),\n",
       "  Card(rank='9', suit='spades'),\n",
       "  Card(rank='10', suit='spades'),\n",
       "  Card(rank='J', suit='spades'),\n",
       "  Card(rank='Q', suit='spades'),\n",
       "  Card(rank='K', suit='spades'),\n",
       "  Card(rank='A', suit='spades'),\n",
       "  Card(rank='2', suit='diamonds'),\n",
       "  Card(rank='3', suit='diamonds'),\n",
       "  Card(rank='4', suit='diamonds'),\n",
       "  Card(rank='5', suit='diamonds'),\n",
       "  Card(rank='6', suit='diamonds'),\n",
       "  Card(rank='7', suit='diamonds'),\n",
       "  Card(rank='8', suit='diamonds'),\n",
       "  Card(rank='9', suit='diamonds'),\n",
       "  Card(rank='10', suit='diamonds'),\n",
       "  Card(rank='J', suit='diamonds'),\n",
       "  Card(rank='Q', suit='diamonds'),\n",
       "  Card(rank='K', suit='diamonds'),\n",
       "  Card(rank='A', suit='diamonds'),\n",
       "  Card(rank='2', suit='clubs'),\n",
       "  Card(rank='3', suit='clubs'),\n",
       "  Card(rank='4', suit='clubs'),\n",
       "  Card(rank='5', suit='clubs'),\n",
       "  Card(rank='6', suit='clubs'),\n",
       "  Card(rank='7', suit='clubs'),\n",
       "  Card(rank='8', suit='clubs'),\n",
       "  Card(rank='9', suit='clubs'),\n",
       "  Card(rank='10', suit='clubs'),\n",
       "  Card(rank='J', suit='clubs'),\n",
       "  Card(rank='Q', suit='clubs'),\n",
       "  Card(rank='K', suit='clubs'),\n",
       "  Card(rank='A', suit='clubs'),\n",
       "  Card(rank='2', suit='hearts'),\n",
       "  Card(rank='3', suit='hearts'),\n",
       "  Card(rank='4', suit='hearts'),\n",
       "  Card(rank='5', suit='hearts'),\n",
       "  Card(rank='6', suit='hearts'),\n",
       "  Card(rank='7', suit='hearts'),\n",
       "  Card(rank='8', suit='hearts'),\n",
       "  Card(rank='9', suit='hearts'),\n",
       "  Card(rank='10', suit='hearts'),\n",
       "  Card(rank='J', suit='hearts'),\n",
       "  Card(rank='Q', suit='hearts'),\n",
       "  Card(rank='K', suit='hearts'),\n",
       "  Card(rank='A', suit='hearts')]}"
      ]
     },
     "execution_count": 23,
     "metadata": {},
     "output_type": "execute_result"
    }
   ],
   "source": [
    "vars(afd)"
   ]
  },
  {
   "cell_type": "code",
   "execution_count": 24,
   "metadata": {
    "collapsed": false
   },
   "outputs": [
    {
     "data": {
      "text/plain": [
       "['__class__',\n",
       " '__delattr__',\n",
       " '__dict__',\n",
       " '__dir__',\n",
       " '__doc__',\n",
       " '__eq__',\n",
       " '__format__',\n",
       " '__ge__',\n",
       " '__getattribute__',\n",
       " '__getitem__',\n",
       " '__gt__',\n",
       " '__hash__',\n",
       " '__init__',\n",
       " '__le__',\n",
       " '__len__',\n",
       " '__lt__',\n",
       " '__module__',\n",
       " '__ne__',\n",
       " '__new__',\n",
       " '__reduce__',\n",
       " '__reduce_ex__',\n",
       " '__repr__',\n",
       " '__setattr__',\n",
       " '__sizeof__',\n",
       " '__str__',\n",
       " '__subclasshook__',\n",
       " '__weakref__',\n",
       " '_cards',\n",
       " 'ranks',\n",
       " 'suits']"
      ]
     },
     "execution_count": 24,
     "metadata": {},
     "output_type": "execute_result"
    }
   ],
   "source": [
    "dir(afd)"
   ]
  },
  {
   "cell_type": "code",
   "execution_count": 22,
   "metadata": {
    "collapsed": false
   },
   "outputs": [
    {
     "data": {
      "text/plain": [
       "mappingproxy({'ranks': ['2', '3', '4', '5', '6', '7', '8', '9', '10', 'J', 'Q', 'K', 'A'], '__init__': <function FrenchDeck.__init__ at 0x105939048>, '__weakref__': <attribute '__weakref__' of 'FrenchDeck' objects>, '__doc__': None, '__module__': '__main__', '__getitem__': <function FrenchDeck.__getitem__ at 0x105939840>, 'suits': ['spades', 'diamonds', 'clubs', 'hearts'], '__dict__': <attribute '__dict__' of 'FrenchDeck' objects>, '__len__': <function FrenchDeck.__len__ at 0x1059397b8>})"
      ]
     },
     "execution_count": 22,
     "metadata": {},
     "output_type": "execute_result"
    }
   ],
   "source": [
    "vars(afd.__class__)"
   ]
  },
  {
   "cell_type": "code",
   "execution_count": 25,
   "metadata": {
    "collapsed": false,
    "slideshow": {
     "slide_type": "fragment"
    }
   },
   "outputs": [
    {
     "data": {
      "text/plain": [
       "['__class__',\n",
       " '__delattr__',\n",
       " '__dict__',\n",
       " '__dir__',\n",
       " '__doc__',\n",
       " '__eq__',\n",
       " '__format__',\n",
       " '__ge__',\n",
       " '__getattribute__',\n",
       " '__getitem__',\n",
       " '__gt__',\n",
       " '__hash__',\n",
       " '__init__',\n",
       " '__le__',\n",
       " '__len__',\n",
       " '__lt__',\n",
       " '__module__',\n",
       " '__ne__',\n",
       " '__new__',\n",
       " '__reduce__',\n",
       " '__reduce_ex__',\n",
       " '__repr__',\n",
       " '__setattr__',\n",
       " '__sizeof__',\n",
       " '__str__',\n",
       " '__subclasshook__',\n",
       " '__weakref__',\n",
       " 'ranks',\n",
       " 'suits']"
      ]
     },
     "execution_count": 25,
     "metadata": {},
     "output_type": "execute_result"
    }
   ],
   "source": [
    "dir(afd.__class__)"
   ]
  },
  {
   "cell_type": "markdown",
   "metadata": {
    "slideshow": {
     "slide_type": "slide"
    }
   },
   "source": [
    "## Ad-hoc polymorphism and Object tables\n",
    "\n",
    "This is the notion that for a given function, a different function is called for args of different types. \n",
    "\n",
    "This enables the Python Data model with the dunder methods. If you call `len(arg)` or `iter(arg)`, we delegate to `arg`'s `__len__` or `__iter__` by *looking them up in the table(class) corresponding to arg*. The net effect is that you get different behaviors for different objects. But you are not looking up a table for the operation, but rather a table for the object. You can think of this as *single dispatch*: the `len` is dispatched based on the type of the argument by looking up a table for the argument."
   ]
  },
  {
   "cell_type": "markdown",
   "metadata": {
    "slideshow": {
     "slide_type": "slide"
    }
   },
   "source": [
    "- We group together the notion that an object responds to such messages into a protocol, such as for example, the informal notion that something is a sequence. This is **Duck Typing**. "
   ]
  },
  {
   "cell_type": "markdown",
   "metadata": {
    "slideshow": {
     "slide_type": "fragment"
    }
   },
   "source": [
    "Alex Martelli, the coiner of this word, says:\n",
    "\n",
    ">In Python, this mostly boils down to avoiding the use of isinstance to check the object’s type (not to mention the even worse approach of checking, for example, whether type(foo) is bar—which is rightly anathema as it inhibits even the simplest forms of inheritance!)."
   ]
  },
  {
   "cell_type": "markdown",
   "metadata": {
    "slideshow": {
     "slide_type": "slide"
    }
   },
   "source": [
    "### Tables for dispatching on functions\n",
    "\n",
    "But, you can also dispatch a function based on its argument, with no lookup in that argument's table, but rather in a *table that is associated with the function*. This is also *single dispatch*, but from a different table.\n",
    "\n",
    "There is no built in support in Python for this, but you can write it on your own by associating a dictionary with multiple types. \n",
    "\n",
    "Here is an example modified from Fluent Python "
   ]
  },
  {
   "cell_type": "code",
   "execution_count": 11,
   "metadata": {
    "collapsed": true,
    "slideshow": {
     "slide_type": "fragment"
    }
   },
   "outputs": [],
   "source": [
    "#this implementation stripped down from the functools library\n",
    "def dispatcher(func):\n",
    "    registry={}\n",
    "    registry[object]=func #the base scenario for object\n",
    "    def register(cls, func): #register func for type cls\n",
    "        registry[cls]=func\n",
    "    def dispatch(cls): #dispatch returns the function for a type cls, else that for object\n",
    "        f = registry.get(cls, registry[object])\n",
    "        return f\n",
    "    def wrapper(*args, **kw):#wrapper calls the recovered function rith arguments\n",
    "        return dispatch(args[0].__class__)(*args, **kw)\n",
    "    wrapper.register=register #set an attribute on the wrapper function, so u can use it to register\n",
    "    return wrapper"
   ]
  },
  {
   "cell_type": "code",
   "execution_count": 12,
   "metadata": {
    "collapsed": true,
    "slideshow": {
     "slide_type": "fragment"
    }
   },
   "outputs": [],
   "source": [
    "import html\n",
    "def htmlize(obj):\n",
    "    content = html.escape(repr(obj)) \n",
    "    return \"<b>{}</b>\".format(content)\n",
    "htmlize = dispatcher(htmlize)"
   ]
  },
  {
   "cell_type": "code",
   "execution_count": 13,
   "metadata": {
    "collapsed": false,
    "slideshow": {
     "slide_type": "fragment"
    }
   },
   "outputs": [
    {
     "data": {
      "text/plain": [
       "'wrapper'"
      ]
     },
     "execution_count": 13,
     "metadata": {},
     "output_type": "execute_result"
    }
   ],
   "source": [
    "htmlize.__name__"
   ]
  },
  {
   "cell_type": "code",
   "execution_count": 14,
   "metadata": {
    "collapsed": false,
    "slideshow": {
     "slide_type": "slide"
    }
   },
   "outputs": [
    {
     "data": {
      "text/html": [
       "<b>&#x27;hello world&#x27;</b>"
      ],
      "text/plain": [
       "<IPython.core.display.HTML object>"
      ]
     },
     "execution_count": 14,
     "metadata": {},
     "output_type": "execute_result"
    }
   ],
   "source": [
    "def htmlize_int(n):\n",
    "    return '<pre>{0} (0x{0:x})</pre>'.format(n)\n",
    "htmlize.register(int, htmlize_int) \n",
    "from IPython.display import HTML\n",
    "HTML(htmlize('hello world'))"
   ]
  },
  {
   "cell_type": "code",
   "execution_count": 15,
   "metadata": {
    "collapsed": false,
    "slideshow": {
     "slide_type": "fragment"
    }
   },
   "outputs": [
    {
     "data": {
      "text/html": [
       "<pre>23 (0x17)</pre>"
      ],
      "text/plain": [
       "<IPython.core.display.HTML object>"
      ]
     },
     "execution_count": 15,
     "metadata": {},
     "output_type": "execute_result"
    }
   ],
   "source": [
    "HTML(htmlize(23))"
   ]
  },
  {
   "cell_type": "markdown",
   "metadata": {
    "slideshow": {
     "slide_type": "slide"
    }
   },
   "source": [
    "The functools module makes this easy for you by defining a @singledispatch decorator which maintains just such a dictionary (and takes care of inheritance based lookups for us...more on that in a bit)."
   ]
  },
  {
   "cell_type": "code",
   "execution_count": 6,
   "metadata": {
    "collapsed": false,
    "slideshow": {
     "slide_type": "fragment"
    }
   },
   "outputs": [],
   "source": [
    "from functools import singledispatch\n",
    "import collections\n",
    "import numbers\n",
    "import html\n",
    "\n",
    "@singledispatch\n",
    "def htmlize(obj):\n",
    "    content = html.escape(repr(obj)) \n",
    "    return '<pre>{}</pre>'.format(content)\n",
    "\n",
    "@htmlize.register(str) \n",
    "def _(text):\n",
    "    content = html.escape(text).replace('\\n', '<br>\\n') \n",
    "    return '<p>{0}</p>'.format(content)\n",
    "\n",
    "@htmlize.register(numbers.Integral) \n",
    "def _(n):\n",
    "    return '<pre>{0} (0x{0:x})</pre>'.format(n)\n",
    "\n",
    "@htmlize.register(tuple) \n",
    "@htmlize.register(collections.abc.Iterable) \n",
    "def _(seq):\n",
    "    inner = '</li>\\n<li>'.join([htmlize(item) for item in seq]) \n",
    "    return '<ul>\\n<li>' + inner + '</li>\\n</ul>'"
   ]
  },
  {
   "cell_type": "code",
   "execution_count": 7,
   "metadata": {
    "collapsed": false,
    "slideshow": {
     "slide_type": "fragment"
    }
   },
   "outputs": [
    {
     "data": {
      "text/plain": [
       "'<ul>\\n<li><pre>&lt;__main__.FrenchDeck object at 0x105928da0&gt;</pre></li>\\n<li><pre>1 (0x1)</pre></li>\\n<li><pre>2 (0x2)</pre></li>\\n<li><pre>3 (0x3)</pre></li>\\n<li><pre>4 (0x4)</pre></li>\\n<li><p>hello</p></li>\\n</ul>'"
      ]
     },
     "execution_count": 7,
     "metadata": {},
     "output_type": "execute_result"
    }
   ],
   "source": [
    "from IPython.display import HTML\n",
    "a=htmlize([afd, 1,2,3,4,\"hello\"])\n",
    "a"
   ]
  },
  {
   "cell_type": "code",
   "execution_count": 8,
   "metadata": {
    "collapsed": false,
    "slideshow": {
     "slide_type": "fragment"
    }
   },
   "outputs": [
    {
     "data": {
      "text/html": [
       "<ul>\n",
       "<li><pre>&lt;__main__.FrenchDeck object at 0x105928da0&gt;</pre></li>\n",
       "<li><pre>1 (0x1)</pre></li>\n",
       "<li><pre>2 (0x2)</pre></li>\n",
       "<li><pre>3 (0x3)</pre></li>\n",
       "<li><pre>4 (0x4)</pre></li>\n",
       "<li><p>hello</p></li>\n",
       "</ul>"
      ],
      "text/plain": [
       "<IPython.core.display.HTML object>"
      ]
     },
     "execution_count": 8,
     "metadata": {},
     "output_type": "execute_result"
    }
   ],
   "source": [
    "HTML(a)"
   ]
  },
  {
   "cell_type": "markdown",
   "metadata": {
    "slideshow": {
     "slide_type": "slide"
    }
   },
   "source": [
    "In some languages such as Julia and lisp(multimethods, CLOS), dispatch on the types of multiple arguments (multiple-dispatch) is also allowed; and indeed is key to the language specializing fast algorithms for specific numerical types. This too can be done in Python, but looks fairly un-natural.\n",
    "\n",
    "![](https://dl.dropboxusercontent.com/u/75194/juliadispatch.png)"
   ]
  },
  {
   "cell_type": "markdown",
   "metadata": {
    "slideshow": {
     "slide_type": "slide"
    }
   },
   "source": [
    "### Parametric Polymorphism\n",
    "\n",
    "**write functions (or types) that are generic \"over\" other types.**\n",
    "\n",
    "- This means, for example, a stack that can take either an int or a float or an animal. Notice that this is generally true in a dynamic language such as python where objects are allocated on the heap and its the references or labels or ids that are pushed onto the stack. \n",
    "\n",
    "- In C++ this can be done using templates at compile time to optimize the allocation of space, for example.\n",
    "\n",
    "- The key question to ask here is..does the Stack affect the behavior of an instance of type `T`, a real/integer/animal. If not, you want to use some sort of generic programming (auto but slow in python)"
   ]
  },
  {
   "cell_type": "markdown",
   "metadata": {
    "slideshow": {
     "slide_type": "slide"
    }
   },
   "source": [
    "### Subtype Polymorphism\n",
    "\n",
    "This refers to the polymorphism that we encounter in situations where our language provides subclassing.\n",
    "\n",
    "- In a language such as C++, this referes to the notion that a dog and a cat can make sounds through an animal pointer. \n",
    "- In python one can use duck typing or inheritance. So subtype polymorphism is then just ad-hoc polymorphism plus an augmented lookup in the inheritance hierarchy.\n"
   ]
  },
  {
   "cell_type": "markdown",
   "metadata": {
    "slideshow": {
     "slide_type": "slide"
    }
   },
   "source": [
    "What's this table we talk about? We hinted at it earlier when we did:"
   ]
  },
  {
   "cell_type": "code",
   "execution_count": 9,
   "metadata": {
    "collapsed": false,
    "slideshow": {
     "slide_type": "fragment"
    }
   },
   "outputs": [
    {
     "data": {
      "text/plain": [
       "mappingproxy({'__dict__': <attribute '__dict__' of 'FrenchDeck' objects>, 'suits': ['spades', 'diamonds', 'clubs', 'hearts'], 'ranks': ['2', '3', '4', '5', '6', '7', '8', '9', '10', 'J', 'Q', 'K', 'A'], '__init__': <function FrenchDeck.__init__ at 0x1059317b8>, '__doc__': None, '__len__': <function FrenchDeck.__len__ at 0x1059318c8>, '__weakref__': <attribute '__weakref__' of 'FrenchDeck' objects>, '__getitem__': <function FrenchDeck.__getitem__ at 0x105931950>, '__module__': '__main__'})"
      ]
     },
     "execution_count": 9,
     "metadata": {},
     "output_type": "execute_result"
    }
   ],
   "source": [
    "afd.__class__.__dict__"
   ]
  },
  {
   "cell_type": "markdown",
   "metadata": {
    "slideshow": {
     "slide_type": "slide"
    }
   },
   "source": [
    "But What if we dont find a method here? Either this is a runtime error, or we search in the \"parent\" classes of this class. We can see all such attributes by using `dir`:"
   ]
  },
  {
   "cell_type": "code",
   "execution_count": 10,
   "metadata": {
    "collapsed": false,
    "slideshow": {
     "slide_type": "fragment"
    }
   },
   "outputs": [
    {
     "data": {
      "text/plain": [
       "['__class__',\n",
       " '__delattr__',\n",
       " '__dict__',\n",
       " '__dir__',\n",
       " '__doc__',\n",
       " '__eq__',\n",
       " '__format__',\n",
       " '__ge__',\n",
       " '__getattribute__',\n",
       " '__getitem__',\n",
       " '__gt__',\n",
       " '__hash__',\n",
       " '__init__',\n",
       " '__le__',\n",
       " '__len__',\n",
       " '__lt__',\n",
       " '__module__',\n",
       " '__ne__',\n",
       " '__new__',\n",
       " '__reduce__',\n",
       " '__reduce_ex__',\n",
       " '__repr__',\n",
       " '__setattr__',\n",
       " '__sizeof__',\n",
       " '__str__',\n",
       " '__subclasshook__',\n",
       " '__weakref__',\n",
       " '_cards',\n",
       " 'ranks',\n",
       " 'suits']"
      ]
     },
     "execution_count": 10,
     "metadata": {},
     "output_type": "execute_result"
    }
   ],
   "source": [
    "dir(afd)"
   ]
  },
  {
   "cell_type": "markdown",
   "metadata": {
    "slideshow": {
     "slide_type": "slide"
    }
   },
   "source": [
    "And thus notice that this works because it gets sent up:"
   ]
  },
  {
   "cell_type": "code",
   "execution_count": 11,
   "metadata": {
    "collapsed": false,
    "slideshow": {
     "slide_type": "fragment"
    }
   },
   "outputs": [
    {
     "data": {
      "text/plain": [
       "274278618"
      ]
     },
     "execution_count": 11,
     "metadata": {},
     "output_type": "execute_result"
    }
   ],
   "source": [
    "hash(afd)"
   ]
  },
  {
   "cell_type": "markdown",
   "metadata": {
    "slideshow": {
     "slide_type": "fragment"
    }
   },
   "source": [
    "You can see whats upward of the French Deck"
   ]
  },
  {
   "cell_type": "code",
   "execution_count": 12,
   "metadata": {
    "collapsed": false,
    "slideshow": {
     "slide_type": "fragment"
    }
   },
   "outputs": [
    {
     "data": {
      "text/plain": [
       "[__main__.FrenchDeck, object]"
      ]
     },
     "execution_count": 12,
     "metadata": {},
     "output_type": "execute_result"
    }
   ],
   "source": [
    "FrenchDeck.mro()"
   ]
  },
  {
   "cell_type": "markdown",
   "metadata": {
    "slideshow": {
     "slide_type": "skip"
    }
   },
   "source": [
    "Its Object, and when something like `__hash__` is not found in `FrenchDeck` its sent up to `object`.\n",
    "\n",
    "Thus, Subtype Polymorphism works by expanding the search from the current classes table to an augmented table formed by going up the inheritance hierarchy."
   ]
  },
  {
   "cell_type": "markdown",
   "metadata": {
    "slideshow": {
     "slide_type": "slide"
    }
   },
   "source": [
    "### ABC's\n",
    "\n",
    "- Python actually has a more structured form of typing, called **Goosetyping**, which is a generalization of duck-typing with a bit more structure. \n",
    "- Goosetyping is used to define **protocols**, such as the notion of a \"sequence\". \n",
    "\n",
    "Clearly, this can be done informally by agreement as well, but there is an advantage, which you might have seen in `numbers.Integral` above, to defining things higher in an inheritance hierarchy and more formally.\n",
    "Indeed we will soon use ABCs as a vehicle to document interfaces. "
   ]
  },
  {
   "cell_type": "markdown",
   "metadata": {
    "slideshow": {
     "slide_type": "slide"
    }
   },
   "source": [
    "#### Inheritance and ABCs\n",
    "Back to our cards example from Fluent Python. "
   ]
  },
  {
   "cell_type": "code",
   "execution_count": 35,
   "metadata": {
    "collapsed": true,
    "slideshow": {
     "slide_type": "fragment"
    }
   },
   "outputs": [],
   "source": [
    "class FrenchDeck():\n",
    "    ranks = [str(n) for n in range(2, 11)] + list('JQKA') \n",
    "    suits = 'spades diamonds clubs hearts'.split()\n",
    "    \n",
    "    def __init__(self):\n",
    "        self._cards = [Card(rank, suit) for suit in self.suits for rank in self.ranks]\n",
    "                       \n",
    "    def __len__(self):\n",
    "        return len(self._cards)\n",
    "                       \n",
    "    def __getitem__(self, position): \n",
    "        return self._cards[position]"
   ]
  },
  {
   "cell_type": "code",
   "execution_count": 36,
   "metadata": {
    "collapsed": false,
    "slideshow": {
     "slide_type": "fragment"
    }
   },
   "outputs": [
    {
     "data": {
      "text/plain": [
       "False"
      ]
     },
     "execution_count": 36,
     "metadata": {},
     "output_type": "execute_result"
    }
   ],
   "source": [
    "issubclass(FrenchDeck, collections.abc.Sequence)"
   ]
  },
  {
   "cell_type": "markdown",
   "metadata": {
    "slideshow": {
     "slide_type": "fragment"
    }
   },
   "source": [
    "No we are not a sequence and thus:"
   ]
  },
  {
   "cell_type": "code",
   "execution_count": 38,
   "metadata": {
    "collapsed": false,
    "slideshow": {
     "slide_type": "fragment"
    }
   },
   "outputs": [
    {
     "ename": "AttributeError",
     "evalue": "'FrenchDeck' object has no attribute 'index'",
     "output_type": "error",
     "traceback": [
      "\u001b[0;31m---------------------------------------------------------------------------\u001b[0m",
      "\u001b[0;31mAttributeError\u001b[0m                            Traceback (most recent call last)",
      "\u001b[0;32m<ipython-input-38-1e0f00ea771f>\u001b[0m in \u001b[0;36m<module>\u001b[0;34m()\u001b[0m\n\u001b[1;32m      1\u001b[0m \u001b[0mdeck\u001b[0m\u001b[0;34m=\u001b[0m\u001b[0mFrenchDeck\u001b[0m\u001b[0;34m(\u001b[0m\u001b[0;34m)\u001b[0m\u001b[0;34m\u001b[0m\u001b[0m\n\u001b[0;32m----> 2\u001b[0;31m \u001b[0mdeck\u001b[0m\u001b[0;34m.\u001b[0m\u001b[0mindex\u001b[0m\u001b[0;34m(\u001b[0m\u001b[0mCard\u001b[0m\u001b[0;34m(\u001b[0m\u001b[0mrank\u001b[0m\u001b[0;34m=\u001b[0m\u001b[0;34m'7'\u001b[0m\u001b[0;34m,\u001b[0m \u001b[0msuit\u001b[0m\u001b[0;34m=\u001b[0m\u001b[0;34m'spades'\u001b[0m\u001b[0;34m)\u001b[0m\u001b[0;34m)\u001b[0m\u001b[0;34m\u001b[0m\u001b[0m\n\u001b[0m",
      "\u001b[0;31mAttributeError\u001b[0m: 'FrenchDeck' object has no attribute 'index'"
     ]
    }
   ],
   "source": [
    "deck=FrenchDeck()\n",
    "deck.index(Card(rank='7', suit='spades'))"
   ]
  },
  {
   "cell_type": "markdown",
   "metadata": {
    "slideshow": {
     "slide_type": "slide"
    }
   },
   "source": [
    "Erm, but that does not work. We did define `__getitem__` and `__len__`, though.\n",
    "\n",
    "We can go see the source code for the Sequence ABC at https://github.com/python/cpython/blob/master/Lib/_collections_abc.py#L797 .\n",
    "\n",
    "I reproduce it here:\n",
    "\n",
    "```python\n",
    "### SEQUENCES ###\n",
    "\n",
    "\n",
    "class Sequence(Sized, Reversible, Container):\n",
    "\n",
    "    \"\"\"All the operations on a read-only sequence.\n",
    "    Concrete subclasses must override __new__ or __init__,\n",
    "    __getitem__, and __len__.\n",
    "    \"\"\"\n",
    "\n",
    "    __slots__ = ()\n",
    "\n",
    "    @abstractmethod\n",
    "    def __getitem__(self, index):\n",
    "        raise IndexError\n",
    "\n",
    "    def __iter__(self):\n",
    "        i = 0\n",
    "        try:\n",
    "            while True:\n",
    "                v = self[i]\n",
    "                yield v\n",
    "                i += 1\n",
    "        except IndexError:\n",
    "            return\n",
    "\n",
    "    def __contains__(self, value):\n",
    "        for v in self:\n",
    "            if v is value or v == value:\n",
    "                return True\n",
    "        return False\n",
    "\n",
    "    def __reversed__(self):\n",
    "        for i in reversed(range(len(self))):\n",
    "            yield self[i]\n",
    "\n",
    "    def index(self, value, start=0, stop=None):\n",
    "        '''S.index(value, [start, [stop]]) -> integer -- return first index of value.\n",
    "           Raises ValueError if the value is not present.\n",
    "        '''\n",
    "        if start is not None and start < 0:\n",
    "            start = max(len(self) + start, 0)\n",
    "        if stop is not None and stop < 0:\n",
    "            stop += len(self)\n",
    "\n",
    "        i = start\n",
    "        while stop is None or i < stop:\n",
    "            try:\n",
    "                if self[i] == value:\n",
    "                    return i\n",
    "            except IndexError:\n",
    "                break\n",
    "            i += 1\n",
    "        raise ValueError\n",
    "\n",
    "    def count(self, value):\n",
    "        'S.count(value) -> integer -- return number of occurrences of value'\n",
    "        return sum(1 for v in self if v == value)\n",
    "\n",
    "Sequence.register(tuple)\n",
    "Sequence.register(str)\n",
    "Sequence.register(range)\n",
    "Sequence.register(memoryview)\n",
    "```"
   ]
  },
  {
   "cell_type": "markdown",
   "metadata": {
    "slideshow": {
     "slide_type": "slide"
    }
   },
   "source": [
    "There are some salient points:\n",
    "\n",
    "- Notice that `__getitem__` is declared as abstract. This means that we must provide an implementation. Which we have! As did we the definition of `__len__`.But implementing a protocol does not mean being a subclass.\n",
    "\n",
    "- The source code seems to indicate that only `__getitem__` and `__len__` must be defined. But notice that we have `class Sequence(Sized, Iterable, Container)`. This is multiple Inheritance, where the other ABCs are being used to **Mixin** protocols that we want `Sequence` to support. So lets go digging:"
   ]
  },
  {
   "cell_type": "code",
   "execution_count": 39,
   "metadata": {
    "collapsed": false,
    "slideshow": {
     "slide_type": "slide"
    }
   },
   "outputs": [
    {
     "name": "stdout",
     "output_type": "stream",
     "text": [
      "[<class 'collections.abc.Sequence'>, <class 'collections.abc.Sized'>, <class 'collections.abc.Iterable'>, <class 'collections.abc.Container'>, <class 'object'>]\n",
      "frozenset({'__getitem__', '__len__'})\n",
      "=======\n",
      "Sized [<class 'collections.abc.Sized'>, <class 'object'>]\n",
      "frozenset({'__len__'})\n",
      "-----------\n",
      "Iterable [<class 'collections.abc.Iterable'>, <class 'object'>]\n",
      "frozenset({'__iter__'})\n",
      "-----------\n",
      "Container [<class 'collections.abc.Container'>, <class 'object'>]\n",
      "frozenset({'__contains__'})\n",
      "-----------\n"
     ]
    },
    {
     "data": {
      "text/plain": [
       "{'__contains__', '__getitem__', '__iter__', '__len__'}"
      ]
     },
     "execution_count": 39,
     "metadata": {},
     "output_type": "execute_result"
    }
   ],
   "source": [
    "abms=set()\n",
    "abms = abms.union(collections.abc.Sequence.__abstractmethods__)\n",
    "print(collections.abc.Sequence.mro())\n",
    "print(collections.abc.Sequence.__abstractmethods__)\n",
    "print('=======')\n",
    "for parent in collections.abc.Sequence.mro()[1:-1]:\n",
    "    print(parent.__name__, parent.mro())\n",
    "    print(parent.__abstractmethods__)\n",
    "    print('-----------')\n",
    "    abms=abms.union(parent.__abstractmethods__)\n",
    "abms"
   ]
  },
  {
   "cell_type": "markdown",
   "metadata": {
    "slideshow": {
     "slide_type": "slide"
    }
   },
   "source": [
    "Notice that we get `__contains__` and `__iter__` for free. `__contains__` uses `__iter__` and `__iter__` needs `__getitem__`. But Our French Deck is not a sequence subclass.\n",
    "\n",
    "Why are we fixating on that? Patience, little grasshopper..."
   ]
  },
  {
   "cell_type": "markdown",
   "metadata": {
    "slideshow": {
     "slide_type": "slide"
    }
   },
   "source": [
    "#### Registration\n",
    "\n",
    "We can explicitly register to make sure all is good:"
   ]
  },
  {
   "cell_type": "code",
   "execution_count": 40,
   "metadata": {
    "collapsed": false,
    "slideshow": {
     "slide_type": "fragment"
    }
   },
   "outputs": [
    {
     "data": {
      "text/plain": [
       "(True, True)"
      ]
     },
     "execution_count": 40,
     "metadata": {},
     "output_type": "execute_result"
    }
   ],
   "source": [
    "collections.abc.Sequence.register(FrenchDeck)\n",
    "deck = FrenchDeck()\n",
    "issubclass(FrenchDeck, collections.abc.Sequence), isinstance(deck, collections.abc.Sequence)"
   ]
  },
  {
   "cell_type": "markdown",
   "metadata": {
    "slideshow": {
     "slide_type": "fragment"
    }
   },
   "source": [
    "AHA. The notion of registration gets `issubclss` and `isinstance` to work. But even with registration, nothing is inherited: see the mro:"
   ]
  },
  {
   "cell_type": "code",
   "execution_count": 27,
   "metadata": {
    "collapsed": false,
    "slideshow": {
     "slide_type": "fragment"
    }
   },
   "outputs": [
    {
     "data": {
      "text/plain": [
       "[__main__.FrenchDeck, object]"
      ]
     },
     "execution_count": 27,
     "metadata": {},
     "output_type": "execute_result"
    }
   ],
   "source": [
    "FrenchDeck.mro()"
   ]
  },
  {
   "cell_type": "code",
   "execution_count": 41,
   "metadata": {
    "collapsed": false
   },
   "outputs": [
    {
     "ename": "AttributeError",
     "evalue": "'FrenchDeck' object has no attribute 'index'",
     "output_type": "error",
     "traceback": [
      "\u001b[0;31m---------------------------------------------------------------------------\u001b[0m",
      "\u001b[0;31mAttributeError\u001b[0m                            Traceback (most recent call last)",
      "\u001b[0;32m<ipython-input-41-fdf5e45871a6>\u001b[0m in \u001b[0;36m<module>\u001b[0;34m()\u001b[0m\n\u001b[0;32m----> 1\u001b[0;31m \u001b[0mdeck\u001b[0m\u001b[0;34m.\u001b[0m\u001b[0mindex\u001b[0m\u001b[0;34m(\u001b[0m\u001b[0mCard\u001b[0m\u001b[0;34m(\u001b[0m\u001b[0mrank\u001b[0m\u001b[0;34m=\u001b[0m\u001b[0;34m'7'\u001b[0m\u001b[0;34m,\u001b[0m \u001b[0msuit\u001b[0m\u001b[0;34m=\u001b[0m\u001b[0;34m'spades'\u001b[0m\u001b[0;34m)\u001b[0m\u001b[0;34m)\u001b[0m\u001b[0;34m\u001b[0m\u001b[0m\n\u001b[0m",
      "\u001b[0;31mAttributeError\u001b[0m: 'FrenchDeck' object has no attribute 'index'"
     ]
    }
   ],
   "source": [
    "deck.index(Card(rank='7', suit='spades'))"
   ]
  },
  {
   "cell_type": "markdown",
   "metadata": {
    "slideshow": {
     "slide_type": "fragment"
    }
   },
   "source": [
    "Such a class is called a **virtual subclass**, and it is not checked for ABC conformance."
   ]
  },
  {
   "cell_type": "markdown",
   "metadata": {
    "slideshow": {
     "slide_type": "slide"
    }
   },
   "source": [
    "### subclassing from ABCs instead of registration\n",
    "\n",
    "Remember the `Sequence` ABC above seemed to have code...\n",
    "\n",
    "**Despite being an ABC, it had some method implementations.**\n",
    "\n",
    "(These are the analogs of C++'s impure virtual functions.)\n",
    "\n",
    "This suggests that it might be worth inheriting from the ABC instead"
   ]
  },
  {
   "cell_type": "code",
   "execution_count": 42,
   "metadata": {
    "collapsed": true,
    "slideshow": {
     "slide_type": "slide"
    }
   },
   "outputs": [],
   "source": [
    "class FrenchDeckTake2(collections.abc.Sequence):\n",
    "    ranks = [str(n) for n in range(2, 11)] + list('JQKA') \n",
    "    suits = 'spades diamonds clubs hearts'.split()\n",
    "    \n",
    "    def __init__(self):\n",
    "        self._cards = [Card(rank, suit) for suit in self.suits for rank in self.ranks]\n",
    "                       \n",
    "    def __len__(self):\n",
    "        return len(self._cards)\n",
    "                       \n",
    "#     def __getitem__(self, position): \n",
    "#         return self._cards[position]\n",
    "\n"
   ]
  },
  {
   "cell_type": "markdown",
   "metadata": {
    "slideshow": {
     "slide_type": "fragment"
    }
   },
   "source": [
    "I purposely comment `__getitem__` out. See what happens:"
   ]
  },
  {
   "cell_type": "code",
   "execution_count": 43,
   "metadata": {
    "collapsed": false,
    "slideshow": {
     "slide_type": "fragment"
    }
   },
   "outputs": [
    {
     "ename": "TypeError",
     "evalue": "Can't instantiate abstract class FrenchDeckTake2 with abstract methods __getitem__",
     "output_type": "error",
     "traceback": [
      "\u001b[0;31m---------------------------------------------------------------------------\u001b[0m",
      "\u001b[0;31mTypeError\u001b[0m                                 Traceback (most recent call last)",
      "\u001b[0;32m<ipython-input-43-9c4030293ee2>\u001b[0m in \u001b[0;36m<module>\u001b[0;34m()\u001b[0m\n\u001b[0;32m----> 1\u001b[0;31m \u001b[0mdeck\u001b[0m \u001b[0;34m=\u001b[0m \u001b[0mFrenchDeckTake2\u001b[0m\u001b[0;34m(\u001b[0m\u001b[0;34m)\u001b[0m\u001b[0;34m\u001b[0m\u001b[0m\n\u001b[0m",
      "\u001b[0;31mTypeError\u001b[0m: Can't instantiate abstract class FrenchDeckTake2 with abstract methods __getitem__"
     ]
    }
   ],
   "source": [
    "deck = FrenchDeckTake2()"
   ]
  },
  {
   "cell_type": "markdown",
   "metadata": {
    "slideshow": {
     "slide_type": "slide"
    }
   },
   "source": [
    "AHA!\n",
    "\n",
    "By inheriting from an ABC we get runtime checks: *if my \"implementation\" does not fully implement my \"interface\", I am in trouble*. "
   ]
  },
  {
   "cell_type": "code",
   "execution_count": 44,
   "metadata": {
    "collapsed": false,
    "slideshow": {
     "slide_type": "slide"
    }
   },
   "outputs": [],
   "source": [
    "class FrenchDeckTake3(collections.abc.Sequence):\n",
    "    ranks = [str(n) for n in range(2, 11)] + list('JQKA') \n",
    "    suits = 'spades diamonds clubs hearts'.split()\n",
    "    \n",
    "    def __init__(self):\n",
    "        self._cards = [Card(rank, suit) for suit in self.suits for rank in self.ranks]\n",
    "                       \n",
    "    def __len__(self):\n",
    "        return len(self._cards)\n",
    "                       \n",
    "    def __getitem__(self, position): \n",
    "        return self._cards[position]\n",
    "\n",
    "\n",
    "deck = FrenchDeckTake3()"
   ]
  },
  {
   "cell_type": "markdown",
   "metadata": {
    "slideshow": {
     "slide_type": "slide"
    }
   },
   "source": [
    "No problems now, and I seem to have picked up some methods from the sequence ABC to boot. Notice that these must be defined in terms of the existing abstract and concrete methods and we will be good...\n",
    "\n",
    "Subtype polymorphism now works by expanding the search from the current class to other classes in the MRO!"
   ]
  },
  {
   "cell_type": "code",
   "execution_count": 45,
   "metadata": {
    "collapsed": false,
    "slideshow": {
     "slide_type": "skip"
    }
   },
   "outputs": [
    {
     "data": {
      "text/plain": [
       "[__main__.FrenchDeckTake3,\n",
       " collections.abc.Sequence,\n",
       " collections.abc.Sized,\n",
       " collections.abc.Iterable,\n",
       " collections.abc.Container,\n",
       " object]"
      ]
     },
     "execution_count": 45,
     "metadata": {},
     "output_type": "execute_result"
    }
   ],
   "source": [
    "FrenchDeckTake3.mro()"
   ]
  },
  {
   "cell_type": "code",
   "execution_count": 46,
   "metadata": {
    "collapsed": false,
    "slideshow": {
     "slide_type": "fragment"
    }
   },
   "outputs": [
    {
     "data": {
      "text/plain": [
       "5"
      ]
     },
     "execution_count": 46,
     "metadata": {},
     "output_type": "execute_result"
    }
   ],
   "source": [
    "deck.index(Card(rank='7', suit='spades'))#obtained from sequence implementations"
   ]
  },
  {
   "cell_type": "markdown",
   "metadata": {
    "slideshow": {
     "slide_type": "slide"
    }
   },
   "source": [
    "As the coder of a concrete subclass, you can override methods inherited from ABCs with more efficient implementations. For example, __contains__ works by doing a linear search, but if you were using a sorted list or binary search tree in your derived class, you could do a binary search using `bisect`.\n",
    "\n",
    "**So implement a \"virtual subclass\" by registering if you dont want to use such inherited methods...the parent ABC's wont be in the `mro()`.**\n",
    "\n",
    "**To get runtime checks and utilize methods that might have been defined in the ABC, subclass.**"
   ]
  },
  {
   "cell_type": "markdown",
   "metadata": {
    "slideshow": {
     "slide_type": "slide"
    }
   },
   "source": [
    "#### An interesting edge case"
   ]
  },
  {
   "cell_type": "code",
   "execution_count": 48,
   "metadata": {
    "collapsed": false,
    "slideshow": {
     "slide_type": "fragment"
    }
   },
   "outputs": [
    {
     "data": {
      "text/plain": [
       "(True, True)"
      ]
     },
     "execution_count": 48,
     "metadata": {},
     "output_type": "execute_result"
    }
   ],
   "source": [
    "class Answer:\n",
    "    def __len__(self): \n",
    "        return 42\n",
    "from collections import abc\n",
    "isinstance(Answer(), abc.Sized), issubclass(Answer, abc.Sized)"
   ]
  },
  {
   "cell_type": "code",
   "execution_count": 49,
   "metadata": {
    "collapsed": false,
    "slideshow": {
     "slide_type": "fragment"
    }
   },
   "outputs": [
    {
     "data": {
      "text/plain": [
       "[__main__.Answer, object]"
      ]
     },
     "execution_count": 49,
     "metadata": {},
     "output_type": "execute_result"
    }
   ],
   "source": [
    "Answer.mro()"
   ]
  },
  {
   "cell_type": "markdown",
   "metadata": {
    "slideshow": {
     "slide_type": "slide"
    }
   },
   "source": [
    "NO EXPLICIT INHERITANCE HERE!\n",
    "\n",
    "From https://hg.python.org/cpython/file/3.5/Lib/_collections_abc.py#l300  we can see:\n",
    "\n",
    "```python\n",
    "class Sized(metaclass=ABCMeta):\n",
    "\n",
    "    __slots__ = ()\n",
    "\n",
    "    @abstractmethod\n",
    "    def __len__(self):\n",
    "        return 0\n",
    "\n",
    "    @classmethod\n",
    "    def __subclasshook__(cls, C):\n",
    "        if cls is Sized:\n",
    "            if any(\"__len__\" in B.__dict__ for B in C.__mro__):\n",
    "                return True\n",
    "        return NotImplemented\n",
    "```\n",
    "\n",
    "The `isinstance`, `issubclass` dynamically check to see what the abstract methods of the `Sized` ABC are."
   ]
  }
 ],
 "metadata": {
  "celltoolbar": "Slideshow",
  "kernelspec": {
   "display_name": "Python [default]",
   "language": "python",
   "name": "python3"
  },
  "language_info": {
   "codemirror_mode": {
    "name": "ipython",
    "version": 3
   },
   "file_extension": ".py",
   "mimetype": "text/x-python",
   "name": "python",
   "nbconvert_exporter": "python",
   "pygments_lexer": "ipython3",
   "version": "3.5.2"
  }
 },
 "nbformat": 4,
 "nbformat_minor": 0
}
