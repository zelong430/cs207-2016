{
 "cells": [
  {
   "cell_type": "markdown",
   "metadata": {},
   "source": [
    "# CS 207 : Lab 11"
   ]
  },
  {
   "cell_type": "markdown",
   "metadata": {},
   "source": [
    "### Amazon Web Services / Project Software Stack"
   ]
  },
  {
   "cell_type": "markdown",
   "metadata": {},
   "source": [
    "#### A Distributed System"
   ]
  },
  {
   "cell_type": "markdown",
   "metadata": {},
   "source": [
    "Thus far Rahul has had you use Python mostly to explore advanced programming concepts and techniques. You have used some external services and data sources, but for the most part you have been designing, developing, testing, and implementing stand-alone programs on your laptop computers. \n",
    "\n",
    "But stand alone programs on a single computer are rare. Your final project is not a program; it is a <strong>system</strong>, and current scientific computing systems are increasingly <strong>distributed</strong>. \n",
    "\n",
    "<strong>Distributed systems</strong> consist of multiple computers or processors connected at least intermittently by a communications link. There is a sense in which even a laptop computer is a distributed system, but for our purposes it's simpler to think of networked computers collaborating on a task. <br>\n",
    "\n",
    "Distributed systems present a host of challenges, ranging from determining basic communications and data interchange protocols, hardware reliability, to subtle and complex problems of failure, asynchrony, state, concurrency, encryption, and security. <br>\n",
    "\n",
    "<strong>Amazon Web Services (AWS)</strong> is a distributed system environment - a collection of cloud-based computing infrastructure services. It has become economical, effective, and fairly safe to lease and use these services in great part because AWS has addressed the basic practical problems of distributed computing. AWS services range from small virtual PCs running Windows or Linux to virtual private clouds (VPCs), from servers optimized for computation, memory, or network throughput, to massive data warehouses with column-store petabyte-sized databases.  <br>\n",
    "\n",
    "Using AWS, all we have to do to build the infrastructure of your first CS207 distributed system is set up an account, get an access key, select, configure, and start the services we need, and start using them remotely. <br>\n",
    "\n",
    "In this lab we'll use two AWS services (an EC2 service, for \"elastic\" - i.e. scalable - computing, and an S3 service, for dedicated storage). We'll create a remote instance of Ubuntu 16.04 server (a flavor of Linux), and we'll provision it with the software stack you'll use on your final project. We'll also set up a new PostgreSQL database and table.\n",
    "\n",
    "(<i>If we have time, we'll run a simple Python program on the EC2 instance that populates the PostgreSQL table with random numbers, then saves them as a browser accessible HTML document.</i>)<br>\n",
    "\n",
    "This remote EC2 instance will become the deployment target platform for your project, so it's important that you follow and complete the various steps I'll be showing you."
   ]
  },
  {
   "cell_type": "markdown",
   "metadata": {},
   "source": [
    "### Create an Amazon Web Services account"
   ]
  },
  {
   "cell_type": "markdown",
   "metadata": {},
   "source": [
    "You should already have created an Amazon Web Services account per the notice on Piazza. If you haven't, please do it now. at https://aws.amazon.com/<br><br>\n",
    "Once all the accounts have been created, we'll start setting up your security credentials."
   ]
  },
  {
   "cell_type": "markdown",
   "metadata": {},
   "source": [
    "### AWS security credentials: your Access Key ID and Secret Key"
   ]
  },
  {
   "cell_type": "markdown",
   "metadata": {},
   "source": [
    "1) Click \"MyAccount\" on the AWS menu bar and select \"Security Credentials\"<br>\n",
    "2) Expand the \"Access Keys (Access Key ID and Secret Access Key)\" tab<br>\n",
    "3) Click \"Create new access key\"<br>\n",
    "4) Download the new access key<br>"
   ]
  },
  {
   "cell_type": "markdown",
   "metadata": {
    "collapsed": true
   },
   "source": [
    "### Set up an EC2 instance"
   ]
  },
  {
   "cell_type": "markdown",
   "metadata": {},
   "source": [
    "Now that you've created your AWS account and security credentials, we'll configure and launch an EC2 instance<br>\n",
    "\n",
    "<strong>[PLEASE FOLLOW THE INSTANCE LAUNCH DEMO STEP BY STEP ON YOUR MACHINE. AND PLEASE DO NOT EXECUTE THE CODE CELLS BELOW - YOU WILL CUT AND PASTE THEM INTO A TERMINAL WINDOW CONNECTED TO THE EC2 INSTANCE]</strong>"
   ]
  },
  {
   "cell_type": "markdown",
   "metadata": {},
   "source": [
    "### A word of warning about the state of your EC2 instance"
   ]
  },
  {
   "cell_type": "markdown",
   "metadata": {},
   "source": [
    "Your instance is now launched and running.<br>\n",
    "\n",
    "You can use the AWS EC2 dashboard 'running instances' page to change the state of your EC2 instance, but please be aware of the following:<br>\n",
    "\n",
    "* if you STOP the instance, the public IP or DNS address will change. This can break software that depends on a hard-coded public address, but the work you did inside the instance itself is preserved <br>\n",
    "* you can RESTART an instance without losing the public IP / DNS address (and your work is preserved)\n",
    "* if you TERMINATE an instance all work inside the instance is lost\n",
    "* remember to STOP the instance after the course is over to avoid incurring charges\n",
    "* even though we are using a \"free tier\" service, you should periodically monitor billing and charges via your AWS account page to ensure you aren't being charged\n",
    "\n"
   ]
  },
  {
   "cell_type": "markdown",
   "metadata": {},
   "source": [
    "### Connect to the new EC2 instance using SSH"
   ]
  },
  {
   "cell_type": "markdown",
   "metadata": {},
   "source": [
    "From your local (i.e. laptop) working folder, use ssh to connect to the EC2 instance, for example:"
   ]
  },
  {
   "cell_type": "code",
   "execution_count": null,
   "metadata": {
    "collapsed": false
   },
   "outputs": [],
   "source": [
    "#substitute your key pair name and the public IP or DNS address of your EC2 instance in the command below\n",
    "\n",
    "#set the privileges for your security key\n",
    "chmod 0400 cs207pair.pem\n",
    "\n",
    "#establish a secure terminal to your EC2 instance\n",
    "sudo ssh -i \"cs207pair.pem\" ubuntu@107.22.137.53  \n"
   ]
  },
  {
   "cell_type": "markdown",
   "metadata": {},
   "source": [
    "(Instead of SSH you can also use Putty on a Mac or something like SecureCRT in Windows)"
   ]
  },
  {
   "cell_type": "markdown",
   "metadata": {},
   "source": [
    "You should now be logged into the remote EC2 instance - if you're using SSH, your prompt should now contain the user name and IP address specified in the ssh command. If not, please let us know!<br>"
   ]
  },
  {
   "cell_type": "markdown",
   "metadata": {},
   "source": [
    "In your SSH terminal session, enter the following to update currently installed software packages:"
   ]
  },
  {
   "cell_type": "code",
   "execution_count": null,
   "metadata": {
    "collapsed": true
   },
   "outputs": [],
   "source": [
    "sudo apt-get update"
   ]
  },
  {
   "cell_type": "markdown",
   "metadata": {},
   "source": [
    "### About the final project software stack ..."
   ]
  },
  {
   "cell_type": "markdown",
   "metadata": {},
   "source": [
    "The final project stack includes:<br><br> <strong> Python requirements (including numpy) not included with Ubuntu 16.04<br>Flask - web development tool<br> SQL Alchemy <t><t><t>- database tool (part of Flask) <br>nginix - web server<br>PostgreSQL - relational database management system<br></strong>"
   ]
  },
  {
   "cell_type": "markdown",
   "metadata": {},
   "source": [
    "### Get the provisioning script from an S3 bucket and run it"
   ]
  },
  {
   "cell_type": "markdown",
   "metadata": {},
   "source": [
    "Now we need the provisioning shell script that installs the final project software stack on your EC2 instance.<br>\n",
    "\n",
    "The provisioning script is in an AWS S3 instance we set up for CS207 in another part of the AWS cloud.<br>\n",
    "\n",
    "In the ssh session connected to your EC2 instance, get the script and two Python test programs:\n"
   ]
  },
  {
   "cell_type": "code",
   "execution_count": null,
   "metadata": {
    "collapsed": false
   },
   "outputs": [],
   "source": [
    "wget http://s3.amazonaws.com/cs207-bucket/cs207_aws_ec2_stack.sh\n",
    "wget http://s3.amazonaws.com/cs207-bucket/cs207_aws_ec2_stack_test.py\n",
    "wget http://s3.amazonaws.com/cs207-bucket/cs207_aws_ec2_postgres_test.py"
   ]
  },
  {
   "cell_type": "markdown",
   "metadata": {},
   "source": [
    "After the script has been downloaded, make it executable:"
   ]
  },
  {
   "cell_type": "code",
   "execution_count": null,
   "metadata": {
    "collapsed": true
   },
   "outputs": [],
   "source": [
    "chmod a+x cs207_aws_ec2_stack.sh"
   ]
  },
  {
   "cell_type": "markdown",
   "metadata": {},
   "source": [
    "And execute it:"
   ]
  },
  {
   "cell_type": "code",
   "execution_count": null,
   "metadata": {
    "collapsed": true
   },
   "outputs": [],
   "source": [
    "sudo ./cs207_aws_ec2_stack.sh"
   ]
  },
  {
   "cell_type": "markdown",
   "metadata": {},
   "source": [
    "While the script is running you may occasionally see the message \"sudo: unable to resolve host\". For now you can ignore this message.<br>\n",
    "\n",
    "When the script has finished, the software stack should be installed on your EC2 instance. To be sure, <strong>review the installation and services report displayed at the end</strong>, which should report that a Python3 program successfully imported Flask, SQLAlchemy, etc - also, the nginx web server should be reported as \"active\"."
   ]
  },
  {
   "cell_type": "markdown",
   "metadata": {
    "collapsed": true
   },
   "source": [
    "### PostgreSQL - set up new user, database, and table"
   ]
  },
  {
   "cell_type": "markdown",
   "metadata": {
    "collapsed": true
   },
   "source": [
    "Before using PostgreSQL from Python, you need to create a user, a database, and a table.<br>\n",
    "\n",
    "Still in the SSH terminal session on your EC2 instance, enter the following: "
   ]
  },
  {
   "cell_type": "code",
   "execution_count": null,
   "metadata": {
    "collapsed": false
   },
   "outputs": [],
   "source": [
    "sudo -u postgres psql"
   ]
  },
  {
   "cell_type": "markdown",
   "metadata": {},
   "source": [
    "At the postgres prompt, change the postgres user password (don't forget the closing ';' !!):"
   ]
  },
  {
   "cell_type": "code",
   "execution_count": null,
   "metadata": {
    "collapsed": false
   },
   "outputs": [],
   "source": [
    "alter user postgres password 'password';"
   ]
  },
  {
   "cell_type": "markdown",
   "metadata": {},
   "source": [
    "Still at the postgres prompt, we'll create a new PostgreSQL user called <strong>ubuntu</strong>."
   ]
  },
  {
   "cell_type": "code",
   "execution_count": null,
   "metadata": {
    "collapsed": true
   },
   "outputs": [],
   "source": [
    "create user ubuntu createdb createuser password 'cs207password';"
   ]
  },
  {
   "cell_type": "markdown",
   "metadata": {},
   "source": [
    "And create a database (also called 'cs207user') owned by the user 'cs207user':"
   ]
  },
  {
   "cell_type": "code",
   "execution_count": null,
   "metadata": {
    "collapsed": true
   },
   "outputs": [],
   "source": [
    "# after executing the command below, type \\q to exit back to your EC2 instance command prompt\n",
    "create database ubuntu owner ubuntu;"
   ]
  },
  {
   "cell_type": "markdown",
   "metadata": {},
   "source": [
    "Now log back into into the new PostgreSQL 'ubuntu' database"
   ]
  },
  {
   "cell_type": "code",
   "execution_count": null,
   "metadata": {
    "collapsed": false
   },
   "outputs": [],
   "source": [
    "psql -d ubuntu -U ubuntu"
   ]
  },
  {
   "cell_type": "markdown",
   "metadata": {},
   "source": [
    "Now we'll create a new table called <strong>random_numbers</strong>. Enter the following"
   ]
  },
  {
   "cell_type": "code",
   "execution_count": null,
   "metadata": {
    "collapsed": false
   },
   "outputs": [],
   "source": [
    "# after executing the command below, type \\q to exit back to your EC2 instance command prompt\n",
    "CREATE TABLE random_numbers (\n",
    "    rn_id serial PRIMARY KEY,\n",
    "    rn float(8) NOT NULL\n",
    ");"
   ]
  },
  {
   "cell_type": "markdown",
   "metadata": {},
   "source": [
    "Now we can run a test to exercise the table. At the EC2 instance prompt type:"
   ]
  },
  {
   "cell_type": "code",
   "execution_count": null,
   "metadata": {
    "collapsed": false
   },
   "outputs": [],
   "source": [
    "python3 cs207_aws_ec2_postgres_test.py"
   ]
  },
  {
   "cell_type": "markdown",
   "metadata": {},
   "source": [
    "### Check that nginx is accessible from an external browser"
   ]
  },
  {
   "cell_type": "markdown",
   "metadata": {},
   "source": [
    "Enter the public IP or DNS address of your EC2 instance into a browser - it should display an nginx default 'welcome' page."
   ]
  },
  {
   "cell_type": "markdown",
   "metadata": {},
   "source": [
    "### You're all set! The final project software stack is loaded and ready to use!"
   ]
  },
  {
   "cell_type": "markdown",
   "metadata": {},
   "source": [
    "[will continue with html page demo if there's time]"
   ]
  }
 ],
 "metadata": {
  "kernelspec": {
   "display_name": "Python 3",
   "language": "python",
   "name": "python3"
  },
  "language_info": {
   "codemirror_mode": {
    "name": "ipython",
    "version": 3
   },
   "file_extension": ".py",
   "mimetype": "text/x-python",
   "name": "python",
   "nbconvert_exporter": "python",
   "pygments_lexer": "ipython3",
   "version": "3.5.2"
  }
 },
 "nbformat": 4,
 "nbformat_minor": 1
}
