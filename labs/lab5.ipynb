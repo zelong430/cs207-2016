{
 "cells": [
  {
   "cell_type": "markdown",
   "metadata": {},
   "source": [
    "## Python Module and Packages Lecture and Lab\n",
    "\n",
    "This interpreter essentionally reproduces lis.py from Peter Norvig. Go read his posts."
   ]
  },
  {
   "cell_type": "markdown",
   "metadata": {
    "collapsed": false
   },
   "source": [
    "### Environment Interface"
   ]
  },
  {
   "cell_type": "code",
   "execution_count": 2,
   "metadata": {
    "collapsed": false
   },
   "outputs": [],
   "source": [
    "import abc\n",
    "class Environment(abc.ABC):\n",
    "    \"\"\"\n",
    "    This is the interface for an Environment. The client for \n",
    "    this interface is a language intepreter. \n",
    "    \"\"\"\n",
    "    @classmethod\n",
    "    @abc.abstractmethod\n",
    "    def empty(cls):\n",
    "        return cls()\n",
    "    \n",
    "    @abc.abstractmethod\n",
    "    def extend(self, variable, value):\n",
    "        \"\"\"\n",
    "        extend an existing environment by binding variable to value.\n",
    "        The values must be an acceptable value in the language. If the\n",
    "        same variable is used twice the newer value must be bound.\n",
    "        \"\"\"\n",
    "    \n",
    "    @abc.abstractmethod\n",
    "    def extend_many(self, envdict):\n",
    "        \"\"\"\n",
    "        extend the current environment by values in the dictionary\n",
    "        envdict. If the dictionary contains variables already in the\n",
    "        environment, the newer values from the dictionary are bound\n",
    "        \"\"\"\n",
    "        \n",
    "    @abc.abstractmethod\n",
    "    def lookup(variable):\n",
    "        \"\"\"\n",
    "        return the unique binding of the variable and the environment it was bound\n",
    "        in as a tuple. If it is not found raise a NameError as below\n",
    "        \"\"\"\n",
    "        raise NameError(\"{} not found in Environment\".format(vaiable))"
   ]
  },
  {
   "cell_type": "markdown",
   "metadata": {},
   "source": [
    "### Environment Implementation"
   ]
  },
  {
   "cell_type": "code",
   "execution_count": 3,
   "metadata": {
    "collapsed": false
   },
   "outputs": [
    {
     "data": {
      "text/plain": [
       "__main__.Env"
      ]
     },
     "execution_count": 3,
     "metadata": {},
     "output_type": "execute_result"
    }
   ],
   "source": [
    "class Env:\n",
    "    \"\"\"\n",
    "    The keys k must be strings, and the values v must be legitimate values\n",
    "    in our environment.\n",
    "    \n",
    "    The empty dictionary represents the empty environment.\n",
    "    \"\"\"\n",
    "    \n",
    "    def __init__(self, outerenv=None):\n",
    "        self.env = dict()\n",
    "        self.outerenv = outerenv\n",
    "    \n",
    "    @classmethod\n",
    "    def empty(cls):\n",
    "        return cls()\n",
    "    \n",
    "    def extend(self, variable, value):\n",
    "        self.env[variable] = value\n",
    "        \n",
    "    def extend_many(self, envdict):\n",
    "        self.env.update(envdict)\n",
    "\n",
    "    #your code here\n",
    "    def lookup(self, key):\n",
    "        try:\n",
    "            found = self.env[key]\n",
    "            env = self\n",
    "        except KeyError:\n",
    "            if self.outerenv is not None:\n",
    "                found, env =self.outerenv.lookup(key)\n",
    "            else:\n",
    "                raise NameError(\"{} <<>> not found in Environment\".format(key))\n",
    "        return found, env\n",
    "            \n",
    "Environment.register(Env)"
   ]
  },
  {
   "cell_type": "markdown",
   "metadata": {},
   "source": [
    "### Parser"
   ]
  },
  {
   "cell_type": "code",
   "execution_count": 4,
   "metadata": {
    "collapsed": false
   },
   "outputs": [],
   "source": [
    "Symbol = str\n",
    "\n",
    "def typer(token):\n",
    "    if token == 'true':\n",
    "        return True\n",
    "    elif token == 'false':\n",
    "        return False\n",
    "    try:\n",
    "        t = int(token)\n",
    "        return t\n",
    "    except ValueError:\n",
    "        try:\n",
    "            t = float(token)\n",
    "            return t\n",
    "        except ValueError:\n",
    "            return Symbol(token)\n",
    "        \n",
    "def lex(loc):\n",
    "    tokenlist =  loc.replace('(', ' ( ').replace(')', ' ) ').split()\n",
    "    return [typer(t) for t in tokenlist]\n",
    "\n",
    "def syn(tokens):\n",
    "    if len(tokens) == 0:\n",
    "        return []\n",
    "    token = tokens.pop(0)\n",
    "    if token == '(':\n",
    "        L = []\n",
    "        while tokens[0] != ')':\n",
    "            L.append(syn(tokens))\n",
    "        tokens.pop(0) # pop off ')'\n",
    "        return L\n",
    "    else:\n",
    "        if token==')':\n",
    "            assert 1, \"should not have got here\"\n",
    "        return token\n",
    "    \n",
    "def parse(loc):\n",
    "    return syn(lex(loc))"
   ]
  },
  {
   "cell_type": "markdown",
   "metadata": {},
   "source": [
    "### Evaluator"
   ]
  },
  {
   "cell_type": "code",
   "execution_count": 5,
   "metadata": {
    "collapsed": false
   },
   "outputs": [],
   "source": [
    "def global_env(envclass):\n",
    "    \"An environment with some Scheme standard procedures.\"\n",
    "    import math, operator as op\n",
    "    env = envclass.empty()\n",
    "    env.extend_many(vars(math))\n",
    "    env.extend_many({\n",
    "        '+':op.add, '-':op.sub, '*':op.mul, '/':op.truediv, \n",
    "        'abs':     abs,\n",
    "        'max':     max,\n",
    "        'min':     min,\n",
    "        'round':   round,\n",
    "        '>':op.gt, '<':op.lt, '>=':op.ge, '<=':op.le, '==':op.eq,\n",
    "        'not':     op.not_\n",
    "    })\n",
    "    return env"
   ]
  },
  {
   "cell_type": "code",
   "execution_count": 6,
   "metadata": {
    "collapsed": true
   },
   "outputs": [],
   "source": [
    "class Function():\n",
    "    def __init__(self, params, parsedbody, env):\n",
    "        self.params = params\n",
    "        self.code = parsedbody\n",
    "        self.env = env\n",
    "        self.envclass = env.__class__\n",
    "        \n",
    "    def __call__(self, *args):\n",
    "        funcenv = self.envclass(outerenv = self.env)\n",
    "        funcenv.extend_many(zip(self.params, args))\n",
    "        return eval_ptree(self.code, funcenv)"
   ]
  },
  {
   "cell_type": "code",
   "execution_count": 7,
   "metadata": {
    "collapsed": false
   },
   "outputs": [],
   "source": [
    "def eval_ptree(x, env):\n",
    "    fmap={'#t':True, '#f':False, 'nil':None}\n",
    "    if x in ('#t', '#f', 'nil'):\n",
    "        return fmap[x]        \n",
    "    elif isinstance(x, Symbol):\n",
    "        # variable lookup\n",
    "        return env.lookup(x)[0]\n",
    "    elif not isinstance(x, list):  # constant\n",
    "        return x\n",
    "    elif len(x)==0: #noop\n",
    "        return None\n",
    "    elif x[0]=='if':\n",
    "        (_, predicate, truexpr, falseexpr) = x\n",
    "        if eval_ptree(predicate, env):\n",
    "            expression = truexpr\n",
    "        else:\n",
    "            expression = falseexpr\n",
    "        return eval_ptree(expression, env)\n",
    "    elif x[0] == 'def':         # variable definition\n",
    "        (_, var, expression) = x\n",
    "        #postorder traversal by nested eval is needed below\n",
    "        # your code here\n",
    "        env.extend(var, eval_ptree(expression, env))\n",
    "    elif x[0] == 'store':           # (set! var exp)\n",
    "        (_, var, exp) = x\n",
    "        env.lookup(var)[1].extend(var, eval_ptree(exp, env))\n",
    "    elif x[0] == 'func':\n",
    "        (_, parameters, parsedbody) = x\n",
    "        return Function(parameters, parsedbody, env)\n",
    "    else:                          # operator\n",
    "        op = eval_ptree(x[0], env)\n",
    "        #postorder traversal to get subexpressione before running the op\n",
    "        args = [eval_ptree(arg, env) for arg in x[1:]]\n",
    "        return op(*args)"
   ]
  },
  {
   "cell_type": "code",
   "execution_count": 8,
   "metadata": {
    "collapsed": true
   },
   "outputs": [],
   "source": [
    "class Program():\n",
    "    \n",
    "    def __init__(self, program, env):\n",
    "        self.program = [e.strip() for e in program.split('\\n')]\n",
    "        self.env = env\n",
    "        \n",
    "    def __iter__(self):\n",
    "        for line in self.program:\n",
    "            yield line\n",
    "    \n",
    "    def parse(self):\n",
    "        parses=[]\n",
    "        for l in iter(self):\n",
    "            parses.append(parse(l))\n",
    "        return parses\n",
    "            \n",
    "    def run(self):\n",
    "        results=[]\n",
    "        for l in iter(self):\n",
    "            parsed_line = parse(l)\n",
    "            results.append(eval_ptree(parsed_line, self.env))\n",
    "        return results"
   ]
  },
  {
   "cell_type": "markdown",
   "metadata": {},
   "source": [
    "### Driver to run the code"
   ]
  },
  {
   "cell_type": "code",
   "execution_count": 9,
   "metadata": {
    "collapsed": false
   },
   "outputs": [],
   "source": [
    "def backtolang(exp):\n",
    "    boolmap={True:'#t', False:'#f'}\n",
    "    if  isinstance(exp, list):\n",
    "        return '(' + ' '.join(map(backtolang, exp)) + ')' \n",
    "    elif isinstance(exp, bool):\n",
    "        return boolmap[exp]\n",
    "    elif exp is None:\n",
    "        return 'nil'\n",
    "    else:\n",
    "        return str(exp)\n",
    "    \n",
    "def repl(env, prompt='calc> '):\n",
    "    while True:\n",
    "        try:\n",
    "            val = eval_ptree(parse(input(prompt)), env)\n",
    "        except (KeyboardInterrupt, EOFError):\n",
    "            break\n",
    "        if val is not None: \n",
    "            print(backtolang(val))\n",
    "            \n"
   ]
  },
  {
   "cell_type": "code",
   "execution_count": 10,
   "metadata": {
    "collapsed": false,
    "scrolled": true
   },
   "outputs": [],
   "source": [
    "def run_program_asif_repl(program, env):\n",
    "    prog=Program(prpgram, globenv)\n",
    "    for result in p1c.run():\n",
    "        print(backtolang(result))"
   ]
  },
  {
   "cell_type": "code",
   "execution_count": 11,
   "metadata": {
    "collapsed": true
   },
   "outputs": [],
   "source": [
    "def run_program(program, env):\n",
    "    prog=Program(prpgram, globenv)\n",
    "    endit = None\n",
    "    for result in p1c.run():\n",
    "        endit = result\n",
    "    return endit"
   ]
  },
  {
   "cell_type": "code",
   "execution_count": 12,
   "metadata": {
    "collapsed": true
   },
   "outputs": [],
   "source": [
    "globenv = global_env(Env)"
   ]
  },
  {
   "cell_type": "code",
   "execution_count": 13,
   "metadata": {
    "collapsed": false
   },
   "outputs": [
    {
     "name": "stdout",
     "output_type": "stream",
     "text": [
      "calc> (def rad 1)\n",
      "calc> a\n"
     ]
    },
    {
     "ename": "NameError",
     "evalue": "a <<>> not found in Environment",
     "output_type": "error",
     "traceback": [
      "\u001b[0;31m---------------------------------------------------------------------------\u001b[0m",
      "\u001b[0;31mKeyError\u001b[0m                                  Traceback (most recent call last)",
      "\u001b[0;32m<ipython-input-3-5c9902b4561d>\u001b[0m in \u001b[0;36mlookup\u001b[0;34m(self, key)\u001b[0m\n\u001b[1;32m     25\u001b[0m         \u001b[0;32mtry\u001b[0m\u001b[0;34m:\u001b[0m\u001b[0;34m\u001b[0m\u001b[0m\n\u001b[0;32m---> 26\u001b[0;31m             \u001b[0mfound\u001b[0m \u001b[0;34m=\u001b[0m \u001b[0mself\u001b[0m\u001b[0;34m.\u001b[0m\u001b[0menv\u001b[0m\u001b[0;34m[\u001b[0m\u001b[0mkey\u001b[0m\u001b[0;34m]\u001b[0m\u001b[0;34m\u001b[0m\u001b[0m\n\u001b[0m\u001b[1;32m     27\u001b[0m             \u001b[0menv\u001b[0m \u001b[0;34m=\u001b[0m \u001b[0mself\u001b[0m\u001b[0;34m\u001b[0m\u001b[0m\n",
      "\u001b[0;31mKeyError\u001b[0m: 'a'",
      "\nDuring handling of the above exception, another exception occurred:\n",
      "\u001b[0;31mNameError\u001b[0m                                 Traceback (most recent call last)",
      "\u001b[0;32m<ipython-input-13-6c96d2f209ad>\u001b[0m in \u001b[0;36m<module>\u001b[0;34m()\u001b[0m\n\u001b[0;32m----> 1\u001b[0;31m \u001b[0mrepl\u001b[0m\u001b[0;34m(\u001b[0m\u001b[0mglobenv\u001b[0m\u001b[0;34m)\u001b[0m\u001b[0;31m# to get out of the repl in the notebook just cause an exception like below\u001b[0m\u001b[0;34m\u001b[0m\u001b[0m\n\u001b[0m",
      "\u001b[0;32m<ipython-input-9-9a9944844d5a>\u001b[0m in \u001b[0;36mrepl\u001b[0;34m(env, prompt)\u001b[0m\n\u001b[1;32m     13\u001b[0m     \u001b[0;32mwhile\u001b[0m \u001b[0;32mTrue\u001b[0m\u001b[0;34m:\u001b[0m\u001b[0;34m\u001b[0m\u001b[0m\n\u001b[1;32m     14\u001b[0m         \u001b[0;32mtry\u001b[0m\u001b[0;34m:\u001b[0m\u001b[0;34m\u001b[0m\u001b[0m\n\u001b[0;32m---> 15\u001b[0;31m             \u001b[0mval\u001b[0m \u001b[0;34m=\u001b[0m \u001b[0meval_ptree\u001b[0m\u001b[0;34m(\u001b[0m\u001b[0mparse\u001b[0m\u001b[0;34m(\u001b[0m\u001b[0minput\u001b[0m\u001b[0;34m(\u001b[0m\u001b[0mprompt\u001b[0m\u001b[0;34m)\u001b[0m\u001b[0;34m)\u001b[0m\u001b[0;34m,\u001b[0m \u001b[0menv\u001b[0m\u001b[0;34m)\u001b[0m\u001b[0;34m\u001b[0m\u001b[0m\n\u001b[0m\u001b[1;32m     16\u001b[0m         \u001b[0;32mexcept\u001b[0m \u001b[0;34m(\u001b[0m\u001b[0mKeyboardInterrupt\u001b[0m\u001b[0;34m,\u001b[0m \u001b[0mEOFError\u001b[0m\u001b[0;34m)\u001b[0m\u001b[0;34m:\u001b[0m\u001b[0;34m\u001b[0m\u001b[0m\n\u001b[1;32m     17\u001b[0m             \u001b[0;32mbreak\u001b[0m\u001b[0;34m\u001b[0m\u001b[0m\n",
      "\u001b[0;32m<ipython-input-7-735c5228de50>\u001b[0m in \u001b[0;36meval_ptree\u001b[0;34m(x, env)\u001b[0m\n\u001b[1;32m      5\u001b[0m     \u001b[0;32melif\u001b[0m \u001b[0misinstance\u001b[0m\u001b[0;34m(\u001b[0m\u001b[0mx\u001b[0m\u001b[0;34m,\u001b[0m \u001b[0mSymbol\u001b[0m\u001b[0;34m)\u001b[0m\u001b[0;34m:\u001b[0m\u001b[0;34m\u001b[0m\u001b[0m\n\u001b[1;32m      6\u001b[0m         \u001b[0;31m# variable lookup\u001b[0m\u001b[0;34m\u001b[0m\u001b[0;34m\u001b[0m\u001b[0m\n\u001b[0;32m----> 7\u001b[0;31m         \u001b[0;32mreturn\u001b[0m \u001b[0menv\u001b[0m\u001b[0;34m.\u001b[0m\u001b[0mlookup\u001b[0m\u001b[0;34m(\u001b[0m\u001b[0mx\u001b[0m\u001b[0;34m)\u001b[0m\u001b[0;34m[\u001b[0m\u001b[0;36m0\u001b[0m\u001b[0;34m]\u001b[0m\u001b[0;34m\u001b[0m\u001b[0m\n\u001b[0m\u001b[1;32m      8\u001b[0m     \u001b[0;32melif\u001b[0m \u001b[0;32mnot\u001b[0m \u001b[0misinstance\u001b[0m\u001b[0;34m(\u001b[0m\u001b[0mx\u001b[0m\u001b[0;34m,\u001b[0m \u001b[0mlist\u001b[0m\u001b[0;34m)\u001b[0m\u001b[0;34m:\u001b[0m  \u001b[0;31m# constant\u001b[0m\u001b[0;34m\u001b[0m\u001b[0m\n\u001b[1;32m      9\u001b[0m         \u001b[0;32mreturn\u001b[0m \u001b[0mx\u001b[0m\u001b[0;34m\u001b[0m\u001b[0m\n",
      "\u001b[0;32m<ipython-input-3-5c9902b4561d>\u001b[0m in \u001b[0;36mlookup\u001b[0;34m(self, key)\u001b[0m\n\u001b[1;32m     30\u001b[0m                 \u001b[0mfound\u001b[0m\u001b[0;34m,\u001b[0m \u001b[0menv\u001b[0m \u001b[0;34m=\u001b[0m\u001b[0mself\u001b[0m\u001b[0;34m.\u001b[0m\u001b[0mouterenv\u001b[0m\u001b[0;34m.\u001b[0m\u001b[0mlookup\u001b[0m\u001b[0;34m(\u001b[0m\u001b[0mkey\u001b[0m\u001b[0;34m)\u001b[0m\u001b[0;34m\u001b[0m\u001b[0m\n\u001b[1;32m     31\u001b[0m             \u001b[0;32melse\u001b[0m\u001b[0;34m:\u001b[0m\u001b[0;34m\u001b[0m\u001b[0m\n\u001b[0;32m---> 32\u001b[0;31m                 \u001b[0;32mraise\u001b[0m \u001b[0mNameError\u001b[0m\u001b[0;34m(\u001b[0m\u001b[0;34m\"{} <<>> not found in Environment\"\u001b[0m\u001b[0;34m.\u001b[0m\u001b[0mformat\u001b[0m\u001b[0;34m(\u001b[0m\u001b[0mkey\u001b[0m\u001b[0;34m)\u001b[0m\u001b[0;34m)\u001b[0m\u001b[0;34m\u001b[0m\u001b[0m\n\u001b[0m\u001b[1;32m     33\u001b[0m         \u001b[0;32mreturn\u001b[0m \u001b[0mfound\u001b[0m\u001b[0;34m,\u001b[0m \u001b[0menv\u001b[0m\u001b[0;34m\u001b[0m\u001b[0m\n\u001b[1;32m     34\u001b[0m \u001b[0;34m\u001b[0m\u001b[0m\n",
      "\u001b[0;31mNameError\u001b[0m: a <<>> not found in Environment"
     ]
    }
   ],
   "source": [
    "repl(globenv)# to get out of the repl in the notebook just cause an exception like below"
   ]
  },
  {
   "cell_type": "markdown",
   "metadata": {},
   "source": [
    "### Tests"
   ]
  },
  {
   "cell_type": "code",
   "execution_count": 14,
   "metadata": {
    "collapsed": true
   },
   "outputs": [],
   "source": [
    "p1 = \"\"\"\n",
    "(def ra 5)\n",
    "ra\n",
    "(if (== (> 2 3) #t) #f ra)\n",
    "\"\"\""
   ]
  },
  {
   "cell_type": "code",
   "execution_count": 15,
   "metadata": {
    "collapsed": true
   },
   "outputs": [],
   "source": [
    "program = \"\"\"\n",
    "(def rad 5)\n",
    "rad\n",
    "(def radiusfunc (func (radius) (* pi (* radius radius))))\n",
    "(radiusfunc rad)\n",
    "(def myvar 0)\n",
    "(if (== myvar 1) (store rad 6) (store rad 7))\n",
    "(radiusfunc rad)\n",
    "(== 1 1)\n",
    "\"\"\""
   ]
  },
  {
   "cell_type": "code",
   "execution_count": 16,
   "metadata": {
    "collapsed": false
   },
   "outputs": [
    {
     "data": {
      "text/plain": [
       "['',\n",
       " '(def rad 5)',\n",
       " 'rad',\n",
       " '(def radiusfunc (func (radius) (* pi (* radius radius))))',\n",
       " '(radiusfunc rad)',\n",
       " '(def myvar 0)',\n",
       " '(if (== myvar 1) (store rad 6) (store rad 7))',\n",
       " '(radiusfunc rad)',\n",
       " '(== 1 1)',\n",
       " '']"
      ]
     },
     "execution_count": 16,
     "metadata": {},
     "output_type": "execute_result"
    }
   ],
   "source": [
    "p=Program(program, globenv)\n",
    "list(iter(p))"
   ]
  },
  {
   "cell_type": "code",
   "execution_count": 17,
   "metadata": {
    "collapsed": false
   },
   "outputs": [
    {
     "name": "stdout",
     "output_type": "stream",
     "text": [
      "[]\n",
      "['def', 'rad', 5]\n",
      "rad\n",
      "['def', 'radiusfunc', ['func', ['radius'], ['*', 'pi', ['*', 'radius', 'radius']]]]\n",
      "['radiusfunc', 'rad']\n",
      "['def', 'myvar', 0]\n",
      "['if', ['==', 'myvar', 1], ['store', 'rad', 6], ['store', 'rad', 7]]\n",
      "['radiusfunc', 'rad']\n",
      "['==', 1, 1]\n",
      "[]\n"
     ]
    }
   ],
   "source": [
    "for s in p.parse():\n",
    "    print(s)"
   ]
  },
  {
   "cell_type": "code",
   "execution_count": 18,
   "metadata": {
    "collapsed": false
   },
   "outputs": [
    {
     "name": "stdout",
     "output_type": "stream",
     "text": [
      "nil\n",
      "nil\n",
      "5\n",
      "nil\n",
      "78.53981633974483\n",
      "nil\n",
      "nil\n",
      "153.93804002589985\n",
      "#t\n",
      "nil\n"
     ]
    }
   ],
   "source": [
    "for result in p.run():\n",
    "    print(backtolang(result))"
   ]
  },
  {
   "cell_type": "markdown",
   "metadata": {},
   "source": [
    "### pyscaffold\n",
    "\n",
    "Pyscaffold is a project which creates a scaffolding for us for a python project. We'll use it to understand the structure of a python project and the modules that go therein.\n",
    "\n",
    "Get into your `py35` virtual environment.\n",
    "We'll see:\n",
    "\n",
    "- the notion of a package module (also see https://docs.python.org/3/tutorial/modules.html)\n",
    "- generating documentation\n",
    "- doing tests on the fly\n",
    "- creating command line executables.\n",
    "- installing in development mode (`pip install -e .`)\n",
    "- uninstalling(`pip uninstall packagename`)\n"
   ]
  },
  {
   "cell_type": "code",
   "execution_count": 19,
   "metadata": {
    "collapsed": false
   },
   "outputs": [
    {
     "name": "stdout",
     "output_type": "stream",
     "text": [
      "usage: putup [-h] [-p NAME] [-d TEXT] [-u URL] [-l LICENSE] [-f] [-U]\r\n",
      "             [--with-namespace NS1[.NS2]]\r\n",
      "             [--with-cookiecutter TEMPLATE | --with-django] [--with-travis]\r\n",
      "             [--with-pre-commit] [--with-tox] [-v]\r\n",
      "             PROJECT\r\n",
      "\r\n",
      "PyScaffold is a tool for easily putting up the scaffold of a Python project.\r\n",
      "\r\n",
      "positional arguments:\r\n",
      "  PROJECT               project name\r\n",
      "\r\n",
      "optional arguments:\r\n",
      "  -h, --help            show this help message and exit\r\n",
      "  -p NAME, --package NAME\r\n",
      "                        package name (default: project name)\r\n",
      "  -d TEXT, --description TEXT\r\n",
      "                        package description (default: '')\r\n",
      "  -u URL, --url URL     package url (default: '')\r\n",
      "  -l LICENSE, --license LICENSE\r\n",
      "                        package license from dict_keys(['lgpl3', 'simple-bsd',\r\n",
      "                        'mozilla', 'apache', 'none', 'gpl3', 'lgpl2',\r\n",
      "                        'affero', 'artistic', 'proprietary', 'new-bsd', 'isc',\r\n",
      "                        'mit', 'gpl2', 'cc0', 'public-domain', 'eclipse'])\r\n",
      "                        (default: No license)\r\n",
      "  -f, --force           force overwriting an existing directory\r\n",
      "  -U, --update          update an existing project by replacing the most\r\n",
      "                        important files like setup.py etc. Use additionally\r\n",
      "                        --force to replace all scaffold files.\r\n",
      "  --with-namespace NS1[.NS2]\r\n",
      "                        put your project inside a namespace package\r\n",
      "  --with-cookiecutter TEMPLATE\r\n",
      "                        additionally apply a cookiecutter template\r\n",
      "  --with-django         generate Django project files\r\n",
      "  --with-travis         generate Travis configuration files\r\n",
      "  --with-pre-commit     generate pre-commit configuration file\r\n",
      "  --with-tox            generate Tox configuration file\r\n",
      "  -v, --version         show program's version number and exit\r\n"
     ]
    }
   ],
   "source": [
    "!putup -h"
   ]
  },
  {
   "cell_type": "markdown",
   "metadata": {},
   "source": [
    "We'll now go look inside."
   ]
  },
  {
   "cell_type": "markdown",
   "metadata": {},
   "source": [
    "`python setup.py` incantations:\n",
    "\n",
    "\n",
    "- python setup.py --help-commands\n",
    "- python setup.py install\n",
    "- pip install -e .\n",
    "- python setup.py sdist\n",
    "- python setup.py tests\n",
    "- python setup.py doctest\n",
    "- python setup.py docs\n",
    "- python setup.py --help\n",
    "- python setup.py build\n",
    "- python setup.py clean\n",
    "- python setup.py develop"
   ]
  },
  {
   "cell_type": "markdown",
   "metadata": {},
   "source": [
    "### What we will learn\n",
    "\n",
    "\n",
    "\n",
    "Also see http://python-packaging-user-guide.readthedocs.org/en/latest/distributing/#requirements-for-packaging-and-distributing.\n",
    "\n",
    "What we'll learn?\n",
    "\n",
    "- how to do command lines\n",
    "- how relative imports work\n",
    "- installing into virtual environments (`conda create py35-test`). Also see http://conda.pydata.org/docs/using/envs.html and http://docs.python-guide.org/en/latest/dev/virtualenvs/.\n",
    "- capturing environments(`pip freeze > requirements.txt`, `pip install -r requirements.txt` ) and (`conda env export > environment.yml`, `conda env create -f environment.yml`)"
   ]
  },
  {
   "cell_type": "markdown",
   "metadata": {},
   "source": [
    "### play around time\n",
    "\n",
    "```\n",
    "rm -rf /tmp/fibby\n",
    "pushd /tmp\n",
    "putup -l mit --with-travis fibby\n",
    "popd\n",
    "```"
   ]
  },
  {
   "cell_type": "markdown",
   "metadata": {
    "collapsed": true
   },
   "source": [
    "## `stupidlang` as a package"
   ]
  },
  {
   "cell_type": "markdown",
   "metadata": {},
   "source": [
    "Lets create it first...\n",
    "\n",
    "Create a \"skeleton project\" with the incantation (mit license for example)\n",
    "\n",
    "```\n",
    "rm -rf /tmp/stupidlang\n",
    "pushd /tmp\n",
    "putup -l mit --with-travis stupidlang\n",
    "popd\n",
    "```\n",
    "\n",
    "And lets put some files in!"
   ]
  },
  {
   "cell_type": "code",
   "execution_count": 22,
   "metadata": {
    "collapsed": false
   },
   "outputs": [
    {
     "name": "stdout",
     "output_type": "stream",
     "text": [
      "/tmp ~/Projects/private/cs207/FALL/labs\n",
      "~/Projects/private/cs207/FALL/labs\n"
     ]
    }
   ],
   "source": [
    "%%bash\n",
    "rm -rf /tmp/stupidlang\n",
    "pushd /tmp\n",
    "putup -l mit --with-travis stupidlang\n",
    "popd"
   ]
  },
  {
   "cell_type": "code",
   "execution_count": 23,
   "metadata": {
    "collapsed": false
   },
   "outputs": [
    {
     "name": "stdout",
     "output_type": "stream",
     "text": [
      "total 64\n",
      "-rw-r--r--  1 rahul  wheel    69 Sep 29 11:04 AUTHORS.rst\n",
      "-rw-r--r--  1 rahul  wheel   128 Sep 29 11:04 CHANGES.rst\n",
      "-rw-r--r--  1 rahul  wheel  1077 Sep 29 11:04 LICENSE.txt\n",
      "-rw-r--r--  1 rahul  wheel   296 Sep 29 11:04 README.rst\n",
      "drwxr-xr-x  9 rahul  wheel   306 Sep 29 11:04 docs\n",
      "-rw-r--r--  1 rahul  wheel    57 Sep 29 11:04 requirements.txt\n",
      "-rw-r--r--  1 rahul  wheel  1946 Sep 29 11:04 setup.cfg\n",
      "-rw-r--r--  1 rahul  wheel   602 Sep 29 11:04 setup.py\n",
      "drwxr-xr-x  4 rahul  wheel   136 Sep 29 11:04 stupidlang\n",
      "-rw-r--r--  1 rahul  wheel   241 Sep 29 11:04 test-requirements.txt\n",
      "drwxr-xr-x  5 rahul  wheel   170 Sep 29 11:04 tests\n"
     ]
    }
   ],
   "source": [
    "%%bash\n",
    "ls -l /tmp/stupidlang"
   ]
  },
  {
   "cell_type": "code",
   "execution_count": 26,
   "metadata": {
    "collapsed": false
   },
   "outputs": [
    {
     "name": "stdout",
     "output_type": "stream",
     "text": [
      "total 32\n",
      "-rw-r--r--  1 rahul  wheel   130 Sep 29 11:04 __init__.py\n",
      "-rw-r--r--  1 rahul  wheel  1150 Sep 29 11:06 env_dictimpl.py\n",
      "-rw-r--r--  1 rahul  wheel  1143 Sep 29 11:05 envinterface.py\n",
      "-rw-r--r--  1 rahul  wheel  2362 Sep 29 11:04 skeleton.py\n"
     ]
    }
   ],
   "source": [
    "%%bash\n",
    "ls -l /tmp/stupidlang/stupidlang"
   ]
  },
  {
   "cell_type": "code",
   "execution_count": 27,
   "metadata": {
    "collapsed": false
   },
   "outputs": [
    {
     "name": "stdout",
     "output_type": "stream",
     "text": [
      "     1\timport pkg_resources\r\n",
      "     2\t\r\n",
      "     3\ttry:\r\n",
      "     4\t    __version__ = pkg_resources.get_distribution(__name__).version\r\n",
      "     5\texcept:\r\n",
      "     6\t    __version__ = 'unknown'\r\n"
     ]
    }
   ],
   "source": [
    "!cat -n /tmp/stupidlang/stupidlang/__init__.py"
   ]
  },
  {
   "cell_type": "code",
   "execution_count": 24,
   "metadata": {
    "collapsed": false
   },
   "outputs": [
    {
     "name": "stdout",
     "output_type": "stream",
     "text": [
      "Writing /tmp/stupidlang/stupidlang/envinterface.py\n"
     ]
    }
   ],
   "source": [
    "%%file /tmp/stupidlang/stupidlang/envinterface.py\n",
    "import abc\n",
    "class Environment(abc.ABC):\n",
    "    \"\"\"\n",
    "    This is the interface for an Environment. The client for \n",
    "    this interface is a language intepreter. \n",
    "    \"\"\"\n",
    "    @classmethod\n",
    "    @abc.abstractmethod\n",
    "    def empty(cls):\n",
    "        return cls()\n",
    "    \n",
    "    @abc.abstractmethod\n",
    "    def extend(self, variable, value):\n",
    "        \"\"\"\n",
    "        extend an existing environment by binding variable to value.\n",
    "        The values must be an acceptable value in the language. If the\n",
    "        same variable is used twice the newer value must be bound.\n",
    "        \"\"\"\n",
    "    \n",
    "    @abc.abstractmethod\n",
    "    def extend_many(self, envdict):\n",
    "        \"\"\"\n",
    "        extend the current environment by values in the dictionary\n",
    "        envdict. If the dictionary contains variables already in the\n",
    "        environment, the newer values from the dictionary are bound\n",
    "        \"\"\"\n",
    "        \n",
    "    @abc.abstractmethod\n",
    "    def lookup(variable):\n",
    "        \"\"\"\n",
    "        return the unique binding of the variable and the environment it was bound\n",
    "        in as a tuple. If it is not found raise a NameError as below\n",
    "        \"\"\"\n",
    "        raise NameError(\"{} not found in Environment\".format(variable))"
   ]
  },
  {
   "cell_type": "code",
   "execution_count": 25,
   "metadata": {
    "collapsed": false
   },
   "outputs": [
    {
     "name": "stdout",
     "output_type": "stream",
     "text": [
      "Writing /tmp/stupidlang/stupidlang/env_dictimpl.py\n"
     ]
    }
   ],
   "source": [
    "%%file /tmp/stupidlang/stupidlang/env_dictimpl.py\n",
    "from .envinterface import Environment\n",
    "\n",
    "class Env:\n",
    "    \"\"\"\n",
    "    Absfun: the dicionary {k1:v1, k2:v2,...} represents the\n",
    "    environment binding k1 to v1 and k2 to v2. There are no duplicates.\n",
    "    The keys k must be strings, and the values v must be legitimate values\n",
    "    in our environment.\n",
    "    The empty dictionary represents the empty environment.\n",
    "    Repinv: Newer bindings replace older bindings in the dictionary.\n",
    "    This is guaranteed by using python dictionaries.\n",
    "    \"\"\"\n",
    "\n",
    "    def __init__(self, outerenv=None):\n",
    "        self.env = dict()\n",
    "        self.outerenv = outerenv\n",
    "\n",
    "    @classmethod\n",
    "    def empty(cls):\n",
    "        return cls()\n",
    "\n",
    "    def extend(self, variable, value):\n",
    "        self.env[variable] = value\n",
    "\n",
    "    def extend_many(self, envdict):\n",
    "        self.env.update(envdict)\n",
    "\n",
    "    def lookup(self, key):\n",
    "        try:\n",
    "            found = self.env[key]\n",
    "            env = self\n",
    "        except KeyError:\n",
    "            if self.outerenv is not None:\n",
    "                found, env =self.outerenv.lookup(key)\n",
    "            else:\n",
    "                raise NameError(\"{} <<>> not found in Environment\".format(key))\n",
    "        return found, env\n",
    "\n",
    "Environment.register(Env)"
   ]
  },
  {
   "cell_type": "code",
   "execution_count": 28,
   "metadata": {
    "collapsed": false
   },
   "outputs": [
    {
     "name": "stdout",
     "output_type": "stream",
     "text": [
      "Writing /tmp/stupidlang/stupidlang/parser.py\n"
     ]
    }
   ],
   "source": [
    "%%file /tmp/stupidlang/stupidlang/parser.py\n",
    "Symbol = str\n",
    "\n",
    "def typer(token):\n",
    "    if token == 'true':\n",
    "        return True\n",
    "    elif token == 'false':\n",
    "        return False\n",
    "    try:\n",
    "        t = int(token)\n",
    "        return t\n",
    "    except ValueError:\n",
    "        try:\n",
    "            t = float(token)\n",
    "            return t\n",
    "        except ValueError:\n",
    "            return Symbol(token)\n",
    "        \n",
    "def lex(loc):\n",
    "    tokenlist =  loc.replace('(', ' ( ').replace(')', ' ) ').split()\n",
    "    return [typer(t) for t in tokenlist]\n",
    "\n",
    "def syn(tokens):\n",
    "    if len(tokens) == 0:\n",
    "        return []\n",
    "    token = tokens.pop(0)\n",
    "    if token == '(':\n",
    "        L = []\n",
    "        while tokens[0] != ')':\n",
    "            L.append(syn(tokens))\n",
    "        tokens.pop(0) # pop off ')'\n",
    "        return L\n",
    "    else:\n",
    "        if token==')':\n",
    "            assert 1, \"should not have got here\"\n",
    "        return token\n",
    "    \n",
    "def parse(loc):\n",
    "    return syn(lex(loc))"
   ]
  },
  {
   "cell_type": "code",
   "execution_count": 30,
   "metadata": {
    "collapsed": false
   },
   "outputs": [
    {
     "name": "stdout",
     "output_type": "stream",
     "text": [
      "Writing /tmp/stupidlang/stupidlang/evaluator.py\n"
     ]
    }
   ],
   "source": [
    "%%file /tmp/stupidlang/stupidlang/evaluator.py\n",
    "import math\n",
    "import operator as op\n",
    "from .parser import parse, Symbol\n",
    "\n",
    "def global_env(envclass):\n",
    "    \"An environment with some Scheme standard procedures.\"\n",
    "    env = envclass.empty()\n",
    "    env.extend_many(vars(math))\n",
    "    env.extend_many({\n",
    "        '+':op.add, '-':op.sub, '*':op.mul, '/':op.truediv,\n",
    "        'abs':     abs,\n",
    "        'max':     max,\n",
    "        'min':     min,\n",
    "        'round':   round,\n",
    "        '>':op.gt, '<':op.lt, '>=':op.ge, '<=':op.le, '==':op.eq,\n",
    "        'not':     op.not_\n",
    "    })\n",
    "    return env\n",
    "\n",
    "class Function():\n",
    "    def __init__(self, params, parsedbody, env):\n",
    "        self.params = params\n",
    "        self.code = parsedbody\n",
    "        self.env = env\n",
    "        self.envclass = env.__class__\n",
    "\n",
    "    def __call__(self, *args):\n",
    "        funcenv = self.envclass(outerenv = self.env)\n",
    "        funcenv.extend_many(zip(self.params, args))\n",
    "        return eval_ptree(self.code, funcenv)\n",
    "\n",
    "def eval_ptree(x, env):\n",
    "    fmap={'#t':True, '#f':False, 'nil':None}\n",
    "    if x in ('#t', '#f', 'nil'):\n",
    "        return fmap[x]\n",
    "    elif isinstance(x, Symbol):\n",
    "        # variable lookup\n",
    "        return env.lookup(x)[0]\n",
    "    elif not isinstance(x, list):  # constant\n",
    "        return x\n",
    "    elif len(x)==0: #noop\n",
    "        return None\n",
    "    elif x[0]=='if':\n",
    "        (_, predicate, truexpr, falseexpr) = x\n",
    "        if eval_ptree(predicate, env):\n",
    "            expression = truexpr\n",
    "        else:\n",
    "            expression = falseexpr\n",
    "        return eval_ptree(expression, env)\n",
    "    elif x[0] == 'def':         # variable definition\n",
    "        (_, var, expression) = x\n",
    "        #postorder traversal by nested eval is needed below\n",
    "        # your code here\n",
    "        env.extend(var, eval_ptree(expression, env))\n",
    "    elif x[0] == 'store':           # (set! var exp)\n",
    "        (_, var, exp) = x\n",
    "        env.lookup(var)[1].extend(var, eval_ptree(exp, env))\n",
    "    elif x[0] == 'func':\n",
    "        (_, parameters, parsedbody) = x\n",
    "        return Function(parameters, parsedbody, env)\n",
    "    else:                          # operator\n",
    "        op = eval_ptree(x[0], env)\n",
    "        #postorder traversal to get subexpressione before running the op\n",
    "        args = [eval_ptree(arg, env) for arg in x[1:]]\n",
    "        return op(*args)\n",
    "\n",
    "class Program():\n",
    "    \"\"\"\n",
    "    The representation of the program, and a mechanism for running it.\n",
    "    Methods\n",
    "    -------\n",
    "    __init__\n",
    "        Constructor takes an io stream and an env\n",
    "    __iter__\n",
    "        Yields the source code of the program line by line\n",
    "    parse\n",
    "        Yields the program list by list, with each list being the\n",
    "        parse of a line\n",
    "    run\n",
    "        Yields the result of running each line.\n",
    "    \"\"\"\n",
    "\n",
    "    def __init__(self, program, env):\n",
    "        self.program = program\n",
    "        self.env = env\n",
    "\n",
    "    def __iter__(self):\n",
    "        for line in self.program:\n",
    "            yield line\n",
    "\n",
    "    def parse(self):\n",
    "        for l in iter(self):\n",
    "            yield parse(l)\n",
    "\n",
    "    def run(self):\n",
    "        \"\"\"\n",
    "        a generator that runs the program, line by line\n",
    "        Yields\n",
    "        ------\n",
    "        str, int, float, or None\n",
    "            The result of running a single line of stupidlang code.\n",
    "            The lines in the program are run from beginning to end.\n",
    "        \"\"\"\n",
    "        for l in iter(self):\n",
    "            yield eval_ptree(parse(l), self.env)"
   ]
  },
  {
   "cell_type": "code",
   "execution_count": 29,
   "metadata": {
    "collapsed": false
   },
   "outputs": [
    {
     "name": "stdout",
     "output_type": "stream",
     "text": [
      "Writing /tmp/stupidlang/stupidlang/run.py\n"
     ]
    }
   ],
   "source": [
    "%%file /tmp/stupidlang/stupidlang/run.py\n",
    "from .parser import parse\n",
    "from .evaluator import eval_ptree, Program\n",
    "\n",
    "def backtolang(exp):\n",
    "    \"\"\"\n",
    "    Takes a expression list and converts it back into a\n",
    "    stupidlang expression.\n",
    "    Parameters\n",
    "    ----------\n",
    "    exp : list\n",
    "        A list representing a parsed stupidlang expression\n",
    "    Returns\n",
    "    -------\n",
    "    str\n",
    "        A string with the corrsponding stupidlang code\n",
    "    Examples\n",
    "    --------\n",
    "    >>> backtolang(None)\n",
    "    nil\n",
    "    >>> backtolang(True)\n",
    "    #t\n",
    "    >>> backtolang()\n",
    "    \"\"\"\n",
    "    boolmap={True:'#t', False:'#f'}\n",
    "    if  isinstance(exp, list):\n",
    "        return '(' + ' '.join(map(backtolang, exp)) + ')'\n",
    "    elif isinstance(exp, bool):\n",
    "        return boolmap[exp]\n",
    "    elif exp is None:\n",
    "        return 'nil'\n",
    "    else:\n",
    "        return str(exp)\n",
    "\n",
    "def repl(env, prompt='SL> '):\n",
    "    \"\"\"\n",
    "    A REPL for the stupidlang language\n",
    "    Parameters\n",
    "    ----------\n",
    "    env : Environment\n",
    "        a concrete implementation instance of the Environment interface\n",
    "    prompt : str, optional\n",
    "        a string for the prompt, default SL>\n",
    "    \"\"\"\n",
    "    try:\n",
    "        import readline\n",
    "    except:\n",
    "        pass\n",
    "    while True:\n",
    "        try:\n",
    "            val = eval_ptree(parse(input(prompt)), env)\n",
    "        except (KeyboardInterrupt, EOFError):\n",
    "            break\n",
    "        if val is not None:\n",
    "            print(backtolang(val))\n",
    "\n",
    "def run_program_asif_repl(program, env):\n",
    "    \"\"\"\n",
    "    Runs code with output as-if we were in a repl\n",
    "    Parameters\n",
    "    ----------\n",
    "    program: str\n",
    "        a multi-line string representing the stupidlang program\n",
    "    env : Environment\n",
    "        a concrete implementation instance of the Environment interface\n",
    "    Returns\n",
    "    -------\n",
    "    str:\n",
    "        The output of the program as if it were being run in a REPL\n",
    "    \"\"\"\n",
    "    prog=Program(prpgram, env)\n",
    "    for result in prog.run():\n",
    "        print(backtolang(result))\n",
    "\n",
    "def run_program(program, env):\n",
    "    \"\"\"\n",
    "    Runs code without output until the last line where output is provided.\n",
    "    Parameters\n",
    "    ----------\n",
    "    program: str\n",
    "        a multi-line string representing the stupidlang program\n",
    "    env : Environment\n",
    "        a concrete implementation instance of the Environment interface\n",
    "    Returns\n",
    "    -------\n",
    "    str:\n",
    "        The last output of the program as if it were being run in a REPL\n",
    "    \"\"\"\n",
    "\n",
    "    prog=Program(program, env)\n",
    "    endit = None\n",
    "    for result in prog.run():\n",
    "        endit = result\n",
    "    return backtolang(endit)"
   ]
  },
  {
   "cell_type": "markdown",
   "metadata": {},
   "source": [
    "Now, in the file, skeleton.py, add this stuff from the definition of `fib` onwards, replacing what was there:\n",
    "\n",
    "```python\n",
    "import os\n",
    "from .run import repl, run_program\n",
    "from .env_dictimpl import Env\n",
    "from .evaluator import global_env\n",
    "\n",
    "def parse_args(args):\n",
    "    \"\"\"\n",
    "    Parse command line parameters\n",
    "    :param args: command line parameters as list of strings\n",
    "    :return: command line parameters as :obj:`airgparse.Namespace`\n",
    "    \"\"\"\n",
    "    parser = argparse.ArgumentParser(\n",
    "        description=\"A stupid lispish language\")\n",
    "    parser.add_argument(\n",
    "        '-v',\n",
    "        '--version',\n",
    "        action='version',\n",
    "        version='stupidlang {ver}'.format(ver='0.0.0'))\n",
    "    parser.add_argument(\n",
    "        '-t',\n",
    "        '--talkative',\n",
    "        dest=\"loglevel\",\n",
    "        help=\"set loglevel to INFO\",\n",
    "        action='store_const',\n",
    "        const=logging.INFO)\n",
    "    parser.add_argument(\n",
    "        '-tt',\n",
    "        '--very-talkative',\n",
    "        dest=\"loglevel\",\n",
    "        help=\"set loglevel to DEBUG\",\n",
    "        action='store_const',\n",
    "        const=logging.DEBUG)\n",
    "    parser.add_argument(\n",
    "        '-i',\n",
    "        '--interactive',\n",
    "        action = 'store_true',\n",
    "        help='starts a REPL to run stupidlang code')\n",
    "    parser.add_argument(\n",
    "        '-l',\n",
    "        '--load',\n",
    "    nargs=1,\n",
    "        help=\"a file to load before running the repl, implies -i\")\n",
    "    parser.add_argument(\n",
    "        dest=\"programfile\",\n",
    "    nargs='?',\n",
    "        help=\"the program to run. the last value will be printed\")\n",
    "    ns = parser.parse_args(args)\n",
    "    if (bool(ns.interactive) | bool(ns.load)) & bool(ns.programfile):\n",
    "        parser.error('-i or -l cannot be given together with a program file')\n",
    "    if len(args)==0:\n",
    "        parser.error('atleast one of -i, -l file, or file must be specified')\n",
    "    if bool(ns.load) and not os.path.isfile(ns.load[0]):\n",
    "        parser.error(\"Loaded file must exist or be file\")\n",
    "    if bool(ns.programfile) and not os.path.isfile(ns.programfile):\n",
    "        parser.error(\"Program file must exist or be file\")\n",
    "    return ns\n",
    "\n",
    "\n",
    "def main(args):\n",
    "    args = parse_args(args)\n",
    "    logging.basicConfig(level=args.loglevel, stream=sys.stdout)\n",
    "    _logger.debug(\"Starting lispy calculator...\")\n",
    "    env=global_env(Env)\n",
    "    if args.interactive:\n",
    "        repl(env)\n",
    "        return None\n",
    "    elif bool(args.load):\n",
    "        with open(args.load[0]) as f:\n",
    "            run_program(f, env)\n",
    "            repl(env)\n",
    "            return None\n",
    "    else:\n",
    "        with open(args.programfile) as f:\n",
    "            output = run_program(f, env)\n",
    "            _logger.info(\"Script ends here\")\n",
    "            return output\n",
    "\n",
    "\n",
    "\n",
    "def run():\n",
    "    print(\"stupidlang version {}\".format(__version__))\n",
    "    print(main(sys.argv[1:]))\n",
    "\n",
    "\n",
    "if __name__ == \"__main__\":\n",
    "    run()\n",
    "```"
   ]
  },
  {
   "cell_type": "code",
   "execution_count": 32,
   "metadata": {
    "collapsed": false
   },
   "outputs": [
    {
     "name": "stdout",
     "output_type": "stream",
     "text": [
      "Writing /tmp/stupidlang/tests/test1.sl\n"
     ]
    }
   ],
   "source": [
    "%%file /tmp/stupidlang/tests/test1.sl\n",
    "(def ra 5)\n",
    "ra\n",
    "(if (== (> 2 3) #t) #f ra)"
   ]
  },
  {
   "cell_type": "code",
   "execution_count": 33,
   "metadata": {
    "collapsed": false
   },
   "outputs": [
    {
     "name": "stdout",
     "output_type": "stream",
     "text": [
      "Writing /tmp/stupidlang/tests/test2.sl\n"
     ]
    }
   ],
   "source": [
    "%%file /tmp/stupidlang/tests/test2.sl\n",
    "(def rad 5)\n",
    "rad\n",
    "(def radiusfunc (func (radius) (* pi (* radius radius))))\n",
    "(radiusfunc rad)\n",
    "(def myvar 0)\n",
    "(if (== myvar 1) (store rad 6) (store rad 7))\n",
    "(radiusfunc rad)\n",
    "(== 1 1)\n",
    "(def area (radiusfunc rad))\n",
    "rad"
   ]
  },
  {
   "cell_type": "markdown",
   "metadata": {},
   "source": [
    "And in test_skeleton.py, add this in the place of the test for `fib` there:\n",
    "\n",
    "```python\n",
    "import pytest\n",
    "from stupidlang.skeleton import main\n",
    "\n",
    "__author__ = \"Rahul Dave\"\n",
    "__copyright__ = \"Rahul Dave\"\n",
    "__license__ = \"mit\"\n",
    "\n",
    "\n",
    "def test_main():\n",
    "    assert main([\"tests/test2.sl\"])=='7'\n",
    "```"
   ]
  },
  {
   "cell_type": "markdown",
   "metadata": {},
   "source": [
    "When you create tests, you want to create one corresponding test file per source file.\n",
    "\n",
    " Our tests, following `py.test`'s recommendations, use absolute imports.\n",
    "\n",
    "(Some projects, like pyastro, recommend relative imports for testing)\n",
    "\n",
    "At some point, because of the absolute imports, you will need to issue an `pip install -e .` or `python setup.py develop` in the top level of your package to get things to work. This happens typically when you have multiple soource folders. I just mention it here for completeness, and to note that for tests to work, you need to be in this top level folder."
   ]
  },
  {
   "cell_type": "markdown",
   "metadata": {},
   "source": [
    "Now create a new repository `stupidlang` for yourself on github.\n",
    "\n",
    "Commit your work, then:\n",
    "\n",
    "`git remote add origin git@github.com:rahuldave/stupidlang.git`\n",
    "\n",
    "`git push --set-upstream origin master`\n",
    "\n",
    "and now you are on github.\n",
    "\n",
    "Its your job to get things hooked up to travis. See the `travis-install.sh`, `.travis.yml` and edit appropriately."
   ]
  }
 ],
 "metadata": {
  "anaconda-cloud": {},
  "kernelspec": {
   "display_name": "Python [default]",
   "language": "python",
   "name": "python3"
  },
  "language_info": {
   "codemirror_mode": {
    "name": "ipython",
    "version": 3
   },
   "file_extension": ".py",
   "mimetype": "text/x-python",
   "name": "python",
   "nbconvert_exporter": "python",
   "pygments_lexer": "ipython3",
   "version": "3.5.2"
  }
 },
 "nbformat": 4,
 "nbformat_minor": 0
}
