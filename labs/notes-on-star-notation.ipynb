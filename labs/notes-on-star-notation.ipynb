{
 "cells": [
  {
   "cell_type": "markdown",
   "metadata": {
    "nbpresent": {
     "id": "0ac66c1b-7d82-41df-b153-176603fdbcd7"
    }
   },
   "source": [
    "On the syntax of \\* and \\*\\*\n",
    "\n",
    "When you execute a function, there is a special prefix operator that bundles up your remaining \n",
    "positional arguments into a tuple\n",
    "```python\n",
    "def print_positional_args(*args):\n",
    "    print(args)\n",
    "```\n",
    "What this is saying is: \n",
    "Put all of your positional arguments in a tuple and bind the name \"args\" to that tuple.\n",
    "The name does not need to be \"args\" but it is a Python convention to name it this way."
   ]
  },
  {
   "cell_type": "code",
   "execution_count": null,
   "metadata": {
    "collapsed": false,
    "nbpresent": {
     "id": "b2a09141-0b52-486e-9823-1d05e5d877c5"
    }
   },
   "outputs": [],
   "source": [
    "def print_positional_args(*args):\n",
    "    print(args)\n",
    "    \n",
    "print_positional_args(1,2,3)\n",
    "print_positional_args('I', 'am', 'many', 'different', 'strs')"
   ]
  },
  {
   "cell_type": "markdown",
   "metadata": {
    "collapsed": false
   },
   "source": [
    "Similarly, once you have a iterable (like a tuple), you can apply every element of that iterable \n",
    "as positional arguments to a function call\n",
    "```python\n",
    "def print_positional_args(a, b, c):\n",
    "    print(a, b, c)\n",
    "    \n",
    "arg_tuple = (1, 2, 3)\n",
    "print_positional_args(*arg_tuple)\n",
    "```\n",
    "This case is slightly different because you will need to know the number of arguments ahead of time.\n",
    "If you pass in a tuple that is too large or too small, the function will yell!"
   ]
  },
  {
   "cell_type": "code",
   "execution_count": null,
   "metadata": {
    "collapsed": false
   },
   "outputs": [],
   "source": [
    "def print_positional_args(a, b, c):\n",
    "    print(a, b, c)\n",
    "\n",
    "arg_tuple = (1, 2, 3)\n",
    "print_positional_args(*arg_tuple)"
   ]
  },
  {
   "cell_type": "code",
   "execution_count": null,
   "metadata": {
    "collapsed": false
   },
   "outputs": [],
   "source": [
    "def print_positional_args(a, b, c):\n",
    "    print(a, b, c)\n",
    "\n",
    "arg_tuple = (1, 2, 3, 4)\n",
    "print_positional_args(*arg_tuple) # The function should yell!"
   ]
  },
  {
   "cell_type": "markdown",
   "metadata": {},
   "source": [
    "So, why is this useful?\n",
    "\n",
    "Well, if you combine the two principles, you can make generic decorators that do NOT depend on knowing\n",
    "the number of arguments ahead of time. \n",
    "\n",
    "As an example, we implement a generic logger."
   ]
  },
  {
   "cell_type": "code",
   "execution_count": null,
   "metadata": {
    "collapsed": false
   },
   "outputs": [],
   "source": [
    "def make_print_function_input(f):\n",
    "    # Defined decorator\n",
    "    def print_function_input(*args):\n",
    "        # The intermediate step is explicitly shown here but you can skip it\n",
    "        args_tuple = args\n",
    "        print(\"Function '%s' input: %s\" % (f.__name__, args_tuple))\n",
    "        output = f(*args_tuple)\n",
    "        return output\n",
    "    return print_function_input\n",
    "\n",
    "@make_print_function_input\n",
    "def summation(a, b):\n",
    "    return a + b\n",
    "\n",
    "@make_print_function_input\n",
    "def bigger_summation(a, b, c, d, e):\n",
    "    return a + b + c + d + e\n",
    "\n",
    "summation(1, 2)\n",
    "bigger_summation(1, 2, 3, 4, 5)"
   ]
  },
  {
   "cell_type": "markdown",
   "metadata": {
    "collapsed": true
   },
   "source": [
    "What if you have named arguments?\n",
    "\n",
    "Well, you can use the ** prefix operator.\n",
    "```python\n",
    "def print_positional_args(**kwargs):\n",
    "    print(kwargs)\n",
    "```\n",
    "What this is saying is: \n",
    "Put all of your named arguments in a dict and bind the name \"kwargs\" to that dict."
   ]
  },
  {
   "cell_type": "code",
   "execution_count": null,
   "metadata": {
    "collapsed": false
   },
   "outputs": [],
   "source": [
    "def print_positional_args(**kwargs):\n",
    "    print(kwargs)\n",
    "    \n",
    "print_positional_args(a=1,b=2,c=3)\n",
    "print_positional_args(x='Im', y='a', z='dictionary')"
   ]
  },
  {
   "cell_type": "markdown",
   "metadata": {
    "collapsed": true
   },
   "source": [
    "Well, what if you have both positional and named arguments?\n",
    "\n",
    "You can use both operators!\n",
    "\n",
    "```python\n",
    "def print_positional_args(*args, **kwargs):\n",
    "    print(args, kwargs)\n",
    "```\n",
    "\n",
    "This is a very common pattern in the python community.\n",
    "It provides a strong abstraction for quickly interfacing with external libraries.\n",
    "\n",
    "In this example, we can add functionality to the datetime function without having to know about the function arguments."
   ]
  },
  {
   "cell_type": "code",
   "execution_count": null,
   "metadata": {
    "collapsed": false
   },
   "outputs": [],
   "source": [
    "import urllib.request\n",
    "import time\n",
    "\n",
    "def timer(f):\n",
    "    def inner(*args, **kwargs):\n",
    "        t0 = time.time()\n",
    "        try:\n",
    "            output = f(*args, **kwargs)\n",
    "        finally:\n",
    "            elapsed = time.time() - t0\n",
    "            print(\"Time Elapsed\", elapsed)\n",
    "        return output\n",
    "    return inner\n",
    "    \n",
    "timed_request = timer(urllib.request.urlopen)\n"
   ]
  },
  {
   "cell_type": "code",
   "execution_count": null,
   "metadata": {
    "collapsed": false
   },
   "outputs": [],
   "source": [
    "# I hope this doesn't time out.\n",
    "timed_request(\"http://www.harvard.com\", timeout=10)"
   ]
  },
  {
   "cell_type": "code",
   "execution_count": null,
   "metadata": {
    "collapsed": false
   },
   "outputs": [],
   "source": [
    "# I hope this does time out\n",
    "timed_request(\"http://www.harvard.com\", timeout=0.0001)"
   ]
  }
 ],
 "metadata": {
  "anaconda-cloud": {},
  "kernelspec": {
   "display_name": "Python [Root]",
   "language": "python",
   "name": "Python [Root]"
  },
  "language_info": {
   "codemirror_mode": {
    "name": "ipython",
    "version": 3
   },
   "file_extension": ".py",
   "mimetype": "text/x-python",
   "name": "python",
   "nbconvert_exporter": "python",
   "pygments_lexer": "ipython3",
   "version": "3.5.2"
  },
  "nbpresent": {
   "slides": {
    "34a79799-15d0-46ec-b4ce-714b0961f54d": {
     "id": "34a79799-15d0-46ec-b4ce-714b0961f54d",
     "prev": "a3eb0216-2918-4d30-8a37-c79b7393bc4b",
     "regions": {
      "e17444bf-5b05-4ecd-b0ab-be0348725ad0": {
       "attrs": {
        "height": 0.8,
        "width": 0.8,
        "x": 0.1,
        "y": 0.1
       },
       "content": {
        "cell": "b2a09141-0b52-486e-9823-1d05e5d877c5",
        "part": "whole"
       },
       "id": "e17444bf-5b05-4ecd-b0ab-be0348725ad0"
      }
     }
    },
    "a3eb0216-2918-4d30-8a37-c79b7393bc4b": {
     "id": "a3eb0216-2918-4d30-8a37-c79b7393bc4b",
     "prev": null,
     "regions": {
      "f67c5e41-88d4-4758-9f3c-2ad50925e27a": {
       "attrs": {
        "height": 0.8,
        "width": 0.8,
        "x": 0.1,
        "y": 0.1
       },
       "content": {
        "cell": "0ac66c1b-7d82-41df-b153-176603fdbcd7",
        "part": "whole"
       },
       "id": "f67c5e41-88d4-4758-9f3c-2ad50925e27a"
      }
     }
    }
   },
   "themes": {}
  }
 },
 "nbformat": 4,
 "nbformat_minor": 0
}
